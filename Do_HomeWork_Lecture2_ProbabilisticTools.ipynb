{
 "cells": [
  {
   "cell_type": "markdown",
   "metadata": {
    "ExecuteTime": {
     "end_time": "2018-01-09T15:16:27.144141Z",
     "start_time": "2018-01-09T15:16:27.139141Z"
    }
   },
   "source": [
    "# Homework Lecture 2: Linear Regression"
   ]
  },
  {
   "cell_type": "markdown",
   "metadata": {
    "ExecuteTime": {
     "end_time": "2018-01-09T15:16:42.223141Z",
     "start_time": "2018-01-09T15:16:42.218141Z"
    }
   },
   "source": [
    "## Preliminaries"
   ]
  },
  {
   "cell_type": "markdown",
   "metadata": {
    "ExecuteTime": {
     "end_time": "2018-01-09T15:16:58.417141Z",
     "start_time": "2018-01-09T15:16:58.414141Z"
    }
   },
   "source": [
    "### Imports"
   ]
  },
  {
   "cell_type": "code",
   "execution_count": 4,
   "metadata": {
    "ExecuteTime": {
     "end_time": "2018-01-26T10:50:19.436473Z",
     "start_time": "2018-01-26T10:50:15.415256Z"
    }
   },
   "outputs": [],
   "source": [
    "import os\n",
    "\n",
    "import numpy as np\n",
    "import pandas as pd\n",
    "import matplotlib.pyplot as plt\n",
    "\n",
    "import scipy.optimize\n",
    "import sklearn.datasets\n",
    "import sklearn.linear_model\n",
    "\n",
    "\n",
    "%matplotlib inline\n",
    "\n"
   ]
  },
  {
   "cell_type": "markdown",
   "metadata": {
    "ExecuteTime": {
     "end_time": "2018-01-09T15:18:16.996141Z",
     "start_time": "2018-01-09T15:18:16.993141Z"
    }
   },
   "source": [
    "### Data Directories "
   ]
  },
  {
   "cell_type": "markdown",
   "metadata": {},
   "source": [
    "Create a directory with the path below"
   ]
  },
  {
   "cell_type": "code",
   "execution_count": 5,
   "metadata": {
    "ExecuteTime": {
     "end_time": "2018-01-26T10:50:19.441506Z",
     "start_time": "2018-01-26T10:50:19.437494Z"
    }
   },
   "outputs": [],
   "source": [
    "raw_data_dir=\"../../raw/california_housing\"\n",
    "data_dir=\"../../data/probabilisticTools\"\n"
   ]
  },
  {
   "cell_type": "markdown",
   "metadata": {},
   "source": [
    "### Random Seed"
   ]
  },
  {
   "cell_type": "code",
   "execution_count": 6,
   "metadata": {
    "ExecuteTime": {
     "end_time": "2018-01-26T10:50:19.471264Z",
     "start_time": "2018-01-26T10:50:19.442578Z"
    }
   },
   "outputs": [],
   "source": [
    "seed=2506\n",
    "np.random.seed(seed)"
   ]
  },
  {
   "cell_type": "markdown",
   "metadata": {},
   "source": [
    "### Get Data"
   ]
  },
  {
   "cell_type": "markdown",
   "metadata": {},
   "source": [
    "<div class=\"alert alert-block alert-success\"> Problem 0 </div>\n",
    "We download the California housing dataset using the function `sklearn.datasets.fetch_california_housing`."
   ]
  },
  {
   "cell_type": "code",
   "execution_count": 7,
   "metadata": {
    "ExecuteTime": {
     "end_time": "2018-01-26T10:50:19.511084Z",
     "start_time": "2018-01-26T10:50:19.473268Z"
    }
   },
   "outputs": [],
   "source": [
    "import sklearn.datasets\n",
    "housing=sklearn.datasets.fetch_california_housing()"
   ]
  },
  {
   "cell_type": "code",
   "execution_count": 8,
   "metadata": {
    "ExecuteTime": {
     "end_time": "2018-01-26T10:50:19.521148Z",
     "start_time": "2018-01-26T10:50:19.513089Z"
    }
   },
   "outputs": [
    {
     "data": {
      "text/plain": [
       "dict_keys(['target', 'DESCR', 'data', 'feature_names'])"
      ]
     },
     "execution_count": 8,
     "metadata": {},
     "output_type": "execute_result"
    }
   ],
   "source": [
    "housing.keys()"
   ]
  },
  {
   "cell_type": "code",
   "execution_count": 9,
   "metadata": {
    "ExecuteTime": {
     "end_time": "2018-01-26T10:50:19.540169Z",
     "start_time": "2018-01-26T10:50:19.523116Z"
    }
   },
   "outputs": [
    {
     "name": "stdout",
     "output_type": "stream",
     "text": [
      "California housing dataset.\n",
      "\n",
      "The original database is available from StatLib\n",
      "\n",
      "    http://lib.stat.cmu.edu/\n",
      "\n",
      "The data contains 20,640 observations on 9 variables.\n",
      "\n",
      "This dataset contains the average house value as target variable\n",
      "and the following input variables (features): average income,\n",
      "housing average age, average rooms, average bedrooms, population,\n",
      "average occupation, latitude, and longitude in that order.\n",
      "\n",
      "References\n",
      "----------\n",
      "\n",
      "Pace, R. Kelley and Ronald Barry, Sparse Spatial Autoregressions,\n",
      "Statistics and Probability Letters, 33 (1997) 291-297.\n",
      "\n",
      "\n"
     ]
    }
   ],
   "source": [
    "print(housing.DESCR)"
   ]
  },
  {
   "cell_type": "code",
   "execution_count": 10,
   "metadata": {
    "ExecuteTime": {
     "end_time": "2018-01-26T10:50:19.559307Z",
     "start_time": "2018-01-26T10:50:19.542167Z"
    }
   },
   "outputs": [
    {
     "name": "stdout",
     "output_type": "stream",
     "text": [
      "8 ['MedInc', 'HouseAge', 'AveRooms', 'AveBedrms', 'Population', 'AveOccup', 'Latitude', 'Longitude']\n"
     ]
    }
   ],
   "source": [
    "print(len(housing.feature_names),housing.feature_names)"
   ]
  },
  {
   "cell_type": "code",
   "execution_count": 11,
   "metadata": {
    "ExecuteTime": {
     "end_time": "2018-01-26T10:50:19.574348Z",
     "start_time": "2018-01-26T10:50:19.561313Z"
    }
   },
   "outputs": [
    {
     "name": "stdout",
     "output_type": "stream",
     "text": [
      "(20640, 8) (20640,)\n"
     ]
    }
   ],
   "source": [
    "print(housing.data.shape,housing.target.shape)"
   ]
  },
  {
   "cell_type": "code",
   "execution_count": 12,
   "metadata": {
    "ExecuteTime": {
     "end_time": "2018-01-26T10:50:19.645657Z",
     "start_time": "2018-01-26T10:50:19.575350Z"
    }
   },
   "outputs": [
    {
     "data": {
      "text/html": [
       "<div>\n",
       "<table border=\"1\" class=\"dataframe\">\n",
       "  <thead>\n",
       "    <tr style=\"text-align: right;\">\n",
       "      <th></th>\n",
       "      <th>MedInc</th>\n",
       "      <th>HouseAge</th>\n",
       "      <th>AveRooms</th>\n",
       "      <th>AveBedrms</th>\n",
       "      <th>Population</th>\n",
       "      <th>AveOccup</th>\n",
       "      <th>Latitude</th>\n",
       "      <th>Longitude</th>\n",
       "      <th>value</th>\n",
       "    </tr>\n",
       "  </thead>\n",
       "  <tbody>\n",
       "    <tr>\n",
       "      <th>count</th>\n",
       "      <td>20640.000000</td>\n",
       "      <td>20640.000000</td>\n",
       "      <td>20640.000000</td>\n",
       "      <td>20640.000000</td>\n",
       "      <td>20640.000000</td>\n",
       "      <td>20640.000000</td>\n",
       "      <td>20640.000000</td>\n",
       "      <td>20640.000000</td>\n",
       "      <td>20640.000000</td>\n",
       "    </tr>\n",
       "    <tr>\n",
       "      <th>mean</th>\n",
       "      <td>3.870671</td>\n",
       "      <td>28.639486</td>\n",
       "      <td>5.429000</td>\n",
       "      <td>1.096675</td>\n",
       "      <td>1425.476744</td>\n",
       "      <td>3.070655</td>\n",
       "      <td>35.631861</td>\n",
       "      <td>-119.569704</td>\n",
       "      <td>2.068558</td>\n",
       "    </tr>\n",
       "    <tr>\n",
       "      <th>std</th>\n",
       "      <td>1.899822</td>\n",
       "      <td>12.585558</td>\n",
       "      <td>2.474173</td>\n",
       "      <td>0.473911</td>\n",
       "      <td>1132.462122</td>\n",
       "      <td>10.386050</td>\n",
       "      <td>2.135952</td>\n",
       "      <td>2.003532</td>\n",
       "      <td>1.153956</td>\n",
       "    </tr>\n",
       "    <tr>\n",
       "      <th>min</th>\n",
       "      <td>0.499900</td>\n",
       "      <td>1.000000</td>\n",
       "      <td>0.846154</td>\n",
       "      <td>0.333333</td>\n",
       "      <td>3.000000</td>\n",
       "      <td>0.692308</td>\n",
       "      <td>32.540000</td>\n",
       "      <td>-124.350000</td>\n",
       "      <td>0.149990</td>\n",
       "    </tr>\n",
       "    <tr>\n",
       "      <th>25%</th>\n",
       "      <td>2.563400</td>\n",
       "      <td>18.000000</td>\n",
       "      <td>4.440716</td>\n",
       "      <td>1.006079</td>\n",
       "      <td>787.000000</td>\n",
       "      <td>2.429741</td>\n",
       "      <td>33.930000</td>\n",
       "      <td>-121.800000</td>\n",
       "      <td>1.196000</td>\n",
       "    </tr>\n",
       "    <tr>\n",
       "      <th>50%</th>\n",
       "      <td>3.534800</td>\n",
       "      <td>29.000000</td>\n",
       "      <td>5.229129</td>\n",
       "      <td>1.048780</td>\n",
       "      <td>1166.000000</td>\n",
       "      <td>2.818116</td>\n",
       "      <td>34.260000</td>\n",
       "      <td>-118.490000</td>\n",
       "      <td>1.797000</td>\n",
       "    </tr>\n",
       "    <tr>\n",
       "      <th>75%</th>\n",
       "      <td>4.743250</td>\n",
       "      <td>37.000000</td>\n",
       "      <td>6.052381</td>\n",
       "      <td>1.099526</td>\n",
       "      <td>1725.000000</td>\n",
       "      <td>3.282261</td>\n",
       "      <td>37.710000</td>\n",
       "      <td>-118.010000</td>\n",
       "      <td>2.647250</td>\n",
       "    </tr>\n",
       "    <tr>\n",
       "      <th>max</th>\n",
       "      <td>15.000100</td>\n",
       "      <td>52.000000</td>\n",
       "      <td>141.909091</td>\n",
       "      <td>34.066667</td>\n",
       "      <td>35682.000000</td>\n",
       "      <td>1243.333333</td>\n",
       "      <td>41.950000</td>\n",
       "      <td>-114.310000</td>\n",
       "      <td>5.000010</td>\n",
       "    </tr>\n",
       "  </tbody>\n",
       "</table>\n",
       "</div>"
      ],
      "text/plain": [
       "             MedInc      HouseAge      AveRooms     AveBedrms    Population  \\\n",
       "count  20640.000000  20640.000000  20640.000000  20640.000000  20640.000000   \n",
       "mean       3.870671     28.639486      5.429000      1.096675   1425.476744   \n",
       "std        1.899822     12.585558      2.474173      0.473911   1132.462122   \n",
       "min        0.499900      1.000000      0.846154      0.333333      3.000000   \n",
       "25%        2.563400     18.000000      4.440716      1.006079    787.000000   \n",
       "50%        3.534800     29.000000      5.229129      1.048780   1166.000000   \n",
       "75%        4.743250     37.000000      6.052381      1.099526   1725.000000   \n",
       "max       15.000100     52.000000    141.909091     34.066667  35682.000000   \n",
       "\n",
       "           AveOccup      Latitude     Longitude         value  \n",
       "count  20640.000000  20640.000000  20640.000000  20640.000000  \n",
       "mean       3.070655     35.631861   -119.569704      2.068558  \n",
       "std       10.386050      2.135952      2.003532      1.153956  \n",
       "min        0.692308     32.540000   -124.350000      0.149990  \n",
       "25%        2.429741     33.930000   -121.800000      1.196000  \n",
       "50%        2.818116     34.260000   -118.490000      1.797000  \n",
       "75%        3.282261     37.710000   -118.010000      2.647250  \n",
       "max     1243.333333     41.950000   -114.310000      5.000010  "
      ]
     },
     "execution_count": 12,
     "metadata": {},
     "output_type": "execute_result"
    }
   ],
   "source": [
    "data=pd.DataFrame(housing.data,columns=housing.feature_names)\n",
    "data[\"value\"]=housing.target\n",
    "data.describe()"
   ]
  },
  {
   "cell_type": "markdown",
   "metadata": {
    "ExecuteTime": {
     "end_time": "2018-01-09T15:21:30.644141Z",
     "start_time": "2018-01-09T15:21:30.639141Z"
    }
   },
   "source": [
    "## Data Pre-Processing"
   ]
  },
  {
   "cell_type": "markdown",
   "metadata": {
    "ExecuteTime": {
     "end_time": "2018-01-16T18:00:13.822180Z",
     "start_time": "2018-01-16T18:00:13.812180Z"
    }
   },
   "source": [
    "The variables in `data` have very different scales.\n",
    "We will replace the values  $x$ on each column by their standarized values \n",
    "$$\n",
    "    z = \\frac{x - \\bar{x}}{\\sigma_x}\n",
    "$$"
   ]
  },
  {
   "cell_type": "markdown",
   "metadata": {},
   "source": [
    "<div class=\"alert alert-block alert-info\"> Problem 1.1 </div>\n",
    "Compute the mean and std deviation of each column in `data`\n",
    "\n",
    "[HINT] Pandas has convenient functions to compute the column mean an std deviation"
   ]
  },
  {
   "cell_type": "code",
   "execution_count": 13,
   "metadata": {},
   "outputs": [
    {
     "name": "stdout",
     "output_type": "stream",
     "text": [
      "MedInc           3.870671\n",
      "HouseAge        28.639486\n",
      "AveRooms         5.429000\n",
      "AveBedrms        1.096675\n",
      "Population    1425.476744\n",
      "AveOccup         3.070655\n",
      "Latitude        35.631861\n",
      "Longitude     -119.569704\n",
      "value            2.068558\n",
      "dtype: float64\n",
      "MedInc           1.899822\n",
      "HouseAge        12.585558\n",
      "AveRooms         2.474173\n",
      "AveBedrms        0.473911\n",
      "Population    1132.462122\n",
      "AveOccup        10.386050\n",
      "Latitude         2.135952\n",
      "Longitude        2.003532\n",
      "value            1.153956\n",
      "dtype: float64\n"
     ]
    }
   ],
   "source": [
    "print(data.mean())\n",
    "print(data.std())"
   ]
  },
  {
   "cell_type": "markdown",
   "metadata": {
    "ExecuteTime": {
     "end_time": "2018-01-16T18:03:14.004680Z",
     "start_time": "2018-01-16T18:03:13.994680Z"
    }
   },
   "source": [
    "<div class=\"alert alert-block alert-info\"> Problem 1.2 </div>\n",
    "Create a new `DataFrame` called `data_standarized` the value $x$ of each column gets replaced by its standarized value \n",
    "$$\n",
    "    z = \\frac{x - \\bar{x}}{\\sigma_x}\n",
    "$$"
   ]
  },
  {
   "cell_type": "code",
   "execution_count": 14,
   "metadata": {},
   "outputs": [
    {
     "data": {
      "text/html": [
       "<div>\n",
       "<table border=\"1\" class=\"dataframe\">\n",
       "  <thead>\n",
       "    <tr style=\"text-align: right;\">\n",
       "      <th></th>\n",
       "      <th>MedInc</th>\n",
       "      <th>HouseAge</th>\n",
       "      <th>AveRooms</th>\n",
       "      <th>AveBedrms</th>\n",
       "      <th>Population</th>\n",
       "      <th>AveOccup</th>\n",
       "      <th>Latitude</th>\n",
       "      <th>Longitude</th>\n",
       "      <th>value</th>\n",
       "    </tr>\n",
       "  </thead>\n",
       "  <tbody>\n",
       "    <tr>\n",
       "      <th>0</th>\n",
       "      <td>2.344709</td>\n",
       "      <td>0.982119</td>\n",
       "      <td>0.628544</td>\n",
       "      <td>-0.153754</td>\n",
       "      <td>-0.974405</td>\n",
       "      <td>-0.049595</td>\n",
       "      <td>1.052523</td>\n",
       "      <td>-1.327803</td>\n",
       "      <td>2.129580</td>\n",
       "    </tr>\n",
       "    <tr>\n",
       "      <th>1</th>\n",
       "      <td>2.332181</td>\n",
       "      <td>-0.607004</td>\n",
       "      <td>0.327033</td>\n",
       "      <td>-0.263329</td>\n",
       "      <td>0.861418</td>\n",
       "      <td>-0.092510</td>\n",
       "      <td>1.043159</td>\n",
       "      <td>-1.322812</td>\n",
       "      <td>1.314124</td>\n",
       "    </tr>\n",
       "    <tr>\n",
       "      <th>2</th>\n",
       "      <td>1.782656</td>\n",
       "      <td>1.856137</td>\n",
       "      <td>1.155592</td>\n",
       "      <td>-0.049015</td>\n",
       "      <td>-0.820757</td>\n",
       "      <td>-0.025842</td>\n",
       "      <td>1.038478</td>\n",
       "      <td>-1.332794</td>\n",
       "      <td>1.258663</td>\n",
       "    </tr>\n",
       "    <tr>\n",
       "      <th>3</th>\n",
       "      <td>0.932945</td>\n",
       "      <td>1.856137</td>\n",
       "      <td>0.156962</td>\n",
       "      <td>-0.049832</td>\n",
       "      <td>-0.766010</td>\n",
       "      <td>-0.050328</td>\n",
       "      <td>1.038478</td>\n",
       "      <td>-1.337785</td>\n",
       "      <td>1.165072</td>\n",
       "    </tr>\n",
       "    <tr>\n",
       "      <th>4</th>\n",
       "      <td>-0.012881</td>\n",
       "      <td>1.856137</td>\n",
       "      <td>0.344702</td>\n",
       "      <td>-0.032905</td>\n",
       "      <td>-0.759828</td>\n",
       "      <td>-0.085614</td>\n",
       "      <td>1.038478</td>\n",
       "      <td>-1.337785</td>\n",
       "      <td>1.172871</td>\n",
       "    </tr>\n",
       "  </tbody>\n",
       "</table>\n",
       "</div>"
      ],
      "text/plain": [
       "     MedInc  HouseAge  AveRooms  AveBedrms  Population  AveOccup  Latitude  \\\n",
       "0  2.344709  0.982119  0.628544  -0.153754   -0.974405 -0.049595  1.052523   \n",
       "1  2.332181 -0.607004  0.327033  -0.263329    0.861418 -0.092510  1.043159   \n",
       "2  1.782656  1.856137  1.155592  -0.049015   -0.820757 -0.025842  1.038478   \n",
       "3  0.932945  1.856137  0.156962  -0.049832   -0.766010 -0.050328  1.038478   \n",
       "4 -0.012881  1.856137  0.344702  -0.032905   -0.759828 -0.085614  1.038478   \n",
       "\n",
       "   Longitude     value  \n",
       "0  -1.327803  2.129580  \n",
       "1  -1.322812  1.314124  \n",
       "2  -1.332794  1.258663  \n",
       "3  -1.337785  1.165072  \n",
       "4  -1.337785  1.172871  "
      ]
     },
     "execution_count": 14,
     "metadata": {},
     "output_type": "execute_result"
    }
   ],
   "source": [
    "data_standarized = (data-data.mean())/data.std()\n",
    "data_standarized.head()"
   ]
  },
  {
   "cell_type": "markdown",
   "metadata": {
    "ExecuteTime": {
     "end_time": "2018-01-16T18:08:08.730680Z",
     "start_time": "2018-01-16T18:08:08.720680Z"
    }
   },
   "source": [
    "<div class=\"alert alert-block alert-info\"> Problem 1.3</div>\n",
    "1. Create a numpy array variable named `X` with all the features (but excluding the house values)\n",
    "2. Create a numpay array variable named `Y` with the house prices (values)"
   ]
  },
  {
   "cell_type": "code",
   "execution_count": 15,
   "metadata": {},
   "outputs": [],
   "source": [
    "X = np.array(data_standarized.drop(['value'],axis = 1))\n",
    "Y = np.array(data_standarized['value'])"
   ]
  },
  {
   "cell_type": "markdown",
   "metadata": {
    "ExecuteTime": {
     "end_time": "2018-01-09T16:23:41.930141Z",
     "start_time": "2018-01-09T16:23:41.927141Z"
    }
   },
   "source": [
    "## Exact Solution with Numpy"
   ]
  },
  {
   "cell_type": "markdown",
   "metadata": {
    "ExecuteTime": {
     "end_time": "2018-01-16T18:14:18.478680Z",
     "start_time": "2018-01-16T18:14:18.468680Z"
    }
   },
   "source": [
    "We assume a linear model\n",
    "$$\n",
    "     y = \\sum_d x_d \\theta_d  + \\epsilon\n",
    "$$\n",
    "where $d$ runs through the housing features and $\\epsilon$ is a Gaussian noise term."
   ]
  },
  {
   "cell_type": "markdown",
   "metadata": {},
   "source": [
    "<div class=\"alert alert-block alert-info\"> Problem 2.1 </div>\n",
    "Can you find a reason why we have not included a bias term `b` in the equation?"
   ]
  },
  {
   "cell_type": "markdown",
   "metadata": {},
   "source": [
    "**Ans:** Because we have already normalized the data, so even though we include b it should be zero since linear regression will always pass the central point."
   ]
  },
  {
   "cell_type": "markdown",
   "metadata": {},
   "source": [
    "<div class=\"alert alert-block alert-info\"> Problem 2.1 </div>\n",
    "Using only `numpy` matrix algebra functions, find the Maximum Likelihood values of $\\theta_d$\n",
    "\n",
    "[Hint] Computing matrix inverses is computationally expensive.  The function `numpy.linalg.solve` can be used to solve systems of linear equations."
   ]
  },
  {
   "cell_type": "code",
   "execution_count": 16,
   "metadata": {},
   "outputs": [
    {
     "data": {
      "text/plain": [
       "array([ 0.71895227,  0.10291078, -0.23010693,  0.26491789, -0.00390232,\n",
       "       -0.03408034, -0.77984545, -0.75441522])"
      ]
     },
     "execution_count": 16,
     "metadata": {},
     "output_type": "execute_result"
    }
   ],
   "source": [
    "# 'np.linalg.slove' showed some problem so I use 'np.linalg.lstsq' instead\n",
    "res = np.linalg.lstsq(X,Y)\n",
    "theta_exact = res[0]\n",
    "theta_exact"
   ]
  },
  {
   "cell_type": "markdown",
   "metadata": {
    "ExecuteTime": {
     "end_time": "2018-01-16T18:31:59.073180Z",
     "start_time": "2018-01-16T18:31:59.063180Z"
    }
   },
   "source": [
    "<div class=\"alert alert-block alert-info\"> Problem 2.2 </div>\n",
    "Create a variable named `Y_pred` that for each sample $X$, constains  the maximum likelihood model predicted value for $Y$"
   ]
  },
  {
   "cell_type": "code",
   "execution_count": 17,
   "metadata": {},
   "outputs": [
    {
     "data": {
      "text/plain": [
       "array([ 1.78784232,  1.65348419,  1.39347822, ..., -1.64417577,\n",
       "       -1.51604801, -1.34559232])"
      ]
     },
     "execution_count": 17,
     "metadata": {},
     "output_type": "execute_result"
    }
   ],
   "source": [
    "Y_pred = np.dot(X, theta_exact)\n",
    "Y_pred"
   ]
  },
  {
   "cell_type": "markdown",
   "metadata": {
    "ExecuteTime": {
     "end_time": "2018-01-16T18:35:58.559180Z",
     "start_time": "2018-01-16T18:35:58.549180Z"
    }
   },
   "source": [
    "## Gradient Descent Optimization"
   ]
  },
  {
   "cell_type": "markdown",
   "metadata": {
    "ExecuteTime": {
     "end_time": "2018-01-16T18:37:54.949180Z",
     "start_time": "2018-01-16T18:37:54.944180Z"
    }
   },
   "source": [
    "We will now solve the same problem using Gradient Descent, instead of the analytic solution."
   ]
  },
  {
   "cell_type": "markdown",
   "metadata": {},
   "source": [
    "<div class=\"alert alert-block alert-info\"> Problem 3.1 </div>\n",
    "Define a python function `mse(theta,X,Y)` that computes the mean square error function given $\\theta$, $X$ and $Y$"
   ]
  },
  {
   "cell_type": "code",
   "execution_count": 18,
   "metadata": {},
   "outputs": [],
   "source": [
    "def mse(_theta,_X,_Y):\n",
    "    _dY = np.dot(_X,_theta) - Y\n",
    "    return 0.5 * np.mean(_dY**2)"
   ]
  },
  {
   "cell_type": "markdown",
   "metadata": {},
   "source": [
    "<div class=\"alert alert-block alert-info\"> Problem 3.2 </div>\n",
    "Define a python function `grad(theta,X,Y)` that computes the gradient of the error function given $\\theta$, $X$ and $Y$"
   ]
  },
  {
   "cell_type": "code",
   "execution_count": 19,
   "metadata": {},
   "outputs": [],
   "source": [
    "def grad(_theta,_X,_Y):\n",
    "    _dY = np.dot(_X,_theta) - Y\n",
    "    return np.dot(_X.T,_dY)/len(_X)"
   ]
  },
  {
   "cell_type": "markdown",
   "metadata": {
    "ExecuteTime": {
     "end_time": "2018-01-16T19:07:01.390180Z",
     "start_time": "2018-01-16T19:07:01.380180Z"
    }
   },
   "source": [
    "<div class=\"alert alert-block alert-info\"> Problem 3.3 </div>\n",
    "Using [`numpy.random.normal`](https://docs.scipy.org/doc/numpy-1.13.0/reference/generated/numpy.random.normal.html) \n",
    "generate a random guess of the vector $\\theta$ so that each component is $\\mathcal{N}(0,1)$ distributed"
   ]
  },
  {
   "cell_type": "code",
   "execution_count": 20,
   "metadata": {},
   "outputs": [
    {
     "data": {
      "text/plain": [
       "array([ 1.18332114,  1.3144417 , -1.43101293, -0.90304957,  1.47576176,\n",
       "       -1.11638228,  1.71375566, -0.16266391])"
      ]
     },
     "execution_count": 20,
     "metadata": {},
     "output_type": "execute_result"
    }
   ],
   "source": [
    "D = len(X.T)\n",
    "np.random.seed(seed)\n",
    "theta0 = np.random.normal(size = D)\n",
    "theta0"
   ]
  },
  {
   "cell_type": "markdown",
   "metadata": {
    "ExecuteTime": {
     "end_time": "2018-01-16T19:02:22.042680Z",
     "start_time": "2018-01-16T19:02:22.032680Z"
    },
    "collapsed": true
   },
   "source": [
    "<div class=\"alert alert-block alert-info\"> Problem 3.4 </div>\n",
    "Use the function [`scipy.optimze.check_grad`](https://docs.scipy.org/doc/scipy/reference/generated/scipy.optimize.check_grad.html)\n",
    "to verify numerically that `grad` is really the gradient of `mse` for the  $\\theta$ guess.\n",
    "\n",
    "[HINT] `grad` is the gradient of `mse` if `check_grad` returns a very small number (say $\\approx 10^-8$)"
   ]
  },
  {
   "cell_type": "code",
   "execution_count": 21,
   "metadata": {},
   "outputs": [
    {
     "data": {
      "text/plain": [
       "2.5193743484242718e-07"
      ]
     },
     "execution_count": 21,
     "metadata": {},
     "output_type": "execute_result"
    }
   ],
   "source": [
    "scipy.optimize.check_grad(mse,grad,theta0,X,Y)"
   ]
  },
  {
   "cell_type": "markdown",
   "metadata": {},
   "source": [
    "<div class=\"alert alert-block alert-info\"> Problem 3.5 </div>\n",
    "** Steepest Descent Algorithm**\n",
    "\n",
    "1. Pick a value for the learning rate $\\eta$\n",
    "1. Implement the steepest descent update rule\n",
    "    $$\n",
    "        \\theta \\leftarrow \\theta - \\eta \\frac{\\partial E}{\\partial \\theta}\n",
    "    $$\n",
    "1. Run the update rule on a loop, starting from your random guess for $\\theta$. Repeat  $T=1000$ times\n",
    "1. Every 100 steps, print the step number and the current error\n",
    "1. After 1000 steps, print the final error, and the final $\\theta$ parameters.\n",
    "2. If process did not converge, modify value of learning rate $\\eta$ and repeat until convergence."
   ]
  },
  {
   "cell_type": "code",
   "execution_count": 22,
   "metadata": {},
   "outputs": [
    {
     "name": "stdout",
     "output_type": "stream",
     "text": [
      "0 5.93640054201\n",
      "theta [ 1.18332114  1.3144417  -1.43101293 -0.90304957  1.47576176 -1.11638228\n",
      "  1.71375566 -0.16266391]\n",
      "100 0.248941746659\n",
      "theta [ 0.92096184  0.21102494 -0.48196332  0.41671382  0.03360645 -0.04775863\n",
      "  0.18835653  0.19647676]\n",
      "200 0.214525984741\n",
      "theta [ 0.86685232  0.16092102 -0.45290784  0.4242497   0.01528205 -0.04214132\n",
      " -0.21809466 -0.20713863]\n",
      "300 0.203325894136\n",
      "theta [ 0.82149443  0.13539224 -0.39905156  0.39371718  0.00658294 -0.03901443\n",
      " -0.44677408 -0.43207916]\n",
      "400 0.199339626442\n",
      "theta [ 0.78780326  0.12160549 -0.34936883  0.35877819  0.00200484 -0.03712981\n",
      " -0.57891274 -0.56097246]\n",
      "500 0.19783918183\n",
      "theta [  7.64278404e-01   1.13923252e-01  -3.11041198e-01   3.29775515e-01\n",
      "  -4.84492127e-04  -3.59783571e-02  -6.57004727e-01  -6.36622446e-01]\n",
      "600 0.197256533747\n",
      "theta [ 0.74841603  0.10952044 -0.28374397  0.30837827 -0.00188027 -0.03526769\n",
      " -0.70399532 -0.68189612]\n",
      "700 0.197026582328\n",
      "theta [ 0.7379457   0.10693595 -0.26512412  0.29349238 -0.00268457 -0.03482582\n",
      " -0.73266757 -0.70940597]\n",
      "800 0.196935086245\n",
      "theta [ 0.73112779  0.10538904 -0.25274515  0.28347698 -0.00315881 -0.03454959\n",
      " -0.75034637 -0.72631555]\n",
      "900 0.196898534124\n",
      "theta [ 0.72672767  0.10444899 -0.24464698  0.27687513 -0.00344367 -0.03437625\n",
      " -0.7613309  -0.73679837]\n",
      "1000 0.196883903105\n",
      "theta: [ 0.72390482  0.10387113 -0.23940455  0.27258007 -0.00361725 -0.03426718\n",
      " -0.7681941  -0.74333741]\n"
     ]
    }
   ],
   "source": [
    "# We also pick ita = 0.1 and it seems to be converging\n",
    "eta=0.1\n",
    "T=1000\n",
    "theta=theta0\n",
    "for t in range(T):\n",
    "    if (t % 100 ==0):\n",
    "        print(t,mse(theta,X,Y))\n",
    "        print(\"theta\",theta)\n",
    "    theta = theta - eta * grad(theta,X,Y)\n",
    "print(T,mse(theta,X,Y))\n",
    "print(\"theta:\",theta)"
   ]
  },
  {
   "cell_type": "markdown",
   "metadata": {
    "ExecuteTime": {
     "end_time": "2018-01-16T19:38:08.793680Z",
     "start_time": "2018-01-16T19:38:08.783680Z"
    }
   },
   "source": [
    "<div class=\"alert alert-block alert-info\"> Problem 3.6 </div>\n",
    "Compare the MSE of the steepest descent solution to the exact solution."
   ]
  },
  {
   "cell_type": "code",
   "execution_count": 23,
   "metadata": {},
   "outputs": [
    {
     "name": "stdout",
     "output_type": "stream",
     "text": [
      "approx 0.196883903105\n",
      "exact 0.196874118463\n",
      "diff 9.78464191842e-06\n"
     ]
    }
   ],
   "source": [
    "E = mse(theta,X,Y)\n",
    "E_exact = mse(theta_exact,X,Y)\n",
    "print(\"approx\",E)\n",
    "print(\"exact\",E_exact)\n",
    "print(\"diff\",E-E_exact)"
   ]
  },
  {
   "cell_type": "markdown",
   "metadata": {
    "ExecuteTime": {
     "end_time": "2018-01-16T19:42:23.454680Z",
     "start_time": "2018-01-16T19:42:23.449680Z"
    }
   },
   "source": [
    "<div class=\"alert alert-block alert-info\"> Problem 3.7 </div>\n",
    "Compare the  steepest descent parameters $\\theta$  to the exact solution."
   ]
  },
  {
   "cell_type": "code",
   "execution_count": 24,
   "metadata": {},
   "outputs": [
    {
     "name": "stdout",
     "output_type": "stream",
     "text": [
      "[ 0.72390482  0.10387113 -0.23940455  0.27258007 -0.00361725 -0.03426718\n",
      " -0.7681941  -0.74333741]\n",
      "[ 0.71895227  0.10291078 -0.23010693  0.26491789 -0.00390232 -0.03408034\n",
      " -0.77984545 -0.75441522]\n",
      "5.36491001839e-05\n"
     ]
    }
   ],
   "source": [
    "print(theta)\n",
    "print(theta_exact)\n",
    "print(np.dot(theta-theta_exact,theta-theta_exact)/len(theta))\n",
    "# This distance is very small and we can conclude we have got the exact solution."
   ]
  },
  {
   "cell_type": "markdown",
   "metadata": {},
   "source": [
    "## Sklearn Comparison"
   ]
  },
  {
   "cell_type": "markdown",
   "metadata": {
    "ExecuteTime": {
     "end_time": "2018-01-16T19:50:26.024680Z",
     "start_time": "2018-01-16T19:50:26.014680Z"
    }
   },
   "source": [
    "<div class=\"alert alert-block alert-info\"> Problem 4.1 </div>\n",
    "Use [`sklearn.linear_model.LinearRegression`](http://scikit-learn.org/stable/modules/generated/sklearn.linear_model.LinearRegression.html)\n",
    "to fit our model.\n",
    "\n",
    "[Hint] You will need to create a `LinearRegression` object, and the call the `fit` method. Make sure not to fit the intercept (bias).\n"
   ]
  },
  {
   "cell_type": "code",
   "execution_count": 25,
   "metadata": {},
   "outputs": [
    {
     "data": {
      "text/plain": [
       "LinearRegression(copy_X=True, fit_intercept=False, n_jobs=1, normalize=False)"
      ]
     },
     "execution_count": 25,
     "metadata": {},
     "output_type": "execute_result"
    }
   ],
   "source": [
    "model = sklearn.linear_model.LinearRegression(fit_intercept=False)\n",
    "model.fit(X,Y)"
   ]
  },
  {
   "cell_type": "markdown",
   "metadata": {
    "ExecuteTime": {
     "end_time": "2018-01-16T20:00:11.040180Z",
     "start_time": "2018-01-16T20:00:11.030180Z"
    }
   },
   "source": [
    "<div class=\"alert alert-block alert-info\"> Problem 4.2 </div>\n",
    "Compute the mean squared different between the exact model prediction's  `Y_pred`  we saved before and\n",
    "`sklearn`'s Linear model regression predictions"
   ]
  },
  {
   "cell_type": "code",
   "execution_count": 26,
   "metadata": {},
   "outputs": [
    {
     "data": {
      "text/plain": [
       "1.8755077202641051e-29"
      ]
     },
     "execution_count": 26,
     "metadata": {},
     "output_type": "execute_result"
    }
   ],
   "source": [
    "Y_sk = model.predict(X)\n",
    "dY=(Y_sk-Y_pred)\n",
    "np.dot(dY.T,dY)/len(dY)"
   ]
  },
  {
   "cell_type": "markdown",
   "metadata": {},
   "source": [
    "<div class=\"alert alert-block alert-info\"> Problem 4.3 </div>\n",
    "Compare the sklearn solution to the exact solution we found earlier.\n",
    "\n",
    "[Hint] The solution is stored on the model's  `coef_` variable"
   ]
  },
  {
   "cell_type": "code",
   "execution_count": 27,
   "metadata": {},
   "outputs": [
    {
     "name": "stdout",
     "output_type": "stream",
     "text": [
      "feature, theta, theta_exact, diff\n",
      "0 0.718952272225 0.718952272225 3.5527136788e-15\n",
      "1 0.102910779714 0.102910779714 4.57966997658e-16\n",
      "2 -0.23010693263 -0.23010693263 5.27355936697e-16\n",
      "3 0.264917894141 0.264917894141 6.66133814775e-16\n",
      "4 -0.00390232364271 -0.0039023236427 -5.66820895775e-16\n",
      "5 -0.0340803412556 -0.0340803412556 4.85722573274e-16\n",
      "6 -0.779845445551 -0.779845445551 -1.99840144433e-15\n",
      "7 -0.754415222097 -0.754415222097 -3.33066907388e-16\n"
     ]
    }
   ],
   "source": [
    "print(\"feature, theta, theta_exact, diff\")\n",
    "for idx in range(X.shape[1]):\n",
    "    print(idx,model.coef_[idx],theta_exact[idx],model.coef_[idx] - theta_exact[idx])"
   ]
  },
  {
   "cell_type": "markdown",
   "metadata": {
    "ExecuteTime": {
     "end_time": "2018-01-16T20:34:50.406680Z",
     "start_time": "2018-01-16T20:34:50.401680Z"
    }
   },
   "source": [
    "### Statmodels  Comparison"
   ]
  },
  {
   "cell_type": "code",
   "execution_count": 28,
   "metadata": {
    "ExecuteTime": {
     "end_time": "2018-01-26T10:50:23.030019Z",
     "start_time": "2018-01-26T10:50:20.210760Z"
    }
   },
   "outputs": [],
   "source": [
    "import statsmodels.api as sm"
   ]
  },
  {
   "cell_type": "markdown",
   "metadata": {},
   "source": [
    "We will solve using  `statmodels` so that we appreciate the difference in emphasis between Machine Learning (`sklearn`) and Statistics Modeling `statmodels` "
   ]
  },
  {
   "cell_type": "markdown",
   "metadata": {
    "ExecuteTime": {
     "end_time": "2018-01-16T20:41:08.551180Z",
     "start_time": "2018-01-16T20:41:08.546180Z"
    }
   },
   "source": [
    "<div class=\"alert alert-block alert-info\"> Problem 5.1 </div>\n",
    "Use [`statmodels.api.OLS`](http://www.statsmodels.org/dev/generated/statsmodels.regression.linear_model.OLS.html) to solve the same linear regression problem\n"
   ]
  },
  {
   "cell_type": "code",
   "execution_count": 29,
   "metadata": {},
   "outputs": [],
   "source": [
    "model=sm.OLS(Y,X)\n",
    "results=model.fit()"
   ]
  },
  {
   "cell_type": "markdown",
   "metadata": {
    "ExecuteTime": {
     "end_time": "2018-01-16T20:44:32.088180Z",
     "start_time": "2018-01-16T20:44:32.078180Z"
    }
   },
   "source": [
    "<div class=\"alert alert-block alert-info\"> Problem 5.2 </div>\n",
    "Compare the `statmodels` solution to the exact solution we found earlier.\n",
    "\n",
    "[Hint] The fitted parameters are stored on the results 's  `parms` variable"
   ]
  },
  {
   "cell_type": "code",
   "execution_count": 30,
   "metadata": {},
   "outputs": [
    {
     "name": "stdout",
     "output_type": "stream",
     "text": [
      "feature, theta, theta_exact, diff\n",
      "0 0.718952272225 0.718952272225 3.33066907388e-15\n",
      "1 0.102910779714 0.102910779714 5.55111512313e-17\n",
      "2 -0.23010693263 -0.23010693263 2.49800180541e-16\n",
      "3 0.264917894141 0.264917894141 5.55111512313e-17\n",
      "4 -0.0039023236427 -0.0039023236427 -1.71303943253e-16\n",
      "5 -0.0340803412556 -0.0340803412556 -6.93889390391e-17\n",
      "6 -0.779845445551 -0.779845445551 -1.66533453694e-15\n",
      "7 -0.754415222097 -0.754415222097 -8.881784197e-16\n"
     ]
    }
   ],
   "source": [
    "print(\"feature, theta, theta_exact, diff\")\n",
    "for idx in range(X.shape[1]):\n",
    "    print(idx,results.params[idx],theta_exact[idx],results.params[idx] - theta_exact[idx] )"
   ]
  },
  {
   "cell_type": "markdown",
   "metadata": {},
   "source": [
    "<div class=\"alert alert-block alert-info\"> Problem 5.3 </div>\n",
    "Print a  `statmodels` result summary (function `summary` of the results object).\n",
    "\n",
    "It will show you a number of estimates on goodness-of-fit, significance of coefficients, etc."
   ]
  },
  {
   "cell_type": "code",
   "execution_count": 31,
   "metadata": {},
   "outputs": [
    {
     "name": "stdout",
     "output_type": "stream",
     "text": [
      "                            OLS Regression Results                            \n",
      "==============================================================================\n",
      "Dep. Variable:                      y   R-squared:                       0.606\n",
      "Model:                            OLS   Adj. R-squared:                  0.606\n",
      "Method:                 Least Squares   F-statistic:                     3971.\n",
      "Date:                Thu, 01 Feb 2018   Prob (F-statistic):               0.00\n",
      "Time:                        23:26:29   Log-Likelihood:                -19668.\n",
      "No. Observations:               20640   AIC:                         3.935e+04\n",
      "Df Residuals:                   20632   BIC:                         3.942e+04\n",
      "Df Model:                           8                                         \n",
      "Covariance Type:            nonrobust                                         \n",
      "==============================================================================\n",
      "                 coef    std err          t      P>|t|      [95.0% Conf. Int.]\n",
      "------------------------------------------------------------------------------\n",
      "x1             0.7190      0.007    104.056      0.000         0.705     0.732\n",
      "x2             0.1029      0.005     21.144      0.000         0.093     0.112\n",
      "x3            -0.2301      0.013    -18.236      0.000        -0.255    -0.205\n",
      "x4             0.2649      0.012     22.928      0.000         0.242     0.288\n",
      "x5            -0.0039      0.005     -0.837      0.402        -0.013     0.005\n",
      "x6            -0.0341      0.004     -7.769      0.000        -0.043    -0.025\n",
      "x7            -0.7798      0.013    -58.543      0.000        -0.806    -0.754\n",
      "x8            -0.7544      0.013    -57.684      0.000        -0.780    -0.729\n",
      "==============================================================================\n",
      "Omnibus:                     4393.650   Durbin-Watson:                   0.885\n",
      "Prob(Omnibus):                  0.000   Jarque-Bera (JB):            14087.596\n",
      "Skew:                           1.082   Prob(JB):                         0.00\n",
      "Kurtosis:                       6.420   Cond. No.                         6.67\n",
      "==============================================================================\n",
      "\n",
      "Warnings:\n",
      "[1] Standard Errors assume that the covariance matrix of the errors is correctly specified.\n"
     ]
    }
   ],
   "source": [
    "print(results.summary())"
   ]
  },
  {
   "cell_type": "markdown",
   "metadata": {
    "collapsed": true
   },
   "source": [
    "### Independent test for categorial variables"
   ]
  },
  {
   "cell_type": "markdown",
   "metadata": {},
   "source": [
    "<div class=\"alert alert-block alert-info\"> Problem 6.1 </div>\n",
    "\n",
    "Read the data from file 'homework.csv' in the  'data_dir' directory\n",
    "\n",
    "Perform a $\\chi^2$ test of independence between the variables `X` and `Y`.\n",
    "Are 'X' and 'Y' dependent on each other?\n",
    "\n",
    "[Hint] You can copy any code you need from the [`CategoricalInference`](./CategoricalInference.ipynb) Notebook,\n",
    "but make sure to import any python modules you may need."
   ]
  },
  {
   "cell_type": "code",
   "execution_count": 32,
   "metadata": {},
   "outputs": [
    {
     "ename": "OSError",
     "evalue": "File b'../../data/probabilisticTools/homework.csv' does not exist",
     "output_type": "error",
     "traceback": [
      "\u001b[0;31m---------------------------------------------------------------------------\u001b[0m",
      "\u001b[0;31mOSError\u001b[0m                                   Traceback (most recent call last)",
      "\u001b[0;32m<ipython-input-32-c44682454039>\u001b[0m in \u001b[0;36m<module>\u001b[0;34m()\u001b[0m\n\u001b[1;32m      1\u001b[0m \u001b[0;32mimport\u001b[0m \u001b[0mscipy\u001b[0m\u001b[0;34m.\u001b[0m\u001b[0mspecial\u001b[0m \u001b[0;32mas\u001b[0m \u001b[0mspecial\u001b[0m\u001b[0;34m\u001b[0m\u001b[0m\n\u001b[1;32m      2\u001b[0m \u001b[0mdata_filename\u001b[0m\u001b[0;34m=\u001b[0m\u001b[0mdata_dir\u001b[0m\u001b[0;34m+\u001b[0m\u001b[0;34m\"/homework.csv\"\u001b[0m\u001b[0;34m\u001b[0m\u001b[0m\n\u001b[0;32m----> 3\u001b[0;31m \u001b[0mdata\u001b[0m\u001b[0;34m=\u001b[0m\u001b[0mpd\u001b[0m\u001b[0;34m.\u001b[0m\u001b[0mread_csv\u001b[0m\u001b[0;34m(\u001b[0m\u001b[0mdata_filename\u001b[0m\u001b[0;34m)\u001b[0m\u001b[0;34m\u001b[0m\u001b[0m\n\u001b[0m\u001b[1;32m      4\u001b[0m \u001b[0mX\u001b[0m \u001b[0;34m=\u001b[0m \u001b[0mnp\u001b[0m\u001b[0;34m.\u001b[0m\u001b[0marray\u001b[0m\u001b[0;34m(\u001b[0m\u001b[0mdata\u001b[0m\u001b[0;34m[\u001b[0m\u001b[0;34m'X'\u001b[0m\u001b[0;34m]\u001b[0m\u001b[0;34m)\u001b[0m\u001b[0;34m\u001b[0m\u001b[0m\n\u001b[1;32m      5\u001b[0m \u001b[0mY\u001b[0m \u001b[0;34m=\u001b[0m \u001b[0mnp\u001b[0m\u001b[0;34m.\u001b[0m\u001b[0marray\u001b[0m\u001b[0;34m(\u001b[0m\u001b[0mdata\u001b[0m\u001b[0;34m[\u001b[0m\u001b[0;34m'Y'\u001b[0m\u001b[0;34m]\u001b[0m\u001b[0;34m)\u001b[0m\u001b[0;34m\u001b[0m\u001b[0m\n",
      "\u001b[0;32m/Applications/anaconda/lib/python3.5/site-packages/pandas/io/parsers.py\u001b[0m in \u001b[0;36mparser_f\u001b[0;34m(filepath_or_buffer, sep, delimiter, header, names, index_col, usecols, squeeze, prefix, mangle_dupe_cols, dtype, engine, converters, true_values, false_values, skipinitialspace, skiprows, skipfooter, nrows, na_values, keep_default_na, na_filter, verbose, skip_blank_lines, parse_dates, infer_datetime_format, keep_date_col, date_parser, dayfirst, iterator, chunksize, compression, thousands, decimal, lineterminator, quotechar, quoting, escapechar, comment, encoding, dialect, tupleize_cols, error_bad_lines, warn_bad_lines, skip_footer, doublequote, delim_whitespace, as_recarray, compact_ints, use_unsigned, low_memory, buffer_lines, memory_map, float_precision)\u001b[0m\n\u001b[1;32m    560\u001b[0m                     skip_blank_lines=skip_blank_lines)\n\u001b[1;32m    561\u001b[0m \u001b[0;34m\u001b[0m\u001b[0m\n\u001b[0;32m--> 562\u001b[0;31m         \u001b[0;32mreturn\u001b[0m \u001b[0m_read\u001b[0m\u001b[0;34m(\u001b[0m\u001b[0mfilepath_or_buffer\u001b[0m\u001b[0;34m,\u001b[0m \u001b[0mkwds\u001b[0m\u001b[0;34m)\u001b[0m\u001b[0;34m\u001b[0m\u001b[0m\n\u001b[0m\u001b[1;32m    563\u001b[0m \u001b[0;34m\u001b[0m\u001b[0m\n\u001b[1;32m    564\u001b[0m     \u001b[0mparser_f\u001b[0m\u001b[0;34m.\u001b[0m\u001b[0m__name__\u001b[0m \u001b[0;34m=\u001b[0m \u001b[0mname\u001b[0m\u001b[0;34m\u001b[0m\u001b[0m\n",
      "\u001b[0;32m/Applications/anaconda/lib/python3.5/site-packages/pandas/io/parsers.py\u001b[0m in \u001b[0;36m_read\u001b[0;34m(filepath_or_buffer, kwds)\u001b[0m\n\u001b[1;32m    313\u001b[0m \u001b[0;34m\u001b[0m\u001b[0m\n\u001b[1;32m    314\u001b[0m     \u001b[0;31m# Create the parser.\u001b[0m\u001b[0;34m\u001b[0m\u001b[0;34m\u001b[0m\u001b[0m\n\u001b[0;32m--> 315\u001b[0;31m     \u001b[0mparser\u001b[0m \u001b[0;34m=\u001b[0m \u001b[0mTextFileReader\u001b[0m\u001b[0;34m(\u001b[0m\u001b[0mfilepath_or_buffer\u001b[0m\u001b[0;34m,\u001b[0m \u001b[0;34m**\u001b[0m\u001b[0mkwds\u001b[0m\u001b[0;34m)\u001b[0m\u001b[0;34m\u001b[0m\u001b[0m\n\u001b[0m\u001b[1;32m    316\u001b[0m \u001b[0;34m\u001b[0m\u001b[0m\n\u001b[1;32m    317\u001b[0m     \u001b[0;32mif\u001b[0m \u001b[0;34m(\u001b[0m\u001b[0mnrows\u001b[0m \u001b[0;32mis\u001b[0m \u001b[0;32mnot\u001b[0m \u001b[0;32mNone\u001b[0m\u001b[0;34m)\u001b[0m \u001b[0;32mand\u001b[0m \u001b[0;34m(\u001b[0m\u001b[0mchunksize\u001b[0m \u001b[0;32mis\u001b[0m \u001b[0;32mnot\u001b[0m \u001b[0;32mNone\u001b[0m\u001b[0;34m)\u001b[0m\u001b[0;34m:\u001b[0m\u001b[0;34m\u001b[0m\u001b[0m\n",
      "\u001b[0;32m/Applications/anaconda/lib/python3.5/site-packages/pandas/io/parsers.py\u001b[0m in \u001b[0;36m__init__\u001b[0;34m(self, f, engine, **kwds)\u001b[0m\n\u001b[1;32m    643\u001b[0m             \u001b[0mself\u001b[0m\u001b[0;34m.\u001b[0m\u001b[0moptions\u001b[0m\u001b[0;34m[\u001b[0m\u001b[0;34m'has_index_names'\u001b[0m\u001b[0;34m]\u001b[0m \u001b[0;34m=\u001b[0m \u001b[0mkwds\u001b[0m\u001b[0;34m[\u001b[0m\u001b[0;34m'has_index_names'\u001b[0m\u001b[0;34m]\u001b[0m\u001b[0;34m\u001b[0m\u001b[0m\n\u001b[1;32m    644\u001b[0m \u001b[0;34m\u001b[0m\u001b[0m\n\u001b[0;32m--> 645\u001b[0;31m         \u001b[0mself\u001b[0m\u001b[0;34m.\u001b[0m\u001b[0m_make_engine\u001b[0m\u001b[0;34m(\u001b[0m\u001b[0mself\u001b[0m\u001b[0;34m.\u001b[0m\u001b[0mengine\u001b[0m\u001b[0;34m)\u001b[0m\u001b[0;34m\u001b[0m\u001b[0m\n\u001b[0m\u001b[1;32m    646\u001b[0m \u001b[0;34m\u001b[0m\u001b[0m\n\u001b[1;32m    647\u001b[0m     \u001b[0;32mdef\u001b[0m \u001b[0mclose\u001b[0m\u001b[0;34m(\u001b[0m\u001b[0mself\u001b[0m\u001b[0;34m)\u001b[0m\u001b[0;34m:\u001b[0m\u001b[0;34m\u001b[0m\u001b[0m\n",
      "\u001b[0;32m/Applications/anaconda/lib/python3.5/site-packages/pandas/io/parsers.py\u001b[0m in \u001b[0;36m_make_engine\u001b[0;34m(self, engine)\u001b[0m\n\u001b[1;32m    797\u001b[0m     \u001b[0;32mdef\u001b[0m \u001b[0m_make_engine\u001b[0m\u001b[0;34m(\u001b[0m\u001b[0mself\u001b[0m\u001b[0;34m,\u001b[0m \u001b[0mengine\u001b[0m\u001b[0;34m=\u001b[0m\u001b[0;34m'c'\u001b[0m\u001b[0;34m)\u001b[0m\u001b[0;34m:\u001b[0m\u001b[0;34m\u001b[0m\u001b[0m\n\u001b[1;32m    798\u001b[0m         \u001b[0;32mif\u001b[0m \u001b[0mengine\u001b[0m \u001b[0;34m==\u001b[0m \u001b[0;34m'c'\u001b[0m\u001b[0;34m:\u001b[0m\u001b[0;34m\u001b[0m\u001b[0m\n\u001b[0;32m--> 799\u001b[0;31m             \u001b[0mself\u001b[0m\u001b[0;34m.\u001b[0m\u001b[0m_engine\u001b[0m \u001b[0;34m=\u001b[0m \u001b[0mCParserWrapper\u001b[0m\u001b[0;34m(\u001b[0m\u001b[0mself\u001b[0m\u001b[0;34m.\u001b[0m\u001b[0mf\u001b[0m\u001b[0;34m,\u001b[0m \u001b[0;34m**\u001b[0m\u001b[0mself\u001b[0m\u001b[0;34m.\u001b[0m\u001b[0moptions\u001b[0m\u001b[0;34m)\u001b[0m\u001b[0;34m\u001b[0m\u001b[0m\n\u001b[0m\u001b[1;32m    800\u001b[0m         \u001b[0;32melse\u001b[0m\u001b[0;34m:\u001b[0m\u001b[0;34m\u001b[0m\u001b[0m\n\u001b[1;32m    801\u001b[0m             \u001b[0;32mif\u001b[0m \u001b[0mengine\u001b[0m \u001b[0;34m==\u001b[0m \u001b[0;34m'python'\u001b[0m\u001b[0;34m:\u001b[0m\u001b[0;34m\u001b[0m\u001b[0m\n",
      "\u001b[0;32m/Applications/anaconda/lib/python3.5/site-packages/pandas/io/parsers.py\u001b[0m in \u001b[0;36m__init__\u001b[0;34m(self, src, **kwds)\u001b[0m\n\u001b[1;32m   1211\u001b[0m         \u001b[0mkwds\u001b[0m\u001b[0;34m[\u001b[0m\u001b[0;34m'allow_leading_cols'\u001b[0m\u001b[0;34m]\u001b[0m \u001b[0;34m=\u001b[0m \u001b[0mself\u001b[0m\u001b[0;34m.\u001b[0m\u001b[0mindex_col\u001b[0m \u001b[0;32mis\u001b[0m \u001b[0;32mnot\u001b[0m \u001b[0;32mFalse\u001b[0m\u001b[0;34m\u001b[0m\u001b[0m\n\u001b[1;32m   1212\u001b[0m \u001b[0;34m\u001b[0m\u001b[0m\n\u001b[0;32m-> 1213\u001b[0;31m         \u001b[0mself\u001b[0m\u001b[0;34m.\u001b[0m\u001b[0m_reader\u001b[0m \u001b[0;34m=\u001b[0m \u001b[0m_parser\u001b[0m\u001b[0;34m.\u001b[0m\u001b[0mTextReader\u001b[0m\u001b[0;34m(\u001b[0m\u001b[0msrc\u001b[0m\u001b[0;34m,\u001b[0m \u001b[0;34m**\u001b[0m\u001b[0mkwds\u001b[0m\u001b[0;34m)\u001b[0m\u001b[0;34m\u001b[0m\u001b[0m\n\u001b[0m\u001b[1;32m   1214\u001b[0m \u001b[0;34m\u001b[0m\u001b[0m\n\u001b[1;32m   1215\u001b[0m         \u001b[0;31m# XXX\u001b[0m\u001b[0;34m\u001b[0m\u001b[0;34m\u001b[0m\u001b[0m\n",
      "\u001b[0;32mpandas/parser.pyx\u001b[0m in \u001b[0;36mpandas.parser.TextReader.__cinit__ (pandas/parser.c:3427)\u001b[0;34m()\u001b[0m\n",
      "\u001b[0;32mpandas/parser.pyx\u001b[0m in \u001b[0;36mpandas.parser.TextReader._setup_parser_source (pandas/parser.c:6861)\u001b[0;34m()\u001b[0m\n",
      "\u001b[0;31mOSError\u001b[0m: File b'../../data/probabilisticTools/homework.csv' does not exist"
     ]
    }
   ],
   "source": [
    "import scipy.special as special\n",
    "data_filename=data_dir+\"/homework.csv\"\n",
    "data=pd.read_csv(data_filename)\n",
    "X = np.array(data['X'])\n",
    "Y = np.array(data['Y'])\n",
    "\n",
    "\n",
    "Z_x = pd.get_dummies(X).as_matrix()\n",
    "Z_y = pd.get_dummies(Y).as_matrix()\n",
    "\n",
    "def C2_independence(Z_x,Z_y):\n",
    "    N=len(Z_x)\n",
    "    D=Z_x.shape[1]\n",
    "    K=Z_y.shape[1]\n",
    "    # p_y has index k\n",
    "    p_y=Z_y.mean(axis=0)\n",
    "    # p_x has index d\n",
    "    p_x=Z_x.mean(axis=0)\n",
    "    # p will be K*D, with indexes k,d\n",
    "    p=p_y[:,np.newaxis]*p_x[np.newaxis,:]\n",
    "    # Z_y has indexes i,k and Z_x has indexes i,d\n",
    "    #Z will be N*K*D, with indexes i,k,d\n",
    "    Z=Z_y[:,:,np.newaxis]*Z_x[:,np.newaxis,:]\n",
    "    # sum over i, left with a K*D matrix\n",
    "    obs=Z.sum(axis=0) # last two expressions are the same as np.dot(Z_y^T,Z_x)\n",
    "    # expect\n",
    "    expect=N*p\n",
    "    df=obs-expect\n",
    "    df2=df*df\n",
    "    c2 = (df2/np.maximum(1e-9,expect)).sum()\n",
    "    return c2,special.chdtrc((K-1)*(D-1),c2)\n",
    "\n",
    "C2_independence(Z_x,Z_y)"
   ]
  },
  {
   "cell_type": "markdown",
   "metadata": {},
   "source": [
    "**Ans:** So they do not look independent"
   ]
  },
  {
   "cell_type": "code",
   "execution_count": null,
   "metadata": {},
   "outputs": [],
   "source": []
  }
 ],
 "metadata": {
  "kernelspec": {
   "display_name": "Python [default]",
   "language": "python",
   "name": "python3"
  },
  "language_info": {
   "codemirror_mode": {
    "name": "ipython",
    "version": 3
   },
   "file_extension": ".py",
   "mimetype": "text/x-python",
   "name": "python",
   "nbconvert_exporter": "python",
   "pygments_lexer": "ipython3",
   "version": "3.5.2"
  },
  "toc": {
   "nav_menu": {},
   "number_sections": true,
   "sideBar": true,
   "skip_h1_title": false,
   "toc_cell": false,
   "toc_position": {},
   "toc_section_display": "block",
   "toc_window_display": true
  }
 },
 "nbformat": 4,
 "nbformat_minor": 2
}
