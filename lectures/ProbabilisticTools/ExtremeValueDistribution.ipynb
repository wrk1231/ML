{
 "cells": [
  {
   "cell_type": "markdown",
   "metadata": {},
   "source": [
    "# Extreme Value Distributions"
   ]
  },
  {
   "cell_type": "markdown",
   "metadata": {},
   "source": [
    "## Preliminaries"
   ]
  },
  {
   "cell_type": "markdown",
   "metadata": {},
   "source": [
    "### Imports"
   ]
  },
  {
   "cell_type": "code",
   "execution_count": 1,
   "metadata": {
    "ExecuteTime": {
     "end_time": "2018-01-03T10:58:04.619622Z",
     "start_time": "2018-01-03T10:57:50.961970Z"
    },
    "collapsed": true
   },
   "outputs": [],
   "source": [
    "import numpy as np\n",
    "import numpy.random as random\n",
    "import matplotlib.pyplot as plt\n",
    "from scipy.optimize import brentq\n",
    "from scipy.stats import gumbel_r\n",
    "\n",
    "%matplotlib inline"
   ]
  },
  {
   "cell_type": "markdown",
   "metadata": {},
   "source": [
    "### Random Seed"
   ]
  },
  {
   "cell_type": "code",
   "execution_count": 2,
   "metadata": {
    "ExecuteTime": {
     "end_time": "2018-01-03T10:58:04.630461Z",
     "start_time": "2018-01-03T10:58:04.623182Z"
    },
    "collapsed": true
   },
   "outputs": [],
   "source": [
    "seed=94324\n",
    "random.seed(seed)"
   ]
  },
  {
   "cell_type": "markdown",
   "metadata": {},
   "source": [
    "## Distribution of the Max of C Gaussians"
   ]
  },
  {
   "cell_type": "code",
   "execution_count": 3,
   "metadata": {
    "ExecuteTime": {
     "end_time": "2018-01-03T10:58:04.651012Z",
     "start_time": "2018-01-03T10:58:04.633954Z"
    },
    "collapsed": true
   },
   "outputs": [],
   "source": [
    "mu0=0.0\n",
    "sigma0=1"
   ]
  },
  {
   "cell_type": "code",
   "execution_count": 4,
   "metadata": {
    "ExecuteTime": {
     "end_time": "2018-01-03T10:58:04.667537Z",
     "start_time": "2018-01-03T10:58:04.653016Z"
    },
    "collapsed": true
   },
   "outputs": [],
   "source": [
    "R=10000"
   ]
  },
  {
   "cell_type": "code",
   "execution_count": 5,
   "metadata": {
    "ExecuteTime": {
     "end_time": "2018-01-03T10:58:04.682681Z",
     "start_time": "2018-01-03T10:58:04.669544Z"
    },
    "collapsed": true
   },
   "outputs": [],
   "source": [
    "C=1000"
   ]
  },
  {
   "cell_type": "code",
   "execution_count": 6,
   "metadata": {
    "ExecuteTime": {
     "end_time": "2018-01-03T10:58:05.300359Z",
     "start_time": "2018-01-03T10:58:04.686979Z"
    }
   },
   "outputs": [
    {
     "data": {
      "text/plain": [
       "(10000,)"
      ]
     },
     "execution_count": 6,
     "metadata": {},
     "output_type": "execute_result"
    }
   ],
   "source": [
    "draws=random.normal(mu0,sigma0,(R,C))\n",
    "max_draw=draws.max(axis=1)\n",
    "max_draw.shape"
   ]
  },
  {
   "cell_type": "code",
   "execution_count": 16,
   "metadata": {
    "ExecuteTime": {
     "end_time": "2018-01-03T11:47:55.967273Z",
     "start_time": "2018-01-03T11:47:55.949126Z"
    },
    "collapsed": true
   },
   "outputs": [],
   "source": [
    "class MaxGaussian:\n",
    "    def __init__(self,C,mu,sigma):\n",
    "        self.mu=mu\n",
    "        self.sigma=sigma\n",
    "        f=np.sqrt(2*np.log(C))   \n",
    "        b=f-(1/2*np.log(np.log(C))+np.log(2*np.sqrt(np.pi)))/f\n",
    "        self.gumbel=gumbel_r(loc=b,scale=1/b)\n",
    "    def pdf(self,k):\n",
    "        z=(k-self.mu)/self.sigma\n",
    "        return self.gumbel.pdf(z)/self.sigma\n",
    "    def rvs(self,size=1):\n",
    "        z=self.gumbel.rvs(size)\n",
    "        return self.mu+z*self.sigma "
   ]
  },
  {
   "cell_type": "code",
   "execution_count": 17,
   "metadata": {
    "ExecuteTime": {
     "end_time": "2018-01-03T11:47:57.014557Z",
     "start_time": "2018-01-03T11:47:56.980736Z"
    }
   },
   "outputs": [
    {
     "name": "stdout",
     "output_type": "stream",
     "text": [
      "3.11646988529\n"
     ]
    },
    {
     "data": {
      "text/plain": [
       "array([ 3.73244135,  3.40401155,  3.2896224 , ...,  3.00687945,\n",
       "        2.72370255,  3.42356792])"
      ]
     },
     "execution_count": 17,
     "metadata": {},
     "output_type": "execute_result"
    }
   ],
   "source": [
    "z=np.linspace(0,mu0+5*sigma0,101)\n",
    "gEV=MaxGaussian(C,mu0,sigma0)\n",
    "ev_dist=gEV.pdf(z)\n",
    "ev_sample=gEV.rvs(R)\n",
    "ev_sample[:]"
   ]
  },
  {
   "cell_type": "code",
   "execution_count": 9,
   "metadata": {
    "ExecuteTime": {
     "end_time": "2018-01-03T10:58:05.713062Z",
     "start_time": "2018-01-03T10:58:05.351817Z"
    },
    "scrolled": false
   },
   "outputs": [
    {
     "data": {
      "text/plain": [
       "<matplotlib.text.Text at 0x2d7553ddd68>"
      ]
     },
     "execution_count": 9,
     "metadata": {},
     "output_type": "execute_result"
    },
    {
     "data": {
      "image/png": "[encoded data removed]",
      "text/plain": [
       "<matplotlib.figure.Figure at 0x2d755564128>"
      ]
     },
     "metadata": {},
     "output_type": "display_data"
    }
   ],
   "source": [
    "plt.hist(max_draw,alpha=0.2,normed=True,label=\"max of {0} Gaussians\".format(C))\n",
    "plt.hist(ev_sample,alpha=0.2,normed=True,label=\"EV sample\")\n",
    "plt.plot(z,ev_dist,label=\"EV PDF\")\n",
    "plt.legend()\n",
    "plt.title(\"Distribution of the Maximum of {0} Gaussians\".format(C))\n",
    "plt.xlabel(\"z\")\n",
    "plt.ylabel(\"Probability\")"
   ]
  },
  {
   "cell_type": "code",
   "execution_count": 10,
   "metadata": {
    "ExecuteTime": {
     "end_time": "2018-01-03T10:58:05.991353Z",
     "start_time": "2018-01-03T10:58:05.714066Z"
    }
   },
   "outputs": [
    {
     "data": {
      "text/plain": [
       "<matplotlib.legend.Legend at 0x2d7552a80b8>"
      ]
     },
     "execution_count": 10,
     "metadata": {},
     "output_type": "execute_result"
    },
    {
     "data": {
      "image/png": "[encoded data removed]",
      "text/plain": [
       "<matplotlib.figure.Figure at 0x2d755564e10>"
      ]
     },
     "metadata": {},
     "output_type": "display_data"
    }
   ],
   "source": [
    "z=np.linspace(0,mu0+10*sigma0,101)\n",
    "Cs=[100,1000,10000,1000000]\n",
    "for C in Cs:\n",
    "    gEV=MaxGaussian(C,mu0,sigma0)\n",
    "    ev_dist=gEV.pdf(z)\n",
    "    plt.plot(z,ev_dist,label=\"C={0}\".format(C))\n",
    "plt.xlabel(\"z\")\n",
    "plt.ylabel(\"p\")\n",
    "plt.title(\"Distibution of Max of C Gaussians\")\n",
    "plt.legend()"
   ]
  },
  {
   "cell_type": "markdown",
   "metadata": {},
   "source": [
    "## Distribution of the best of C Coins"
   ]
  },
  {
   "cell_type": "markdown",
   "metadata": {},
   "source": [
    "We now assume we have **$C$ fair Coins**\n",
    "If we  toss each coin $N$ times, what is the distribution of the coin with most Heads?\n"
   ]
  },
  {
   "cell_type": "markdown",
   "metadata": {},
   "source": [
    "If $N$ is larger than 10 or so, we  can approximate the binomial distribution by a Gaussian with\n",
    "\n",
    "$$\n",
    "    \\mu_{p,N}=pN\n",
    "$$\n",
    "and stardard deviation\n",
    "\n",
    "$$\n",
    "    \\sigma_{p,N}=\\sqrt{p(1-p)N}\n",
    "$$\n",
    "\n",
    "were $p=\\frac{1}{2}$ for a fair coin toss, but we can leave it more general\n",
    " "
   ]
  },
  {
   "cell_type": "markdown",
   "metadata": {},
   "source": [
    "Lets call $B_M(C,N,p)$ to the maximum of $C$ binomial distributions with parameters $N,p$\n",
    "$$\n",
    "   P(B_M(C,N,p)>=k) \\approx P( G_M(C,\\mu_{p,N},\\sigma_{p,N})>= k)\n",
    "$$"
   ]
  },
  {
   "cell_type": "code",
   "execution_count": 11,
   "metadata": {
    "ExecuteTime": {
     "end_time": "2018-01-03T10:58:06.016098Z",
     "start_time": "2018-01-03T10:58:05.997456Z"
    },
    "collapsed": true
   },
   "outputs": [],
   "source": [
    "class MaxBinomial:\n",
    "    def __init__(self,C,N,p):\n",
    "        self.mu=p*N\n",
    "        self.sigma=np.sqrt(p*(1-p)*N)\n",
    "        f=np.sqrt(2*np.log(C))\n",
    "        \n",
    "        b=f-(1/2*np.log(np.log(C))+np.log(2*np.sqrt(np.pi)))/f\n",
    "        self.gumbel=gumbel_r(loc=b,scale=1/b)\n",
    "    def pdf(self,k):\n",
    "        z=(k-self.mu)/self.sigma\n",
    "        return self.gumbel.pdf(z)/self.sigma\n",
    "    def rvs(self,size=1):\n",
    "        z=self.gumbel.rvs(size)\n",
    "        return self.mu+z*self.sigma # this will return doubles, but we do not care"
   ]
  },
  {
   "cell_type": "code",
   "execution_count": 12,
   "metadata": {
    "ExecuteTime": {
     "end_time": "2018-01-03T10:58:06.039809Z",
     "start_time": "2018-01-03T10:58:06.018104Z"
    },
    "collapsed": true
   },
   "outputs": [],
   "source": [
    "C=1000\n",
    "N=100\n",
    "p0=0.5"
   ]
  },
  {
   "cell_type": "code",
   "execution_count": 13,
   "metadata": {
    "ExecuteTime": {
     "end_time": "2018-01-03T10:58:07.805191Z",
     "start_time": "2018-01-03T10:58:06.043328Z"
    }
   },
   "outputs": [
    {
     "data": {
      "text/plain": [
       "(10000,)"
      ]
     },
     "execution_count": 13,
     "metadata": {},
     "output_type": "execute_result"
    }
   ],
   "source": [
    "max_coin=random.binomial(N,p0,(R,C)).max(axis=1)\n",
    "max_coin.shape"
   ]
  },
  {
   "cell_type": "code",
   "execution_count": 14,
   "metadata": {
    "ExecuteTime": {
     "end_time": "2018-01-03T10:58:07.824372Z",
     "start_time": "2018-01-03T10:58:07.808254Z"
    }
   },
   "outputs": [
    {
     "data": {
      "text/plain": [
       "array([ 66.49743651,  65.1941664 ,  65.97177289,  66.32043028,\n",
       "        64.78801754,  66.11587204,  69.78822367,  64.94197551,\n",
       "        70.1539939 ,  64.81201476])"
      ]
     },
     "execution_count": 14,
     "metadata": {},
     "output_type": "execute_result"
    }
   ],
   "source": [
    "binEV=MaxBinomial(C,N,p0)\n",
    "ev_dist=binEV.pdf(np.arange(0,N+1))\n",
    "ev_sample=binEV.rvs(R)\n",
    "ev_sample[:10]"
   ]
  },
  {
   "cell_type": "code",
   "execution_count": 15,
   "metadata": {
    "ExecuteTime": {
     "end_time": "2018-01-03T10:58:08.168996Z",
     "start_time": "2018-01-03T10:58:07.825790Z"
    }
   },
   "outputs": [
    {
     "data": {
      "text/plain": [
       "<matplotlib.text.Text at 0x2d7556ea710>"
      ]
     },
     "execution_count": 15,
     "metadata": {},
     "output_type": "execute_result"
    },
    {
     "data": {
      "image/png": "[encoded data removed]",
      "text/plain": [
       "<matplotlib.figure.Figure at 0x2d7556dc828>"
      ]
     },
     "metadata": {},
     "output_type": "display_data"
    }
   ],
   "source": [
    "plt.hist(max_coin,alpha=0.2,normed=True,label=\"Max of {0} N-Binomial\".format(C))\n",
    "plt.hist(ev_sample,alpha=0.2,normed=True,label=\"EV sample\")\n",
    "plt.plot(np.arange(0,N+1),ev_dist,label=\"EV PDF\")\n",
    "plt.legend()\n",
    "plt.title(\"Distribution of the Maximum of {0} Binomials\".format(C))\n",
    "plt.xlabel(\"z\")\n",
    "plt.ylabel(\"Probability\")"
   ]
  },
  {
   "cell_type": "code",
   "execution_count": null,
   "metadata": {
    "collapsed": true
   },
   "outputs": [],
   "source": []
  }
 ],
 "metadata": {
  "kernelspec": {
   "display_name": "Python 3",
   "language": "python",
   "name": "python3"
  },
  "language_info": {
   "codemirror_mode": {
    "name": "ipython",
    "version": 3
   },
   "file_extension": ".py",
   "mimetype": "text/x-python",
   "name": "python",
   "nbconvert_exporter": "python",
   "pygments_lexer": "ipython3",
   "version": "3.6.1"
  },
  "toc": {
   "nav_menu": {},
   "number_sections": true,
   "sideBar": true,
   "skip_h1_title": false,
   "toc_cell": false,
   "toc_position": {},
   "toc_section_display": "block",
   "toc_window_display": true
  }
 },
 "nbformat": 4,
 "nbformat_minor": 2
}
