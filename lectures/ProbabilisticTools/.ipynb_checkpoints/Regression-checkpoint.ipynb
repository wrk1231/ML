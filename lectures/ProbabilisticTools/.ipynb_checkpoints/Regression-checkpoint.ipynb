{
 "cells": [
  {
   "cell_type": "markdown",
   "metadata": {
    "ExecuteTime": {
     "end_time": "2018-01-09T15:16:27.144141Z",
     "start_time": "2018-01-09T15:16:27.139141Z"
    }
   },
   "source": [
    "# Linear Regression Example"
   ]
  },
  {
   "cell_type": "markdown",
   "metadata": {
    "ExecuteTime": {
     "end_time": "2018-01-17T11:33:46.683553Z",
     "start_time": "2018-01-17T11:33:46.678541Z"
    }
   },
   "source": [
    "In this notebook we demonstrate  the mechanics of learning in a toy example.\n",
    "\n",
    "We will discuss **overfitting** next lecture."
   ]
  },
  {
   "cell_type": "markdown",
   "metadata": {
    "ExecuteTime": {
     "end_time": "2018-01-09T15:16:42.223141Z",
     "start_time": "2018-01-09T15:16:42.218141Z"
    }
   },
   "source": [
    "## Preliminaries"
   ]
  },
  {
   "cell_type": "markdown",
   "metadata": {
    "ExecuteTime": {
     "end_time": "2018-01-09T15:16:58.417141Z",
     "start_time": "2018-01-09T15:16:58.414141Z"
    }
   },
   "source": [
    "### Imports"
   ]
  },
  {
   "cell_type": "code",
   "execution_count": 1,
   "metadata": {
    "ExecuteTime": {
     "end_time": "2018-01-26T12:38:38.012157Z",
     "start_time": "2018-01-26T12:38:34.259353Z"
    },
    "collapsed": true
   },
   "outputs": [],
   "source": [
    "import os\n",
    "\n",
    "import numpy as np\n",
    "import pandas as pd\n",
    "import matplotlib.pyplot as plt\n",
    "\n",
    "import scipy.optimize\n",
    "import sklearn.datasets\n",
    "import sklearn.linear_model\n",
    "\n",
    "\n",
    "%matplotlib inline\n",
    "\n"
   ]
  },
  {
   "cell_type": "markdown",
   "metadata": {
    "ExecuteTime": {
     "end_time": "2018-01-09T15:18:16.996141Z",
     "start_time": "2018-01-09T15:18:16.993141Z"
    }
   },
   "source": [
    "### Data Directories "
   ]
  },
  {
   "cell_type": "markdown",
   "metadata": {},
   "source": [
    "Create a directory with the path below"
   ]
  },
  {
   "cell_type": "code",
   "execution_count": 2,
   "metadata": {
    "ExecuteTime": {
     "end_time": "2018-01-26T12:38:38.027760Z",
     "start_time": "2018-01-26T12:38:38.012157Z"
    },
    "collapsed": true
   },
   "outputs": [],
   "source": [
    "raw_data_dir=\"../../raw/probabilisticTools\"\n",
    "data_dir=\"../../data/probabilisticTools\"\n"
   ]
  },
  {
   "cell_type": "markdown",
   "metadata": {},
   "source": [
    "### Random Seed"
   ]
  },
  {
   "cell_type": "code",
   "execution_count": 3,
   "metadata": {
    "ExecuteTime": {
     "end_time": "2018-01-26T12:38:38.051198Z",
     "start_time": "2018-01-26T12:38:38.027760Z"
    },
    "collapsed": true
   },
   "outputs": [],
   "source": [
    "seed=2506\n",
    "np.random.seed(seed)"
   ]
  },
  {
   "cell_type": "markdown",
   "metadata": {},
   "source": [
    "### Get Data"
   ]
  },
  {
   "cell_type": "markdown",
   "metadata": {
    "ExecuteTime": {
     "end_time": "2018-01-17T09:48:01.946201Z",
     "start_time": "2018-01-17T09:48:01.936170Z"
    }
   },
   "source": [
    "\n",
    "we read the contents of \"regression_data.csv\" into a `pandas.DataFrame` object"
   ]
  },
  {
   "cell_type": "code",
   "execution_count": 4,
   "metadata": {
    "ExecuteTime": {
     "end_time": "2018-01-26T12:38:38.084968Z",
     "start_time": "2018-01-26T12:38:38.052446Z"
    }
   },
   "outputs": [
    {
     "ename": "IOError",
     "evalue": "File ../../raw/probabilisticTools/regression_data.csv does not exist",
     "output_type": "error",
     "traceback": [
      "\u001b[0;31m---------------------------------------------------------------------------\u001b[0m",
      "\u001b[0;31mIOError\u001b[0m                                   Traceback (most recent call last)",
      "\u001b[0;32m<ipython-input-4-214315eed71b>\u001b[0m in \u001b[0;36m<module>\u001b[0;34m()\u001b[0m\n\u001b[0;32m----> 1\u001b[0;31m \u001b[0mdata\u001b[0m\u001b[0;34m=\u001b[0m\u001b[0mpd\u001b[0m\u001b[0;34m.\u001b[0m\u001b[0mread_csv\u001b[0m\u001b[0;34m(\u001b[0m\u001b[0mraw_data_dir\u001b[0m\u001b[0;34m+\u001b[0m\u001b[0;34m\"/regression_data.csv\"\u001b[0m\u001b[0;34m)\u001b[0m\u001b[0;34m\u001b[0m\u001b[0m\n\u001b[0m\u001b[1;32m      2\u001b[0m \u001b[0mdata\u001b[0m\u001b[0;34m.\u001b[0m\u001b[0mdescribe\u001b[0m\u001b[0;34m(\u001b[0m\u001b[0;34m)\u001b[0m\u001b[0;34m\u001b[0m\u001b[0m\n",
      "\u001b[0;32m/Users/wrk/.pyenv/versions/2.7.13/lib/python2.7/site-packages/pandas/io/parsers.pyc\u001b[0m in \u001b[0;36mparser_f\u001b[0;34m(filepath_or_buffer, sep, delimiter, header, names, index_col, usecols, squeeze, prefix, mangle_dupe_cols, dtype, engine, converters, true_values, false_values, skipinitialspace, skiprows, nrows, na_values, keep_default_na, na_filter, verbose, skip_blank_lines, parse_dates, infer_datetime_format, keep_date_col, date_parser, dayfirst, iterator, chunksize, compression, thousands, decimal, lineterminator, quotechar, quoting, escapechar, comment, encoding, dialect, tupleize_cols, error_bad_lines, warn_bad_lines, skipfooter, skip_footer, doublequote, delim_whitespace, as_recarray, compact_ints, use_unsigned, low_memory, buffer_lines, memory_map, float_precision)\u001b[0m\n\u001b[1;32m    653\u001b[0m                     skip_blank_lines=skip_blank_lines)\n\u001b[1;32m    654\u001b[0m \u001b[0;34m\u001b[0m\u001b[0m\n\u001b[0;32m--> 655\u001b[0;31m         \u001b[0;32mreturn\u001b[0m \u001b[0m_read\u001b[0m\u001b[0;34m(\u001b[0m\u001b[0mfilepath_or_buffer\u001b[0m\u001b[0;34m,\u001b[0m \u001b[0mkwds\u001b[0m\u001b[0;34m)\u001b[0m\u001b[0;34m\u001b[0m\u001b[0m\n\u001b[0m\u001b[1;32m    656\u001b[0m \u001b[0;34m\u001b[0m\u001b[0m\n\u001b[1;32m    657\u001b[0m     \u001b[0mparser_f\u001b[0m\u001b[0;34m.\u001b[0m\u001b[0m__name__\u001b[0m \u001b[0;34m=\u001b[0m \u001b[0mname\u001b[0m\u001b[0;34m\u001b[0m\u001b[0m\n",
      "\u001b[0;32m/Users/wrk/.pyenv/versions/2.7.13/lib/python2.7/site-packages/pandas/io/parsers.pyc\u001b[0m in \u001b[0;36m_read\u001b[0;34m(filepath_or_buffer, kwds)\u001b[0m\n\u001b[1;32m    403\u001b[0m \u001b[0;34m\u001b[0m\u001b[0m\n\u001b[1;32m    404\u001b[0m     \u001b[0;31m# Create the parser.\u001b[0m\u001b[0;34m\u001b[0m\u001b[0;34m\u001b[0m\u001b[0m\n\u001b[0;32m--> 405\u001b[0;31m     \u001b[0mparser\u001b[0m \u001b[0;34m=\u001b[0m \u001b[0mTextFileReader\u001b[0m\u001b[0;34m(\u001b[0m\u001b[0mfilepath_or_buffer\u001b[0m\u001b[0;34m,\u001b[0m \u001b[0;34m**\u001b[0m\u001b[0mkwds\u001b[0m\u001b[0;34m)\u001b[0m\u001b[0;34m\u001b[0m\u001b[0m\n\u001b[0m\u001b[1;32m    406\u001b[0m \u001b[0;34m\u001b[0m\u001b[0m\n\u001b[1;32m    407\u001b[0m     \u001b[0;32mif\u001b[0m \u001b[0mchunksize\u001b[0m \u001b[0;32mor\u001b[0m \u001b[0miterator\u001b[0m\u001b[0;34m:\u001b[0m\u001b[0;34m\u001b[0m\u001b[0m\n",
      "\u001b[0;32m/Users/wrk/.pyenv/versions/2.7.13/lib/python2.7/site-packages/pandas/io/parsers.pyc\u001b[0m in \u001b[0;36m__init__\u001b[0;34m(self, f, engine, **kwds)\u001b[0m\n\u001b[1;32m    762\u001b[0m             \u001b[0mself\u001b[0m\u001b[0;34m.\u001b[0m\u001b[0moptions\u001b[0m\u001b[0;34m[\u001b[0m\u001b[0;34m'has_index_names'\u001b[0m\u001b[0;34m]\u001b[0m \u001b[0;34m=\u001b[0m \u001b[0mkwds\u001b[0m\u001b[0;34m[\u001b[0m\u001b[0;34m'has_index_names'\u001b[0m\u001b[0;34m]\u001b[0m\u001b[0;34m\u001b[0m\u001b[0m\n\u001b[1;32m    763\u001b[0m \u001b[0;34m\u001b[0m\u001b[0m\n\u001b[0;32m--> 764\u001b[0;31m         \u001b[0mself\u001b[0m\u001b[0;34m.\u001b[0m\u001b[0m_make_engine\u001b[0m\u001b[0;34m(\u001b[0m\u001b[0mself\u001b[0m\u001b[0;34m.\u001b[0m\u001b[0mengine\u001b[0m\u001b[0;34m)\u001b[0m\u001b[0;34m\u001b[0m\u001b[0m\n\u001b[0m\u001b[1;32m    765\u001b[0m \u001b[0;34m\u001b[0m\u001b[0m\n\u001b[1;32m    766\u001b[0m     \u001b[0;32mdef\u001b[0m \u001b[0mclose\u001b[0m\u001b[0;34m(\u001b[0m\u001b[0mself\u001b[0m\u001b[0;34m)\u001b[0m\u001b[0;34m:\u001b[0m\u001b[0;34m\u001b[0m\u001b[0m\n",
      "\u001b[0;32m/Users/wrk/.pyenv/versions/2.7.13/lib/python2.7/site-packages/pandas/io/parsers.pyc\u001b[0m in \u001b[0;36m_make_engine\u001b[0;34m(self, engine)\u001b[0m\n\u001b[1;32m    983\u001b[0m     \u001b[0;32mdef\u001b[0m \u001b[0m_make_engine\u001b[0m\u001b[0;34m(\u001b[0m\u001b[0mself\u001b[0m\u001b[0;34m,\u001b[0m \u001b[0mengine\u001b[0m\u001b[0;34m=\u001b[0m\u001b[0;34m'c'\u001b[0m\u001b[0;34m)\u001b[0m\u001b[0;34m:\u001b[0m\u001b[0;34m\u001b[0m\u001b[0m\n\u001b[1;32m    984\u001b[0m         \u001b[0;32mif\u001b[0m \u001b[0mengine\u001b[0m \u001b[0;34m==\u001b[0m \u001b[0;34m'c'\u001b[0m\u001b[0;34m:\u001b[0m\u001b[0;34m\u001b[0m\u001b[0m\n\u001b[0;32m--> 985\u001b[0;31m             \u001b[0mself\u001b[0m\u001b[0;34m.\u001b[0m\u001b[0m_engine\u001b[0m \u001b[0;34m=\u001b[0m \u001b[0mCParserWrapper\u001b[0m\u001b[0;34m(\u001b[0m\u001b[0mself\u001b[0m\u001b[0;34m.\u001b[0m\u001b[0mf\u001b[0m\u001b[0;34m,\u001b[0m \u001b[0;34m**\u001b[0m\u001b[0mself\u001b[0m\u001b[0;34m.\u001b[0m\u001b[0moptions\u001b[0m\u001b[0;34m)\u001b[0m\u001b[0;34m\u001b[0m\u001b[0m\n\u001b[0m\u001b[1;32m    986\u001b[0m         \u001b[0;32melse\u001b[0m\u001b[0;34m:\u001b[0m\u001b[0;34m\u001b[0m\u001b[0m\n\u001b[1;32m    987\u001b[0m             \u001b[0;32mif\u001b[0m \u001b[0mengine\u001b[0m \u001b[0;34m==\u001b[0m \u001b[0;34m'python'\u001b[0m\u001b[0;34m:\u001b[0m\u001b[0;34m\u001b[0m\u001b[0m\n",
      "\u001b[0;32m/Users/wrk/.pyenv/versions/2.7.13/lib/python2.7/site-packages/pandas/io/parsers.pyc\u001b[0m in \u001b[0;36m__init__\u001b[0;34m(self, src, **kwds)\u001b[0m\n\u001b[1;32m   1603\u001b[0m         \u001b[0mkwds\u001b[0m\u001b[0;34m[\u001b[0m\u001b[0;34m'allow_leading_cols'\u001b[0m\u001b[0;34m]\u001b[0m \u001b[0;34m=\u001b[0m \u001b[0mself\u001b[0m\u001b[0;34m.\u001b[0m\u001b[0mindex_col\u001b[0m \u001b[0;32mis\u001b[0m \u001b[0;32mnot\u001b[0m \u001b[0mFalse\u001b[0m\u001b[0;34m\u001b[0m\u001b[0m\n\u001b[1;32m   1604\u001b[0m \u001b[0;34m\u001b[0m\u001b[0m\n\u001b[0;32m-> 1605\u001b[0;31m         \u001b[0mself\u001b[0m\u001b[0;34m.\u001b[0m\u001b[0m_reader\u001b[0m \u001b[0;34m=\u001b[0m \u001b[0mparsers\u001b[0m\u001b[0;34m.\u001b[0m\u001b[0mTextReader\u001b[0m\u001b[0;34m(\u001b[0m\u001b[0msrc\u001b[0m\u001b[0;34m,\u001b[0m \u001b[0;34m**\u001b[0m\u001b[0mkwds\u001b[0m\u001b[0;34m)\u001b[0m\u001b[0;34m\u001b[0m\u001b[0m\n\u001b[0m\u001b[1;32m   1606\u001b[0m \u001b[0;34m\u001b[0m\u001b[0m\n\u001b[1;32m   1607\u001b[0m         \u001b[0;31m# XXX\u001b[0m\u001b[0;34m\u001b[0m\u001b[0;34m\u001b[0m\u001b[0m\n",
      "\u001b[0;32mpandas/_libs/parsers.pyx\u001b[0m in \u001b[0;36mpandas._libs.parsers.TextReader.__cinit__ (pandas/_libs/parsers.c:4209)\u001b[0;34m()\u001b[0m\n",
      "\u001b[0;32mpandas/_libs/parsers.pyx\u001b[0m in \u001b[0;36mpandas._libs.parsers.TextReader._setup_parser_source (pandas/_libs/parsers.c:8873)\u001b[0;34m()\u001b[0m\n",
      "\u001b[0;31mIOError\u001b[0m: File ../../raw/probabilisticTools/regression_data.csv does not exist"
     ]
    }
   ],
   "source": [
    "data=pd.read_csv(raw_data_dir+\"/regression_data.csv\")\n",
    "data.describe()"
   ]
  },
  {
   "cell_type": "markdown",
   "metadata": {
    "ExecuteTime": {
     "end_time": "2018-01-16T20:49:57.377180Z",
     "start_time": "2018-01-16T20:49:57.332180Z"
    }
   },
   "source": [
    "\n",
    "Let's visualize the data"
   ]
  },
  {
   "cell_type": "code",
   "execution_count": 5,
   "metadata": {
    "ExecuteTime": {
     "end_time": "2018-01-26T12:38:38.307591Z",
     "start_time": "2018-01-26T12:38:38.084968Z"
    }
   },
   "outputs": [
    {
     "data": {
      "text/plain": [
       "<matplotlib.axes._subplots.AxesSubplot at 0x26f35fcb8d0>"
      ]
     },
     "execution_count": 5,
     "metadata": {},
     "output_type": "execute_result"
    },
    {
     "data": {
      "image/png": "[encoded data removed]",
      "text/plain": [
       "<matplotlib.figure.Figure at 0x26f360be668>"
      ]
     },
     "metadata": {},
     "output_type": "display_data"
    }
   ],
   "source": [
    "data.plot(\"X\",\"Y\",kind=\"scatter\")"
   ]
  },
  {
   "cell_type": "markdown",
   "metadata": {},
   "source": [
    "\n",
    "We generate `numpy` arrays named `X` and `Y` for the data of those columns"
   ]
  },
  {
   "cell_type": "code",
   "execution_count": 6,
   "metadata": {
    "ExecuteTime": {
     "end_time": "2018-01-26T12:38:38.319609Z",
     "start_time": "2018-01-26T12:38:38.307591Z"
    }
   },
   "outputs": [
    {
     "data": {
      "text/plain": [
       "((1000,), (1000,))"
      ]
     },
     "execution_count": 6,
     "metadata": {},
     "output_type": "execute_result"
    }
   ],
   "source": [
    "X=data[\"X\"].as_matrix()\n",
    "Y=data[\"Y\"].as_matrix()\n",
    "X.shape,Y.shape"
   ]
  },
  {
   "cell_type": "markdown",
   "metadata": {},
   "source": [
    "From now on, we will work only with the arrays `X` and `Y`"
   ]
  },
  {
   "cell_type": "markdown",
   "metadata": {
    "ExecuteTime": {
     "end_time": "2018-01-17T09:58:54.535570Z",
     "start_time": "2018-01-17T09:58:54.532564Z"
    }
   },
   "source": [
    "### Data Regression Model"
   ]
  },
  {
   "cell_type": "markdown",
   "metadata": {
    "ExecuteTime": {
     "end_time": "2018-01-16T18:14:18.478680Z",
     "start_time": "2018-01-16T18:14:18.468680Z"
    }
   },
   "source": [
    "In this notebook assume the following model\n",
    "$$\n",
    "     y = \\sum_{d=0}^{D} h_d(x) \\theta_d  + \\epsilon\n",
    "$$\n",
    "where **$D=10$**, $\\epsilon$ is a Gaussian noise term, and the *feature functions* $h_d$ are defined as follows\n",
    "\n",
    "$$\n",
    "    h_d(x) = \\cos(d \\pi x)\n",
    "$$\n",
    "\n",
    "[HINT] Note that $d$ runs from **0** to $D$, so there are $D+1$ features in total"
   ]
  },
  {
   "cell_type": "markdown",
   "metadata": {},
   "source": [
    "You will  work out in  the homework the **maximum likelihood loss function** for this problem.\n",
    "It is:\n",
    "\n",
    "$$\n",
    "    E = \\frac{1}{2N}\\sum_i \\left( y_i -\\hat{y_i} \\right)^2\n",
    "$$\n",
    "where the predicted $Y$ is \n",
    "\n",
    "$$\n",
    "    \\hat{y}_i = \\sum_d h_d(x_i)\\theta_d= \\sum_d H_{i,d}\\theta_d\n",
    "$$\n",
    "\n",
    "The solution for $\\theta$ must satisfy\n",
    "$$\n",
    " (H^T H)  \\theta = H^T Y\n",
    "$$\n",
    "\n",
    "**[Note]** In the max likelihood derivation there is a common variance $\\sigma^2$ factor.  As a scale it does not effect the estimate value of $\\theta$, so we will ignore it."
   ]
  },
  {
   "cell_type": "markdown",
   "metadata": {
    "ExecuteTime": {
     "end_time": "2018-01-09T15:21:30.644141Z",
     "start_time": "2018-01-09T15:21:30.639141Z"
    }
   },
   "source": [
    "## Feature generation"
   ]
  },
  {
   "cell_type": "markdown",
   "metadata": {},
   "source": [
    "\n",
    "We use the function [`numpy.arange`](https://docs.scipy.org/doc/numpy-1.13.0/reference/generated/numpy.arange.html) \n",
    "generate and `np.array` of indexes $d=$0,1,...,D$\n"
   ]
  },
  {
   "cell_type": "code",
   "execution_count": 7,
   "metadata": {
    "ExecuteTime": {
     "end_time": "2018-01-26T12:38:38.343639Z",
     "start_time": "2018-01-26T12:38:38.323615Z"
    }
   },
   "outputs": [
    {
     "data": {
      "text/plain": [
       "array([ 0,  1,  2,  3,  4,  5,  6,  7,  8,  9, 10])"
      ]
     },
     "execution_count": 7,
     "metadata": {},
     "output_type": "execute_result"
    }
   ],
   "source": [
    "D=10\n",
    "d=np.arange(0,D+1)\n",
    "d"
   ]
  },
  {
   "cell_type": "markdown",
   "metadata": {
    "ExecuteTime": {
     "end_time": "2018-01-17T10:22:54.283997Z",
     "start_time": "2018-01-17T10:22:54.278982Z"
    }
   },
   "source": [
    "\n",
    "We generate the **phase** matrix\n",
    "$$ \n",
    "    \\phi_{i,d} = d \\pi x_i\n",
    "$$"
   ]
  },
  {
   "cell_type": "code",
   "execution_count": 8,
   "metadata": {
    "ExecuteTime": {
     "end_time": "2018-01-26T12:38:38.363666Z",
     "start_time": "2018-01-26T12:38:38.343639Z"
    }
   },
   "outputs": [
    {
     "data": {
      "text/plain": [
       "(1000, 11)"
      ]
     },
     "execution_count": 8,
     "metadata": {},
     "output_type": "execute_result"
    }
   ],
   "source": [
    "phi=np.pi*X[:,np.newaxis]*d[np.newaxis,:]\n",
    "phi.shape"
   ]
  },
  {
   "cell_type": "markdown",
   "metadata": {},
   "source": [
    "And, finally, we generate the feature matrix for the data\n",
    "$$ \n",
    "    H_{i,d} = h_d(x_i) = \\cos ( \\phi_{i,d})\n",
    "$$"
   ]
  },
  {
   "cell_type": "code",
   "execution_count": 9,
   "metadata": {
    "ExecuteTime": {
     "end_time": "2018-01-26T12:38:38.387697Z",
     "start_time": "2018-01-26T12:38:38.363666Z"
    }
   },
   "outputs": [
    {
     "data": {
      "text/plain": [
       "(1000, 11)"
      ]
     },
     "execution_count": 9,
     "metadata": {},
     "output_type": "execute_result"
    }
   ],
   "source": [
    "H=np.cos(phi)\n",
    "H.shape"
   ]
  },
  {
   "cell_type": "markdown",
   "metadata": {
    "ExecuteTime": {
     "end_time": "2018-01-09T16:23:41.930141Z",
     "start_time": "2018-01-09T16:23:41.927141Z"
    }
   },
   "source": [
    "## Exact Solution with Numpy"
   ]
  },
  {
   "cell_type": "markdown",
   "metadata": {},
   "source": [
    "2. Expressed in terms of $H$ this is just a multivariate regression problem.\n",
    "1. `numpy.linalg` has a specialized function `numpy.linalg.lstsq` to solve lsq problems.\n",
    "2. `numpy.linalg.solve(H,Y)` would work in most cases but it can have problems with numerical stability.\n",
    "3. Computing matrix inverses is computationally expensive, and numerical ill conditioned. Avoid computing them."
   ]
  },
  {
   "cell_type": "code",
   "execution_count": 10,
   "metadata": {
    "ExecuteTime": {
     "end_time": "2018-01-26T12:38:38.403718Z",
     "start_time": "2018-01-26T12:38:38.387697Z"
    }
   },
   "outputs": [
    {
     "data": {
      "text/plain": [
       "array([ 0.12635115,  0.24109746,  0.20214756,  0.15312855,  0.10375624,\n",
       "        0.05691156,  0.02238714,  0.00156388, -0.00165544,  0.00233476,\n",
       "        0.01071346])"
      ]
     },
     "execution_count": 10,
     "metadata": {},
     "output_type": "execute_result"
    }
   ],
   "source": [
    "res=np.linalg.lstsq( H,Y)\n",
    "theta_exact=res[0]\n",
    "theta_exact"
   ]
  },
  {
   "cell_type": "markdown",
   "metadata": {},
   "source": [
    "Coefficients look **very large**!"
   ]
  },
  {
   "cell_type": "markdown",
   "metadata": {
    "ExecuteTime": {
     "end_time": "2018-01-16T18:31:59.073180Z",
     "start_time": "2018-01-16T18:31:59.063180Z"
    }
   },
   "source": [
    "\n",
    "Let's look at the predicted values `Y_pred`."
   ]
  },
  {
   "cell_type": "code",
   "execution_count": 11,
   "metadata": {
    "ExecuteTime": {
     "end_time": "2018-01-26T12:38:38.419740Z",
     "start_time": "2018-01-26T12:38:38.403718Z"
    },
    "collapsed": true
   },
   "outputs": [],
   "source": [
    "Y_pred=np.dot(H,theta_exact)"
   ]
  },
  {
   "cell_type": "code",
   "execution_count": 12,
   "metadata": {
    "ExecuteTime": {
     "end_time": "2018-01-26T12:38:38.740168Z",
     "start_time": "2018-01-26T12:38:38.419740Z"
    }
   },
   "outputs": [
    {
     "data": {
      "text/plain": [
       "<matplotlib.legend.Legend at 0x26f37470b70>"
      ]
     },
     "execution_count": 12,
     "metadata": {},
     "output_type": "execute_result"
    },
    {
     "data": {
      "image/png": "[encoded data removed]",
      "text/plain": [
       "<matplotlib.figure.Figure at 0x26f3607bb00>"
      ]
     },
     "metadata": {},
     "output_type": "display_data"
    }
   ],
   "source": [
    "plt.scatter(X,Y,label=\"Y\")\n",
    "plt.scatter(X,Y_pred,label=\"Y_pred\")\n",
    "plt.xlabel(\"x\")\n",
    "plt.ylabel(\"y\")\n",
    "plt.title(\"Predicted Values\")\n",
    "plt.legend()"
   ]
  },
  {
   "cell_type": "markdown",
   "metadata": {},
   "source": [
    "The predicted function looks fairly reasonable."
   ]
  },
  {
   "cell_type": "markdown",
   "metadata": {
    "ExecuteTime": {
     "end_time": "2018-01-17T10:39:01.296182Z",
     "start_time": "2018-01-17T10:39:01.292171Z"
    }
   },
   "source": [
    "Let's compute the residuals"
   ]
  },
  {
   "cell_type": "code",
   "execution_count": 13,
   "metadata": {
    "ExecuteTime": {
     "end_time": "2018-01-26T12:38:38.952451Z",
     "start_time": "2018-01-26T12:38:38.740168Z"
    }
   },
   "outputs": [
    {
     "data": {
      "text/plain": [
       "<matplotlib.collections.PathCollection at 0x26f37543d30>"
      ]
     },
     "execution_count": 13,
     "metadata": {},
     "output_type": "execute_result"
    },
    {
     "data": {
      "image/png": "[encoded data removed]",
      "text/plain": [
       "<matplotlib.figure.Figure at 0x26f3709fd30>"
      ]
     },
     "metadata": {},
     "output_type": "display_data"
    }
   ],
   "source": [
    "dY=Y-Y_pred\n",
    "plt.scatter(X,dY,label=\"Y\")"
   ]
  },
  {
   "cell_type": "markdown",
   "metadata": {},
   "source": [
    "\n",
    "The mean square error"
   ]
  },
  {
   "cell_type": "code",
   "execution_count": 14,
   "metadata": {
    "ExecuteTime": {
     "end_time": "2018-01-26T12:38:38.960461Z",
     "start_time": "2018-01-26T12:38:38.952451Z"
    }
   },
   "outputs": [
    {
     "data": {
      "text/plain": [
       "0.005747690228117751"
      ]
     },
     "execution_count": 14,
     "metadata": {},
     "output_type": "execute_result"
    }
   ],
   "source": [
    "np.mean(dY**2)"
   ]
  },
  {
   "cell_type": "markdown",
   "metadata": {
    "ExecuteTime": {
     "end_time": "2018-01-17T12:06:05.734201Z",
     "start_time": "2018-01-17T12:06:05.728186Z"
    }
   },
   "source": [
    "<div class=\"alert alert-block alert-success\">Alternative Solution </div>\n",
    "We could solve this is a numerically more naive fashion\n",
    "\n",
    "$$\n",
    "      (H^T H)  \\theta = H^T Y\n",
    "$$\n",
    "\n",
    "so we just need to solve for $H^T Y$ given matrix $N=(H^T H)$"
   ]
  },
  {
   "cell_type": "code",
   "execution_count": 15,
   "metadata": {
    "ExecuteTime": {
     "end_time": "2018-01-26T12:38:38.976482Z",
     "start_time": "2018-01-26T12:38:38.960461Z"
    },
    "collapsed": true
   },
   "outputs": [],
   "source": [
    "theta_exact2=np.linalg.solve(np.dot(H.T,H),np.dot(H.T,Y))\n",
    "Y_sol=np.dot(H,theta_exact2)"
   ]
  },
  {
   "cell_type": "markdown",
   "metadata": {},
   "source": [
    "The MSE is identical"
   ]
  },
  {
   "cell_type": "code",
   "execution_count": 16,
   "metadata": {
    "ExecuteTime": {
     "end_time": "2018-01-26T12:38:39.000513Z",
     "start_time": "2018-01-26T12:38:38.976482Z"
    }
   },
   "outputs": [
    {
     "data": {
      "text/plain": [
       "0.005747690228117751"
      ]
     },
     "execution_count": 16,
     "metadata": {},
     "output_type": "execute_result"
    }
   ],
   "source": [
    "dY=Y-Y_sol\n",
    "np.mean(dY**2)"
   ]
  },
  {
   "cell_type": "markdown",
   "metadata": {},
   "source": [
    "An so are the coefficients $\\theta$"
   ]
  },
  {
   "cell_type": "code",
   "execution_count": 17,
   "metadata": {
    "ExecuteTime": {
     "end_time": "2018-01-26T12:38:39.028551Z",
     "start_time": "2018-01-26T12:38:39.004519Z"
    }
   },
   "outputs": [
    {
     "name": "stdout",
     "output_type": "stream",
     "text": [
      "0 0.126351149585 0.126351149585\n",
      "1 0.241097456202 0.241097456202\n",
      "2 0.202147556241 0.202147556241\n",
      "3 0.153128549243 0.153128549243\n",
      "4 0.103756244149 0.103756244149\n",
      "5 0.0569115627751 0.0569115627751\n",
      "6 0.0223871427573 0.0223871427573\n",
      "7 0.00156387986601 0.00156387986601\n",
      "8 -0.00165543512245 -0.00165543512245\n",
      "9 0.00233475555149 0.00233475555149\n",
      "10 0.0107134561715 0.0107134561715\n"
     ]
    }
   ],
   "source": [
    "for idx in range(len(theta_exact)):\n",
    "    print(idx,theta_exact[idx],theta_exact2[idx])"
   ]
  },
  {
   "cell_type": "markdown",
   "metadata": {
    "ExecuteTime": {
     "end_time": "2018-01-16T18:35:58.559180Z",
     "start_time": "2018-01-16T18:35:58.549180Z"
    }
   },
   "source": [
    "## Gradient Descent Optimization"
   ]
  },
  {
   "cell_type": "markdown",
   "metadata": {
    "ExecuteTime": {
     "end_time": "2018-01-16T18:37:54.949180Z",
     "start_time": "2018-01-16T18:37:54.944180Z"
    }
   },
   "source": [
    "We will now solve the same problem using Gradient Descent, instead of the analytic solution."
   ]
  },
  {
   "cell_type": "markdown",
   "metadata": {},
   "source": [
    "\n",
    "We define a python function `mse(theta,H,Y)` that computes the mean square error function given $\\theta$, $H$ and $Y$\n",
    "\n",
    "$$ \n",
    "    E = \\frac{1}{2}\\sum_i \\left (\\sum_d H_{i,d}\\theta_d - Y_i\\right)^2\n",
    "$$"
   ]
  },
  {
   "cell_type": "code",
   "execution_count": 18,
   "metadata": {
    "ExecuteTime": {
     "end_time": "2018-01-26T12:38:39.044573Z",
     "start_time": "2018-01-26T12:38:39.028551Z"
    },
    "collapsed": true
   },
   "outputs": [],
   "source": [
    "def mse(theta,H,Y):\n",
    "    Y_pred=np.dot(H,theta)\n",
    "    dY=Y_pred-Y\n",
    "    return 0.5*np.mean(dY**2)"
   ]
  },
  {
   "cell_type": "markdown",
   "metadata": {},
   "source": [
    "\n",
    "We define a python function `grad(theta,H,Y)` that computes the gradient of the error function given $\\theta$, $H$ and $Y$\n",
    "\n",
    "$$\n",
    "    \\frac{\\partial E}{\\partial \\theta_d} = \n",
    "             \\frac{1}{N}\\sum_i H_{i,d} \\left(\\sum_{d'} H_{i,d'}\\theta_{d'} - Y_i\\right) \n",
    "$$"
   ]
  },
  {
   "cell_type": "code",
   "execution_count": 19,
   "metadata": {
    "ExecuteTime": {
     "end_time": "2018-01-26T12:38:39.056588Z",
     "start_time": "2018-01-26T12:38:39.044573Z"
    },
    "collapsed": true
   },
   "outputs": [],
   "source": [
    "def grad(theta,H,Y):\n",
    "    Y_pred=np.dot(H,theta)\n",
    "    dY=(Y_pred-Y)\n",
    "    return np.dot(H.T,dY)/len(H)"
   ]
  },
  {
   "cell_type": "markdown",
   "metadata": {
    "ExecuteTime": {
     "end_time": "2018-01-16T19:07:01.390180Z",
     "start_time": "2018-01-16T19:07:01.380180Z"
    }
   },
   "source": [
    "\n",
    "We use [`numpy.random.normal`](https://docs.scipy.org/doc/numpy-1.13.0/reference/generated/numpy.random.normal.html) \n",
    "generate a random guess of the vector $\\theta_0$.\n"
   ]
  },
  {
   "cell_type": "code",
   "execution_count": 20,
   "metadata": {
    "ExecuteTime": {
     "end_time": "2018-01-26T12:38:39.076624Z",
     "start_time": "2018-01-26T12:38:39.056588Z"
    }
   },
   "outputs": [
    {
     "data": {
      "text/plain": [
       "array([ 1.18332114,  1.3144417 , -1.43101293, -0.90304957,  1.47576176,\n",
       "       -1.11638228,  1.71375566, -0.16266391, -0.7237708 ,  0.07999463,\n",
       "        0.29075605])"
      ]
     },
     "execution_count": 20,
     "metadata": {},
     "output_type": "execute_result"
    }
   ],
   "source": [
    "theta0=np.random.normal(size=D+1)\n",
    "theta0"
   ]
  },
  {
   "cell_type": "markdown",
   "metadata": {
    "ExecuteTime": {
     "end_time": "2018-01-16T19:02:22.042680Z",
     "start_time": "2018-01-16T19:02:22.032680Z"
    },
    "collapsed": true
   },
   "source": [
    "Before optimize we must **always** \n",
    "use the function [`scipy.optimze.check_grad`](https://docs.scipy.org/doc/scipy/reference/generated/scipy.optimize.check_grad.html)\n",
    "to verify numerically that `grad` is implemented correctly and it  really is the gradient of `mse` for the  $\\theta_0$ guess.\n",
    "\n"
   ]
  },
  {
   "cell_type": "code",
   "execution_count": 21,
   "metadata": {
    "ExecuteTime": {
     "end_time": "2018-01-26T12:38:39.092636Z",
     "start_time": "2018-01-26T12:38:39.076624Z"
    }
   },
   "outputs": [
    {
     "data": {
      "text/plain": [
       "7.6894344883646374e-08"
      ]
     },
     "execution_count": 21,
     "metadata": {},
     "output_type": "execute_result"
    }
   ],
   "source": [
    "scipy.optimize.check_grad(mse,grad,theta0,H,Y)"
   ]
  },
  {
   "cell_type": "markdown",
   "metadata": {},
   "source": [
    "No we implement the \n",
    "** Steepest Descent Algorithm**\n",
    "\n",
    "1. Set  $\\eta=0.1$\n",
    "1. Implement the steepest descent update rule\n",
    "    $$\n",
    "        \\theta \\leftarrow \\theta - \\eta \\frac{\\partial E}{\\partial \\theta}\n",
    "    $$\n",
    "1. Run the update rule on a loop, starting from your random guess for $\\theta$. Repeat  $T=1,000$ times\n",
    "1. Every 100 steps, print the step number and the current error\n",
    "1. After 1,000 steps, print the final error, and the final $\\theta$ parameters."
   ]
  },
  {
   "cell_type": "code",
   "execution_count": 22,
   "metadata": {
    "ExecuteTime": {
     "end_time": "2018-01-26T12:38:39.136695Z",
     "start_time": "2018-01-26T12:38:39.092636Z"
    }
   },
   "outputs": [
    {
     "name": "stdout",
     "output_type": "stream",
     "text": [
      "0 3.53194152833\n",
      "100 0.00299394551826\n",
      "200 0.00287385078201\n",
      "300 0.00287384511435\n",
      "400 0.00287384511406\n",
      "500 0.00287384511406\n",
      "600 0.00287384511406\n",
      "700 0.00287384511406\n",
      "800 0.00287384511406\n",
      "900 0.00287384511406\n",
      "1000 0.00287384511406\n",
      "theta [ 0.12635115  0.24109746  0.20214756  0.15312855  0.10375624  0.05691156\n",
      "  0.02238714  0.00156388 -0.00165544  0.00233476  0.01071346]\n"
     ]
    }
   ],
   "source": [
    "eta=0.1\n",
    "T=1000\n",
    "theta=theta0\n",
    "for t in range(T):\n",
    "    if (t % 100 ==0):\n",
    "        print(t,mse(theta,H,Y))\n",
    "    theta = theta - eta * grad(theta,H,Y)\n",
    "print(T,mse(theta,H,Y))\n",
    "print(\"theta\",theta)"
   ]
  },
  {
   "cell_type": "markdown",
   "metadata": {
    "ExecuteTime": {
     "end_time": "2018-01-16T19:38:08.793680Z",
     "start_time": "2018-01-16T19:38:08.783680Z"
    }
   },
   "source": [
    "We compare the MSE of the steepest descent solution to the exact solution."
   ]
  },
  {
   "cell_type": "code",
   "execution_count": 23,
   "metadata": {
    "ExecuteTime": {
     "end_time": "2018-01-26T12:38:39.148711Z",
     "start_time": "2018-01-26T12:38:39.136695Z"
    }
   },
   "outputs": [
    {
     "name": "stdout",
     "output_type": "stream",
     "text": [
      "approx 0.00287384511406\n",
      "exact 0.00287384511406\n",
      "diff 0.0\n"
     ]
    }
   ],
   "source": [
    "E=mse(theta,H,Y)\n",
    "E_exact=mse(theta_exact,H,Y)\n",
    "print(\"approx\",E)\n",
    "print(\"exact\",E_exact)\n",
    "print(\"diff\",E-E_exact)"
   ]
  },
  {
   "cell_type": "markdown",
   "metadata": {
    "ExecuteTime": {
     "end_time": "2018-01-17T11:26:05.675966Z",
     "start_time": "2018-01-17T11:26:05.670951Z"
    }
   },
   "source": [
    "We have found the same solution\n"
   ]
  },
  {
   "cell_type": "code",
   "execution_count": 24,
   "metadata": {
    "ExecuteTime": {
     "end_time": "2018-01-26T12:38:39.160728Z",
     "start_time": "2018-01-26T12:38:39.148711Z"
    },
    "collapsed": true
   },
   "outputs": [],
   "source": [
    "Y_sd=np.dot(H,theta)"
   ]
  },
  {
   "cell_type": "code",
   "execution_count": 25,
   "metadata": {
    "ExecuteTime": {
     "end_time": "2018-01-26T12:38:39.455636Z",
     "start_time": "2018-01-26T12:38:39.160728Z"
    }
   },
   "outputs": [
    {
     "data": {
      "text/plain": [
       "<matplotlib.legend.Legend at 0x26f37e2af28>"
      ]
     },
     "execution_count": 25,
     "metadata": {},
     "output_type": "execute_result"
    },
    {
     "data": {
      "image/png": "[encoded data removed]",
      "text/plain": [
       "<matplotlib.figure.Figure at 0x26f374d8438>"
      ]
     },
     "metadata": {},
     "output_type": "display_data"
    }
   ],
   "source": [
    "plt.scatter(X,Y,label=\"Y\")\n",
    "plt.scatter(X,Y_sd,label=\"Y_sd\")\n",
    "plt.legend()"
   ]
  },
  {
   "cell_type": "markdown",
   "metadata": {},
   "source": [
    "## Sklearn Comparison"
   ]
  },
  {
   "cell_type": "markdown",
   "metadata": {
    "ExecuteTime": {
     "end_time": "2018-01-16T19:50:26.024680Z",
     "start_time": "2018-01-16T19:50:26.014680Z"
    }
   },
   "source": [
    "\n",
    "We can use [`sklearn.linear_model.LinearRegression`](http://scikit-learn.org/stable/modules/generated/sklearn.linear_model.LinearRegression.html)\n",
    "to fit our model.\n"
   ]
  },
  {
   "cell_type": "code",
   "execution_count": 26,
   "metadata": {
    "ExecuteTime": {
     "end_time": "2018-01-26T12:38:39.467652Z",
     "start_time": "2018-01-26T12:38:39.455636Z"
    }
   },
   "outputs": [
    {
     "data": {
      "text/plain": [
       "LinearRegression(copy_X=True, fit_intercept=False, n_jobs=1, normalize=False)"
      ]
     },
     "execution_count": 26,
     "metadata": {},
     "output_type": "execute_result"
    }
   ],
   "source": [
    "model=sklearn.linear_model.LinearRegression(fit_intercept=False)\n",
    "model.fit(H,Y)"
   ]
  },
  {
   "cell_type": "markdown",
   "metadata": {
    "ExecuteTime": {
     "end_time": "2018-01-16T20:00:11.040180Z",
     "start_time": "2018-01-16T20:00:11.030180Z"
    }
   },
   "source": [
    "Results are identical to the `numpy` solution"
   ]
  },
  {
   "cell_type": "code",
   "execution_count": 27,
   "metadata": {
    "ExecuteTime": {
     "end_time": "2018-01-26T12:38:39.491684Z",
     "start_time": "2018-01-26T12:38:39.471664Z"
    }
   },
   "outputs": [
    {
     "data": {
      "text/plain": [
       "0.0"
      ]
     },
     "execution_count": 27,
     "metadata": {},
     "output_type": "execute_result"
    }
   ],
   "source": [
    "Y_sk = model.predict(H)\n",
    "dY=(Y_sk-Y_pred)\n",
    "np.dot(dY.T,dY)/len(dY)"
   ]
  },
  {
   "cell_type": "markdown",
   "metadata": {},
   "source": [
    "The solution is stored on the model's  `coef_` variable\n",
    "\n",
    "Results are again identical"
   ]
  },
  {
   "cell_type": "code",
   "execution_count": 28,
   "metadata": {
    "ExecuteTime": {
     "end_time": "2018-01-26T12:38:39.511711Z",
     "start_time": "2018-01-26T12:38:39.491684Z"
    }
   },
   "outputs": [
    {
     "name": "stdout",
     "output_type": "stream",
     "text": [
      "feature, theta,theta_exact\n",
      "0 0.126351149585 0.126351149585\n",
      "1 0.241097456202 0.241097456202\n",
      "2 0.202147556241 0.202147556241\n",
      "3 0.153128549243 0.153128549243\n",
      "4 0.103756244149 0.103756244149\n",
      "5 0.0569115627751 0.0569115627751\n",
      "6 0.0223871427573 0.0223871427573\n",
      "7 0.00156387986601 0.00156387986601\n",
      "8 -0.00165543512245 -0.00165543512245\n",
      "9 0.00233475555149 0.00233475555149\n",
      "10 0.0107134561715 0.0107134561715\n"
     ]
    }
   ],
   "source": [
    "print(\"feature, theta,theta_exact\")\n",
    "for idx in range(H.shape[1]):\n",
    "    print(idx,model.coef_[idx],theta_exact[idx])"
   ]
  },
  {
   "cell_type": "markdown",
   "metadata": {
    "ExecuteTime": {
     "end_time": "2018-01-16T20:34:50.406680Z",
     "start_time": "2018-01-16T20:34:50.401680Z"
    }
   },
   "source": [
    "### Statmodels  Comparison"
   ]
  },
  {
   "cell_type": "code",
   "execution_count": 29,
   "metadata": {
    "ExecuteTime": {
     "end_time": "2018-01-26T12:38:42.435081Z",
     "start_time": "2018-01-26T12:38:39.511711Z"
    }
   },
   "outputs": [
    {
     "name": "stderr",
     "output_type": "stream",
     "text": [
      "C:\\ProgramData\\Anaconda3\\lib\\site-packages\\statsmodels\\compat\\pandas.py:56: FutureWarning: The pandas.core.datetools module is deprecated and will be removed in a future version. Please use the pandas.tseries module instead.\n",
      "  from pandas.core import datetools\n"
     ]
    }
   ],
   "source": [
    "import statsmodels.api as sm"
   ]
  },
  {
   "cell_type": "markdown",
   "metadata": {},
   "source": [
    "We can also solve using  `statmodels` so that we appreciate the difference in emphasis between Machine Learning (`sklearn`) and Statistics Modeling `statmodels` "
   ]
  },
  {
   "cell_type": "code",
   "execution_count": 30,
   "metadata": {
    "ExecuteTime": {
     "end_time": "2018-01-26T12:38:42.450705Z",
     "start_time": "2018-01-26T12:38:42.435081Z"
    },
    "collapsed": true
   },
   "outputs": [],
   "source": [
    "model=sm.OLS(Y,H)\n",
    "results=model.fit()"
   ]
  },
  {
   "cell_type": "code",
   "execution_count": 31,
   "metadata": {
    "ExecuteTime": {
     "end_time": "2018-01-26T12:38:42.480492Z",
     "start_time": "2018-01-26T12:38:42.450705Z"
    }
   },
   "outputs": [
    {
     "name": "stdout",
     "output_type": "stream",
     "text": [
      "feature, theta,theta_exact\n",
      "0 0.126351149585 0.126351149585\n",
      "1 0.241097456202 0.241097456202\n",
      "2 0.202147556241 0.202147556241\n",
      "3 0.153128549243 0.153128549243\n",
      "4 0.103756244149 0.103756244149\n",
      "5 0.0569115627751 0.0569115627751\n",
      "6 0.0223871427573 0.0223871427573\n",
      "7 0.00156387986601 0.00156387986601\n",
      "8 -0.00165543512245 -0.00165543512245\n",
      "9 0.00233475555149 0.00233475555149\n",
      "10 0.0107134561715 0.0107134561715\n"
     ]
    }
   ],
   "source": [
    "print(\"feature, theta,theta_exact\")\n",
    "for idx in range(H.shape[1]):\n",
    "    print(idx,results.params[idx],theta_exact[idx])"
   ]
  },
  {
   "cell_type": "markdown",
   "metadata": {},
   "source": [
    "\n",
    " `statmodels` provides a goodness of fit summary (function `summary` of the results object).\n"
   ]
  },
  {
   "cell_type": "code",
   "execution_count": 34,
   "metadata": {
    "ExecuteTime": {
     "end_time": "2018-01-26T12:39:26.244400Z",
     "start_time": "2018-01-26T12:39:26.213147Z"
    }
   },
   "outputs": [
    {
     "name": "stdout",
     "output_type": "stream",
     "text": [
      "                            OLS Regression Results                            \n",
      "==============================================================================\n",
      "Dep. Variable:                      y   R-squared:                       0.927\n",
      "Model:                            OLS   Adj. R-squared:                  0.926\n",
      "Method:                 Least Squares   F-statistic:                     1250.\n",
      "Date:                Fri, 26 Jan 2018   Prob (F-statistic):               0.00\n",
      "Time:                        07:39:26   Log-Likelihood:                 1160.5\n",
      "No. Observations:                1000   AIC:                            -2299.\n",
      "Df Residuals:                     989   BIC:                            -2245.\n",
      "Df Model:                          10                                         \n",
      "Covariance Type:            nonrobust                                         \n",
      "==============================================================================\n",
      "                 coef    std err          t      P>|t|      [0.025      0.975]\n",
      "------------------------------------------------------------------------------\n",
      "const          0.1264      0.002     52.117      0.000       0.122       0.131\n",
      "x1             0.2411      0.003     69.781      0.000       0.234       0.248\n",
      "x2             0.2021      0.003     60.198      0.000       0.196       0.209\n",
      "x3             0.1531      0.003     45.264      0.000       0.146       0.160\n",
      "x4             0.1038      0.003     30.969      0.000       0.097       0.110\n",
      "x5             0.0569      0.003     16.770      0.000       0.050       0.064\n",
      "x6             0.0224      0.003      6.552      0.000       0.016       0.029\n",
      "x7             0.0016      0.003      0.458      0.647      -0.005       0.008\n",
      "x8            -0.0017      0.003     -0.481      0.631      -0.008       0.005\n",
      "x9             0.0023      0.003      0.681      0.496      -0.004       0.009\n",
      "x10            0.0107      0.003      3.114      0.002       0.004       0.017\n",
      "==============================================================================\n",
      "Omnibus:                       49.354   Durbin-Watson:                   1.938\n",
      "Prob(Omnibus):                  0.000   Jarque-Bera (JB):              154.030\n",
      "Skew:                           0.113   Prob(JB):                     3.57e-34\n",
      "Kurtosis:                       4.909   Cond. No.                         1.54\n",
      "==============================================================================\n",
      "\n",
      "Warnings:\n",
      "[1] Standard Errors assume that the covariance matrix of the errors is correctly specified.\n"
     ]
    }
   ],
   "source": [
    "print(results.summary())"
   ]
  },
  {
   "cell_type": "markdown",
   "metadata": {
    "ExecuteTime": {
     "end_time": "2018-01-26T03:02:04.641945Z",
     "start_time": "2018-01-26T03:02:04.636931Z"
    },
    "collapsed": true
   },
   "source": [
    "1. The process we specified  $y = f(x)+\\epsilon$ is not exactly correct.\n",
    "1. `statmodels` finds a good fit.\n",
    "2. Our approximation to $f(x)$ seems reasonable, but we may be overfitting a for $d\\le 7$.\n",
    "3. We will analyze the situation in more detail next week."
   ]
  },
  {
   "cell_type": "code",
   "execution_count": null,
   "metadata": {
    "collapsed": true
   },
   "outputs": [],
   "source": []
  }
 ],
 "metadata": {
  "kernelspec": {
   "display_name": "Python 2",
   "language": "python",
   "name": "python2"
  },
  "language_info": {
   "codemirror_mode": {
    "name": "ipython",
    "version": 2
   },
   "file_extension": ".py",
   "mimetype": "text/x-python",
   "name": "python",
   "nbconvert_exporter": "python",
   "pygments_lexer": "ipython2",
   "version": "2.7.13"
  },
  "toc": {
   "nav_menu": {},
   "number_sections": true,
   "sideBar": true,
   "skip_h1_title": false,
   "toc_cell": false,
   "toc_position": {},
   "toc_section_display": "block",
   "toc_window_display": true
  }
 },
 "nbformat": 4,
 "nbformat_minor": 2
}
