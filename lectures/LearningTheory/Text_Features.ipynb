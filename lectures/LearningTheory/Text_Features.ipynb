{
 "cells": [
  {
   "cell_type": "markdown",
   "metadata": {},
   "source": [
    "# Text Feature Extraction"
   ]
  },
  {
   "cell_type": "markdown",
   "metadata": {},
   "source": [
    "This Notebook illustrates the translation of complex objects (plain text documents) into a set of features suitable for training a machine learning algorithm.\n",
    "\n",
    "We will use the simplest of such models the **Bag of Words** on the [Reuters 50](https://archive.ics.uci.edu/ml/datasets/Reuter_50_50) collection of texts."
   ]
  },
  {
   "cell_type": "markdown",
   "metadata": {},
   "source": [
    "## Preliminaries"
   ]
  },
  {
   "cell_type": "markdown",
   "metadata": {},
   "source": [
    "#### Imports"
   ]
  },
  {
   "cell_type": "code",
   "execution_count": 2,
   "metadata": {
    "ExecuteTime": {
     "end_time": "2018-02-01T09:53:26.070873Z",
     "start_time": "2018-02-01T09:53:11.278500Z"
    }
   },
   "outputs": [],
   "source": [
    "import string\n",
    "from collections import Counter\n",
    "import os\n",
    "import pickle\n",
    "\n",
    "import numpy as np\n",
    "import pandas as pd\n",
    "\n",
    "from nltk.tokenize import word_tokenize\n",
    "from nltk.stem.porter import PorterStemmer\n",
    "from nltk.corpus import stopwords\n",
    "\n",
    "from sklearn.feature_extraction.text import CountVectorizer,TfidfVectorizer\n"
   ]
  },
  {
   "cell_type": "markdown",
   "metadata": {},
   "source": [
    "#### Fist time Use"
   ]
  },
  {
   "cell_type": "markdown",
   "metadata": {},
   "source": [
    "This notebook downloads some data, and generates a files that are needed later.\n",
    "\n",
    "Set the `fist_time` flag below to True **once**, after that, it will be faster to run the notebook\n",
    "with the flag set to false."
   ]
  },
  {
   "cell_type": "code",
   "execution_count": 3,
   "metadata": {
    "ExecuteTime": {
     "end_time": "2018-02-01T09:53:26.074884Z",
     "start_time": "2018-02-01T09:53:26.071876Z"
    }
   },
   "outputs": [],
   "source": [
    "first_time=True"
   ]
  },
  {
   "cell_type": "markdown",
   "metadata": {},
   "source": [
    "#### Data Directories"
   ]
  },
  {
   "cell_type": "code",
   "execution_count": 5,
   "metadata": {
    "ExecuteTime": {
     "end_time": "2018-02-01T09:53:26.094938Z",
     "start_time": "2018-02-01T09:53:26.076889Z"
    }
   },
   "outputs": [],
   "source": [
    "raw_data_dir=r\"../../raw/C50/C50train\" # original data set used for training\n",
    "test_dir    =r\"../../raw/C50/C50test\"  # original test data set\n",
    "data_dir    =r\"../../data/C50/\"  # directory to save intermediate results\n",
    "if not os.path.exists(data_dir):\n",
    "    os.mkdir(data_dir)"
   ]
  },
  {
   "cell_type": "markdown",
   "metadata": {},
   "source": [
    "## Data Set"
   ]
  },
  {
   "cell_type": "markdown",
   "metadata": {},
   "source": [
    "Because documents can be large  we will just keep a list of their file names in memory.\n",
    "\n",
    "We will try really hard not read them all into memory at the same time.\n",
    "\n",
    "Each document is labeled by its author.  We will  use that label later on the course, but not today."
   ]
  },
  {
   "cell_type": "code",
   "execution_count": 6,
   "metadata": {
    "ExecuteTime": {
     "end_time": "2018-02-01T09:53:26.110982Z",
     "start_time": "2018-02-01T09:53:26.095940Z"
    }
   },
   "outputs": [],
   "source": [
    "def author_labels(directory):\n",
    "    doc_labels=[]\n",
    "    for author in os.listdir(directory):\n",
    "        for filename in os.listdir(directory+\"/\"+author):\n",
    "            filename=directory+\"/\"+author+\"/\"+filename\n",
    "            doc_labels.append([filename,author])\n",
    "    data=pd.DataFrame(doc_labels,columns=[\"filename\",\"label\"])\n",
    "    return data"
   ]
  },
  {
   "cell_type": "code",
   "execution_count": 7,
   "metadata": {
    "ExecuteTime": {
     "end_time": "2018-02-01T09:53:26.232303Z",
     "start_time": "2018-02-01T09:53:26.111983Z"
    },
    "scrolled": true
   },
   "outputs": [
    {
     "ename": "FileNotFoundError",
     "evalue": "[Errno 2] No such file or directory: '../../raw/C50/C50train'",
     "output_type": "error",
     "traceback": [
      "\u001b[0;31m---------------------------------------------------------------------------\u001b[0m",
      "\u001b[0;31mFileNotFoundError\u001b[0m                         Traceback (most recent call last)",
      "\u001b[0;32m<ipython-input-7-e51f35d138eb>\u001b[0m in \u001b[0;36m<module>\u001b[0;34m()\u001b[0m\n\u001b[1;32m      2\u001b[0m \u001b[0;34m\u001b[0m\u001b[0m\n\u001b[1;32m      3\u001b[0m \u001b[0;32mif\u001b[0m \u001b[0mfirst_time\u001b[0m\u001b[0;34m:\u001b[0m\u001b[0;34m\u001b[0m\u001b[0m\n\u001b[0;32m----> 4\u001b[0;31m     \u001b[0mdocuments\u001b[0m\u001b[0;34m=\u001b[0m\u001b[0mauthor_labels\u001b[0m\u001b[0;34m(\u001b[0m\u001b[0mraw_data_dir\u001b[0m\u001b[0;34m)\u001b[0m\u001b[0;34m\u001b[0m\u001b[0m\n\u001b[0m\u001b[1;32m      5\u001b[0m     \u001b[0mdocuments\u001b[0m\u001b[0;34m.\u001b[0m\u001b[0mto_csv\u001b[0m\u001b[0;34m(\u001b[0m\u001b[0mdocuments_filename\u001b[0m\u001b[0;34m,\u001b[0m\u001b[0mindex_label\u001b[0m\u001b[0;34m=\u001b[0m\u001b[0;34m\"document_id\"\u001b[0m\u001b[0;34m)\u001b[0m\u001b[0;34m\u001b[0m\u001b[0m\n\u001b[1;32m      6\u001b[0m \u001b[0;34m\u001b[0m\u001b[0m\n",
      "\u001b[0;32m<ipython-input-6-fb6a7628b490>\u001b[0m in \u001b[0;36mauthor_labels\u001b[0;34m(directory)\u001b[0m\n\u001b[1;32m      1\u001b[0m \u001b[0;32mdef\u001b[0m \u001b[0mauthor_labels\u001b[0m\u001b[0;34m(\u001b[0m\u001b[0mdirectory\u001b[0m\u001b[0;34m)\u001b[0m\u001b[0;34m:\u001b[0m\u001b[0;34m\u001b[0m\u001b[0m\n\u001b[1;32m      2\u001b[0m     \u001b[0mdoc_labels\u001b[0m\u001b[0;34m=\u001b[0m\u001b[0;34m[\u001b[0m\u001b[0;34m]\u001b[0m\u001b[0;34m\u001b[0m\u001b[0m\n\u001b[0;32m----> 3\u001b[0;31m     \u001b[0;32mfor\u001b[0m \u001b[0mauthor\u001b[0m \u001b[0;32min\u001b[0m \u001b[0mos\u001b[0m\u001b[0;34m.\u001b[0m\u001b[0mlistdir\u001b[0m\u001b[0;34m(\u001b[0m\u001b[0mdirectory\u001b[0m\u001b[0;34m)\u001b[0m\u001b[0;34m:\u001b[0m\u001b[0;34m\u001b[0m\u001b[0m\n\u001b[0m\u001b[1;32m      4\u001b[0m         \u001b[0;32mfor\u001b[0m \u001b[0mfilename\u001b[0m \u001b[0;32min\u001b[0m \u001b[0mos\u001b[0m\u001b[0;34m.\u001b[0m\u001b[0mlistdir\u001b[0m\u001b[0;34m(\u001b[0m\u001b[0mdirectory\u001b[0m\u001b[0;34m+\u001b[0m\u001b[0;34m\"/\"\u001b[0m\u001b[0;34m+\u001b[0m\u001b[0mauthor\u001b[0m\u001b[0;34m)\u001b[0m\u001b[0;34m:\u001b[0m\u001b[0;34m\u001b[0m\u001b[0m\n\u001b[1;32m      5\u001b[0m             \u001b[0mfilename\u001b[0m\u001b[0;34m=\u001b[0m\u001b[0mdirectory\u001b[0m\u001b[0;34m+\u001b[0m\u001b[0;34m\"/\"\u001b[0m\u001b[0;34m+\u001b[0m\u001b[0mauthor\u001b[0m\u001b[0;34m+\u001b[0m\u001b[0;34m\"/\"\u001b[0m\u001b[0;34m+\u001b[0m\u001b[0mfilename\u001b[0m\u001b[0;34m\u001b[0m\u001b[0m\n",
      "\u001b[0;31mFileNotFoundError\u001b[0m: [Errno 2] No such file or directory: '../../raw/C50/C50train'"
     ]
    }
   ],
   "source": [
    "documents_filename=data_dir+\"/C50_documents.csv\"\n",
    "\n",
    "if first_time:\n",
    "    documents=author_labels(raw_data_dir)\n",
    "    documents.to_csv(documents_filename,index_label=\"document_id\")\n",
    "\n",
    "\n",
    "\n",
    "documents=pd.read_csv(documents_filename,index_col=\"document_id\")\n",
    "documents.head()"
   ]
  },
  {
   "cell_type": "markdown",
   "metadata": {},
   "source": [
    "We also generate a seprate list of documents that we will use for testing."
   ]
  },
  {
   "cell_type": "code",
   "execution_count": 6,
   "metadata": {
    "ExecuteTime": {
     "end_time": "2018-02-01T09:53:26.320537Z",
     "start_time": "2018-02-01T09:53:26.234309Z"
    }
   },
   "outputs": [
    {
     "data": {
      "text/html": [
       "<div>\n",
       "<style>\n",
       "    .dataframe thead tr:only-child th {\n",
       "        text-align: right;\n",
       "    }\n",
       "\n",
       "    .dataframe thead th {\n",
       "        text-align: left;\n",
       "    }\n",
       "\n",
       "    .dataframe tbody tr th {\n",
       "        vertical-align: top;\n",
       "    }\n",
       "</style>\n",
       "<table border=\"1\" class=\"dataframe\">\n",
       "  <thead>\n",
       "    <tr style=\"text-align: right;\">\n",
       "      <th></th>\n",
       "      <th>filename</th>\n",
       "      <th>label</th>\n",
       "    </tr>\n",
       "    <tr>\n",
       "      <th>document_id</th>\n",
       "      <th></th>\n",
       "      <th></th>\n",
       "    </tr>\n",
       "  </thead>\n",
       "  <tbody>\n",
       "    <tr>\n",
       "      <th>0</th>\n",
       "      <td>../../raw/C50/C50test/AaronPressman/421829news...</td>\n",
       "      <td>AaronPressman</td>\n",
       "    </tr>\n",
       "    <tr>\n",
       "      <th>1</th>\n",
       "      <td>../../raw/C50/C50test/AaronPressman/424074news...</td>\n",
       "      <td>AaronPressman</td>\n",
       "    </tr>\n",
       "    <tr>\n",
       "      <th>2</th>\n",
       "      <td>../../raw/C50/C50test/AaronPressman/42764newsM...</td>\n",
       "      <td>AaronPressman</td>\n",
       "    </tr>\n",
       "    <tr>\n",
       "      <th>3</th>\n",
       "      <td>../../raw/C50/C50test/AaronPressman/43033newsM...</td>\n",
       "      <td>AaronPressman</td>\n",
       "    </tr>\n",
       "    <tr>\n",
       "      <th>4</th>\n",
       "      <td>../../raw/C50/C50test/AaronPressman/433558news...</td>\n",
       "      <td>AaronPressman</td>\n",
       "    </tr>\n",
       "  </tbody>\n",
       "</table>\n",
       "</div>"
      ],
      "text/plain": [
       "                                                      filename          label\n",
       "document_id                                                                  \n",
       "0            ../../raw/C50/C50test/AaronPressman/421829news...  AaronPressman\n",
       "1            ../../raw/C50/C50test/AaronPressman/424074news...  AaronPressman\n",
       "2            ../../raw/C50/C50test/AaronPressman/42764newsM...  AaronPressman\n",
       "3            ../../raw/C50/C50test/AaronPressman/43033newsM...  AaronPressman\n",
       "4            ../../raw/C50/C50test/AaronPressman/433558news...  AaronPressman"
      ]
     },
     "execution_count": 6,
     "metadata": {},
     "output_type": "execute_result"
    }
   ],
   "source": [
    "test_documents_filename=data_dir+\"/C50_test_documents.csv\"\n",
    "if first_time:\n",
    "    test_documents=author_labels(test_dir)\n",
    "    test_documents.to_csv(test_documents_filename,index_label=\"document_id\")\n",
    "test_documents=pd.read_csv(test_documents_filename,index_col=\"document_id\")\n",
    "test_documents.head()"
   ]
  },
  {
   "cell_type": "markdown",
   "metadata": {},
   "source": [
    "## The Bag Of Words Document Model"
   ]
  },
  {
   "cell_type": "markdown",
   "metadata": {},
   "source": [
    "One of the simplest models of a document is the **Bag of Words** model:\n",
    "\n",
    "we **ignore word ordering** and represent a\n",
    "document by the list of words that it containts.\n",
    "\n",
    "We still have a lot of choices we could make:\n",
    "\n",
    "* Does punctuation \"*.*\", \"*?*\" count as a word?\n",
    "* is \"*New York*\" one word or two, what about \"*U.S.*\"?\n",
    "* Do \"*car*\" and \"*cars*\" count as different words?\n",
    "* What about \"*safe*\" and \"*safely*\"\n",
    "* What do we do about miss-spelled words, do we try to fix them?\n",
    "* Do we consider different capitalizations of the same word:  \"*Car*\" versus \"*car*\"?\n",
    "* Do we include high frequency, low information content words such as \"*a*\" and \"*the*\" in our bag of words?\n",
    "\n",
    "All this choices are **problem dependent**. If we have a particular ML problem to solve we will use our **domain** knowledge to make a decision in the context of that specific task.\n",
    "\n",
    "Today we just illustrate how to put together a **data pre-processing** pipeline. \n",
    "\n",
    "The pipeline is designed in such a way that it will be easier later to change our answer to any of those questions.\n",
    "\n"
   ]
  },
  {
   "cell_type": "markdown",
   "metadata": {},
   "source": [
    "## Document Preprocessing"
   ]
  },
  {
   "cell_type": "markdown",
   "metadata": {},
   "source": [
    "For this exercise we will use a default that is sensible and simple to implement:\n",
    "* We remove punctuation\n",
    "* \"*New York*\" counts as two words but  \"*U.S*\" counts as one.\n",
    "* \"*car*\" and \"\"*cars*\" are the same word, same for \"*safe*\", and \"*safely*\".\n",
    "* miss-spelled words count as different words.\n",
    "* We remove capitalization so \"*Car*\" and \"*car*\" count as the same word.\n",
    "* We remove high frequency such as \"*a*\" and \"*the*\".\n",
    "\n",
    "We will rely on python's **NLTK** (Natural Language Toolkit) to perform tasks that require **domain** knowledge about\n",
    "text processing:\n",
    "* **tokenization**: breaking character streams into words\n",
    "* **stemming**: normalizing words into their roots: \"*cars*\" -> \"*car*\", \"*safely*\" -> \"*safe*\"\n",
    "* **stop word removal**: high frequency, low information words that we will consider just *noise* and ignore."
   ]
  },
  {
   "cell_type": "markdown",
   "metadata": {},
   "source": [
    "### Linguistic Data required for Preprocessing"
   ]
  },
  {
   "cell_type": "code",
   "execution_count": 7,
   "metadata": {
    "ExecuteTime": {
     "end_time": "2018-02-01T09:53:27.676733Z",
     "start_time": "2018-02-01T09:53:26.322543Z"
    }
   },
   "outputs": [
    {
     "name": "stdout",
     "output_type": "stream",
     "text": [
      "[nltk_data] Downloading package punkt to\n",
      "[nltk_data]     C:\\Users\\manel\\AppData\\Roaming\\nltk_data...\n",
      "[nltk_data]   Package punkt is already up-to-date!\n",
      "[nltk_data] Downloading package stopwords to\n",
      "[nltk_data]     C:\\Users\\manel\\AppData\\Roaming\\nltk_data...\n",
      "[nltk_data]   Package stopwords is already up-to-date!\n"
     ]
    }
   ],
   "source": [
    "# This only needs to be run once, to get access to data used by nltk\n",
    "if first_time:\n",
    "    import nltk\n",
    "    nltk.download('punkt') # for tokenizer\n",
    "    nltk.download('stopwords') # for stop words"
   ]
  },
  {
   "cell_type": "markdown",
   "metadata": {},
   "source": [
    "#### Punctuation"
   ]
  },
  {
   "cell_type": "code",
   "execution_count": 8,
   "metadata": {
    "ExecuteTime": {
     "end_time": "2018-02-01T09:53:27.683751Z",
     "start_time": "2018-02-01T09:53:27.678737Z"
    }
   },
   "outputs": [
    {
     "data": {
      "text/plain": [
       "['!', '\"', '#', '$', '%', '&', \"'\", '(', ')', '*']"
      ]
     },
     "execution_count": 8,
     "metadata": {},
     "output_type": "execute_result"
    }
   ],
   "source": [
    "punctuation=list(string.punctuation)\n",
    "punctuation[:10]"
   ]
  },
  {
   "cell_type": "markdown",
   "metadata": {},
   "source": [
    "#### Stop Words"
   ]
  },
  {
   "cell_type": "code",
   "execution_count": 9,
   "metadata": {
    "ExecuteTime": {
     "end_time": "2018-02-01T09:53:27.707814Z",
     "start_time": "2018-02-01T09:53:27.685755Z"
    }
   },
   "outputs": [
    {
     "data": {
      "text/plain": [
       "['i', 'me', 'my', 'myself', 'we', 'our', 'ours', 'ourselves', 'you', \"you're\"]"
      ]
     },
     "execution_count": 9,
     "metadata": {},
     "output_type": "execute_result"
    }
   ],
   "source": [
    "stop=stopwords.words(\"english\")+punctuation+['``',\"''\"]\n",
    "stop[:10]"
   ]
  },
  {
   "cell_type": "markdown",
   "metadata": {},
   "source": [
    "#### Stemmer"
   ]
  },
  {
   "cell_type": "markdown",
   "metadata": {},
   "source": [
    "A **Stemmer** normalizes different morphological forms of the same **root word** (stem)\n",
    "\n",
    "We use one provided by NLTK, there are quite a few others."
   ]
  },
  {
   "cell_type": "code",
   "execution_count": 10,
   "metadata": {
    "ExecuteTime": {
     "end_time": "2018-02-01T09:53:27.715835Z",
     "start_time": "2018-02-01T09:53:27.709819Z"
    },
    "collapsed": true
   },
   "outputs": [],
   "source": [
    "porter_stemmer = PorterStemmer()"
   ]
  },
  {
   "cell_type": "code",
   "execution_count": 11,
   "metadata": {
    "ExecuteTime": {
     "end_time": "2018-02-01T09:53:27.742906Z",
     "start_time": "2018-02-01T09:53:27.716838Z"
    }
   },
   "outputs": [
    {
     "name": "stdout",
     "output_type": "stream",
     "text": [
      "car car\n",
      "cars car\n",
      "safe safe\n",
      "safely safe\n",
      "perform perform\n",
      "performed perform\n",
      "study studi\n",
      "studies studi\n"
     ]
    }
   ],
   "source": [
    "words=[\"car\",\"cars\",\"safe\",\"safely\",\"perform\",\"performed\",\"study\",\"studies\"]\n",
    "for word in words:\n",
    "    print(word,porter_stemmer.stem(word))"
   ]
  },
  {
   "cell_type": "markdown",
   "metadata": {},
   "source": [
    "### From character stream to stem stream"
   ]
  },
  {
   "cell_type": "markdown",
   "metadata": {
    "collapsed": true
   },
   "source": [
    "We read a file from disk line by line and:\n",
    "* Concatenate lines together\n",
    "* Remove new lines character from end of lines\n",
    "\n",
    "we end up with a long stream of characters"
   ]
  },
  {
   "cell_type": "code",
   "execution_count": 12,
   "metadata": {
    "ExecuteTime": {
     "end_time": "2018-02-01T09:53:27.766971Z",
     "start_time": "2018-02-01T09:53:27.743909Z"
    },
    "scrolled": false
   },
   "outputs": [
    {
     "name": "stdout",
     "output_type": "stream",
     "text": [
      "reading ../../raw/C50/C50train/AaronPressman/106247newsML.txt ...\n"
     ]
    },
    {
     "data": {
      "text/plain": [
       "'The Internet may be overflowing with new technology but crime in cyberspace is still of the old-fash...'"
      ]
     },
     "execution_count": 12,
     "metadata": {},
     "output_type": "execute_result"
    }
   ],
   "source": [
    "filename=documents[\"filename\"][0]\n",
    "print(\"reading\", filename,\"...\")\n",
    "file=open(filename)\n",
    "lines=file.readlines()\n",
    "char_stream=\" \".join(lines).replace(\"\\n\",\" \").replace(\"'\",\" \")\n",
    "char_stream[:100]+\"...\""
   ]
  },
  {
   "cell_type": "markdown",
   "metadata": {},
   "source": [
    "We **lower case** the text and **tokenize** it (break the stream of characters into words)."
   ]
  },
  {
   "cell_type": "code",
   "execution_count": 13,
   "metadata": {
    "ExecuteTime": {
     "end_time": "2018-02-01T09:53:27.808081Z",
     "start_time": "2018-02-01T09:53:27.768976Z"
    }
   },
   "outputs": [
    {
     "data": {
      "text/plain": [
       "['the',\n",
       " 'internet',\n",
       " 'may',\n",
       " 'be',\n",
       " 'overflowing',\n",
       " 'with',\n",
       " 'new',\n",
       " 'technology',\n",
       " 'but',\n",
       " 'crime']"
      ]
     },
     "execution_count": 13,
     "metadata": {},
     "output_type": "execute_result"
    }
   ],
   "source": [
    "raw_tokens=word_tokenize(char_stream.lower())\n",
    "raw_tokens[:10]"
   ]
  },
  {
   "cell_type": "markdown",
   "metadata": {},
   "source": [
    "We now replace words with their stems to normalize word morphology"
   ]
  },
  {
   "cell_type": "code",
   "execution_count": 14,
   "metadata": {
    "ExecuteTime": {
     "end_time": "2018-02-01T09:53:27.834087Z",
     "start_time": "2018-02-01T09:53:27.810086Z"
    }
   },
   "outputs": [
    {
     "data": {
      "text/plain": [
       "['the',\n",
       " 'internet',\n",
       " 'may',\n",
       " 'be',\n",
       " 'overflow',\n",
       " 'with',\n",
       " 'new',\n",
       " 'technolog',\n",
       " 'but',\n",
       " 'crime']"
      ]
     },
     "execution_count": 14,
     "metadata": {},
     "output_type": "execute_result"
    }
   ],
   "source": [
    "stem_list=[porter_stemmer.stem(token) for token in raw_tokens]\n",
    "stem_list[:10]"
   ]
  },
  {
   "cell_type": "markdown",
   "metadata": {},
   "source": [
    "We can write a function that goes from text to stems for reuse later"
   ]
  },
  {
   "cell_type": "code",
   "execution_count": 15,
   "metadata": {
    "ExecuteTime": {
     "end_time": "2018-02-01T09:53:27.847126Z",
     "start_time": "2018-02-01T09:53:27.838105Z"
    },
    "collapsed": true
   },
   "outputs": [],
   "source": [
    "def stem_tokenizer(text):\n",
    "    return [porter_stemmer.stem(token) for token in word_tokenize(text.lower().replace(\"'\",\" \"))]"
   ]
  },
  {
   "cell_type": "markdown",
   "metadata": {},
   "source": [
    "### Removing Stop Words"
   ]
  },
  {
   "cell_type": "markdown",
   "metadata": {},
   "source": [
    "We  remove non-informative (stop) words.\n",
    "\n",
    "Note that the words <*the*>,<*be*>,<*but*>  have been filtered out of stream."
   ]
  },
  {
   "cell_type": "code",
   "execution_count": 16,
   "metadata": {
    "ExecuteTime": {
     "end_time": "2018-02-01T09:53:27.866177Z",
     "start_time": "2018-02-01T09:53:27.849132Z"
    },
    "scrolled": false
   },
   "outputs": [
    {
     "data": {
      "text/plain": [
       "['internet',\n",
       " 'may',\n",
       " 'overflow',\n",
       " 'new',\n",
       " 'technolog',\n",
       " 'crime',\n",
       " 'cyberspac',\n",
       " 'still',\n",
       " 'old-fashion',\n",
       " 'varieti']"
      ]
     },
     "execution_count": 16,
     "metadata": {},
     "output_type": "execute_result"
    }
   ],
   "source": [
    "used_list=[token for token in stem_list if token not in stop]\n",
    "used_list[:10]"
   ]
  },
  {
   "cell_type": "markdown",
   "metadata": {},
   "source": [
    "Let's collect all the transformations together"
   ]
  },
  {
   "cell_type": "code",
   "execution_count": 17,
   "metadata": {
    "ExecuteTime": {
     "end_time": "2018-02-01T09:53:27.890240Z",
     "start_time": "2018-02-01T09:53:27.870188Z"
    },
    "collapsed": true
   },
   "outputs": [],
   "source": [
    "def process_text(filename,stop): \n",
    "    porter_stemmer = PorterStemmer()\n",
    "    file=open(filename)\n",
    "    lines=file.readlines()\n",
    "    text=\" \".join(lines).replace(\"\\n\",\" \")\n",
    "    stem_list=stem_tokenizer(text)\n",
    "    used_list=[token for token in stem_list if token not in stop]\n",
    "    return used_list"
   ]
  },
  {
   "cell_type": "markdown",
   "metadata": {},
   "source": [
    "Let's check the function does exactly the same we did step by step above"
   ]
  },
  {
   "cell_type": "code",
   "execution_count": 18,
   "metadata": {
    "ExecuteTime": {
     "end_time": "2018-02-01T09:53:27.920320Z",
     "start_time": "2018-02-01T09:53:27.892245Z"
    }
   },
   "outputs": [
    {
     "data": {
      "text/plain": [
       "True"
      ]
     },
     "execution_count": 18,
     "metadata": {},
     "output_type": "execute_result"
    }
   ],
   "source": [
    "stems=process_text(filename,stop)\n",
    "used_list==stems"
   ]
  },
  {
   "cell_type": "markdown",
   "metadata": {},
   "source": [
    "## Document Similarity Definitions"
   ]
  },
  {
   "cell_type": "markdown",
   "metadata": {},
   "source": [
    "Given a representation of a document as a stream of tokes (stems), we need to define the concept of a document distance metric.\n",
    "\n",
    "Usually in text processing the concept described is the normalized similarity $0<s(t_1,t_2)<1$, the translation to distance is simply\n",
    "\n",
    "$$\n",
    "    d(t_1,t_2) = 1-s(t_1,t_2)\n",
    "$$"
   ]
  },
  {
   "cell_type": "markdown",
   "metadata": {},
   "source": [
    "Again, may different definitions of similarity are possible, we will consider three here:\n",
    "* Set intersection similarity.\n",
    "* vector of counts similarity.\n",
    "* TF-IDF (Term Frequency, Inverse Document Frequency) similarity.\n",
    "\n",
    "There are many more choices, and, as usual, which one works best depends on problem at hand."
   ]
  },
  {
   "cell_type": "markdown",
   "metadata": {},
   "source": [
    "### Set Intersection Similarity Measure"
   ]
  },
  {
   "cell_type": "markdown",
   "metadata": {},
   "source": [
    "We can consider our **bag of words** as just the set with the stems contained in document.\n",
    "\n",
    "Then document similarity is just the normalized intersection of this two sets.\n",
    "\n",
    "$$\n",
    "    S_{\\textrm{set}}(S_1,S_2)= \\frac{|S_1 \\cap S_2|}{\\sqrt{|S_1|\\cdot |S_2|}}\n",
    "$$\n",
    "where $|\\cdot|$ is the set cardinality.\n",
    "\n",
    "In words: the ratio of the number of words in common to the geometric mean of the document's vocabularies.\n",
    "\n",
    "This is the same as considering $S_i$ as a **one-hot-encoded** vector of words: each word in the vocabulary is a dimension, and a component of the vector is 1 if that word is present on the document, 0 otherwise.  \n",
    "\n",
    "With that interpretation\n",
    "$$\n",
    "    S_{\\textrm{set}}(S_1,S_2)= \\frac{S_1 \\cdot S_2}{\\sqrt{|S_1|\\cdot |S_2|}}=\\cos(S_1,S_2)\n",
    "$$\n",
    "where $\\cdot$ is the regular scalar product of vectors and $|\\cdot|$ is the vector norm (numerically identical to the set's cardinality)."
   ]
  },
  {
   "cell_type": "markdown",
   "metadata": {},
   "source": [
    "Python has a  `set` class that alows to implement $S_{\\textrm{set}}$ in a efficient way"
   ]
  },
  {
   "cell_type": "code",
   "execution_count": 19,
   "metadata": {
    "ExecuteTime": {
     "end_time": "2018-02-01T09:53:27.952405Z",
     "start_time": "2018-02-01T09:53:27.922325Z"
    }
   },
   "outputs": [
    {
     "name": "stdout",
     "output_type": "stream",
     "text": [
      "week , False\n",
      "internet , True\n",
      "hola , False\n",
      "Aristotle , False\n"
     ]
    }
   ],
   "source": [
    "stems=set(used_list)\n",
    "for word in [\"week\",\"internet\",\"hola\",\"Aristotle\"]:\n",
    "     print(word,\",\",word in stems)\n"
   ]
  },
  {
   "cell_type": "code",
   "execution_count": 20,
   "metadata": {
    "ExecuteTime": {
     "end_time": "2018-02-01T09:53:27.963434Z",
     "start_time": "2018-02-01T09:53:27.954410Z"
    },
    "collapsed": true
   },
   "outputs": [],
   "source": [
    "# convenience function\n",
    "def text_2_set(filename,stop):\n",
    "    stems=process_text(filename,stop)\n",
    "    return set(stems)"
   ]
  },
  {
   "cell_type": "markdown",
   "metadata": {},
   "source": [
    "We create a few document word sets to test the similarity measure"
   ]
  },
  {
   "cell_type": "code",
   "execution_count": 21,
   "metadata": {
    "ExecuteTime": {
     "end_time": "2018-02-01T09:53:27.978474Z",
     "start_time": "2018-02-01T09:53:27.966443Z"
    },
    "collapsed": true
   },
   "outputs": [],
   "source": [
    "# we save the document index for reuse later\n",
    "document1=0 \n",
    "document2=1\n",
    "document3=105\n"
   ]
  },
  {
   "cell_type": "code",
   "execution_count": 22,
   "metadata": {
    "ExecuteTime": {
     "end_time": "2018-02-01T09:53:28.091775Z",
     "start_time": "2018-02-01T09:53:27.981488Z"
    }
   },
   "outputs": [
    {
     "name": "stdout",
     "output_type": "stream",
     "text": [
      "processing documents:\n",
      "\t ../../raw/C50/C50train/AaronPressman/106247newsML.txt\n",
      "\t ../../raw/C50/C50train/AaronPressman/120600newsML.txt\n",
      "\t ../../raw/C50/C50train/AlexanderSmith/134595newsML.txt\n"
     ]
    }
   ],
   "source": [
    "filename1=documents[\"filename\"][document1]\n",
    "filename2=documents[\"filename\"][document2]\n",
    "filename3=documents[\"filename\"][document3] # this will be from a different author\n",
    "print(\"processing documents:\")\n",
    "print(\"\\t\",filename1)\n",
    "print(\"\\t\",filename2)\n",
    "print(\"\\t\",filename3)\n",
    "\n",
    "set1=text_2_set(filename1,stop)\n",
    "set2=text_2_set(filename2,stop)\n",
    "set3=text_2_set(filename3,stop)"
   ]
  },
  {
   "cell_type": "markdown",
   "metadata": {},
   "source": [
    "This is the implementation of set similarity"
   ]
  },
  {
   "cell_type": "code",
   "execution_count": 23,
   "metadata": {
    "ExecuteTime": {
     "end_time": "2018-02-01T09:53:28.100803Z",
     "start_time": "2018-02-01T09:53:28.093781Z"
    },
    "collapsed": true
   },
   "outputs": [],
   "source": [
    "def product_set(set1,set2):\n",
    "   return  len(set1.intersection(set2))/np.sqrt(len(set1)*len(set2))"
   ]
  },
  {
   "cell_type": "markdown",
   "metadata": {},
   "source": [
    "A set has a similarity of 1 to himself"
   ]
  },
  {
   "cell_type": "code",
   "execution_count": 24,
   "metadata": {
    "ExecuteTime": {
     "end_time": "2018-02-01T09:53:28.120853Z",
     "start_time": "2018-02-01T09:53:28.103807Z"
    }
   },
   "outputs": [
    {
     "data": {
      "text/plain": [
       "1.0"
      ]
     },
     "execution_count": 24,
     "metadata": {},
     "output_type": "execute_result"
    }
   ],
   "source": [
    "product_set(set1,set1)"
   ]
  },
  {
   "cell_type": "markdown",
   "metadata": {},
   "source": [
    "Now we can compare how similar different documents are to each other"
   ]
  },
  {
   "cell_type": "code",
   "execution_count": 25,
   "metadata": {
    "ExecuteTime": {
     "end_time": "2018-02-01T09:53:28.140907Z",
     "start_time": "2018-02-01T09:53:28.122858Z"
    }
   },
   "outputs": [
    {
     "data": {
      "text/plain": [
       "(0.19230769230769232, 0.15555760103384325, 0.11045510132580585)"
      ]
     },
     "execution_count": 25,
     "metadata": {},
     "output_type": "execute_result"
    }
   ],
   "source": [
    "product_set(set1,set2),product_set(set1,set3),product_set(set2,set3)"
   ]
  },
  {
   "cell_type": "markdown",
   "metadata": {},
   "source": [
    "Note how documents from the same author are more similar to each other than to documents from a second author"
   ]
  },
  {
   "cell_type": "markdown",
   "metadata": {},
   "source": [
    "### Word Count Similarity Measure"
   ]
  },
  {
   "cell_type": "markdown",
   "metadata": {},
   "source": [
    "We can include a bit more information on the **Bag of Words** model by keep track on how many times each word appear on a document\n",
    "$$\n",
    "    S_{\\textrm{count}} = \\frac{C_1 \\cdot C_2}{\\sqrt{|C_1|\\cdot |C_2|}}=\\cos(C_1,C_2)\n",
    "$$\n",
    "This is the same cosine similarity used on the set case but a  **count's feature vector** rather than been only 0 or 1, each dimention $w$ of $C_i$ contains the number of times count of each word on the vocabulary.\n",
    "\n",
    "`python` collections module has a `Counter` object that computes the counts for us."
   ]
  },
  {
   "cell_type": "code",
   "execution_count": 26,
   "metadata": {
    "ExecuteTime": {
     "end_time": "2018-02-01T09:53:28.159956Z",
     "start_time": "2018-02-01T09:53:28.142913Z"
    }
   },
   "outputs": [
    {
     "data": {
      "text/plain": [
       "[('internet', 9),\n",
       " ('consum', 6),\n",
       " ('leagu', 6),\n",
       " ('scam', 6),\n",
       " ('site', 6),\n",
       " ('said', 4),\n",
       " ('fraud', 4),\n",
       " ('may', 3),\n",
       " ('investor', 3),\n",
       " ('web', 3)]"
      ]
     },
     "execution_count": 26,
     "metadata": {},
     "output_type": "execute_result"
    }
   ],
   "source": [
    "counts=Counter(used_list)\n",
    "counts.most_common(10)"
   ]
  },
  {
   "cell_type": "code",
   "execution_count": 27,
   "metadata": {
    "ExecuteTime": {
     "end_time": "2018-02-01T09:53:28.174996Z",
     "start_time": "2018-02-01T09:53:28.160961Z"
    },
    "collapsed": true
   },
   "outputs": [],
   "source": [
    "# convenience function again\n",
    "def text_2_counts(filename,stop):\n",
    "    stems=process_text(filename,stop)\n",
    "    return Counter(stems)"
   ]
  },
  {
   "cell_type": "markdown",
   "metadata": {},
   "source": [
    "A few  test counts again"
   ]
  },
  {
   "cell_type": "code",
   "execution_count": 28,
   "metadata": {
    "ExecuteTime": {
     "end_time": "2018-02-01T09:53:28.243179Z",
     "start_time": "2018-02-01T09:53:28.176000Z"
    },
    "collapsed": true
   },
   "outputs": [],
   "source": [
    "count1=text_2_counts(filename1,stop)\n",
    "count2=text_2_counts(filename2,stop)\n",
    "count3=text_2_counts(filename3,stop)"
   ]
  },
  {
   "cell_type": "markdown",
   "metadata": {},
   "source": [
    "A simple minded implementation of the count distance"
   ]
  },
  {
   "cell_type": "code",
   "execution_count": 29,
   "metadata": {
    "ExecuteTime": {
     "end_time": "2018-02-01T09:53:28.250197Z",
     "start_time": "2018-02-01T09:53:28.244181Z"
    },
    "collapsed": true
   },
   "outputs": [],
   "source": [
    "def product_count(count1,count2):\n",
    "    sum1=0.0\n",
    "    sum_cross=0.0\n",
    "    for key in count1: # key will be each word on the document represented by count1\n",
    "        sum1+=count1[key]**2\n",
    "        sum_cross+=count1[key]*count2[key]\n",
    "    sum2=0.0\n",
    "    for key in count2:\n",
    "        sum2+=count2[key]**2\n",
    "    return sum_cross/np.sqrt(sum1*sum2)\n"
   ]
  },
  {
   "cell_type": "markdown",
   "metadata": {},
   "source": [
    "Again, a document has similarity of 1 to itself"
   ]
  },
  {
   "cell_type": "code",
   "execution_count": 30,
   "metadata": {
    "ExecuteTime": {
     "end_time": "2018-02-01T09:53:28.267241Z",
     "start_time": "2018-02-01T09:53:28.251200Z"
    }
   },
   "outputs": [
    {
     "data": {
      "text/plain": [
       "1.0"
      ]
     },
     "execution_count": 30,
     "metadata": {},
     "output_type": "execute_result"
    }
   ],
   "source": [
    "product_count(count1,count1)"
   ]
  },
  {
   "cell_type": "code",
   "execution_count": 31,
   "metadata": {
    "ExecuteTime": {
     "end_time": "2018-02-01T09:53:28.284288Z",
     "start_time": "2018-02-01T09:53:28.269247Z"
    }
   },
   "outputs": [
    {
     "name": "stdout",
     "output_type": "stream",
     "text": [
      "0.244075282625 0.0970998008041 0.119030339834\n"
     ]
    }
   ],
   "source": [
    "print(product_count(count1,count2),product_count(count1,count3),product_count(count2,count3))"
   ]
  },
  {
   "cell_type": "markdown",
   "metadata": {},
   "source": [
    "Again, documents from the same author are closer to each other. But now the differences look more pronounced."
   ]
  },
  {
   "cell_type": "markdown",
   "metadata": {},
   "source": [
    "### TF-IDF Document Similarity Measure"
   ]
  },
  {
   "cell_type": "markdown",
   "metadata": {},
   "source": [
    "See the [TF-IDF](https://en.wikipedia.org/wiki/Tf%E2%80%93idf) wikipedia page for definition and a long list of alternatives"
   ]
  },
  {
   "cell_type": "code",
   "execution_count": 32,
   "metadata": {
    "ExecuteTime": {
     "end_time": "2018-02-01T09:53:28.299327Z",
     "start_time": "2018-02-01T09:53:28.286293Z"
    },
    "collapsed": true
   },
   "outputs": [],
   "source": [
    "# This function count\n",
    "def corpus_word_counts(documents,stop):\n",
    "    counts=Counter()\n",
    "    for filename in documents[\"filename\"]:   \n",
    "        print(\"processing...\",filename)\n",
    "        bag=text_2_set(filename,stop)\n",
    "        for word in bag:\n",
    "            counts[word]+=1\n",
    "    return pd.DataFrame.from_dict(counts,orient=\"index\")"
   ]
  },
  {
   "cell_type": "code",
   "execution_count": 33,
   "metadata": {
    "ExecuteTime": {
     "end_time": "2018-02-01T09:54:25.821539Z",
     "start_time": "2018-02-01T09:53:28.300330Z"
    },
    "scrolled": false
   },
   "outputs": [
    {
     "name": "stdout",
     "output_type": "stream",
     "text": [
      "processing... ../../raw/C50/C50train/AaronPressman/106247newsML.txt\n",
      "processing... ../../raw/C50/C50train/AaronPressman/120600newsML.txt\n",
      "processing... ../../raw/C50/C50train/AaronPressman/120683newsML.txt\n",
      "processing... ../../raw/C50/C50train/AaronPressman/136958newsML.txt\n",
      "processing... ../../raw/C50/C50train/AaronPressman/137498newsML.txt\n",
      "processing... ../../raw/C50/C50train/AaronPressman/14014newsML.txt\n",
      "processing... ../../raw/C50/C50train/AaronPressman/156814newsML.txt\n",
      "processing... ../../raw/C50/C50train/AaronPressman/182596newsML.txt\n",
      "processing... ../../raw/C50/C50train/AaronPressman/186392newsML.txt\n",
      "processing... ../../raw/C50/C50train/AaronPressman/193495newsML.txt\n",
      "processing... ../../raw/C50/C50train/AaronPressman/196805newsML.txt\n",
      "processing... ../../raw/C50/C50train/AaronPressman/197734newsML.txt\n",
      "processing... ../../raw/C50/C50train/AaronPressman/206838newsML.txt\n",
      "processing... ../../raw/C50/C50train/AaronPressman/231479newsML.txt\n",
      "processing... ../../raw/C50/C50train/AaronPressman/233150newsML.txt\n",
      "processing... ../../raw/C50/C50train/AaronPressman/237175newsML.txt\n",
      "processing... ../../raw/C50/C50train/AaronPressman/249407newsML.txt\n",
      "processing... ../../raw/C50/C50train/AaronPressman/2537newsML.txt\n",
      "processing... ../../raw/C50/C50train/AaronPressman/266038newsML.txt\n",
      "processing... ../../raw/C50/C50train/AaronPressman/269995newsML.txt\n",
      "processing... ../../raw/C50/C50train/AaronPressman/269999newsML.txt\n",
      "processing... ../../raw/C50/C50train/AaronPressman/270046newsML.txt\n",
      "processing... ../../raw/C50/C50train/AaronPressman/270084newsML.txt\n",
      "processing... ../../raw/C50/C50train/AaronPressman/270134newsML.txt\n",
      "processing... ../../raw/C50/C50train/AaronPressman/270346newsML.txt\n",
      "processing... ../../raw/C50/C50train/AaronPressman/275174newsML.txt\n",
      "processing... ../../raw/C50/C50train/AaronPressman/277117newsML.txt\n",
      "processing... ../../raw/C50/C50train/AaronPressman/277513newsML.txt\n",
      "processing... ../../raw/C50/C50train/AaronPressman/290125newsML.txt\n",
      "processing... ../../raw/C50/C50train/AaronPressman/299375newsML.txt\n",
      "processing... ../../raw/C50/C50train/AaronPressman/312178newsML.txt\n",
      "processing... ../../raw/C50/C50train/AaronPressman/324896newsML.txt\n",
      "processing... ../../raw/C50/C50train/AaronPressman/325347newsML.txt\n",
      "processing... ../../raw/C50/C50train/AaronPressman/330967newsML.txt\n",
      "processing... ../../raw/C50/C50train/AaronPressman/331411newsML.txt\n",
      "processing... ../../raw/C50/C50train/AaronPressman/347226newsML.txt\n",
      "processing... ../../raw/C50/C50train/AaronPressman/354135newsML.txt\n",
      "processing... ../../raw/C50/C50train/AaronPressman/354285newsML.txt\n",
      "processing... ../../raw/C50/C50train/AaronPressman/357147newsML.txt\n",
      "processing... ../../raw/C50/C50train/AaronPressman/366020newsML.txt\n",
      "processing... ../../raw/C50/C50train/AaronPressman/369570newsML.txt\n",
      "processing... ../../raw/C50/C50train/AaronPressman/371380newsML.txt\n",
      "processing... ../../raw/C50/C50train/AaronPressman/372744newsML.txt\n",
      "processing... ../../raw/C50/C50train/AaronPressman/372989newsML.txt\n",
      "processing... ../../raw/C50/C50train/AaronPressman/372995newsML.txt\n",
      "processing... ../../raw/C50/C50train/AaronPressman/378457newsML.txt\n",
      "processing... ../../raw/C50/C50train/AaronPressman/394237newsML.txt\n",
      "processing... ../../raw/C50/C50train/AaronPressman/398094newsML.txt\n",
      "processing... ../../raw/C50/C50train/AaronPressman/401260newsML.txt\n",
      "processing... ../../raw/C50/C50train/AaronPressman/407599newsML.txt\n",
      "processing... ../../raw/C50/C50train/AlanCrosby/101797newsML.txt\n",
      "processing... ../../raw/C50/C50train/AlanCrosby/10306newsML.txt\n",
      "processing... ../../raw/C50/C50train/AlanCrosby/104277newsML.txt\n",
      "processing... ../../raw/C50/C50train/AlanCrosby/104278newsML.txt\n",
      "processing... ../../raw/C50/C50train/AlanCrosby/10650newsML.txt\n",
      "processing... ../../raw/C50/C50train/AlanCrosby/109906newsML.txt\n",
      "processing... ../../raw/C50/C50train/AlanCrosby/110434newsML.txt\n",
      "processing... ../../raw/C50/C50train/AlanCrosby/113639newsML.txt\n",
      "processing... ../../raw/C50/C50train/AlanCrosby/116293newsML.txt\n",
      "processing... ../../raw/C50/C50train/AlanCrosby/119516newsML.txt\n",
      "processing... ../../raw/C50/C50train/AlanCrosby/122806newsML.txt\n",
      "processing... ../../raw/C50/C50train/AlanCrosby/122816newsML.txt\n",
      "processing... ../../raw/C50/C50train/AlanCrosby/123025newsML.txt\n",
      "processing... ../../raw/C50/C50train/AlanCrosby/125627newsML.txt\n",
      "processing... ../../raw/C50/C50train/AlanCrosby/126217newsML.txt\n",
      "processing... ../../raw/C50/C50train/AlanCrosby/128393newsML.txt\n",
      "processing... ../../raw/C50/C50train/AlanCrosby/128405newsML.txt\n",
      "processing... ../../raw/C50/C50train/AlanCrosby/128844newsML.txt\n",
      "processing... ../../raw/C50/C50train/AlanCrosby/133183newsML.txt\n",
      "processing... ../../raw/C50/C50train/AlanCrosby/134960newsML.txt\n",
      "processing... ../../raw/C50/C50train/AlanCrosby/135777newsML.txt\n",
      "processing... ../../raw/C50/C50train/AlanCrosby/136471newsML.txt\n",
      "processing... ../../raw/C50/C50train/AlanCrosby/139110newsML.txt\n",
      "processing... ../../raw/C50/C50train/AlanCrosby/140051newsML.txt\n",
      "processing... ../../raw/C50/C50train/AlanCrosby/142624newsML.txt\n",
      "processing... ../../raw/C50/C50train/AlanCrosby/143222newsML.txt\n",
      "processing... ../../raw/C50/C50train/AlanCrosby/156046newsML.txt\n",
      "processing... ../../raw/C50/C50train/AlanCrosby/156330newsML.txt\n",
      "processing... ../../raw/C50/C50train/AlanCrosby/185955newsML.txt\n",
      "processing... ../../raw/C50/C50train/AlanCrosby/188747newsML.txt\n",
      "processing... ../../raw/C50/C50train/AlanCrosby/194349newsML.txt\n",
      "processing... ../../raw/C50/C50train/AlanCrosby/194437newsML.txt\n",
      "processing... ../../raw/C50/C50train/AlanCrosby/194611newsML.txt\n",
      "processing... ../../raw/C50/C50train/AlanCrosby/194667newsML.txt\n",
      "processing... ../../raw/C50/C50train/AlanCrosby/196144newsML.txt\n",
      "processing... ../../raw/C50/C50train/AlanCrosby/199535newsML.txt\n",
      "processing... ../../raw/C50/C50train/AlanCrosby/205959newsML.txt\n",
      "processing... ../../raw/C50/C50train/AlanCrosby/206307newsML.txt\n",
      "processing... ../../raw/C50/C50train/AlanCrosby/20910newsML.txt\n",
      "processing... ../../raw/C50/C50train/AlanCrosby/212203newsML.txt\n",
      "processing... ../../raw/C50/C50train/AlanCrosby/212274newsML.txt\n",
      "processing... ../../raw/C50/C50train/AlanCrosby/212834newsML.txt\n",
      "processing... ../../raw/C50/C50train/AlanCrosby/21296newsML.txt\n",
      "processing... ../../raw/C50/C50train/AlanCrosby/213609newsML.txt\n",
      "processing... ../../raw/C50/C50train/AlanCrosby/213833newsML.txt\n",
      "processing... ../../raw/C50/C50train/AlanCrosby/213896newsML.txt\n",
      "processing... ../../raw/C50/C50train/AlanCrosby/216602newsML.txt\n",
      "processing... ../../raw/C50/C50train/AlanCrosby/217025newsML.txt\n",
      "processing... ../../raw/C50/C50train/AlanCrosby/224640newsML.txt\n",
      "processing... ../../raw/C50/C50train/AlanCrosby/225900newsML.txt\n",
      "processing... ../../raw/C50/C50train/AlexanderSmith/107525newsML.txt\n",
      "processing... ../../raw/C50/C50train/AlexanderSmith/109096newsML.txt\n",
      "processing... ../../raw/C50/C50train/AlexanderSmith/110282newsML.txt\n",
      "processing... ../../raw/C50/C50train/AlexanderSmith/134290newsML.txt\n",
      "processing... ../../raw/C50/C50train/AlexanderSmith/134584newsML.txt\n",
      "processing... ../../raw/C50/C50train/AlexanderSmith/134595newsML.txt\n",
      "processing... ../../raw/C50/C50train/AlexanderSmith/134983newsML.txt\n",
      "processing... ../../raw/C50/C50train/AlexanderSmith/135627newsML.txt\n",
      "processing... ../../raw/C50/C50train/AlexanderSmith/141391newsML.txt\n",
      "processing... ../../raw/C50/C50train/AlexanderSmith/141943newsML.txt\n",
      "processing... ../../raw/C50/C50train/AlexanderSmith/144367newsML.txt\n",
      "processing... ../../raw/C50/C50train/AlexanderSmith/16167newsML.txt\n",
      "processing... ../../raw/C50/C50train/AlexanderSmith/162656newsML.txt\n",
      "processing... ../../raw/C50/C50train/AlexanderSmith/162657newsML.txt\n",
      "processing... ../../raw/C50/C50train/AlexanderSmith/164269newsML.txt\n",
      "processing... ../../raw/C50/C50train/AlexanderSmith/164287newsML.txt\n",
      "processing... ../../raw/C50/C50train/AlexanderSmith/164558newsML.txt\n",
      "processing... ../../raw/C50/C50train/AlexanderSmith/165875newsML.txt\n",
      "processing... ../../raw/C50/C50train/AlexanderSmith/172146newsML.txt\n",
      "processing... ../../raw/C50/C50train/AlexanderSmith/179671newsML.txt\n",
      "processing... ../../raw/C50/C50train/AlexanderSmith/18111newsML.txt\n",
      "processing... ../../raw/C50/C50train/AlexanderSmith/18227newsML.txt\n",
      "processing... ../../raw/C50/C50train/AlexanderSmith/184789newsML.txt\n",
      "processing... ../../raw/C50/C50train/AlexanderSmith/185613newsML.txt\n",
      "processing... ../../raw/C50/C50train/AlexanderSmith/188417newsML.txt\n"
     ]
    },
    {
     "name": "stdout",
     "output_type": "stream",
     "text": [
      "processing... ../../raw/C50/C50train/AlexanderSmith/21127newsML.txt\n",
      "processing... ../../raw/C50/C50train/AlexanderSmith/219512newsML.txt\n",
      "processing... ../../raw/C50/C50train/AlexanderSmith/219521newsML.txt\n",
      "processing... ../../raw/C50/C50train/AlexanderSmith/220666newsML.txt\n",
      "processing... ../../raw/C50/C50train/AlexanderSmith/223283newsML.txt\n",
      "processing... ../../raw/C50/C50train/AlexanderSmith/223300newsML.txt\n",
      "processing... ../../raw/C50/C50train/AlexanderSmith/223793newsML.txt\n",
      "processing... ../../raw/C50/C50train/AlexanderSmith/224655newsML.txt\n",
      "processing... ../../raw/C50/C50train/AlexanderSmith/225590newsML.txt\n",
      "processing... ../../raw/C50/C50train/AlexanderSmith/236412newsML.txt\n",
      "processing... ../../raw/C50/C50train/AlexanderSmith/237953newsML.txt\n",
      "processing... ../../raw/C50/C50train/AlexanderSmith/238090newsML.txt\n",
      "processing... ../../raw/C50/C50train/AlexanderSmith/23876newsML.txt\n",
      "processing... ../../raw/C50/C50train/AlexanderSmith/239202newsML.txt\n",
      "processing... ../../raw/C50/C50train/AlexanderSmith/240608newsML.txt\n",
      "processing... ../../raw/C50/C50train/AlexanderSmith/251540newsML.txt\n",
      "processing... ../../raw/C50/C50train/AlexanderSmith/268005newsML.txt\n",
      "processing... ../../raw/C50/C50train/AlexanderSmith/272743newsML.txt\n",
      "processing... ../../raw/C50/C50train/AlexanderSmith/274612newsML.txt\n",
      "processing... ../../raw/C50/C50train/AlexanderSmith/289578newsML.txt\n",
      "processing... ../../raw/C50/C50train/AlexanderSmith/29098newsML.txt\n",
      "processing... ../../raw/C50/C50train/AlexanderSmith/300452newsML.txt\n",
      "processing... ../../raw/C50/C50train/AlexanderSmith/302382newsML.txt\n",
      "processing... ../../raw/C50/C50train/AlexanderSmith/304231newsML.txt\n",
      "processing... ../../raw/C50/C50train/AlexanderSmith/307212newsML.txt\n",
      "processing... ../../raw/C50/C50train/BenjaminKangLim/102444newsML.txt\n",
      "processing... ../../raw/C50/C50train/BenjaminKangLim/106762newsML.txt\n",
      "processing... ../../raw/C50/C50train/BenjaminKangLim/110733newsML.txt\n",
      "processing... ../../raw/C50/C50train/BenjaminKangLim/112125newsML.txt\n",
      "processing... ../../raw/C50/C50train/BenjaminKangLim/114204newsML.txt\n",
      "processing... ../../raw/C50/C50train/BenjaminKangLim/115482newsML.txt\n",
      "processing... ../../raw/C50/C50train/BenjaminKangLim/118614newsML.txt\n",
      "processing... ../../raw/C50/C50train/BenjaminKangLim/118687newsML.txt\n",
      "processing... ../../raw/C50/C50train/BenjaminKangLim/12228newsML.txt\n",
      "processing... ../../raw/C50/C50train/BenjaminKangLim/129162newsML.txt\n",
      "processing... ../../raw/C50/C50train/BenjaminKangLim/133520newsML.txt\n",
      "processing... ../../raw/C50/C50train/BenjaminKangLim/135232newsML.txt\n",
      "processing... ../../raw/C50/C50train/BenjaminKangLim/14439newsML.txt\n",
      "processing... ../../raw/C50/C50train/BenjaminKangLim/145148newsML.txt\n",
      "processing... ../../raw/C50/C50train/BenjaminKangLim/145736newsML.txt\n",
      "processing... ../../raw/C50/C50train/BenjaminKangLim/146225newsML.txt\n",
      "processing... ../../raw/C50/C50train/BenjaminKangLim/150365newsML.txt\n",
      "processing... ../../raw/C50/C50train/BenjaminKangLim/151860newsML.txt\n",
      "processing... ../../raw/C50/C50train/BenjaminKangLim/155059newsML.txt\n",
      "processing... ../../raw/C50/C50train/BenjaminKangLim/155439newsML.txt\n",
      "processing... ../../raw/C50/C50train/BenjaminKangLim/15741newsML.txt\n",
      "processing... ../../raw/C50/C50train/BenjaminKangLim/166435newsML.txt\n",
      "processing... ../../raw/C50/C50train/BenjaminKangLim/174581newsML.txt\n",
      "processing... ../../raw/C50/C50train/BenjaminKangLim/177874newsML.txt\n",
      "processing... ../../raw/C50/C50train/BenjaminKangLim/178518newsML.txt\n",
      "processing... ../../raw/C50/C50train/BenjaminKangLim/182490newsML.txt\n",
      "processing... ../../raw/C50/C50train/BenjaminKangLim/18363newsML.txt\n",
      "processing... ../../raw/C50/C50train/BenjaminKangLim/186173newsML.txt\n",
      "processing... ../../raw/C50/C50train/BenjaminKangLim/186199newsML.txt\n",
      "processing... ../../raw/C50/C50train/BenjaminKangLim/187423newsML.txt\n",
      "processing... ../../raw/C50/C50train/BenjaminKangLim/188955newsML.txt\n",
      "processing... ../../raw/C50/C50train/BenjaminKangLim/188988newsML.txt\n",
      "processing... ../../raw/C50/C50train/BenjaminKangLim/189031newsML.txt\n",
      "processing... ../../raw/C50/C50train/BenjaminKangLim/190439newsML.txt\n",
      "processing... ../../raw/C50/C50train/BenjaminKangLim/192394newsML.txt\n",
      "processing... ../../raw/C50/C50train/BenjaminKangLim/195350newsML.txt\n",
      "processing... ../../raw/C50/C50train/BenjaminKangLim/198232newsML.txt\n",
      "processing... ../../raw/C50/C50train/BenjaminKangLim/201374newsML.txt\n",
      "processing... ../../raw/C50/C50train/BenjaminKangLim/204845newsML.txt\n",
      "processing... ../../raw/C50/C50train/BenjaminKangLim/211064newsML.txt\n",
      "processing... ../../raw/C50/C50train/BenjaminKangLim/214183newsML.txt\n",
      "processing... ../../raw/C50/C50train/BenjaminKangLim/21575newsML.txt\n",
      "processing... ../../raw/C50/C50train/BenjaminKangLim/221670newsML.txt\n",
      "processing... ../../raw/C50/C50train/BenjaminKangLim/222816newsML.txt\n",
      "processing... ../../raw/C50/C50train/BenjaminKangLim/231106newsML.txt\n",
      "processing... ../../raw/C50/C50train/BenjaminKangLim/232863newsML.txt\n",
      "processing... ../../raw/C50/C50train/BenjaminKangLim/235646newsML.txt\n",
      "processing... ../../raw/C50/C50train/BenjaminKangLim/241295newsML.txt\n",
      "processing... ../../raw/C50/C50train/BenjaminKangLim/241719newsML.txt\n",
      "processing... ../../raw/C50/C50train/BenjaminKangLim/24300newsML.txt\n",
      "processing... ../../raw/C50/C50train/BernardHickey/103816newsML.txt\n",
      "processing... ../../raw/C50/C50train/BernardHickey/110697newsML.txt\n",
      "processing... ../../raw/C50/C50train/BernardHickey/111971newsML.txt\n",
      "processing... ../../raw/C50/C50train/BernardHickey/111981newsML.txt\n",
      "processing... ../../raw/C50/C50train/BernardHickey/117740newsML.txt\n",
      "processing... ../../raw/C50/C50train/BernardHickey/118434newsML.txt\n",
      "processing... ../../raw/C50/C50train/BernardHickey/118448newsML.txt\n",
      "processing... ../../raw/C50/C50train/BernardHickey/118470newsML.txt\n",
      "processing... ../../raw/C50/C50train/BernardHickey/118472newsML.txt\n",
      "processing... ../../raw/C50/C50train/BernardHickey/118901newsML.txt\n",
      "processing... ../../raw/C50/C50train/BernardHickey/148778newsML.txt\n",
      "processing... ../../raw/C50/C50train/BernardHickey/148786newsML.txt\n",
      "processing... ../../raw/C50/C50train/BernardHickey/151764newsML.txt\n",
      "processing... ../../raw/C50/C50train/BernardHickey/154997newsML.txt\n",
      "processing... ../../raw/C50/C50train/BernardHickey/155005newsML.txt\n",
      "processing... ../../raw/C50/C50train/BernardHickey/164986newsML.txt\n",
      "processing... ../../raw/C50/C50train/BernardHickey/165020newsML.txt\n",
      "processing... ../../raw/C50/C50train/BernardHickey/165334newsML.txt\n",
      "processing... ../../raw/C50/C50train/BernardHickey/174426newsML.txt\n",
      "processing... ../../raw/C50/C50train/BernardHickey/176080newsML.txt\n",
      "processing... ../../raw/C50/C50train/BernardHickey/181034newsML.txt\n",
      "processing... ../../raw/C50/C50train/BernardHickey/18328newsML.txt\n",
      "processing... ../../raw/C50/C50train/BernardHickey/184099newsML.txt\n",
      "processing... ../../raw/C50/C50train/BernardHickey/184111newsML.txt\n",
      "processing... ../../raw/C50/C50train/BernardHickey/198061newsML.txt\n",
      "processing... ../../raw/C50/C50train/BernardHickey/201116newsML.txt\n",
      "processing... ../../raw/C50/C50train/BernardHickey/218591newsML.txt\n",
      "processing... ../../raw/C50/C50train/BernardHickey/223842newsML.txt\n",
      "processing... ../../raw/C50/C50train/BernardHickey/223856newsML.txt\n",
      "processing... ../../raw/C50/C50train/BernardHickey/223857newsML.txt\n",
      "processing... ../../raw/C50/C50train/BernardHickey/242252newsML.txt\n",
      "processing... ../../raw/C50/C50train/BernardHickey/250680newsML.txt\n",
      "processing... ../../raw/C50/C50train/BernardHickey/25315newsML.txt\n",
      "processing... ../../raw/C50/C50train/BernardHickey/25320newsML.txt\n",
      "processing... ../../raw/C50/C50train/BernardHickey/25344newsML.txt\n",
      "processing... ../../raw/C50/C50train/BernardHickey/294933newsML.txt\n",
      "processing... ../../raw/C50/C50train/BernardHickey/294952newsML.txt\n",
      "processing... ../../raw/C50/C50train/BernardHickey/30677newsML.txt\n",
      "processing... ../../raw/C50/C50train/BernardHickey/31892newsML.txt\n",
      "processing... ../../raw/C50/C50train/BernardHickey/322990newsML.txt\n",
      "processing... ../../raw/C50/C50train/BernardHickey/322996newsML.txt\n",
      "processing... ../../raw/C50/C50train/BernardHickey/323527newsML.txt\n",
      "processing... ../../raw/C50/C50train/BernardHickey/33299newsML.txt\n",
      "processing... ../../raw/C50/C50train/BernardHickey/33301newsML.txt\n",
      "processing... ../../raw/C50/C50train/BernardHickey/33315newsML.txt\n",
      "processing... ../../raw/C50/C50train/BernardHickey/354020newsML.txt\n",
      "processing... ../../raw/C50/C50train/BernardHickey/355589newsML.txt\n"
     ]
    },
    {
     "name": "stdout",
     "output_type": "stream",
     "text": [
      "processing... ../../raw/C50/C50train/BernardHickey/361792newsML.txt\n",
      "processing... ../../raw/C50/C50train/BernardHickey/361793newsML.txt\n",
      "processing... ../../raw/C50/C50train/BernardHickey/361820newsML.txt\n",
      "processing... ../../raw/C50/C50train/BradDorfman/102760newsML.txt\n",
      "processing... ../../raw/C50/C50train/BradDorfman/117102newsML.txt\n",
      "processing... ../../raw/C50/C50train/BradDorfman/142661newsML.txt\n",
      "processing... ../../raw/C50/C50train/BradDorfman/144035newsML.txt\n",
      "processing... ../../raw/C50/C50train/BradDorfman/146644newsML.txt\n",
      "processing... ../../raw/C50/C50train/BradDorfman/146870newsML.txt\n",
      "processing... ../../raw/C50/C50train/BradDorfman/156808newsML.txt\n",
      "processing... ../../raw/C50/C50train/BradDorfman/15944newsML.txt\n",
      "processing... ../../raw/C50/C50train/BradDorfman/160089newsML.txt\n",
      "processing... ../../raw/C50/C50train/BradDorfman/16033newsML.txt\n",
      "processing... ../../raw/C50/C50train/BradDorfman/179121newsML.txt\n",
      "processing... ../../raw/C50/C50train/BradDorfman/196808newsML.txt\n",
      "processing... ../../raw/C50/C50train/BradDorfman/199931newsML.txt\n",
      "processing... ../../raw/C50/C50train/BradDorfman/200749newsML.txt\n",
      "processing... ../../raw/C50/C50train/BradDorfman/206764newsML.txt\n",
      "processing... ../../raw/C50/C50train/BradDorfman/206841newsML.txt\n",
      "processing... ../../raw/C50/C50train/BradDorfman/209880newsML.txt\n",
      "processing... ../../raw/C50/C50train/BradDorfman/225133newsML.txt\n",
      "processing... ../../raw/C50/C50train/BradDorfman/226801newsML.txt\n",
      "processing... ../../raw/C50/C50train/BradDorfman/231427newsML.txt\n",
      "processing... ../../raw/C50/C50train/BradDorfman/231868newsML.txt\n",
      "processing... ../../raw/C50/C50train/BradDorfman/234712newsML.txt\n",
      "processing... ../../raw/C50/C50train/BradDorfman/240124newsML.txt\n",
      "processing... ../../raw/C50/C50train/BradDorfman/240151newsML.txt\n",
      "processing... ../../raw/C50/C50train/BradDorfman/24388newsML.txt\n",
      "processing... ../../raw/C50/C50train/BradDorfman/255717newsML.txt\n",
      "processing... ../../raw/C50/C50train/BradDorfman/272513newsML.txt\n",
      "processing... ../../raw/C50/C50train/BradDorfman/273212newsML.txt\n",
      "processing... ../../raw/C50/C50train/BradDorfman/274879newsML.txt\n",
      "processing... ../../raw/C50/C50train/BradDorfman/276360newsML.txt\n",
      "processing... ../../raw/C50/C50train/BradDorfman/28462newsML.txt\n",
      "processing... ../../raw/C50/C50train/BradDorfman/285403newsML.txt\n",
      "processing... ../../raw/C50/C50train/BradDorfman/28928newsML.txt\n",
      "processing... ../../raw/C50/C50train/BradDorfman/291066newsML.txt\n",
      "processing... ../../raw/C50/C50train/BradDorfman/291619newsML.txt\n",
      "processing... ../../raw/C50/C50train/BradDorfman/293661newsML.txt\n",
      "processing... ../../raw/C50/C50train/BradDorfman/296368newsML.txt\n",
      "processing... ../../raw/C50/C50train/BradDorfman/309066newsML.txt\n",
      "processing... ../../raw/C50/C50train/BradDorfman/314102newsML.txt\n",
      "processing... ../../raw/C50/C50train/BradDorfman/321585newsML.txt\n",
      "processing... ../../raw/C50/C50train/BradDorfman/321667newsML.txt\n",
      "processing... ../../raw/C50/C50train/BradDorfman/321736newsML.txt\n",
      "processing... ../../raw/C50/C50train/BradDorfman/32215newsML.txt\n",
      "processing... ../../raw/C50/C50train/BradDorfman/331819newsML.txt\n",
      "processing... ../../raw/C50/C50train/BradDorfman/33758newsML.txt\n",
      "processing... ../../raw/C50/C50train/BradDorfman/340946newsML.txt\n",
      "processing... ../../raw/C50/C50train/BradDorfman/343945newsML.txt\n",
      "processing... ../../raw/C50/C50train/BradDorfman/344162newsML.txt\n",
      "processing... ../../raw/C50/C50train/BradDorfman/344834newsML.txt\n",
      "processing... ../../raw/C50/C50train/BradDorfman/346831newsML.txt\n",
      "processing... ../../raw/C50/C50train/DarrenSchuettler/104405newsML.txt\n",
      "processing... ../../raw/C50/C50train/DarrenSchuettler/10663newsML.txt\n",
      "processing... ../../raw/C50/C50train/DarrenSchuettler/111941newsML.txt\n",
      "processing... ../../raw/C50/C50train/DarrenSchuettler/12897newsML.txt\n",
      "processing... ../../raw/C50/C50train/DarrenSchuettler/128985newsML.txt\n",
      "processing... ../../raw/C50/C50train/DarrenSchuettler/129448newsML.txt\n",
      "processing... ../../raw/C50/C50train/DarrenSchuettler/130075newsML.txt\n",
      "processing... ../../raw/C50/C50train/DarrenSchuettler/139755newsML.txt\n",
      "processing... ../../raw/C50/C50train/DarrenSchuettler/143081newsML.txt\n",
      "processing... ../../raw/C50/C50train/DarrenSchuettler/144044newsML.txt\n",
      "processing... ../../raw/C50/C50train/DarrenSchuettler/144056newsML.txt\n",
      "processing... ../../raw/C50/C50train/DarrenSchuettler/144792newsML.txt\n",
      "processing... ../../raw/C50/C50train/DarrenSchuettler/156181newsML.txt\n",
      "processing... ../../raw/C50/C50train/DarrenSchuettler/159399newsML.txt\n",
      "processing... ../../raw/C50/C50train/DarrenSchuettler/159589newsML.txt\n",
      "processing... ../../raw/C50/C50train/DarrenSchuettler/159595newsML.txt\n",
      "processing... ../../raw/C50/C50train/DarrenSchuettler/161718newsML.txt\n",
      "processing... ../../raw/C50/C50train/DarrenSchuettler/162018newsML.txt\n",
      "processing... ../../raw/C50/C50train/DarrenSchuettler/168489newsML.txt\n",
      "processing... ../../raw/C50/C50train/DarrenSchuettler/172235newsML.txt\n",
      "processing... ../../raw/C50/C50train/DarrenSchuettler/174369newsML.txt\n",
      "processing... ../../raw/C50/C50train/DarrenSchuettler/175068newsML.txt\n",
      "processing... ../../raw/C50/C50train/DarrenSchuettler/181864newsML.txt\n",
      "processing... ../../raw/C50/C50train/DarrenSchuettler/202141newsML.txt\n",
      "processing... ../../raw/C50/C50train/DarrenSchuettler/205458newsML.txt\n",
      "processing... ../../raw/C50/C50train/DarrenSchuettler/208913newsML.txt\n",
      "processing... ../../raw/C50/C50train/DarrenSchuettler/213544newsML.txt\n",
      "processing... ../../raw/C50/C50train/DarrenSchuettler/213721newsML.txt\n",
      "processing... ../../raw/C50/C50train/DarrenSchuettler/216814newsML.txt\n",
      "processing... ../../raw/C50/C50train/DarrenSchuettler/219645newsML.txt\n",
      "processing... ../../raw/C50/C50train/DarrenSchuettler/222130newsML.txt\n",
      "processing... ../../raw/C50/C50train/DarrenSchuettler/224985newsML.txt\n",
      "processing... ../../raw/C50/C50train/DarrenSchuettler/233587newsML.txt\n",
      "processing... ../../raw/C50/C50train/DarrenSchuettler/234713newsML.txt\n",
      "processing... ../../raw/C50/C50train/DarrenSchuettler/236266newsML.txt\n",
      "processing... ../../raw/C50/C50train/DarrenSchuettler/236470newsML.txt\n",
      "processing... ../../raw/C50/C50train/DarrenSchuettler/237697newsML.txt\n",
      "processing... ../../raw/C50/C50train/DarrenSchuettler/245782newsML.txt\n",
      "processing... ../../raw/C50/C50train/DarrenSchuettler/245783newsML.txt\n",
      "processing... ../../raw/C50/C50train/DarrenSchuettler/248687newsML.txt\n",
      "processing... ../../raw/C50/C50train/DarrenSchuettler/290521newsML.txt\n",
      "processing... ../../raw/C50/C50train/DarrenSchuettler/294932newsML.txt\n",
      "processing... ../../raw/C50/C50train/DarrenSchuettler/34117newsML.txt\n",
      "processing... ../../raw/C50/C50train/DarrenSchuettler/348501newsML.txt\n",
      "processing... ../../raw/C50/C50train/DarrenSchuettler/358675newsML.txt\n",
      "processing... ../../raw/C50/C50train/DarrenSchuettler/364638newsML.txt\n",
      "processing... ../../raw/C50/C50train/DarrenSchuettler/364643newsML.txt\n",
      "processing... ../../raw/C50/C50train/DarrenSchuettler/377885newsML.txt\n",
      "processing... ../../raw/C50/C50train/DarrenSchuettler/377897newsML.txt\n",
      "processing... ../../raw/C50/C50train/DarrenSchuettler/383585newsML.txt\n",
      "processing... ../../raw/C50/C50train/DavidLawder/102529newsML.txt\n",
      "processing... ../../raw/C50/C50train/DavidLawder/105327newsML.txt\n",
      "processing... ../../raw/C50/C50train/DavidLawder/105756newsML.txt\n",
      "processing... ../../raw/C50/C50train/DavidLawder/105834newsML.txt\n",
      "processing... ../../raw/C50/C50train/DavidLawder/108359newsML.txt\n",
      "processing... ../../raw/C50/C50train/DavidLawder/110108newsML.txt\n",
      "processing... ../../raw/C50/C50train/DavidLawder/110883newsML.txt\n",
      "processing... ../../raw/C50/C50train/DavidLawder/113212newsML.txt\n",
      "processing... ../../raw/C50/C50train/DavidLawder/113338newsML.txt\n",
      "processing... ../../raw/C50/C50train/DavidLawder/114353newsML.txt\n",
      "processing... ../../raw/C50/C50train/DavidLawder/117148newsML.txt\n",
      "processing... ../../raw/C50/C50train/DavidLawder/126028newsML.txt\n",
      "processing... ../../raw/C50/C50train/DavidLawder/126792newsML.txt\n",
      "processing... ../../raw/C50/C50train/DavidLawder/127143newsML.txt\n",
      "processing... ../../raw/C50/C50train/DavidLawder/13547newsML.txt\n",
      "processing... ../../raw/C50/C50train/DavidLawder/136026newsML.txt\n",
      "processing... ../../raw/C50/C50train/DavidLawder/140545newsML.txt\n",
      "processing... ../../raw/C50/C50train/DavidLawder/142715newsML.txt\n",
      "processing... ../../raw/C50/C50train/DavidLawder/144031newsML.txt\n"
     ]
    },
    {
     "name": "stdout",
     "output_type": "stream",
     "text": [
      "processing... ../../raw/C50/C50train/DavidLawder/144314newsML.txt\n",
      "processing... ../../raw/C50/C50train/DavidLawder/145801newsML.txt\n",
      "processing... ../../raw/C50/C50train/DavidLawder/146321newsML.txt\n",
      "processing... ../../raw/C50/C50train/DavidLawder/146470newsML.txt\n",
      "processing... ../../raw/C50/C50train/DavidLawder/148055newsML.txt\n",
      "processing... ../../raw/C50/C50train/DavidLawder/148087newsML.txt\n",
      "processing... ../../raw/C50/C50train/DavidLawder/148215newsML.txt\n",
      "processing... ../../raw/C50/C50train/DavidLawder/148624newsML.txt\n",
      "processing... ../../raw/C50/C50train/DavidLawder/150717newsML.txt\n",
      "processing... ../../raw/C50/C50train/DavidLawder/153794newsML.txt\n",
      "processing... ../../raw/C50/C50train/DavidLawder/154150newsML.txt\n",
      "processing... ../../raw/C50/C50train/DavidLawder/154151newsML.txt\n",
      "processing... ../../raw/C50/C50train/DavidLawder/15588newsML.txt\n",
      "processing... ../../raw/C50/C50train/DavidLawder/156769newsML.txt\n",
      "processing... ../../raw/C50/C50train/DavidLawder/156823newsML.txt\n",
      "processing... ../../raw/C50/C50train/DavidLawder/157447newsML.txt\n",
      "processing... ../../raw/C50/C50train/DavidLawder/157860newsML.txt\n",
      "processing... ../../raw/C50/C50train/DavidLawder/159135newsML.txt\n",
      "processing... ../../raw/C50/C50train/DavidLawder/160026newsML.txt\n",
      "processing... ../../raw/C50/C50train/DavidLawder/160411newsML.txt\n",
      "processing... ../../raw/C50/C50train/DavidLawder/160765newsML.txt\n",
      "processing... ../../raw/C50/C50train/DavidLawder/161720newsML.txt\n",
      "processing... ../../raw/C50/C50train/DavidLawder/161907newsML.txt\n",
      "processing... ../../raw/C50/C50train/DavidLawder/161920newsML.txt\n",
      "processing... ../../raw/C50/C50train/DavidLawder/162027newsML.txt\n",
      "processing... ../../raw/C50/C50train/DavidLawder/162152newsML.txt\n",
      "processing... ../../raw/C50/C50train/DavidLawder/162531newsML.txt\n",
      "processing... ../../raw/C50/C50train/DavidLawder/163873newsML.txt\n",
      "processing... ../../raw/C50/C50train/DavidLawder/164658newsML.txt\n",
      "processing... ../../raw/C50/C50train/DavidLawder/170305newsML.txt\n",
      "processing... ../../raw/C50/C50train/DavidLawder/173935newsML.txt\n",
      "processing... ../../raw/C50/C50train/EdnaFernandes/10193newsML.txt\n",
      "processing... ../../raw/C50/C50train/EdnaFernandes/10264newsML.txt\n",
      "processing... ../../raw/C50/C50train/EdnaFernandes/116448newsML.txt\n",
      "processing... ../../raw/C50/C50train/EdnaFernandes/117960newsML.txt\n",
      "processing... ../../raw/C50/C50train/EdnaFernandes/119734newsML.txt\n",
      "processing... ../../raw/C50/C50train/EdnaFernandes/121318newsML.txt\n",
      "processing... ../../raw/C50/C50train/EdnaFernandes/121324newsML.txt\n",
      "processing... ../../raw/C50/C50train/EdnaFernandes/122988newsML.txt\n",
      "processing... ../../raw/C50/C50train/EdnaFernandes/126166newsML.txt\n",
      "processing... ../../raw/C50/C50train/EdnaFernandes/126175newsML.txt\n",
      "processing... ../../raw/C50/C50train/EdnaFernandes/126181newsML.txt\n",
      "processing... ../../raw/C50/C50train/EdnaFernandes/127410newsML.txt\n",
      "processing... ../../raw/C50/C50train/EdnaFernandes/134642newsML.txt\n",
      "processing... ../../raw/C50/C50train/EdnaFernandes/134683newsML.txt\n",
      "processing... ../../raw/C50/C50train/EdnaFernandes/138342newsML.txt\n",
      "processing... ../../raw/C50/C50train/EdnaFernandes/141414newsML.txt\n",
      "processing... ../../raw/C50/C50train/EdnaFernandes/15633newsML.txt\n",
      "processing... ../../raw/C50/C50train/EdnaFernandes/15644newsML.txt\n",
      "processing... ../../raw/C50/C50train/EdnaFernandes/17343newsML.txt\n",
      "processing... ../../raw/C50/C50train/EdnaFernandes/17663newsML.txt\n",
      "processing... ../../raw/C50/C50train/EdnaFernandes/178869newsML.txt\n",
      "processing... ../../raw/C50/C50train/EdnaFernandes/179688newsML.txt\n",
      "processing... ../../raw/C50/C50train/EdnaFernandes/18224newsML.txt\n",
      "processing... ../../raw/C50/C50train/EdnaFernandes/183674newsML.txt\n",
      "processing... ../../raw/C50/C50train/EdnaFernandes/183684newsML.txt\n",
      "processing... ../../raw/C50/C50train/EdnaFernandes/191766newsML.txt\n",
      "processing... ../../raw/C50/C50train/EdnaFernandes/191925newsML.txt\n",
      "processing... ../../raw/C50/C50train/EdnaFernandes/195876newsML.txt\n",
      "processing... ../../raw/C50/C50train/EdnaFernandes/199220newsML.txt\n",
      "processing... ../../raw/C50/C50train/EdnaFernandes/199226newsML.txt\n",
      "processing... ../../raw/C50/C50train/EdnaFernandes/202011newsML.txt\n",
      "processing... ../../raw/C50/C50train/EdnaFernandes/202020newsML.txt\n",
      "processing... ../../raw/C50/C50train/EdnaFernandes/203933newsML.txt\n",
      "processing... ../../raw/C50/C50train/EdnaFernandes/206049newsML.txt\n",
      "processing... ../../raw/C50/C50train/EdnaFernandes/207536newsML.txt\n",
      "processing... ../../raw/C50/C50train/EdnaFernandes/214915newsML.txt\n",
      "processing... ../../raw/C50/C50train/EdnaFernandes/214995newsML.txt\n",
      "processing... ../../raw/C50/C50train/EdnaFernandes/216658newsML.txt\n",
      "processing... ../../raw/C50/C50train/EdnaFernandes/219541newsML.txt\n",
      "processing... ../../raw/C50/C50train/EdnaFernandes/220686newsML.txt\n",
      "processing... ../../raw/C50/C50train/EdnaFernandes/222272newsML.txt\n",
      "processing... ../../raw/C50/C50train/EdnaFernandes/223143newsML.txt\n",
      "processing... ../../raw/C50/C50train/EdnaFernandes/223214newsML.txt\n",
      "processing... ../../raw/C50/C50train/EdnaFernandes/223786newsML.txt\n",
      "processing... ../../raw/C50/C50train/EdnaFernandes/225499newsML.txt\n",
      "processing... ../../raw/C50/C50train/EdnaFernandes/225507newsML.txt\n",
      "processing... ../../raw/C50/C50train/EdnaFernandes/225609newsML.txt\n",
      "processing... ../../raw/C50/C50train/EdnaFernandes/225917newsML.txt\n",
      "processing... ../../raw/C50/C50train/EdnaFernandes/230515newsML.txt\n",
      "processing... ../../raw/C50/C50train/EdnaFernandes/230517newsML.txt\n",
      "processing... ../../raw/C50/C50train/EricAuchard/100385newsML.txt\n",
      "processing... ../../raw/C50/C50train/EricAuchard/101678newsML.txt\n",
      "processing... ../../raw/C50/C50train/EricAuchard/111437newsML.txt\n",
      "processing... ../../raw/C50/C50train/EricAuchard/115060newsML.txt\n",
      "processing... ../../raw/C50/C50train/EricAuchard/116212newsML.txt\n",
      "processing... ../../raw/C50/C50train/EricAuchard/117213newsML.txt\n",
      "processing... ../../raw/C50/C50train/EricAuchard/119233newsML.txt\n",
      "processing... ../../raw/C50/C50train/EricAuchard/120484newsML.txt\n",
      "processing... ../../raw/C50/C50train/EricAuchard/121521newsML.txt\n",
      "processing... ../../raw/C50/C50train/EricAuchard/12877newsML.txt\n",
      "processing... ../../raw/C50/C50train/EricAuchard/13068newsML.txt\n",
      "processing... ../../raw/C50/C50train/EricAuchard/13069newsML.txt\n",
      "processing... ../../raw/C50/C50train/EricAuchard/133874newsML.txt\n",
      "processing... ../../raw/C50/C50train/EricAuchard/13415newsML.txt\n",
      "processing... ../../raw/C50/C50train/EricAuchard/13583newsML.txt\n",
      "processing... ../../raw/C50/C50train/EricAuchard/139624newsML.txt\n",
      "processing... ../../raw/C50/C50train/EricAuchard/14573newsML.txt\n",
      "processing... ../../raw/C50/C50train/EricAuchard/147596newsML.txt\n",
      "processing... ../../raw/C50/C50train/EricAuchard/149671newsML.txt\n",
      "processing... ../../raw/C50/C50train/EricAuchard/151452newsML.txt\n",
      "processing... ../../raw/C50/C50train/EricAuchard/152722newsML.txt\n",
      "processing... ../../raw/C50/C50train/EricAuchard/157435newsML.txt\n",
      "processing... ../../raw/C50/C50train/EricAuchard/157855newsML.txt\n",
      "processing... ../../raw/C50/C50train/EricAuchard/162159newsML.txt\n",
      "processing... ../../raw/C50/C50train/EricAuchard/172851newsML.txt\n",
      "processing... ../../raw/C50/C50train/EricAuchard/175415newsML.txt\n",
      "processing... ../../raw/C50/C50train/EricAuchard/18223newsML.txt\n",
      "processing... ../../raw/C50/C50train/EricAuchard/183344newsML.txt\n",
      "processing... ../../raw/C50/C50train/EricAuchard/183534newsML.txt\n",
      "processing... ../../raw/C50/C50train/EricAuchard/183828newsML.txt\n",
      "processing... ../../raw/C50/C50train/EricAuchard/186282newsML.txt\n",
      "processing... ../../raw/C50/C50train/EricAuchard/18802newsML.txt\n",
      "processing... ../../raw/C50/C50train/EricAuchard/191274newsML.txt\n",
      "processing... ../../raw/C50/C50train/EricAuchard/203838newsML.txt\n",
      "processing... ../../raw/C50/C50train/EricAuchard/205742newsML.txt\n",
      "processing... ../../raw/C50/C50train/EricAuchard/209979newsML.txt\n",
      "processing... ../../raw/C50/C50train/EricAuchard/210069newsML.txt\n",
      "processing... ../../raw/C50/C50train/EricAuchard/210631newsML.txt\n",
      "processing... ../../raw/C50/C50train/EricAuchard/216338newsML.txt\n",
      "processing... ../../raw/C50/C50train/EricAuchard/217358newsML.txt\n",
      "processing... ../../raw/C50/C50train/EricAuchard/227670newsML.txt\n",
      "processing... ../../raw/C50/C50train/EricAuchard/230274newsML.txt\n"
     ]
    },
    {
     "name": "stdout",
     "output_type": "stream",
     "text": [
      "processing... ../../raw/C50/C50train/EricAuchard/231241newsML.txt\n",
      "processing... ../../raw/C50/C50train/EricAuchard/233319newsML.txt\n",
      "processing... ../../raw/C50/C50train/EricAuchard/260570newsML.txt\n",
      "processing... ../../raw/C50/C50train/EricAuchard/261502newsML.txt\n",
      "processing... ../../raw/C50/C50train/EricAuchard/263257newsML.txt\n",
      "processing... ../../raw/C50/C50train/EricAuchard/264271newsML.txt\n",
      "processing... ../../raw/C50/C50train/EricAuchard/288069newsML.txt\n",
      "processing... ../../raw/C50/C50train/EricAuchard/292697newsML.txt\n",
      "processing... ../../raw/C50/C50train/FumikoFujisaki/10028newsML.txt\n",
      "processing... ../../raw/C50/C50train/FumikoFujisaki/103993newsML.txt\n",
      "processing... ../../raw/C50/C50train/FumikoFujisaki/114292newsML.txt\n",
      "processing... ../../raw/C50/C50train/FumikoFujisaki/123528newsML.txt\n",
      "processing... ../../raw/C50/C50train/FumikoFujisaki/126656newsML.txt\n",
      "processing... ../../raw/C50/C50train/FumikoFujisaki/132085newsML.txt\n",
      "processing... ../../raw/C50/C50train/FumikoFujisaki/133528newsML.txt\n",
      "processing... ../../raw/C50/C50train/FumikoFujisaki/134268newsML.txt\n",
      "processing... ../../raw/C50/C50train/FumikoFujisaki/13494newsML.txt\n",
      "processing... ../../raw/C50/C50train/FumikoFujisaki/140372newsML.txt\n",
      "processing... ../../raw/C50/C50train/FumikoFujisaki/142116newsML.txt\n",
      "processing... ../../raw/C50/C50train/FumikoFujisaki/142460newsML.txt\n",
      "processing... ../../raw/C50/C50train/FumikoFujisaki/155075newsML.txt\n",
      "processing... ../../raw/C50/C50train/FumikoFujisaki/162426newsML.txt\n",
      "processing... ../../raw/C50/C50train/FumikoFujisaki/167727newsML.txt\n",
      "processing... ../../raw/C50/C50train/FumikoFujisaki/167905newsML.txt\n",
      "processing... ../../raw/C50/C50train/FumikoFujisaki/168224newsML.txt\n",
      "processing... ../../raw/C50/C50train/FumikoFujisaki/168234newsML.txt\n",
      "processing... ../../raw/C50/C50train/FumikoFujisaki/178863newsML.txt\n",
      "processing... ../../raw/C50/C50train/FumikoFujisaki/184337newsML.txt\n",
      "processing... ../../raw/C50/C50train/FumikoFujisaki/189025newsML.txt\n",
      "processing... ../../raw/C50/C50train/FumikoFujisaki/192472newsML.txt\n",
      "processing... ../../raw/C50/C50train/FumikoFujisaki/208614newsML.txt\n",
      "processing... ../../raw/C50/C50train/FumikoFujisaki/209817newsML.txt\n",
      "processing... ../../raw/C50/C50train/FumikoFujisaki/214194newsML.txt\n",
      "processing... ../../raw/C50/C50train/FumikoFujisaki/215310newsML.txt\n",
      "processing... ../../raw/C50/C50train/FumikoFujisaki/221583newsML.txt\n",
      "processing... ../../raw/C50/C50train/FumikoFujisaki/232740newsML.txt\n",
      "processing... ../../raw/C50/C50train/FumikoFujisaki/23340newsML.txt\n",
      "processing... ../../raw/C50/C50train/FumikoFujisaki/247828newsML.txt\n",
      "processing... ../../raw/C50/C50train/FumikoFujisaki/25542newsML.txt\n",
      "processing... ../../raw/C50/C50train/FumikoFujisaki/257487newsML.txt\n",
      "processing... ../../raw/C50/C50train/FumikoFujisaki/257754newsML.txt\n",
      "processing... ../../raw/C50/C50train/FumikoFujisaki/257776newsML.txt\n",
      "processing... ../../raw/C50/C50train/FumikoFujisaki/265694newsML.txt\n",
      "processing... ../../raw/C50/C50train/FumikoFujisaki/271169newsML.txt\n",
      "processing... ../../raw/C50/C50train/FumikoFujisaki/28301newsML.txt\n",
      "processing... ../../raw/C50/C50train/FumikoFujisaki/313599newsML.txt\n",
      "processing... ../../raw/C50/C50train/FumikoFujisaki/320052newsML.txt\n",
      "processing... ../../raw/C50/C50train/FumikoFujisaki/326601newsML.txt\n",
      "processing... ../../raw/C50/C50train/FumikoFujisaki/330736newsML.txt\n",
      "processing... ../../raw/C50/C50train/FumikoFujisaki/34837newsML.txt\n",
      "processing... ../../raw/C50/C50train/FumikoFujisaki/348688newsML.txt\n",
      "processing... ../../raw/C50/C50train/FumikoFujisaki/348849newsML.txt\n",
      "processing... ../../raw/C50/C50train/FumikoFujisaki/357074newsML.txt\n",
      "processing... ../../raw/C50/C50train/FumikoFujisaki/358900newsML.txt\n",
      "processing... ../../raw/C50/C50train/FumikoFujisaki/383379newsML.txt\n",
      "processing... ../../raw/C50/C50train/FumikoFujisaki/392201newsML.txt\n",
      "processing... ../../raw/C50/C50train/FumikoFujisaki/395779newsML.txt\n",
      "processing... ../../raw/C50/C50train/FumikoFujisaki/402531newsML.txt\n",
      "processing... ../../raw/C50/C50train/GrahamEarnshaw/103906newsML.txt\n",
      "processing... ../../raw/C50/C50train/GrahamEarnshaw/113070newsML.txt\n",
      "processing... ../../raw/C50/C50train/GrahamEarnshaw/113102newsML.txt\n",
      "processing... ../../raw/C50/C50train/GrahamEarnshaw/114251newsML.txt\n",
      "processing... ../../raw/C50/C50train/GrahamEarnshaw/128171newsML.txt\n",
      "processing... ../../raw/C50/C50train/GrahamEarnshaw/134309newsML.txt\n",
      "processing... ../../raw/C50/C50train/GrahamEarnshaw/13495newsML.txt\n",
      "processing... ../../raw/C50/C50train/GrahamEarnshaw/152163newsML.txt\n",
      "processing... ../../raw/C50/C50train/GrahamEarnshaw/167951newsML.txt\n",
      "processing... ../../raw/C50/C50train/GrahamEarnshaw/169618newsML.txt\n",
      "processing... ../../raw/C50/C50train/GrahamEarnshaw/172788newsML.txt\n",
      "processing... ../../raw/C50/C50train/GrahamEarnshaw/181135newsML.txt\n",
      "processing... ../../raw/C50/C50train/GrahamEarnshaw/187405newsML.txt\n",
      "processing... ../../raw/C50/C50train/GrahamEarnshaw/190410newsML.txt\n",
      "processing... ../../raw/C50/C50train/GrahamEarnshaw/198148newsML.txt\n",
      "processing... ../../raw/C50/C50train/GrahamEarnshaw/201228newsML.txt\n",
      "processing... ../../raw/C50/C50train/GrahamEarnshaw/204791newsML.txt\n",
      "processing... ../../raw/C50/C50train/GrahamEarnshaw/205033newsML.txt\n",
      "processing... ../../raw/C50/C50train/GrahamEarnshaw/217296newsML.txt\n",
      "processing... ../../raw/C50/C50train/GrahamEarnshaw/220126newsML.txt\n",
      "processing... ../../raw/C50/C50train/GrahamEarnshaw/226150newsML.txt\n",
      "processing... ../../raw/C50/C50train/GrahamEarnshaw/229903newsML.txt\n",
      "processing... ../../raw/C50/C50train/GrahamEarnshaw/231076newsML.txt\n",
      "processing... ../../raw/C50/C50train/GrahamEarnshaw/231139newsML.txt\n",
      "processing... ../../raw/C50/C50train/GrahamEarnshaw/232537newsML.txt\n",
      "processing... ../../raw/C50/C50train/GrahamEarnshaw/232804newsML.txt\n",
      "processing... ../../raw/C50/C50train/GrahamEarnshaw/232939newsML.txt\n",
      "processing... ../../raw/C50/C50train/GrahamEarnshaw/238773newsML.txt\n",
      "processing... ../../raw/C50/C50train/GrahamEarnshaw/241254newsML.txt\n",
      "processing... ../../raw/C50/C50train/GrahamEarnshaw/244929newsML.txt\n",
      "processing... ../../raw/C50/C50train/GrahamEarnshaw/247765newsML.txt\n",
      "processing... ../../raw/C50/C50train/GrahamEarnshaw/247793newsML.txt\n",
      "processing... ../../raw/C50/C50train/GrahamEarnshaw/249198newsML.txt\n",
      "processing... ../../raw/C50/C50train/GrahamEarnshaw/250860newsML.txt\n",
      "processing... ../../raw/C50/C50train/GrahamEarnshaw/252118newsML.txt\n",
      "processing... ../../raw/C50/C50train/GrahamEarnshaw/252156newsML.txt\n",
      "processing... ../../raw/C50/C50train/GrahamEarnshaw/254834newsML.txt\n",
      "processing... ../../raw/C50/C50train/GrahamEarnshaw/258604newsML.txt\n",
      "processing... ../../raw/C50/C50train/GrahamEarnshaw/262722newsML.txt\n",
      "processing... ../../raw/C50/C50train/GrahamEarnshaw/262829newsML.txt\n",
      "processing... ../../raw/C50/C50train/GrahamEarnshaw/265664newsML.txt\n",
      "processing... ../../raw/C50/C50train/GrahamEarnshaw/267059newsML.txt\n",
      "processing... ../../raw/C50/C50train/GrahamEarnshaw/270340newsML.txt\n",
      "processing... ../../raw/C50/C50train/GrahamEarnshaw/271134newsML.txt\n",
      "processing... ../../raw/C50/C50train/GrahamEarnshaw/271168newsML.txt\n",
      "processing... ../../raw/C50/C50train/GrahamEarnshaw/273087newsML.txt\n",
      "processing... ../../raw/C50/C50train/GrahamEarnshaw/274219newsML.txt\n",
      "processing... ../../raw/C50/C50train/GrahamEarnshaw/275716newsML.txt\n",
      "processing... ../../raw/C50/C50train/GrahamEarnshaw/277010newsML.txt\n",
      "processing... ../../raw/C50/C50train/GrahamEarnshaw/280504newsML.txt\n",
      "processing... ../../raw/C50/C50train/HeatherScoffield/101997newsML.txt\n",
      "processing... ../../raw/C50/C50train/HeatherScoffield/104778newsML.txt\n",
      "processing... ../../raw/C50/C50train/HeatherScoffield/110341newsML.txt\n",
      "processing... ../../raw/C50/C50train/HeatherScoffield/119818newsML.txt\n",
      "processing... ../../raw/C50/C50train/HeatherScoffield/125085newsML.txt\n",
      "processing... ../../raw/C50/C50train/HeatherScoffield/129447newsML.txt\n",
      "processing... ../../raw/C50/C50train/HeatherScoffield/133016newsML.txt\n",
      "processing... ../../raw/C50/C50train/HeatherScoffield/133017newsML.txt\n",
      "processing... ../../raw/C50/C50train/HeatherScoffield/147086newsML.txt\n",
      "processing... ../../raw/C50/C50train/HeatherScoffield/152972newsML.txt\n",
      "processing... ../../raw/C50/C50train/HeatherScoffield/15895newsML.txt\n"
     ]
    },
    {
     "name": "stdout",
     "output_type": "stream",
     "text": [
      "processing... ../../raw/C50/C50train/HeatherScoffield/163214newsML.txt\n",
      "processing... ../../raw/C50/C50train/HeatherScoffield/165906newsML.txt\n",
      "processing... ../../raw/C50/C50train/HeatherScoffield/168501newsML.txt\n",
      "processing... ../../raw/C50/C50train/HeatherScoffield/175078newsML.txt\n",
      "processing... ../../raw/C50/C50train/HeatherScoffield/175721newsML.txt\n",
      "processing... ../../raw/C50/C50train/HeatherScoffield/184769newsML.txt\n",
      "processing... ../../raw/C50/C50train/HeatherScoffield/187990newsML.txt\n",
      "processing... ../../raw/C50/C50train/HeatherScoffield/191069newsML.txt\n",
      "processing... ../../raw/C50/C50train/HeatherScoffield/195125newsML.txt\n",
      "processing... ../../raw/C50/C50train/HeatherScoffield/204659newsML.txt\n",
      "processing... ../../raw/C50/C50train/HeatherScoffield/21156newsML.txt\n",
      "processing... ../../raw/C50/C50train/HeatherScoffield/216816newsML.txt\n",
      "processing... ../../raw/C50/C50train/HeatherScoffield/217889newsML.txt\n",
      "processing... ../../raw/C50/C50train/HeatherScoffield/219197newsML.txt\n",
      "processing... ../../raw/C50/C50train/HeatherScoffield/219630newsML.txt\n",
      "processing... ../../raw/C50/C50train/HeatherScoffield/222129newsML.txt\n",
      "processing... ../../raw/C50/C50train/HeatherScoffield/224980newsML.txt\n",
      "processing... ../../raw/C50/C50train/HeatherScoffield/227481newsML.txt\n",
      "processing... ../../raw/C50/C50train/HeatherScoffield/230639newsML.txt\n",
      "processing... ../../raw/C50/C50train/HeatherScoffield/231856newsML.txt\n",
      "processing... ../../raw/C50/C50train/HeatherScoffield/233579newsML.txt\n",
      "processing... ../../raw/C50/C50train/HeatherScoffield/233588newsML.txt\n",
      "processing... ../../raw/C50/C50train/HeatherScoffield/238607newsML.txt\n",
      "processing... ../../raw/C50/C50train/HeatherScoffield/243004newsML.txt\n",
      "processing... ../../raw/C50/C50train/HeatherScoffield/248680newsML.txt\n",
      "processing... ../../raw/C50/C50train/HeatherScoffield/248690newsML.txt\n",
      "processing... ../../raw/C50/C50train/HeatherScoffield/250167newsML.txt\n",
      "processing... ../../raw/C50/C50train/HeatherScoffield/251147newsML.txt\n",
      "processing... ../../raw/C50/C50train/HeatherScoffield/251643newsML.txt\n",
      "processing... ../../raw/C50/C50train/HeatherScoffield/252855newsML.txt\n",
      "processing... ../../raw/C50/C50train/HeatherScoffield/258231newsML.txt\n",
      "processing... ../../raw/C50/C50train/HeatherScoffield/260834newsML.txt\n",
      "processing... ../../raw/C50/C50train/HeatherScoffield/263612newsML.txt\n",
      "processing... ../../raw/C50/C50train/HeatherScoffield/266002newsML.txt\n",
      "processing... ../../raw/C50/C50train/HeatherScoffield/266003newsML.txt\n",
      "processing... ../../raw/C50/C50train/HeatherScoffield/2751newsML.txt\n",
      "processing... ../../raw/C50/C50train/HeatherScoffield/295589newsML.txt\n",
      "processing... ../../raw/C50/C50train/HeatherScoffield/298748newsML.txt\n",
      "processing... ../../raw/C50/C50train/HeatherScoffield/301524newsML.txt\n",
      "processing... ../../raw/C50/C50train/JaneMacartney/101337newsML.txt\n",
      "processing... ../../raw/C50/C50train/JaneMacartney/102414newsML.txt\n",
      "processing... ../../raw/C50/C50train/JaneMacartney/104067newsML.txt\n",
      "processing... ../../raw/C50/C50train/JaneMacartney/105207newsML.txt\n",
      "processing... ../../raw/C50/C50train/JaneMacartney/105215newsML.txt\n",
      "processing... ../../raw/C50/C50train/JaneMacartney/106671newsML.txt\n",
      "processing... ../../raw/C50/C50train/JaneMacartney/106841newsML.txt\n",
      "processing... ../../raw/C50/C50train/JaneMacartney/108069newsML.txt\n",
      "processing... ../../raw/C50/C50train/JaneMacartney/108114newsML.txt\n",
      "processing... ../../raw/C50/C50train/JaneMacartney/109736newsML.txt\n",
      "processing... ../../raw/C50/C50train/JaneMacartney/112616newsML.txt\n",
      "processing... ../../raw/C50/C50train/JaneMacartney/112619newsML.txt\n",
      "processing... ../../raw/C50/C50train/JaneMacartney/113072newsML.txt\n",
      "processing... ../../raw/C50/C50train/JaneMacartney/113073newsML.txt\n",
      "processing... ../../raw/C50/C50train/JaneMacartney/115502newsML.txt\n",
      "processing... ../../raw/C50/C50train/JaneMacartney/121957newsML.txt\n",
      "processing... ../../raw/C50/C50train/JaneMacartney/125313newsML.txt\n",
      "processing... ../../raw/C50/C50train/JaneMacartney/127969newsML.txt\n",
      "processing... ../../raw/C50/C50train/JaneMacartney/150364newsML.txt\n",
      "processing... ../../raw/C50/C50train/JaneMacartney/153470newsML.txt\n",
      "processing... ../../raw/C50/C50train/JaneMacartney/156668newsML.txt\n",
      "processing... ../../raw/C50/C50train/JaneMacartney/158581newsML.txt\n",
      "processing... ../../raw/C50/C50train/JaneMacartney/162404newsML.txt\n",
      "processing... ../../raw/C50/C50train/JaneMacartney/165077newsML.txt\n",
      "processing... ../../raw/C50/C50train/JaneMacartney/242319newsML.txt\n",
      "processing... ../../raw/C50/C50train/JaneMacartney/242519newsML.txt\n",
      "processing... ../../raw/C50/C50train/JaneMacartney/244948newsML.txt\n",
      "processing... ../../raw/C50/C50train/JaneMacartney/246277newsML.txt\n",
      "processing... ../../raw/C50/C50train/JaneMacartney/247009newsML.txt\n",
      "processing... ../../raw/C50/C50train/JaneMacartney/249226newsML.txt\n",
      "processing... ../../raw/C50/C50train/JaneMacartney/253835newsML.txt\n",
      "processing... ../../raw/C50/C50train/JaneMacartney/264064newsML.txt\n",
      "processing... ../../raw/C50/C50train/JaneMacartney/269865newsML.txt\n",
      "processing... ../../raw/C50/C50train/JaneMacartney/272173newsML.txt\n",
      "processing... ../../raw/C50/C50train/JaneMacartney/275597newsML.txt\n",
      "processing... ../../raw/C50/C50train/JaneMacartney/276094newsML.txt\n",
      "processing... ../../raw/C50/C50train/JaneMacartney/277885newsML.txt\n",
      "processing... ../../raw/C50/C50train/JaneMacartney/279102newsML.txt\n",
      "processing... ../../raw/C50/C50train/JaneMacartney/279442newsML.txt\n",
      "processing... ../../raw/C50/C50train/JaneMacartney/279474newsML.txt\n",
      "processing... ../../raw/C50/C50train/JaneMacartney/279477newsML.txt\n",
      "processing... ../../raw/C50/C50train/JaneMacartney/280467newsML.txt\n",
      "processing... ../../raw/C50/C50train/JaneMacartney/280485newsML.txt\n",
      "processing... ../../raw/C50/C50train/JaneMacartney/281200newsML.txt\n",
      "processing... ../../raw/C50/C50train/JaneMacartney/281220newsML.txt\n",
      "processing... ../../raw/C50/C50train/JaneMacartney/284741newsML.txt\n",
      "processing... ../../raw/C50/C50train/JaneMacartney/296010newsML.txt\n",
      "processing... ../../raw/C50/C50train/JaneMacartney/297895newsML.txt\n",
      "processing... ../../raw/C50/C50train/JaneMacartney/301144newsML.txt\n",
      "processing... ../../raw/C50/C50train/JaneMacartney/301175newsML.txt\n",
      "processing... ../../raw/C50/C50train/JanLopatka/101886newsML.txt\n",
      "processing... ../../raw/C50/C50train/JanLopatka/102211newsML.txt\n",
      "processing... ../../raw/C50/C50train/JanLopatka/10224newsML.txt\n",
      "processing... ../../raw/C50/C50train/JanLopatka/104879newsML.txt\n",
      "processing... ../../raw/C50/C50train/JanLopatka/10626newsML.txt\n",
      "processing... ../../raw/C50/C50train/JanLopatka/123170newsML.txt\n",
      "processing... ../../raw/C50/C50train/JanLopatka/126345newsML.txt\n",
      "processing... ../../raw/C50/C50train/JanLopatka/156044newsML.txt\n",
      "processing... ../../raw/C50/C50train/JanLopatka/15669newsML.txt\n",
      "processing... ../../raw/C50/C50train/JanLopatka/159487newsML.txt\n",
      "processing... ../../raw/C50/C50train/JanLopatka/159744newsML.txt\n",
      "processing... ../../raw/C50/C50train/JanLopatka/163094newsML.txt\n",
      "processing... ../../raw/C50/C50train/JanLopatka/163409newsML.txt\n",
      "processing... ../../raw/C50/C50train/JanLopatka/169004newsML.txt\n",
      "processing... ../../raw/C50/C50train/JanLopatka/172514newsML.txt\n",
      "processing... ../../raw/C50/C50train/JanLopatka/175835newsML.txt\n",
      "processing... ../../raw/C50/C50train/JanLopatka/175940newsML.txt\n",
      "processing... ../../raw/C50/C50train/JanLopatka/177552newsML.txt\n",
      "processing... ../../raw/C50/C50train/JanLopatka/182102newsML.txt\n",
      "processing... ../../raw/C50/C50train/JanLopatka/182167newsML.txt\n",
      "processing... ../../raw/C50/C50train/JanLopatka/185855newsML.txt\n",
      "processing... ../../raw/C50/C50train/JanLopatka/185875newsML.txt\n",
      "processing... ../../raw/C50/C50train/JanLopatka/192053newsML.txt\n",
      "processing... ../../raw/C50/C50train/JanLopatka/192103newsML.txt\n",
      "processing... ../../raw/C50/C50train/JanLopatka/194352newsML.txt\n",
      "processing... ../../raw/C50/C50train/JanLopatka/194663newsML.txt\n",
      "processing... ../../raw/C50/C50train/JanLopatka/194664newsML.txt\n",
      "processing... ../../raw/C50/C50train/JanLopatka/196127newsML.txt\n",
      "processing... ../../raw/C50/C50train/JanLopatka/202372newsML.txt\n",
      "processing... ../../raw/C50/C50train/JanLopatka/220837newsML.txt\n",
      "processing... ../../raw/C50/C50train/JanLopatka/222246newsML.txt\n",
      "processing... ../../raw/C50/C50train/JanLopatka/222478newsML.txt\n",
      "processing... ../../raw/C50/C50train/JanLopatka/224921newsML.txt\n",
      "processing... ../../raw/C50/C50train/JanLopatka/226489newsML.txt\n",
      "processing... ../../raw/C50/C50train/JanLopatka/228103newsML.txt\n",
      "processing... ../../raw/C50/C50train/JanLopatka/228154newsML.txt\n"
     ]
    },
    {
     "name": "stdout",
     "output_type": "stream",
     "text": [
      "processing... ../../raw/C50/C50train/JanLopatka/230755newsML.txt\n",
      "processing... ../../raw/C50/C50train/JanLopatka/254538newsML.txt\n",
      "processing... ../../raw/C50/C50train/JanLopatka/260914newsML.txt\n",
      "processing... ../../raw/C50/C50train/JanLopatka/260918newsML.txt\n",
      "processing... ../../raw/C50/C50train/JanLopatka/263451newsML.txt\n",
      "processing... ../../raw/C50/C50train/JanLopatka/263741newsML.txt\n",
      "processing... ../../raw/C50/C50train/JanLopatka/26976newsML.txt\n",
      "processing... ../../raw/C50/C50train/JanLopatka/27569newsML.txt\n",
      "processing... ../../raw/C50/C50train/JanLopatka/288397newsML.txt\n",
      "processing... ../../raw/C50/C50train/JanLopatka/290685newsML.txt\n",
      "processing... ../../raw/C50/C50train/JanLopatka/293006newsML.txt\n",
      "processing... ../../raw/C50/C50train/JanLopatka/293018newsML.txt\n",
      "processing... ../../raw/C50/C50train/JanLopatka/293216newsML.txt\n",
      "processing... ../../raw/C50/C50train/JanLopatka/295717newsML.txt\n",
      "processing... ../../raw/C50/C50train/JimGilchrist/103904newsML.txt\n",
      "processing... ../../raw/C50/C50train/JimGilchrist/105222newsML.txt\n",
      "processing... ../../raw/C50/C50train/JimGilchrist/108091newsML.txt\n",
      "processing... ../../raw/C50/C50train/JimGilchrist/110715newsML.txt\n",
      "processing... ../../raw/C50/C50train/JimGilchrist/110767newsML.txt\n",
      "processing... ../../raw/C50/C50train/JimGilchrist/11269newsML.txt\n",
      "processing... ../../raw/C50/C50train/JimGilchrist/11270newsML.txt\n",
      "processing... ../../raw/C50/C50train/JimGilchrist/114262newsML.txt\n",
      "processing... ../../raw/C50/C50train/JimGilchrist/117000newsML.txt\n",
      "processing... ../../raw/C50/C50train/JimGilchrist/120242newsML.txt\n",
      "processing... ../../raw/C50/C50train/JimGilchrist/120244newsML.txt\n",
      "processing... ../../raw/C50/C50train/JimGilchrist/121948newsML.txt\n",
      "processing... ../../raw/C50/C50train/JimGilchrist/123461newsML.txt\n",
      "processing... ../../raw/C50/C50train/JimGilchrist/123517newsML.txt\n",
      "processing... ../../raw/C50/C50train/JimGilchrist/123524newsML.txt\n",
      "processing... ../../raw/C50/C50train/JimGilchrist/126597newsML.txt\n",
      "processing... ../../raw/C50/C50train/JimGilchrist/126622newsML.txt\n",
      "processing... ../../raw/C50/C50train/JimGilchrist/130525newsML.txt\n",
      "processing... ../../raw/C50/C50train/JimGilchrist/130529newsML.txt\n",
      "processing... ../../raw/C50/C50train/JimGilchrist/130535newsML.txt\n",
      "processing... ../../raw/C50/C50train/JimGilchrist/130537newsML.txt\n",
      "processing... ../../raw/C50/C50train/JimGilchrist/133484newsML.txt\n",
      "processing... ../../raw/C50/C50train/JimGilchrist/133504newsML.txt\n",
      "processing... ../../raw/C50/C50train/JimGilchrist/138486newsML.txt\n",
      "processing... ../../raw/C50/C50train/JimGilchrist/138497newsML.txt\n",
      "processing... ../../raw/C50/C50train/JimGilchrist/140355newsML.txt\n",
      "processing... ../../raw/C50/C50train/JimGilchrist/143463newsML.txt\n",
      "processing... ../../raw/C50/C50train/JimGilchrist/147518newsML.txt\n",
      "processing... ../../raw/C50/C50train/JimGilchrist/147521newsML.txt\n",
      "processing... ../../raw/C50/C50train/JimGilchrist/147528newsML.txt\n",
      "processing... ../../raw/C50/C50train/JimGilchrist/147557newsML.txt\n",
      "processing... ../../raw/C50/C50train/JimGilchrist/148847newsML.txt\n",
      "processing... ../../raw/C50/C50train/JimGilchrist/156681newsML.txt\n",
      "processing... ../../raw/C50/C50train/JimGilchrist/156695newsML.txt\n",
      "processing... ../../raw/C50/C50train/JimGilchrist/159926newsML.txt\n",
      "processing... ../../raw/C50/C50train/JimGilchrist/166432newsML.txt\n",
      "processing... ../../raw/C50/C50train/JimGilchrist/166456newsML.txt\n",
      "processing... ../../raw/C50/C50train/JimGilchrist/171185newsML.txt\n",
      "processing... ../../raw/C50/C50train/JimGilchrist/172811newsML.txt\n",
      "processing... ../../raw/C50/C50train/JimGilchrist/176224newsML.txt\n",
      "processing... ../../raw/C50/C50train/JimGilchrist/180176newsML.txt\n",
      "processing... ../../raw/C50/C50train/JimGilchrist/182456newsML.txt\n",
      "processing... ../../raw/C50/C50train/JimGilchrist/186188newsML.txt\n",
      "processing... ../../raw/C50/C50train/JimGilchrist/186190newsML.txt\n",
      "processing... ../../raw/C50/C50train/JimGilchrist/19345newsML.txt\n",
      "processing... ../../raw/C50/C50train/JimGilchrist/196712newsML.txt\n",
      "processing... ../../raw/C50/C50train/JimGilchrist/196713newsML.txt\n",
      "processing... ../../raw/C50/C50train/JimGilchrist/206557newsML.txt\n",
      "processing... ../../raw/C50/C50train/JimGilchrist/206567newsML.txt\n",
      "processing... ../../raw/C50/C50train/JimGilchrist/21567newsML.txt\n",
      "processing... ../../raw/C50/C50train/JoeOrtiz/100554newsML.txt\n",
      "processing... ../../raw/C50/C50train/JoeOrtiz/100593newsML.txt\n",
      "processing... ../../raw/C50/C50train/JoeOrtiz/100618newsML.txt\n",
      "processing... ../../raw/C50/C50train/JoeOrtiz/130040newsML.txt\n",
      "processing... ../../raw/C50/C50train/JoeOrtiz/137871newsML.txt\n",
      "processing... ../../raw/C50/C50train/JoeOrtiz/148240newsML.txt\n",
      "processing... ../../raw/C50/C50train/JoeOrtiz/160682newsML.txt\n",
      "processing... ../../raw/C50/C50train/JoeOrtiz/167342newsML.txt\n",
      "processing... ../../raw/C50/C50train/JoeOrtiz/167802newsML.txt\n",
      "processing... ../../raw/C50/C50train/JoeOrtiz/172150newsML.txt\n",
      "processing... ../../raw/C50/C50train/JoeOrtiz/180577newsML.txt\n",
      "processing... ../../raw/C50/C50train/JoeOrtiz/185661newsML.txt\n",
      "processing... ../../raw/C50/C50train/JoeOrtiz/186895newsML.txt\n",
      "processing... ../../raw/C50/C50train/JoeOrtiz/189829newsML.txt\n",
      "processing... ../../raw/C50/C50train/JoeOrtiz/197549newsML.txt\n",
      "processing... ../../raw/C50/C50train/JoeOrtiz/202086newsML.txt\n",
      "processing... ../../raw/C50/C50train/JoeOrtiz/207570newsML.txt\n",
      "processing... ../../raw/C50/C50train/JoeOrtiz/210554newsML.txt\n",
      "processing... ../../raw/C50/C50train/JoeOrtiz/216670newsML.txt\n",
      "processing... ../../raw/C50/C50train/JoeOrtiz/222292newsML.txt\n",
      "processing... ../../raw/C50/C50train/JoeOrtiz/223148newsML.txt\n",
      "processing... ../../raw/C50/C50train/JoeOrtiz/223783newsML.txt\n",
      "processing... ../../raw/C50/C50train/JoeOrtiz/232082newsML.txt\n",
      "processing... ../../raw/C50/C50train/JoeOrtiz/242939newsML.txt\n",
      "processing... ../../raw/C50/C50train/JoeOrtiz/245686newsML.txt\n",
      "processing... ../../raw/C50/C50train/JoeOrtiz/247024newsML.txt\n",
      "processing... ../../raw/C50/C50train/JoeOrtiz/263500newsML.txt\n",
      "processing... ../../raw/C50/C50train/JoeOrtiz/263503newsML.txt\n",
      "processing... ../../raw/C50/C50train/JoeOrtiz/289108newsML.txt\n",
      "processing... ../../raw/C50/C50train/JoeOrtiz/290471newsML.txt\n",
      "processing... ../../raw/C50/C50train/JoeOrtiz/29051newsML.txt\n",
      "processing... ../../raw/C50/C50train/JoeOrtiz/294330newsML.txt\n",
      "processing... ../../raw/C50/C50train/JoeOrtiz/294823newsML.txt\n",
      "processing... ../../raw/C50/C50train/JoeOrtiz/297151newsML.txt\n",
      "processing... ../../raw/C50/C50train/JoeOrtiz/299862newsML.txt\n",
      "processing... ../../raw/C50/C50train/JoeOrtiz/299957newsML.txt\n",
      "processing... ../../raw/C50/C50train/JoeOrtiz/300358newsML.txt\n",
      "processing... ../../raw/C50/C50train/JoeOrtiz/300369newsML.txt\n",
      "processing... ../../raw/C50/C50train/JoeOrtiz/309597newsML.txt\n",
      "processing... ../../raw/C50/C50train/JoeOrtiz/320925newsML.txt\n",
      "processing... ../../raw/C50/C50train/JoeOrtiz/324101newsML.txt\n",
      "processing... ../../raw/C50/C50train/JoeOrtiz/34037newsML.txt\n",
      "processing... ../../raw/C50/C50train/JoeOrtiz/341761newsML.txt\n",
      "processing... ../../raw/C50/C50train/JoeOrtiz/342301newsML.txt\n",
      "processing... ../../raw/C50/C50train/JoeOrtiz/343271newsML.txt\n",
      "processing... ../../raw/C50/C50train/JoeOrtiz/343304newsML.txt\n",
      "processing... ../../raw/C50/C50train/JoeOrtiz/344889newsML.txt\n",
      "processing... ../../raw/C50/C50train/JoeOrtiz/344993newsML.txt\n",
      "processing... ../../raw/C50/C50train/JoeOrtiz/364126newsML.txt\n",
      "processing... ../../raw/C50/C50train/JoeOrtiz/364594newsML.txt\n",
      "processing... ../../raw/C50/C50train/JohnMastrini/105045newsML.txt\n",
      "processing... ../../raw/C50/C50train/JohnMastrini/123158newsML.txt\n",
      "processing... ../../raw/C50/C50train/JohnMastrini/133171newsML.txt\n",
      "processing... ../../raw/C50/C50train/JohnMastrini/13806newsML.txt\n",
      "processing... ../../raw/C50/C50train/JohnMastrini/153158newsML.txt\n",
      "processing... ../../raw/C50/C50train/JohnMastrini/156033newsML.txt\n",
      "processing... ../../raw/C50/C50train/JohnMastrini/156054newsML.txt\n",
      "processing... ../../raw/C50/C50train/JohnMastrini/156301newsML.txt\n",
      "processing... ../../raw/C50/C50train/JohnMastrini/159754newsML.txt\n",
      "processing... ../../raw/C50/C50train/JohnMastrini/161715newsML.txt\n",
      "processing... ../../raw/C50/C50train/JohnMastrini/177540newsML.txt\n",
      "processing... ../../raw/C50/C50train/JohnMastrini/179858newsML.txt\n"
     ]
    },
    {
     "name": "stdout",
     "output_type": "stream",
     "text": [
      "processing... ../../raw/C50/C50train/JohnMastrini/18297newsML.txt\n",
      "processing... ../../raw/C50/C50train/JohnMastrini/18320newsML.txt\n",
      "processing... ../../raw/C50/C50train/JohnMastrini/18519newsML.txt\n",
      "processing... ../../raw/C50/C50train/JohnMastrini/18529newsML.txt\n",
      "processing... ../../raw/C50/C50train/JohnMastrini/192052newsML.txt\n",
      "processing... ../../raw/C50/C50train/JohnMastrini/192116newsML.txt\n",
      "processing... ../../raw/C50/C50train/JohnMastrini/194494newsML.txt\n",
      "processing... ../../raw/C50/C50train/JohnMastrini/194608newsML.txt\n",
      "processing... ../../raw/C50/C50train/JohnMastrini/195069newsML.txt\n",
      "processing... ../../raw/C50/C50train/JohnMastrini/195181newsML.txt\n",
      "processing... ../../raw/C50/C50train/JohnMastrini/195805newsML.txt\n",
      "processing... ../../raw/C50/C50train/JohnMastrini/202307newsML.txt\n",
      "processing... ../../raw/C50/C50train/JohnMastrini/205953newsML.txt\n",
      "processing... ../../raw/C50/C50train/JohnMastrini/207961newsML.txt\n",
      "processing... ../../raw/C50/C50train/JohnMastrini/212289newsML.txt\n",
      "processing... ../../raw/C50/C50train/JohnMastrini/21246newsML.txt\n",
      "processing... ../../raw/C50/C50train/JohnMastrini/212832newsML.txt\n",
      "processing... ../../raw/C50/C50train/JohnMastrini/216927newsML.txt\n",
      "processing... ../../raw/C50/C50train/JohnMastrini/22903newsML.txt\n",
      "processing... ../../raw/C50/C50train/JohnMastrini/230504newsML.txt\n",
      "processing... ../../raw/C50/C50train/JohnMastrini/236594newsML.txt\n",
      "processing... ../../raw/C50/C50train/JohnMastrini/239149newsML.txt\n",
      "processing... ../../raw/C50/C50train/JohnMastrini/242192newsML.txt\n",
      "processing... ../../raw/C50/C50train/JohnMastrini/242893newsML.txt\n",
      "processing... ../../raw/C50/C50train/JohnMastrini/258334newsML.txt\n",
      "processing... ../../raw/C50/C50train/JohnMastrini/258383newsML.txt\n",
      "processing... ../../raw/C50/C50train/JohnMastrini/260915newsML.txt\n",
      "processing... ../../raw/C50/C50train/JohnMastrini/260917newsML.txt\n",
      "processing... ../../raw/C50/C50train/JohnMastrini/26311newsML.txt\n",
      "processing... ../../raw/C50/C50train/JohnMastrini/263486newsML.txt\n",
      "processing... ../../raw/C50/C50train/JohnMastrini/263693newsML.txt\n",
      "processing... ../../raw/C50/C50train/JohnMastrini/266394newsML.txt\n",
      "processing... ../../raw/C50/C50train/JohnMastrini/266601newsML.txt\n",
      "processing... ../../raw/C50/C50train/JohnMastrini/266669newsML.txt\n",
      "processing... ../../raw/C50/C50train/JohnMastrini/269377newsML.txt\n",
      "processing... ../../raw/C50/C50train/JohnMastrini/27007newsML.txt\n",
      "processing... ../../raw/C50/C50train/JohnMastrini/272887newsML.txt\n",
      "processing... ../../raw/C50/C50train/JohnMastrini/281893newsML.txt\n",
      "processing... ../../raw/C50/C50train/JonathanBirt/100677newsML.txt\n",
      "processing... ../../raw/C50/C50train/JonathanBirt/106076newsML.txt\n",
      "processing... ../../raw/C50/C50train/JonathanBirt/107612newsML.txt\n",
      "processing... ../../raw/C50/C50train/JonathanBirt/116412newsML.txt\n",
      "processing... ../../raw/C50/C50train/JonathanBirt/116415newsML.txt\n",
      "processing... ../../raw/C50/C50train/JonathanBirt/123004newsML.txt\n",
      "processing... ../../raw/C50/C50train/JonathanBirt/124585newsML.txt\n",
      "processing... ../../raw/C50/C50train/JonathanBirt/134647newsML.txt\n",
      "processing... ../../raw/C50/C50train/JonathanBirt/137920newsML.txt\n",
      "processing... ../../raw/C50/C50train/JonathanBirt/159532newsML.txt\n",
      "processing... ../../raw/C50/C50train/JonathanBirt/160360newsML.txt\n",
      "processing... ../../raw/C50/C50train/JonathanBirt/163111newsML.txt\n",
      "processing... ../../raw/C50/C50train/JonathanBirt/163135newsML.txt\n",
      "processing... ../../raw/C50/C50train/JonathanBirt/164502newsML.txt\n",
      "processing... ../../raw/C50/C50train/JonathanBirt/165827newsML.txt\n",
      "processing... ../../raw/C50/C50train/JonathanBirt/167309newsML.txt\n",
      "processing... ../../raw/C50/C50train/JonathanBirt/169040newsML.txt\n",
      "processing... ../../raw/C50/C50train/JonathanBirt/172185newsML.txt\n",
      "processing... ../../raw/C50/C50train/JonathanBirt/174287newsML.txt\n",
      "processing... ../../raw/C50/C50train/JonathanBirt/200640newsML.txt\n",
      "processing... ../../raw/C50/C50train/JonathanBirt/200679newsML.txt\n",
      "processing... ../../raw/C50/C50train/JonathanBirt/201053newsML.txt\n",
      "processing... ../../raw/C50/C50train/JonathanBirt/219548newsML.txt\n",
      "processing... ../../raw/C50/C50train/JonathanBirt/225509newsML.txt\n",
      "processing... ../../raw/C50/C50train/JonathanBirt/230577newsML.txt\n",
      "processing... ../../raw/C50/C50train/JonathanBirt/232113newsML.txt\n",
      "processing... ../../raw/C50/C50train/JonathanBirt/250638newsML.txt\n",
      "processing... ../../raw/C50/C50train/JonathanBirt/26877newsML.txt\n",
      "processing... ../../raw/C50/C50train/JonathanBirt/27668newsML.txt\n",
      "processing... ../../raw/C50/C50train/JonathanBirt/28480newsML.txt\n",
      "processing... ../../raw/C50/C50train/JonathanBirt/289165newsML.txt\n",
      "processing... ../../raw/C50/C50train/JonathanBirt/29057newsML.txt\n",
      "processing... ../../raw/C50/C50train/JonathanBirt/293044newsML.txt\n",
      "processing... ../../raw/C50/C50train/JonathanBirt/294343newsML.txt\n",
      "processing... ../../raw/C50/C50train/JonathanBirt/300439newsML.txt\n",
      "processing... ../../raw/C50/C50train/JonathanBirt/31091newsML.txt\n",
      "processing... ../../raw/C50/C50train/JonathanBirt/314382newsML.txt\n",
      "processing... ../../raw/C50/C50train/JonathanBirt/315525newsML.txt\n",
      "processing... ../../raw/C50/C50train/JonathanBirt/319856newsML.txt\n",
      "processing... ../../raw/C50/C50train/JonathanBirt/325858newsML.txt\n",
      "processing... ../../raw/C50/C50train/JonathanBirt/327653newsML.txt\n",
      "processing... ../../raw/C50/C50train/JonathanBirt/329893newsML.txt\n",
      "processing... ../../raw/C50/C50train/JonathanBirt/331603newsML.txt\n",
      "processing... ../../raw/C50/C50train/JonathanBirt/331672newsML.txt\n",
      "processing... ../../raw/C50/C50train/JonathanBirt/334243newsML.txt\n",
      "processing... ../../raw/C50/C50train/JonathanBirt/338594newsML.txt\n",
      "processing... ../../raw/C50/C50train/JonathanBirt/338600newsML.txt\n",
      "processing... ../../raw/C50/C50train/JonathanBirt/339075newsML.txt\n",
      "processing... ../../raw/C50/C50train/JonathanBirt/339711newsML.txt\n",
      "processing... ../../raw/C50/C50train/JonathanBirt/340119newsML.txt\n",
      "processing... ../../raw/C50/C50train/JoWinterbottom/103362newsML.txt\n",
      "processing... ../../raw/C50/C50train/JoWinterbottom/103380newsML.txt\n",
      "processing... ../../raw/C50/C50train/JoWinterbottom/105972newsML.txt\n",
      "processing... ../../raw/C50/C50train/JoWinterbottom/115389newsML.txt\n",
      "processing... ../../raw/C50/C50train/JoWinterbottom/117971newsML.txt\n",
      "processing... ../../raw/C50/C50train/JoWinterbottom/126147newsML.txt\n",
      "processing... ../../raw/C50/C50train/JoWinterbottom/130021newsML.txt\n",
      "processing... ../../raw/C50/C50train/JoWinterbottom/131132newsML.txt\n",
      "processing... ../../raw/C50/C50train/JoWinterbottom/131763newsML.txt\n",
      "processing... ../../raw/C50/C50train/JoWinterbottom/132968newsML.txt\n",
      "processing... ../../raw/C50/C50train/JoWinterbottom/136300newsML.txt\n",
      "processing... ../../raw/C50/C50train/JoWinterbottom/138243newsML.txt\n",
      "processing... ../../raw/C50/C50train/JoWinterbottom/141413newsML.txt\n",
      "processing... ../../raw/C50/C50train/JoWinterbottom/142994newsML.txt\n",
      "processing... ../../raw/C50/C50train/JoWinterbottom/142995newsML.txt\n",
      "processing... ../../raw/C50/C50train/JoWinterbottom/142997newsML.txt\n",
      "processing... ../../raw/C50/C50train/JoWinterbottom/143011newsML.txt\n",
      "processing... ../../raw/C50/C50train/JoWinterbottom/143033newsML.txt\n",
      "processing... ../../raw/C50/C50train/JoWinterbottom/143036newsML.txt\n",
      "processing... ../../raw/C50/C50train/JoWinterbottom/144390newsML.txt\n",
      "processing... ../../raw/C50/C50train/JoWinterbottom/147012newsML.txt\n",
      "processing... ../../raw/C50/C50train/JoWinterbottom/148026newsML.txt\n",
      "processing... ../../raw/C50/C50train/JoWinterbottom/148227newsML.txt\n",
      "processing... ../../raw/C50/C50train/JoWinterbottom/149908newsML.txt\n",
      "processing... ../../raw/C50/C50train/JoWinterbottom/151249newsML.txt\n",
      "processing... ../../raw/C50/C50train/JoWinterbottom/152843newsML.txt\n",
      "processing... ../../raw/C50/C50train/JoWinterbottom/154415newsML.txt\n",
      "processing... ../../raw/C50/C50train/JoWinterbottom/159560newsML.txt\n",
      "processing... ../../raw/C50/C50train/JoWinterbottom/183638newsML.txt\n",
      "processing... ../../raw/C50/C50train/JoWinterbottom/183716newsML.txt\n",
      "processing... ../../raw/C50/C50train/JoWinterbottom/184783newsML.txt\n",
      "processing... ../../raw/C50/C50train/JoWinterbottom/185611newsML.txt\n",
      "processing... ../../raw/C50/C50train/JoWinterbottom/185674newsML.txt\n",
      "processing... ../../raw/C50/C50train/JoWinterbottom/186888newsML.txt\n",
      "processing... ../../raw/C50/C50train/JoWinterbottom/186890newsML.txt\n",
      "processing... ../../raw/C50/C50train/JoWinterbottom/187979newsML.txt\n",
      "processing... ../../raw/C50/C50train/JoWinterbottom/190268newsML.txt\n",
      "processing... ../../raw/C50/C50train/JoWinterbottom/191718newsML.txt\n",
      "processing... ../../raw/C50/C50train/JoWinterbottom/195814newsML.txt\n",
      "processing... ../../raw/C50/C50train/JoWinterbottom/197541newsML.txt\n",
      "processing... ../../raw/C50/C50train/JoWinterbottom/199265newsML.txt\n",
      "processing... ../../raw/C50/C50train/JoWinterbottom/200394newsML.txt\n",
      "processing... ../../raw/C50/C50train/JoWinterbottom/200668newsML.txt\n"
     ]
    },
    {
     "name": "stdout",
     "output_type": "stream",
     "text": [
      "processing... ../../raw/C50/C50train/JoWinterbottom/203923newsML.txt\n",
      "processing... ../../raw/C50/C50train/JoWinterbottom/203926newsML.txt\n",
      "processing... ../../raw/C50/C50train/JoWinterbottom/206040newsML.txt\n",
      "processing... ../../raw/C50/C50train/JoWinterbottom/207515newsML.txt\n",
      "processing... ../../raw/C50/C50train/JoWinterbottom/210506newsML.txt\n",
      "processing... ../../raw/C50/C50train/JoWinterbottom/210519newsML.txt\n",
      "processing... ../../raw/C50/C50train/JoWinterbottom/220918newsML.txt\n",
      "processing... ../../raw/C50/C50train/KarlPenhaul/110696newsML.txt\n",
      "processing... ../../raw/C50/C50train/KarlPenhaul/123422newsML.txt\n",
      "processing... ../../raw/C50/C50train/KarlPenhaul/126553newsML.txt\n",
      "processing... ../../raw/C50/C50train/KarlPenhaul/129041newsML.txt\n",
      "processing... ../../raw/C50/C50train/KarlPenhaul/130351newsML.txt\n",
      "processing... ../../raw/C50/C50train/KarlPenhaul/133336newsML.txt\n",
      "processing... ../../raw/C50/C50train/KarlPenhaul/136654newsML.txt\n",
      "processing... ../../raw/C50/C50train/KarlPenhaul/140181newsML.txt\n",
      "processing... ../../raw/C50/C50train/KarlPenhaul/143439newsML.txt\n",
      "processing... ../../raw/C50/C50train/KarlPenhaul/156487newsML.txt\n",
      "processing... ../../raw/C50/C50train/KarlPenhaul/156602newsML.txt\n",
      "processing... ../../raw/C50/C50train/KarlPenhaul/179986newsML.txt\n",
      "processing... ../../raw/C50/C50train/KarlPenhaul/186082newsML.txt\n",
      "processing... ../../raw/C50/C50train/KarlPenhaul/195207newsML.txt\n",
      "processing... ../../raw/C50/C50train/KarlPenhaul/202500newsML.txt\n",
      "processing... ../../raw/C50/C50train/KarlPenhaul/217081newsML.txt\n",
      "processing... ../../raw/C50/C50train/KarlPenhaul/217140newsML.txt\n",
      "processing... ../../raw/C50/C50train/KarlPenhaul/227159newsML.txt\n",
      "processing... ../../raw/C50/C50train/KarlPenhaul/228172newsML.txt\n",
      "processing... ../../raw/C50/C50train/KarlPenhaul/228182newsML.txt\n",
      "processing... ../../raw/C50/C50train/KarlPenhaul/236734newsML.txt\n",
      "processing... ../../raw/C50/C50train/KarlPenhaul/236854newsML.txt\n",
      "processing... ../../raw/C50/C50train/KarlPenhaul/242202newsML.txt\n",
      "processing... ../../raw/C50/C50train/KarlPenhaul/243366newsML.txt\n",
      "processing... ../../raw/C50/C50train/KarlPenhaul/251933newsML.txt\n",
      "processing... ../../raw/C50/C50train/KarlPenhaul/254655newsML.txt\n",
      "processing... ../../raw/C50/C50train/KarlPenhaul/254777newsML.txt\n",
      "processing... ../../raw/C50/C50train/KarlPenhaul/258467newsML.txt\n",
      "processing... ../../raw/C50/C50train/KarlPenhaul/261073newsML.txt\n",
      "processing... ../../raw/C50/C50train/KarlPenhaul/261076newsML.txt\n",
      "processing... ../../raw/C50/C50train/KarlPenhaul/263877newsML.txt\n",
      "processing... ../../raw/C50/C50train/KarlPenhaul/263931newsML.txt\n",
      "processing... ../../raw/C50/C50train/KarlPenhaul/266933newsML.txt\n",
      "processing... ../../raw/C50/C50train/KarlPenhaul/266934newsML.txt\n",
      "processing... ../../raw/C50/C50train/KarlPenhaul/269494newsML.txt\n",
      "processing... ../../raw/C50/C50train/KarlPenhaul/281959newsML.txt\n",
      "processing... ../../raw/C50/C50train/KarlPenhaul/286977newsML.txt\n",
      "processing... ../../raw/C50/C50train/KarlPenhaul/293363newsML.txt\n",
      "processing... ../../raw/C50/C50train/KarlPenhaul/293377newsML.txt\n",
      "processing... ../../raw/C50/C50train/KarlPenhaul/293437newsML.txt\n",
      "processing... ../../raw/C50/C50train/KarlPenhaul/295872newsML.txt\n",
      "processing... ../../raw/C50/C50train/KarlPenhaul/305571newsML.txt\n",
      "processing... ../../raw/C50/C50train/KarlPenhaul/305637newsML.txt\n",
      "processing... ../../raw/C50/C50train/KarlPenhaul/311686newsML.txt\n",
      "processing... ../../raw/C50/C50train/KarlPenhaul/314740newsML.txt\n",
      "processing... ../../raw/C50/C50train/KarlPenhaul/314809newsML.txt\n",
      "processing... ../../raw/C50/C50train/KarlPenhaul/333463newsML.txt\n",
      "processing... ../../raw/C50/C50train/KarlPenhaul/334589newsML.txt\n",
      "processing... ../../raw/C50/C50train/KarlPenhaul/343706newsML.txt\n",
      "processing... ../../raw/C50/C50train/KarlPenhaul/349781newsML.txt\n",
      "processing... ../../raw/C50/C50train/KeithWeir/107610newsML.txt\n",
      "processing... ../../raw/C50/C50train/KeithWeir/110316newsML.txt\n",
      "processing... ../../raw/C50/C50train/KeithWeir/113806newsML.txt\n",
      "processing... ../../raw/C50/C50train/KeithWeir/114919newsML.txt\n",
      "processing... ../../raw/C50/C50train/KeithWeir/114962newsML.txt\n",
      "processing... ../../raw/C50/C50train/KeithWeir/117941newsML.txt\n",
      "processing... ../../raw/C50/C50train/KeithWeir/117955newsML.txt\n",
      "processing... ../../raw/C50/C50train/KeithWeir/117958newsML.txt\n",
      "processing... ../../raw/C50/C50train/KeithWeir/122945newsML.txt\n",
      "processing... ../../raw/C50/C50train/KeithWeir/124269newsML.txt\n",
      "processing... ../../raw/C50/C50train/KeithWeir/125542newsML.txt\n",
      "processing... ../../raw/C50/C50train/KeithWeir/12639newsML.txt\n",
      "processing... ../../raw/C50/C50train/KeithWeir/13441newsML.txt\n",
      "processing... ../../raw/C50/C50train/KeithWeir/13442newsML.txt\n",
      "processing... ../../raw/C50/C50train/KeithWeir/138347newsML.txt\n",
      "processing... ../../raw/C50/C50train/KeithWeir/152889newsML.txt\n",
      "processing... ../../raw/C50/C50train/KeithWeir/157702newsML.txt\n",
      "processing... ../../raw/C50/C50train/KeithWeir/158161newsML.txt\n",
      "processing... ../../raw/C50/C50train/KeithWeir/161602newsML.txt\n",
      "processing... ../../raw/C50/C50train/KeithWeir/161738newsML.txt\n",
      "processing... ../../raw/C50/C50train/KeithWeir/161747newsML.txt\n",
      "processing... ../../raw/C50/C50train/KeithWeir/161753newsML.txt\n",
      "processing... ../../raw/C50/C50train/KeithWeir/162021newsML.txt\n",
      "processing... ../../raw/C50/C50train/KeithWeir/162208newsML.txt\n",
      "processing... ../../raw/C50/C50train/KeithWeir/163109newsML.txt\n",
      "processing... ../../raw/C50/C50train/KeithWeir/164490newsML.txt\n",
      "processing... ../../raw/C50/C50train/KeithWeir/172133newsML.txt\n",
      "processing... ../../raw/C50/C50train/KeithWeir/181588newsML.txt\n",
      "processing... ../../raw/C50/C50train/KeithWeir/199225newsML.txt\n",
      "processing... ../../raw/C50/C50train/KeithWeir/200592newsML.txt\n",
      "processing... ../../raw/C50/C50train/KeithWeir/201067newsML.txt\n",
      "processing... ../../raw/C50/C50train/KeithWeir/202015newsML.txt\n",
      "processing... ../../raw/C50/C50train/KeithWeir/203924newsML.txt\n",
      "processing... ../../raw/C50/C50train/KeithWeir/203930newsML.txt\n",
      "processing... ../../raw/C50/C50train/KeithWeir/21070newsML.txt\n",
      "processing... ../../raw/C50/C50train/KeithWeir/213689newsML.txt\n",
      "processing... ../../raw/C50/C50train/KeithWeir/223176newsML.txt\n",
      "processing... ../../raw/C50/C50train/KeithWeir/22411newsML.txt\n",
      "processing... ../../raw/C50/C50train/KeithWeir/229606newsML.txt\n",
      "processing... ../../raw/C50/C50train/KeithWeir/232566newsML.txt\n",
      "processing... ../../raw/C50/C50train/KeithWeir/232616newsML.txt\n",
      "processing... ../../raw/C50/C50train/KeithWeir/2344newsML.txt\n",
      "processing... ../../raw/C50/C50train/KeithWeir/234892newsML.txt\n",
      "processing... ../../raw/C50/C50train/KeithWeir/241521newsML.txt\n",
      "processing... ../../raw/C50/C50train/KeithWeir/259522newsML.txt\n",
      "processing... ../../raw/C50/C50train/KeithWeir/262296newsML.txt\n",
      "processing... ../../raw/C50/C50train/KeithWeir/265008newsML.txt\n",
      "processing... ../../raw/C50/C50train/KeithWeir/265140newsML.txt\n",
      "processing... ../../raw/C50/C50train/KeithWeir/275481newsML.txt\n",
      "processing... ../../raw/C50/C50train/KeithWeir/286107newsML.txt\n",
      "processing... ../../raw/C50/C50train/KevinDrawbaugh/100163newsML.txt\n",
      "processing... ../../raw/C50/C50train/KevinDrawbaugh/100485newsML.txt\n",
      "processing... ../../raw/C50/C50train/KevinDrawbaugh/102702newsML.txt\n",
      "processing... ../../raw/C50/C50train/KevinDrawbaugh/105399newsML.txt\n",
      "processing... ../../raw/C50/C50train/KevinDrawbaugh/10771newsML.txt\n",
      "processing... ../../raw/C50/C50train/KevinDrawbaugh/108321newsML.txt\n",
      "processing... ../../raw/C50/C50train/KevinDrawbaugh/110894newsML.txt\n",
      "processing... ../../raw/C50/C50train/KevinDrawbaugh/110981newsML.txt\n",
      "processing... ../../raw/C50/C50train/KevinDrawbaugh/113464newsML.txt\n",
      "processing... ../../raw/C50/C50train/KevinDrawbaugh/11690newsML.txt\n",
      "processing... ../../raw/C50/C50train/KevinDrawbaugh/11692newsML.txt\n",
      "processing... ../../raw/C50/C50train/KevinDrawbaugh/120486newsML.txt\n",
      "processing... ../../raw/C50/C50train/KevinDrawbaugh/126026newsML.txt\n",
      "processing... ../../raw/C50/C50train/KevinDrawbaugh/130811newsML.txt\n",
      "processing... ../../raw/C50/C50train/KevinDrawbaugh/133777newsML.txt\n",
      "processing... ../../raw/C50/C50train/KevinDrawbaugh/137042newsML.txt\n",
      "processing... ../../raw/C50/C50train/KevinDrawbaugh/137481newsML.txt\n",
      "processing... ../../raw/C50/C50train/KevinDrawbaugh/137616newsML.txt\n",
      "processing... ../../raw/C50/C50train/KevinDrawbaugh/13838newsML.txt\n",
      "processing... ../../raw/C50/C50train/KevinDrawbaugh/143586newsML.txt\n",
      "processing... ../../raw/C50/C50train/KevinDrawbaugh/143738newsML.txt\n"
     ]
    },
    {
     "name": "stdout",
     "output_type": "stream",
     "text": [
      "processing... ../../raw/C50/C50train/KevinDrawbaugh/154378newsML.txt\n",
      "processing... ../../raw/C50/C50train/KevinDrawbaugh/154388newsML.txt\n",
      "processing... ../../raw/C50/C50train/KevinDrawbaugh/16057newsML.txt\n",
      "processing... ../../raw/C50/C50train/KevinDrawbaugh/173045newsML.txt\n",
      "processing... ../../raw/C50/C50train/KevinDrawbaugh/178086newsML.txt\n",
      "processing... ../../raw/C50/C50train/KevinDrawbaugh/191657newsML.txt\n",
      "processing... ../../raw/C50/C50train/KevinDrawbaugh/233324newsML.txt\n",
      "processing... ../../raw/C50/C50train/KevinDrawbaugh/243558newsML.txt\n",
      "processing... ../../raw/C50/C50train/KevinDrawbaugh/248401newsML.txt\n",
      "processing... ../../raw/C50/C50train/KevinDrawbaugh/249305newsML.txt\n",
      "processing... ../../raw/C50/C50train/KevinDrawbaugh/249404newsML.txt\n",
      "processing... ../../raw/C50/C50train/KevinDrawbaugh/259009newsML.txt\n",
      "processing... ../../raw/C50/C50train/KevinDrawbaugh/269637newsML.txt\n",
      "processing... ../../raw/C50/C50train/KevinDrawbaugh/270070newsML.txt\n",
      "processing... ../../raw/C50/C50train/KevinDrawbaugh/283396newsML.txt\n",
      "processing... ../../raw/C50/C50train/KevinDrawbaugh/283914newsML.txt\n",
      "processing... ../../raw/C50/C50train/KevinDrawbaugh/284178newsML.txt\n",
      "processing... ../../raw/C50/C50train/KevinDrawbaugh/290199newsML.txt\n",
      "processing... ../../raw/C50/C50train/KevinDrawbaugh/2906newsML.txt\n",
      "processing... ../../raw/C50/C50train/KevinDrawbaugh/290996newsML.txt\n",
      "processing... ../../raw/C50/C50train/KevinDrawbaugh/291190newsML.txt\n",
      "processing... ../../raw/C50/C50train/KevinDrawbaugh/291432newsML.txt\n",
      "processing... ../../raw/C50/C50train/KevinDrawbaugh/293659newsML.txt\n",
      "processing... ../../raw/C50/C50train/KevinDrawbaugh/293808newsML.txt\n",
      "processing... ../../raw/C50/C50train/KevinDrawbaugh/299416newsML.txt\n",
      "processing... ../../raw/C50/C50train/KevinDrawbaugh/305957newsML.txt\n",
      "processing... ../../raw/C50/C50train/KevinDrawbaugh/311940newsML.txt\n",
      "processing... ../../raw/C50/C50train/KevinDrawbaugh/317846newsML.txt\n",
      "processing... ../../raw/C50/C50train/KevinDrawbaugh/323618newsML.txt\n",
      "processing... ../../raw/C50/C50train/KevinMorrison/105191newsML.txt\n",
      "processing... ../../raw/C50/C50train/KevinMorrison/109875newsML.txt\n",
      "processing... ../../raw/C50/C50train/KevinMorrison/109876newsML.txt\n",
      "processing... ../../raw/C50/C50train/KevinMorrison/110703newsML.txt\n",
      "processing... ../../raw/C50/C50train/KevinMorrison/114198newsML.txt\n",
      "processing... ../../raw/C50/C50train/KevinMorrison/115436newsML.txt\n",
      "processing... ../../raw/C50/C50train/KevinMorrison/116890newsML.txt\n",
      "processing... ../../raw/C50/C50train/KevinMorrison/125098newsML.txt\n",
      "processing... ../../raw/C50/C50train/KevinMorrison/125545newsML.txt\n",
      "processing... ../../raw/C50/C50train/KevinMorrison/133461newsML.txt\n",
      "processing... ../../raw/C50/C50train/KevinMorrison/138954newsML.txt\n",
      "processing... ../../raw/C50/C50train/KevinMorrison/15226newsML.txt\n",
      "processing... ../../raw/C50/C50train/KevinMorrison/171096newsML.txt\n",
      "processing... ../../raw/C50/C50train/KevinMorrison/176105newsML.txt\n",
      "processing... ../../raw/C50/C50train/KevinMorrison/18329newsML.txt\n",
      "processing... ../../raw/C50/C50train/KevinMorrison/184096newsML.txt\n",
      "processing... ../../raw/C50/C50train/KevinMorrison/184143newsML.txt\n",
      "processing... ../../raw/C50/C50train/KevinMorrison/184150newsML.txt\n",
      "processing... ../../raw/C50/C50train/KevinMorrison/198071newsML.txt\n",
      "processing... ../../raw/C50/C50train/KevinMorrison/21536newsML.txt\n",
      "processing... ../../raw/C50/C50train/KevinMorrison/218602newsML.txt\n",
      "processing... ../../raw/C50/C50train/KevinMorrison/218625newsML.txt\n",
      "processing... ../../raw/C50/C50train/KevinMorrison/221499newsML.txt\n",
      "processing... ../../raw/C50/C50train/KevinMorrison/221509newsML.txt\n",
      "processing... ../../raw/C50/C50train/KevinMorrison/221518newsML.txt\n",
      "processing... ../../raw/C50/C50train/KevinMorrison/223858newsML.txt\n",
      "processing... ../../raw/C50/C50train/KevinMorrison/223897newsML.txt\n",
      "processing... ../../raw/C50/C50train/KevinMorrison/229778newsML.txt\n",
      "processing... ../../raw/C50/C50train/KevinMorrison/235532newsML.txt\n",
      "processing... ../../raw/C50/C50train/KevinMorrison/241149newsML.txt\n",
      "processing... ../../raw/C50/C50train/KevinMorrison/244696newsML.txt\n",
      "processing... ../../raw/C50/C50train/KevinMorrison/244698newsML.txt\n",
      "processing... ../../raw/C50/C50train/KevinMorrison/244734newsML.txt\n",
      "processing... ../../raw/C50/C50train/KevinMorrison/247635newsML.txt\n",
      "processing... ../../raw/C50/C50train/KevinMorrison/247636newsML.txt\n",
      "processing... ../../raw/C50/C50train/KevinMorrison/247652newsML.txt\n",
      "processing... ../../raw/C50/C50train/KevinMorrison/247668newsML.txt\n",
      "processing... ../../raw/C50/C50train/KevinMorrison/247671newsML.txt\n",
      "processing... ../../raw/C50/C50train/KevinMorrison/255906newsML.txt\n",
      "processing... ../../raw/C50/C50train/KevinMorrison/256319newsML.txt\n",
      "processing... ../../raw/C50/C50train/KevinMorrison/256320newsML.txt\n",
      "processing... ../../raw/C50/C50train/KevinMorrison/256349newsML.txt\n",
      "processing... ../../raw/C50/C50train/KevinMorrison/256350newsML.txt\n",
      "processing... ../../raw/C50/C50train/KevinMorrison/2730newsML.txt\n",
      "processing... ../../raw/C50/C50train/KevinMorrison/278563newsML.txt\n",
      "processing... ../../raw/C50/C50train/KevinMorrison/278908newsML.txt\n",
      "processing... ../../raw/C50/C50train/KevinMorrison/292246newsML.txt\n",
      "processing... ../../raw/C50/C50train/KevinMorrison/292666newsML.txt\n",
      "processing... ../../raw/C50/C50train/KevinMorrison/297804newsML.txt\n",
      "processing... ../../raw/C50/C50train/KevinMorrison/304259newsML.txt\n",
      "processing... ../../raw/C50/C50train/KirstinRidley/103790newsML.txt\n",
      "processing... ../../raw/C50/C50train/KirstinRidley/156083newsML.txt\n",
      "processing... ../../raw/C50/C50train/KirstinRidley/157761newsML.txt\n",
      "processing... ../../raw/C50/C50train/KirstinRidley/162181newsML.txt\n",
      "processing... ../../raw/C50/C50train/KirstinRidley/162189newsML.txt\n",
      "processing... ../../raw/C50/C50train/KirstinRidley/162191newsML.txt\n",
      "processing... ../../raw/C50/C50train/KirstinRidley/162193newsML.txt\n",
      "processing... ../../raw/C50/C50train/KirstinRidley/162195newsML.txt\n",
      "processing... ../../raw/C50/C50train/KirstinRidley/162644newsML.txt\n",
      "processing... ../../raw/C50/C50train/KirstinRidley/163112newsML.txt\n",
      "processing... ../../raw/C50/C50train/KirstinRidley/163119newsML.txt\n",
      "processing... ../../raw/C50/C50train/KirstinRidley/164526newsML.txt\n",
      "processing... ../../raw/C50/C50train/KirstinRidley/165832newsML.txt\n",
      "processing... ../../raw/C50/C50train/KirstinRidley/167814newsML.txt\n",
      "processing... ../../raw/C50/C50train/KirstinRidley/181858newsML.txt\n",
      "processing... ../../raw/C50/C50train/KirstinRidley/181907newsML.txt\n",
      "processing... ../../raw/C50/C50train/KirstinRidley/187985newsML.txt\n",
      "processing... ../../raw/C50/C50train/KirstinRidley/188419newsML.txt\n",
      "processing... ../../raw/C50/C50train/KirstinRidley/189882newsML.txt\n",
      "processing... ../../raw/C50/C50train/KirstinRidley/189900newsML.txt\n",
      "processing... ../../raw/C50/C50train/KirstinRidley/199262newsML.txt\n",
      "processing... ../../raw/C50/C50train/KirstinRidley/219536newsML.txt\n",
      "processing... ../../raw/C50/C50train/KirstinRidley/23873newsML.txt\n",
      "processing... ../../raw/C50/C50train/KirstinRidley/239217newsML.txt\n",
      "processing... ../../raw/C50/C50train/KirstinRidley/250064newsML.txt\n",
      "processing... ../../raw/C50/C50train/KirstinRidley/254351newsML.txt\n",
      "processing... ../../raw/C50/C50train/KirstinRidley/267983newsML.txt\n",
      "processing... ../../raw/C50/C50train/KirstinRidley/27422newsML.txt\n",
      "processing... ../../raw/C50/C50train/KirstinRidley/278254newsML.txt\n",
      "processing... ../../raw/C50/C50train/KirstinRidley/294355newsML.txt\n",
      "processing... ../../raw/C50/C50train/KirstinRidley/297203newsML.txt\n",
      "processing... ../../raw/C50/C50train/KirstinRidley/314384newsML.txt\n",
      "processing... ../../raw/C50/C50train/KirstinRidley/314406newsML.txt\n",
      "processing... ../../raw/C50/C50train/KirstinRidley/315603newsML.txt\n",
      "processing... ../../raw/C50/C50train/KirstinRidley/316041newsML.txt\n",
      "processing... ../../raw/C50/C50train/KirstinRidley/322479newsML.txt\n",
      "processing... ../../raw/C50/C50train/KirstinRidley/322955newsML.txt\n",
      "processing... ../../raw/C50/C50train/KirstinRidley/327620newsML.txt\n",
      "processing... ../../raw/C50/C50train/KirstinRidley/329130newsML.txt\n",
      "processing... ../../raw/C50/C50train/KirstinRidley/340175newsML.txt\n",
      "processing... ../../raw/C50/C50train/KirstinRidley/341840newsML.txt\n",
      "processing... ../../raw/C50/C50train/KirstinRidley/341864newsML.txt\n",
      "processing... ../../raw/C50/C50train/KirstinRidley/347828newsML.txt\n",
      "processing... ../../raw/C50/C50train/KirstinRidley/359687newsML.txt\n",
      "processing... ../../raw/C50/C50train/KirstinRidley/36556newsML.txt\n",
      "processing... ../../raw/C50/C50train/KirstinRidley/371805newsML.txt\n",
      "processing... ../../raw/C50/C50train/KirstinRidley/374916newsML.txt\n",
      "processing... ../../raw/C50/C50train/KirstinRidley/393388newsML.txt\n",
      "processing... ../../raw/C50/C50train/KirstinRidley/394816newsML.txt\n"
     ]
    },
    {
     "name": "stdout",
     "output_type": "stream",
     "text": [
      "processing... ../../raw/C50/C50train/KirstinRidley/402055newsML.txt\n",
      "processing... ../../raw/C50/C50train/KouroshKarimkhany/101520newsML.txt\n",
      "processing... ../../raw/C50/C50train/KouroshKarimkhany/104417newsML.txt\n",
      "processing... ../../raw/C50/C50train/KouroshKarimkhany/108366newsML.txt\n",
      "processing... ../../raw/C50/C50train/KouroshKarimkhany/113206newsML.txt\n",
      "processing... ../../raw/C50/C50train/KouroshKarimkhany/117158newsML.txt\n",
      "processing... ../../raw/C50/C50train/KouroshKarimkhany/120392newsML.txt\n",
      "processing... ../../raw/C50/C50train/KouroshKarimkhany/121032newsML.txt\n",
      "processing... ../../raw/C50/C50train/KouroshKarimkhany/123800newsML.txt\n",
      "processing... ../../raw/C50/C50train/KouroshKarimkhany/124768newsML.txt\n",
      "processing... ../../raw/C50/C50train/KouroshKarimkhany/128940newsML.txt\n",
      "processing... ../../raw/C50/C50train/KouroshKarimkhany/129309newsML.txt\n",
      "processing... ../../raw/C50/C50train/KouroshKarimkhany/146032newsML.txt\n",
      "processing... ../../raw/C50/C50train/KouroshKarimkhany/150572newsML.txt\n",
      "processing... ../../raw/C50/C50train/KouroshKarimkhany/157930newsML.txt\n",
      "processing... ../../raw/C50/C50train/KouroshKarimkhany/160129newsML.txt\n",
      "processing... ../../raw/C50/C50train/KouroshKarimkhany/160557newsML.txt\n",
      "processing... ../../raw/C50/C50train/KouroshKarimkhany/167199newsML.txt\n",
      "processing... ../../raw/C50/C50train/KouroshKarimkhany/170654newsML.txt\n",
      "processing... ../../raw/C50/C50train/KouroshKarimkhany/172988newsML.txt\n",
      "processing... ../../raw/C50/C50train/KouroshKarimkhany/173933newsML.txt\n",
      "processing... ../../raw/C50/C50train/KouroshKarimkhany/181666newsML.txt\n",
      "processing... ../../raw/C50/C50train/KouroshKarimkhany/183208newsML.txt\n",
      "processing... ../../raw/C50/C50train/KouroshKarimkhany/183605newsML.txt\n",
      "processing... ../../raw/C50/C50train/KouroshKarimkhany/185419newsML.txt\n",
      "processing... ../../raw/C50/C50train/KouroshKarimkhany/189198newsML.txt\n",
      "processing... ../../raw/C50/C50train/KouroshKarimkhany/200795newsML.txt\n",
      "processing... ../../raw/C50/C50train/KouroshKarimkhany/202658newsML.txt\n",
      "processing... ../../raw/C50/C50train/KouroshKarimkhany/203674newsML.txt\n",
      "processing... ../../raw/C50/C50train/KouroshKarimkhany/218300newsML.txt\n",
      "processing... ../../raw/C50/C50train/KouroshKarimkhany/264379newsML.txt\n",
      "processing... ../../raw/C50/C50train/KouroshKarimkhany/271793newsML.txt\n",
      "processing... ../../raw/C50/C50train/KouroshKarimkhany/271795newsML.txt\n",
      "processing... ../../raw/C50/C50train/KouroshKarimkhany/271894newsML.txt\n",
      "processing... ../../raw/C50/C50train/KouroshKarimkhany/272490newsML.txt\n",
      "processing... ../../raw/C50/C50train/KouroshKarimkhany/283247newsML.txt\n",
      "processing... ../../raw/C50/C50train/KouroshKarimkhany/285535newsML.txt\n",
      "processing... ../../raw/C50/C50train/KouroshKarimkhany/287103newsML.txt\n",
      "processing... ../../raw/C50/C50train/KouroshKarimkhany/287796newsML.txt\n",
      "processing... ../../raw/C50/C50train/KouroshKarimkhany/290979newsML.txt\n",
      "processing... ../../raw/C50/C50train/KouroshKarimkhany/298368newsML.txt\n",
      "processing... ../../raw/C50/C50train/KouroshKarimkhany/299663newsML.txt\n",
      "processing... ../../raw/C50/C50train/KouroshKarimkhany/307652newsML.txt\n",
      "processing... ../../raw/C50/C50train/KouroshKarimkhany/309316newsML.txt\n",
      "processing... ../../raw/C50/C50train/KouroshKarimkhany/311931newsML.txt\n",
      "processing... ../../raw/C50/C50train/KouroshKarimkhany/311972newsML.txt\n",
      "processing... ../../raw/C50/C50train/KouroshKarimkhany/313088newsML.txt\n",
      "processing... ../../raw/C50/C50train/KouroshKarimkhany/315358newsML.txt\n",
      "processing... ../../raw/C50/C50train/KouroshKarimkhany/330773newsML.txt\n",
      "processing... ../../raw/C50/C50train/KouroshKarimkhany/331262newsML.txt\n",
      "processing... ../../raw/C50/C50train/KouroshKarimkhany/331500newsML.txt\n",
      "processing... ../../raw/C50/C50train/LydiaZajc/10274newsML.txt\n",
      "processing... ../../raw/C50/C50train/LydiaZajc/105793newsML.txt\n",
      "processing... ../../raw/C50/C50train/LydiaZajc/130081newsML.txt\n",
      "processing... ../../raw/C50/C50train/LydiaZajc/13810newsML.txt\n",
      "processing... ../../raw/C50/C50train/LydiaZajc/139760newsML.txt\n",
      "processing... ../../raw/C50/C50train/LydiaZajc/15592newsML.txt\n",
      "processing... ../../raw/C50/C50train/LydiaZajc/162222newsML.txt\n",
      "processing... ../../raw/C50/C50train/LydiaZajc/163197newsML.txt\n",
      "processing... ../../raw/C50/C50train/LydiaZajc/164298newsML.txt\n",
      "processing... ../../raw/C50/C50train/LydiaZajc/165902newsML.txt\n",
      "processing... ../../raw/C50/C50train/LydiaZajc/172241newsML.txt\n",
      "processing... ../../raw/C50/C50train/LydiaZajc/174373newsML.txt\n",
      "processing... ../../raw/C50/C50train/LydiaZajc/185720newsML.txt\n",
      "processing... ../../raw/C50/C50train/LydiaZajc/188535newsML.txt\n",
      "processing... ../../raw/C50/C50train/LydiaZajc/202140newsML.txt\n",
      "processing... ../../raw/C50/C50train/LydiaZajc/207278newsML.txt\n",
      "processing... ../../raw/C50/C50train/LydiaZajc/212440newsML.txt\n",
      "processing... ../../raw/C50/C50train/LydiaZajc/213719newsML.txt\n",
      "processing... ../../raw/C50/C50train/LydiaZajc/216822newsML.txt\n",
      "processing... ../../raw/C50/C50train/LydiaZajc/219628newsML.txt\n",
      "processing... ../../raw/C50/C50train/LydiaZajc/224725newsML.txt\n",
      "processing... ../../raw/C50/C50train/LydiaZajc/227933newsML.txt\n",
      "processing... ../../raw/C50/C50train/LydiaZajc/230638newsML.txt\n",
      "processing... ../../raw/C50/C50train/LydiaZajc/233590newsML.txt\n",
      "processing... ../../raw/C50/C50train/LydiaZajc/236474newsML.txt\n",
      "processing... ../../raw/C50/C50train/LydiaZajc/2387newsML.txt\n",
      "processing... ../../raw/C50/C50train/LydiaZajc/239275newsML.txt\n",
      "processing... ../../raw/C50/C50train/LydiaZajc/239280newsML.txt\n",
      "processing... ../../raw/C50/C50train/LydiaZajc/254426newsML.txt\n",
      "processing... ../../raw/C50/C50train/LydiaZajc/257337newsML.txt\n",
      "processing... ../../raw/C50/C50train/LydiaZajc/302437newsML.txt\n",
      "processing... ../../raw/C50/C50train/LydiaZajc/305250newsML.txt\n",
      "processing... ../../raw/C50/C50train/LydiaZajc/308198newsML.txt\n",
      "processing... ../../raw/C50/C50train/LydiaZajc/311319newsML.txt\n",
      "processing... ../../raw/C50/C50train/LydiaZajc/316724newsML.txt\n",
      "processing... ../../raw/C50/C50train/LydiaZajc/317743newsML.txt\n",
      "processing... ../../raw/C50/C50train/LydiaZajc/319107newsML.txt\n",
      "processing... ../../raw/C50/C50train/LydiaZajc/319113newsML.txt\n",
      "processing... ../../raw/C50/C50train/LydiaZajc/326409newsML.txt\n",
      "processing... ../../raw/C50/C50train/LydiaZajc/329147newsML.txt\n",
      "processing... ../../raw/C50/C50train/LydiaZajc/332252newsML.txt\n",
      "processing... ../../raw/C50/C50train/LydiaZajc/334277newsML.txt\n",
      "processing... ../../raw/C50/C50train/LydiaZajc/339037newsML.txt\n",
      "processing... ../../raw/C50/C50train/LydiaZajc/345128newsML.txt\n",
      "processing... ../../raw/C50/C50train/LydiaZajc/346330newsML.txt\n",
      "processing... ../../raw/C50/C50train/LydiaZajc/353567newsML.txt\n",
      "processing... ../../raw/C50/C50train/LydiaZajc/356565newsML.txt\n",
      "processing... ../../raw/C50/C50train/LydiaZajc/362785newsML.txt\n",
      "processing... ../../raw/C50/C50train/LydiaZajc/364632newsML.txt\n",
      "processing... ../../raw/C50/C50train/LydiaZajc/366471newsML.txt\n",
      "processing... ../../raw/C50/C50train/LynneO'Donnell/102480newsML.txt\n",
      "processing... ../../raw/C50/C50train/LynneO'Donnell/10327newsML.txt\n",
      "processing... ../../raw/C50/C50train/LynneO'Donnell/106719newsML.txt\n",
      "processing... ../../raw/C50/C50train/LynneO'Donnell/107032newsML.txt\n",
      "processing... ../../raw/C50/C50train/LynneO'Donnell/110718newsML.txt\n",
      "processing... ../../raw/C50/C50train/LynneO'Donnell/111855newsML.txt\n",
      "processing... ../../raw/C50/C50train/LynneO'Donnell/112106newsML.txt\n",
      "processing... ../../raw/C50/C50train/LynneO'Donnell/114299newsML.txt\n",
      "processing... ../../raw/C50/C50train/LynneO'Donnell/115594newsML.txt\n",
      "processing... ../../raw/C50/C50train/LynneO'Donnell/116963newsML.txt\n",
      "processing... ../../raw/C50/C50train/LynneO'Donnell/120232newsML.txt\n",
      "processing... ../../raw/C50/C50train/LynneO'Donnell/121886newsML.txt\n",
      "processing... ../../raw/C50/C50train/LynneO'Donnell/121931newsML.txt\n",
      "processing... ../../raw/C50/C50train/LynneO'Donnell/12381newsML.txt\n",
      "processing... ../../raw/C50/C50train/LynneO'Donnell/125205newsML.txt\n",
      "processing... ../../raw/C50/C50train/LynneO'Donnell/125560newsML.txt\n",
      "processing... ../../raw/C50/C50train/LynneO'Donnell/133490newsML.txt\n",
      "processing... ../../raw/C50/C50train/LynneO'Donnell/135223newsML.txt\n",
      "processing... ../../raw/C50/C50train/LynneO'Donnell/146245newsML.txt\n",
      "processing... ../../raw/C50/C50train/LynneO'Donnell/146472newsML.txt\n",
      "processing... ../../raw/C50/C50train/LynneO'Donnell/148890newsML.txt\n",
      "processing... ../../raw/C50/C50train/LynneO'Donnell/151846newsML.txt\n",
      "processing... ../../raw/C50/C50train/LynneO'Donnell/15736newsML.txt\n",
      "processing... ../../raw/C50/C50train/LynneO'Donnell/158405newsML.txt\n"
     ]
    },
    {
     "name": "stdout",
     "output_type": "stream",
     "text": [
      "processing... ../../raw/C50/C50train/LynneO'Donnell/158416newsML.txt\n",
      "processing... ../../raw/C50/C50train/LynneO'Donnell/159976newsML.txt\n",
      "processing... ../../raw/C50/C50train/LynneO'Donnell/166518newsML.txt\n",
      "processing... ../../raw/C50/C50train/LynneO'Donnell/169600newsML.txt\n",
      "processing... ../../raw/C50/C50train/LynneO'Donnell/171253newsML.txt\n",
      "processing... ../../raw/C50/C50train/LynneO'Donnell/171633newsML.txt\n",
      "processing... ../../raw/C50/C50train/LynneO'Donnell/17858newsML.txt\n",
      "processing... ../../raw/C50/C50train/LynneO'Donnell/180191newsML.txt\n",
      "processing... ../../raw/C50/C50train/LynneO'Donnell/187362newsML.txt\n",
      "processing... ../../raw/C50/C50train/LynneO'Donnell/198178newsML.txt\n",
      "processing... ../../raw/C50/C50train/LynneO'Donnell/204874newsML.txt\n",
      "processing... ../../raw/C50/C50train/LynneO'Donnell/20855newsML.txt\n",
      "processing... ../../raw/C50/C50train/LynneO'Donnell/229894newsML.txt\n",
      "processing... ../../raw/C50/C50train/LynneO'Donnell/23184newsML.txt\n",
      "processing... ../../raw/C50/C50train/LynneO'Donnell/238772newsML.txt\n",
      "processing... ../../raw/C50/C50train/LynneO'Donnell/2439newsML.txt\n",
      "processing... ../../raw/C50/C50train/LynneO'Donnell/244800newsML.txt\n",
      "processing... ../../raw/C50/C50train/LynneO'Donnell/2462newsML.txt\n",
      "processing... ../../raw/C50/C50train/LynneO'Donnell/247724newsML.txt\n",
      "processing... ../../raw/C50/C50train/LynneO'Donnell/248156newsML.txt\n",
      "processing... ../../raw/C50/C50train/LynneO'Donnell/250844newsML.txt\n",
      "processing... ../../raw/C50/C50train/LynneO'Donnell/258739newsML.txt\n",
      "processing... ../../raw/C50/C50train/LynneO'Donnell/265681newsML.txt\n",
      "processing... ../../raw/C50/C50train/LynneO'Donnell/27316newsML.txt\n",
      "processing... ../../raw/C50/C50train/LynneO'Donnell/275670newsML.txt\n",
      "processing... ../../raw/C50/C50train/LynneO'Donnell/29593newsML.txt\n",
      "processing... ../../raw/C50/C50train/LynnleyBrowning/102195newsML.txt\n",
      "processing... ../../raw/C50/C50train/LynnleyBrowning/103703newsML.txt\n",
      "processing... ../../raw/C50/C50train/LynnleyBrowning/105018newsML.txt\n",
      "processing... ../../raw/C50/C50train/LynnleyBrowning/107881newsML.txt\n",
      "processing... ../../raw/C50/C50train/LynnleyBrowning/114005newsML.txt\n",
      "processing... ../../raw/C50/C50train/LynnleyBrowning/116673newsML.txt\n",
      "processing... ../../raw/C50/C50train/LynnleyBrowning/123245newsML.txt\n",
      "processing... ../../raw/C50/C50train/LynnleyBrowning/130255newsML.txt\n",
      "processing... ../../raw/C50/C50train/LynnleyBrowning/147283newsML.txt\n",
      "processing... ../../raw/C50/C50train/LynnleyBrowning/153131newsML.txt\n",
      "processing... ../../raw/C50/C50train/LynnleyBrowning/156303newsML.txt\n",
      "processing... ../../raw/C50/C50train/LynnleyBrowning/159726newsML.txt\n",
      "processing... ../../raw/C50/C50train/LynnleyBrowning/163468newsML.txt\n",
      "processing... ../../raw/C50/C50train/LynnleyBrowning/166151newsML.txt\n",
      "processing... ../../raw/C50/C50train/LynnleyBrowning/166214newsML.txt\n",
      "processing... ../../raw/C50/C50train/LynnleyBrowning/169353newsML.txt\n",
      "processing... ../../raw/C50/C50train/LynnleyBrowning/182130newsML.txt\n",
      "processing... ../../raw/C50/C50train/LynnleyBrowning/185549newsML.txt\n",
      "processing... ../../raw/C50/C50train/LynnleyBrowning/199480newsML.txt\n",
      "processing... ../../raw/C50/C50train/LynnleyBrowning/202315newsML.txt\n",
      "processing... ../../raw/C50/C50train/LynnleyBrowning/206315newsML.txt\n",
      "processing... ../../raw/C50/C50train/LynnleyBrowning/209593newsML.txt\n",
      "processing... ../../raw/C50/C50train/LynnleyBrowning/219830newsML.txt\n",
      "processing... ../../raw/C50/C50train/LynnleyBrowning/224891newsML.txt\n",
      "processing... ../../raw/C50/C50train/LynnleyBrowning/230857newsML.txt\n",
      "processing... ../../raw/C50/C50train/LynnleyBrowning/236661newsML.txt\n",
      "processing... ../../raw/C50/C50train/LynnleyBrowning/239652newsML.txt\n",
      "processing... ../../raw/C50/C50train/LynnleyBrowning/239689newsML.txt\n",
      "processing... ../../raw/C50/C50train/LynnleyBrowning/241692newsML.txt\n",
      "processing... ../../raw/C50/C50train/LynnleyBrowning/245918newsML.txt\n",
      "processing... ../../raw/C50/C50train/LynnleyBrowning/248885newsML.txt\n",
      "processing... ../../raw/C50/C50train/LynnleyBrowning/260916newsML.txt\n",
      "processing... ../../raw/C50/C50train/LynnleyBrowning/262566newsML.txt\n",
      "processing... ../../raw/C50/C50train/LynnleyBrowning/263722newsML.txt\n",
      "processing... ../../raw/C50/C50train/LynnleyBrowning/263781newsML.txt\n",
      "processing... ../../raw/C50/C50train/LynnleyBrowning/266599newsML.txt\n",
      "processing... ../../raw/C50/C50train/LynnleyBrowning/266625newsML.txt\n",
      "processing... ../../raw/C50/C50train/LynnleyBrowning/269345newsML.txt\n",
      "processing... ../../raw/C50/C50train/LynnleyBrowning/269386newsML.txt\n",
      "processing... ../../raw/C50/C50train/LynnleyBrowning/27013newsML.txt\n",
      "processing... ../../raw/C50/C50train/LynnleyBrowning/293211newsML.txt\n",
      "processing... ../../raw/C50/C50train/LynnleyBrowning/294148newsML.txt\n",
      "processing... ../../raw/C50/C50train/LynnleyBrowning/295731newsML.txt\n",
      "processing... ../../raw/C50/C50train/LynnleyBrowning/298904newsML.txt\n",
      "processing... ../../raw/C50/C50train/LynnleyBrowning/305426newsML.txt\n",
      "processing... ../../raw/C50/C50train/LynnleyBrowning/308394newsML.txt\n",
      "processing... ../../raw/C50/C50train/LynnleyBrowning/314644newsML.txt\n",
      "processing... ../../raw/C50/C50train/LynnleyBrowning/318404newsML.txt\n",
      "processing... ../../raw/C50/C50train/LynnleyBrowning/318451newsML.txt\n",
      "processing... ../../raw/C50/C50train/LynnleyBrowning/324280newsML.txt\n",
      "processing... ../../raw/C50/C50train/MarcelMichelson/108487newsML.txt\n",
      "processing... ../../raw/C50/C50train/MarcelMichelson/115160newsML.txt\n",
      "processing... ../../raw/C50/C50train/MarcelMichelson/115199newsML.txt\n",
      "processing... ../../raw/C50/C50train/MarcelMichelson/121654newsML.txt\n",
      "processing... ../../raw/C50/C50train/MarcelMichelson/121701newsML.txt\n",
      "processing... ../../raw/C50/C50train/MarcelMichelson/128737newsML.txt\n",
      "processing... ../../raw/C50/C50train/MarcelMichelson/129351newsML.txt\n",
      "processing... ../../raw/C50/C50train/MarcelMichelson/129426newsML.txt\n",
      "processing... ../../raw/C50/C50train/MarcelMichelson/134055newsML.txt\n",
      "processing... ../../raw/C50/C50train/MarcelMichelson/134919newsML.txt\n",
      "processing... ../../raw/C50/C50train/MarcelMichelson/134931newsML.txt\n",
      "processing... ../../raw/C50/C50train/MarcelMichelson/137247newsML.txt\n",
      "processing... ../../raw/C50/C50train/MarcelMichelson/137362newsML.txt\n",
      "processing... ../../raw/C50/C50train/MarcelMichelson/137480newsML.txt\n",
      "processing... ../../raw/C50/C50train/MarcelMichelson/140842newsML.txt\n",
      "processing... ../../raw/C50/C50train/MarcelMichelson/140849newsML.txt\n",
      "processing... ../../raw/C50/C50train/MarcelMichelson/141667newsML.txt\n",
      "processing... ../../raw/C50/C50train/MarcelMichelson/141744newsML.txt\n",
      "processing... ../../raw/C50/C50train/MarcelMichelson/141746newsML.txt\n",
      "processing... ../../raw/C50/C50train/MarcelMichelson/142386newsML.txt\n",
      "processing... ../../raw/C50/C50train/MarcelMichelson/143829newsML.txt\n",
      "processing... ../../raw/C50/C50train/MarcelMichelson/144618newsML.txt\n",
      "processing... ../../raw/C50/C50train/MarcelMichelson/144673newsML.txt\n",
      "processing... ../../raw/C50/C50train/MarcelMichelson/147835newsML.txt\n",
      "processing... ../../raw/C50/C50train/MarcelMichelson/148534newsML.txt\n",
      "processing... ../../raw/C50/C50train/MarcelMichelson/148549newsML.txt\n",
      "processing... ../../raw/C50/C50train/MarcelMichelson/150780newsML.txt\n",
      "processing... ../../raw/C50/C50train/MarcelMichelson/158085newsML.txt\n",
      "processing... ../../raw/C50/C50train/MarcelMichelson/16949newsML.txt\n",
      "processing... ../../raw/C50/C50train/MarcelMichelson/171152newsML.txt\n",
      "processing... ../../raw/C50/C50train/MarcelMichelson/171548newsML.txt\n",
      "processing... ../../raw/C50/C50train/MarcelMichelson/174150newsML.txt\n",
      "processing... ../../raw/C50/C50train/MarcelMichelson/184864newsML.txt\n",
      "processing... ../../raw/C50/C50train/MarcelMichelson/18555newsML.txt\n",
      "processing... ../../raw/C50/C50train/MarcelMichelson/187829newsML.txt\n",
      "processing... ../../raw/C50/C50train/MarcelMichelson/197891newsML.txt\n",
      "processing... ../../raw/C50/C50train/MarcelMichelson/200130newsML.txt\n",
      "processing... ../../raw/C50/C50train/MarcelMichelson/200818newsML.txt\n",
      "processing... ../../raw/C50/C50train/MarcelMichelson/200991newsML.txt\n",
      "processing... ../../raw/C50/C50train/MarcelMichelson/203406newsML.txt\n",
      "processing... ../../raw/C50/C50train/MarcelMichelson/20886newsML.txt\n",
      "processing... ../../raw/C50/C50train/MarcelMichelson/210745newsML.txt\n",
      "processing... ../../raw/C50/C50train/MarcelMichelson/217645newsML.txt\n"
     ]
    },
    {
     "name": "stdout",
     "output_type": "stream",
     "text": [
      "processing... ../../raw/C50/C50train/MarcelMichelson/217650newsML.txt\n",
      "processing... ../../raw/C50/C50train/MarcelMichelson/218344newsML.txt\n",
      "processing... ../../raw/C50/C50train/MarcelMichelson/221119newsML.txt\n",
      "processing... ../../raw/C50/C50train/MarcelMichelson/221246newsML.txt\n",
      "processing... ../../raw/C50/C50train/MarcelMichelson/222937newsML.txt\n",
      "processing... ../../raw/C50/C50train/MarcelMichelson/22884newsML.txt\n",
      "processing... ../../raw/C50/C50train/MarcelMichelson/229499newsML.txt\n",
      "processing... ../../raw/C50/C50train/MarkBendeich/101093newsML.txt\n",
      "processing... ../../raw/C50/C50train/MarkBendeich/101098newsML.txt\n",
      "processing... ../../raw/C50/C50train/MarkBendeich/103818newsML.txt\n",
      "processing... ../../raw/C50/C50train/MarkBendeich/103826newsML.txt\n",
      "processing... ../../raw/C50/C50train/MarkBendeich/114722newsML.txt\n",
      "processing... ../../raw/C50/C50train/MarkBendeich/115420newsML.txt\n",
      "processing... ../../raw/C50/C50train/MarkBendeich/115431newsML.txt\n",
      "processing... ../../raw/C50/C50train/MarkBendeich/118468newsML.txt\n",
      "processing... ../../raw/C50/C50train/MarkBendeich/121864newsML.txt\n",
      "processing... ../../raw/C50/C50train/MarkBendeich/125094newsML.txt\n",
      "processing... ../../raw/C50/C50train/MarkBendeich/125147newsML.txt\n",
      "processing... ../../raw/C50/C50train/MarkBendeich/135098newsML.txt\n",
      "processing... ../../raw/C50/C50train/MarkBendeich/151787newsML.txt\n",
      "processing... ../../raw/C50/C50train/MarkBendeich/155007newsML.txt\n",
      "processing... ../../raw/C50/C50train/MarkBendeich/164991newsML.txt\n",
      "processing... ../../raw/C50/C50train/MarkBendeich/192328newsML.txt\n",
      "processing... ../../raw/C50/C50train/MarkBendeich/21528newsML.txt\n",
      "processing... ../../raw/C50/C50train/MarkBendeich/258563newsML.txt\n",
      "processing... ../../raw/C50/C50train/MarkBendeich/269583newsML.txt\n",
      "processing... ../../raw/C50/C50train/MarkBendeich/271058newsML.txt\n",
      "processing... ../../raw/C50/C50train/MarkBendeich/271077newsML.txt\n",
      "processing... ../../raw/C50/C50train/MarkBendeich/271088newsML.txt\n",
      "processing... ../../raw/C50/C50train/MarkBendeich/27264newsML.txt\n",
      "processing... ../../raw/C50/C50train/MarkBendeich/286524newsML.txt\n",
      "processing... ../../raw/C50/C50train/MarkBendeich/286542newsML.txt\n",
      "processing... ../../raw/C50/C50train/MarkBendeich/289652newsML.txt\n",
      "processing... ../../raw/C50/C50train/MarkBendeich/294948newsML.txt\n",
      "processing... ../../raw/C50/C50train/MarkBendeich/294969newsML.txt\n",
      "processing... ../../raw/C50/C50train/MarkBendeich/30673newsML.txt\n",
      "processing... ../../raw/C50/C50train/MarkBendeich/30686newsML.txt\n",
      "processing... ../../raw/C50/C50train/MarkBendeich/33304newsML.txt\n",
      "processing... ../../raw/C50/C50train/MarkBendeich/33308newsML.txt\n",
      "processing... ../../raw/C50/C50train/MarkBendeich/358695newsML.txt\n",
      "processing... ../../raw/C50/C50train/MarkBendeich/358701newsML.txt\n",
      "processing... ../../raw/C50/C50train/MarkBendeich/364654newsML.txt\n",
      "processing... ../../raw/C50/C50train/MarkBendeich/368102newsML.txt\n",
      "processing... ../../raw/C50/C50train/MarkBendeich/368145newsML.txt\n",
      "processing... ../../raw/C50/C50train/MarkBendeich/370908newsML.txt\n",
      "processing... ../../raw/C50/C50train/MarkBendeich/373924newsML.txt\n",
      "processing... ../../raw/C50/C50train/MarkBendeich/379952newsML.txt\n",
      "processing... ../../raw/C50/C50train/MarkBendeich/383098newsML.txt\n",
      "processing... ../../raw/C50/C50train/MarkBendeich/383103newsML.txt\n",
      "processing... ../../raw/C50/C50train/MarkBendeich/391048newsML.txt\n",
      "processing... ../../raw/C50/C50train/MarkBendeich/395441newsML.txt\n",
      "processing... ../../raw/C50/C50train/MarkBendeich/398974newsML.txt\n",
      "processing... ../../raw/C50/C50train/MarkBendeich/399002newsML.txt\n",
      "processing... ../../raw/C50/C50train/MarkBendeich/399895newsML.txt\n",
      "processing... ../../raw/C50/C50train/MarkBendeich/402409newsML.txt\n",
      "processing... ../../raw/C50/C50train/MarkBendeich/402412newsML.txt\n",
      "processing... ../../raw/C50/C50train/MarkBendeich/402444newsML.txt\n",
      "processing... ../../raw/C50/C50train/MartinWolk/100375newsML.txt\n",
      "processing... ../../raw/C50/C50train/MartinWolk/101547newsML.txt\n",
      "processing... ../../raw/C50/C50train/MartinWolk/108184newsML.txt\n",
      "processing... ../../raw/C50/C50train/MartinWolk/108730newsML.txt\n",
      "processing... ../../raw/C50/C50train/MartinWolk/11750newsML.txt\n",
      "processing... ../../raw/C50/C50train/MartinWolk/127151newsML.txt\n",
      "processing... ../../raw/C50/C50train/MartinWolk/127318newsML.txt\n",
      "processing... ../../raw/C50/C50train/MartinWolk/130607newsML.txt\n",
      "processing... ../../raw/C50/C50train/MartinWolk/130622newsML.txt\n",
      "processing... ../../raw/C50/C50train/MartinWolk/130730newsML.txt\n",
      "processing... ../../raw/C50/C50train/MartinWolk/132308newsML.txt\n",
      "processing... ../../raw/C50/C50train/MartinWolk/132566newsML.txt\n",
      "processing... ../../raw/C50/C50train/MartinWolk/13568newsML.txt\n",
      "processing... ../../raw/C50/C50train/MartinWolk/140462newsML.txt\n",
      "processing... ../../raw/C50/C50train/MartinWolk/143574newsML.txt\n",
      "processing... ../../raw/C50/C50train/MartinWolk/15583newsML.txt\n",
      "processing... ../../raw/C50/C50train/MartinWolk/157448newsML.txt\n",
      "processing... ../../raw/C50/C50train/MartinWolk/158943newsML.txt\n",
      "processing... ../../raw/C50/C50train/MartinWolk/162155newsML.txt\n",
      "processing... ../../raw/C50/C50train/MartinWolk/16678newsML.txt\n",
      "processing... ../../raw/C50/C50train/MartinWolk/174033newsML.txt\n",
      "processing... ../../raw/C50/C50train/MartinWolk/182849newsML.txt\n",
      "processing... ../../raw/C50/C50train/MartinWolk/183836newsML.txt\n",
      "processing... ../../raw/C50/C50train/MartinWolk/202582newsML.txt\n",
      "processing... ../../raw/C50/C50train/MartinWolk/203663newsML.txt\n",
      "processing... ../../raw/C50/C50train/MartinWolk/20801newsML.txt\n",
      "processing... ../../raw/C50/C50train/MartinWolk/22286newsML.txt\n",
      "processing... ../../raw/C50/C50train/MartinWolk/232346newsML.txt\n",
      "processing... ../../raw/C50/C50train/MartinWolk/2538newsML.txt\n",
      "processing... ../../raw/C50/C50train/MartinWolk/257342newsML.txt\n",
      "processing... ../../raw/C50/C50train/MartinWolk/257622newsML.txt\n",
      "processing... ../../raw/C50/C50train/MartinWolk/257926newsML.txt\n",
      "processing... ../../raw/C50/C50train/MartinWolk/258793newsML.txt\n",
      "processing... ../../raw/C50/C50train/MartinWolk/259308newsML.txt\n",
      "processing... ../../raw/C50/C50train/MartinWolk/259796newsML.txt\n",
      "processing... ../../raw/C50/C50train/MartinWolk/274876newsML.txt\n",
      "processing... ../../raw/C50/C50train/MartinWolk/275458newsML.txt\n",
      "processing... ../../raw/C50/C50train/MartinWolk/276214newsML.txt\n",
      "processing... ../../raw/C50/C50train/MartinWolk/285485newsML.txt\n",
      "processing... ../../raw/C50/C50train/MartinWolk/290078newsML.txt\n",
      "processing... ../../raw/C50/C50train/MartinWolk/295347newsML.txt\n",
      "processing... ../../raw/C50/C50train/MartinWolk/302120newsML.txt\n",
      "processing... ../../raw/C50/C50train/MartinWolk/309552newsML.txt\n",
      "processing... ../../raw/C50/C50train/MartinWolk/311937newsML.txt\n",
      "processing... ../../raw/C50/C50train/MartinWolk/312192newsML.txt\n",
      "processing... ../../raw/C50/C50train/MartinWolk/315688newsML.txt\n",
      "processing... ../../raw/C50/C50train/MartinWolk/316912newsML.txt\n",
      "processing... ../../raw/C50/C50train/MartinWolk/317025newsML.txt\n",
      "processing... ../../raw/C50/C50train/MartinWolk/318853newsML.txt\n",
      "processing... ../../raw/C50/C50train/MartinWolk/319110newsML.txt\n",
      "processing... ../../raw/C50/C50train/MatthewBunce/102033newsML.txt\n",
      "processing... ../../raw/C50/C50train/MatthewBunce/107670newsML.txt\n",
      "processing... ../../raw/C50/C50train/MatthewBunce/130106newsML.txt\n",
      "processing... ../../raw/C50/C50train/MatthewBunce/139789newsML.txt\n",
      "processing... ../../raw/C50/C50train/MatthewBunce/153002newsML.txt\n",
      "processing... ../../raw/C50/C50train/MatthewBunce/156243newsML.txt\n",
      "processing... ../../raw/C50/C50train/MatthewBunce/165943newsML.txt\n",
      "processing... ../../raw/C50/C50train/MatthewBunce/165976newsML.txt\n",
      "processing... ../../raw/C50/C50train/MatthewBunce/169180newsML.txt\n",
      "processing... ../../raw/C50/C50train/MatthewBunce/169229newsML.txt\n",
      "processing... ../../raw/C50/C50train/MatthewBunce/175759newsML.txt\n",
      "processing... ../../raw/C50/C50train/MatthewBunce/224752newsML.txt\n",
      "processing... ../../raw/C50/C50train/MatthewBunce/224769newsML.txt\n",
      "processing... ../../raw/C50/C50train/MatthewBunce/224786newsML.txt\n",
      "processing... ../../raw/C50/C50train/MatthewBunce/233655newsML.txt\n",
      "processing... ../../raw/C50/C50train/MatthewBunce/236509newsML.txt\n",
      "processing... ../../raw/C50/C50train/MatthewBunce/248714newsML.txt\n",
      "processing... ../../raw/C50/C50train/MatthewBunce/251685newsML.txt\n",
      "processing... ../../raw/C50/C50train/MatthewBunce/258294newsML.txt\n",
      "processing... ../../raw/C50/C50train/MatthewBunce/263657newsML.txt\n",
      "processing... ../../raw/C50/C50train/MatthewBunce/266534newsML.txt\n",
      "processing... ../../raw/C50/C50train/MatthewBunce/280201newsML.txt\n"
     ]
    },
    {
     "name": "stdout",
     "output_type": "stream",
     "text": [
      "processing... ../../raw/C50/C50train/MatthewBunce/280207newsML.txt\n",
      "processing... ../../raw/C50/C50train/MatthewBunce/283605newsML.txt\n",
      "processing... ../../raw/C50/C50train/MatthewBunce/286922newsML.txt\n",
      "processing... ../../raw/C50/C50train/MatthewBunce/287384newsML.txt\n",
      "processing... ../../raw/C50/C50train/MatthewBunce/288284newsML.txt\n",
      "processing... ../../raw/C50/C50train/MatthewBunce/293127newsML.txt\n",
      "processing... ../../raw/C50/C50train/MatthewBunce/298758newsML.txt\n",
      "processing... ../../raw/C50/C50train/MatthewBunce/301536newsML.txt\n",
      "processing... ../../raw/C50/C50train/MatthewBunce/302468newsML.txt\n",
      "processing... ../../raw/C50/C50train/MatthewBunce/302478newsML.txt\n",
      "processing... ../../raw/C50/C50train/MatthewBunce/305276newsML.txt\n",
      "processing... ../../raw/C50/C50train/MatthewBunce/308257newsML.txt\n",
      "processing... ../../raw/C50/C50train/MatthewBunce/311372newsML.txt\n",
      "processing... ../../raw/C50/C50train/MatthewBunce/318283newsML.txt\n",
      "processing... ../../raw/C50/C50train/MatthewBunce/327686newsML.txt\n",
      "processing... ../../raw/C50/C50train/MatthewBunce/333417newsML.txt\n",
      "processing... ../../raw/C50/C50train/MatthewBunce/334354newsML.txt\n",
      "processing... ../../raw/C50/C50train/MatthewBunce/343391newsML.txt\n",
      "processing... ../../raw/C50/C50train/MatthewBunce/343415newsML.txt\n",
      "processing... ../../raw/C50/C50train/MatthewBunce/343437newsML.txt\n",
      "processing... ../../raw/C50/C50train/MatthewBunce/346379newsML.txt\n",
      "processing... ../../raw/C50/C50train/MatthewBunce/350671newsML.txt\n",
      "processing... ../../raw/C50/C50train/MatthewBunce/356601newsML.txt\n",
      "processing... ../../raw/C50/C50train/MatthewBunce/359837newsML.txt\n",
      "processing... ../../raw/C50/C50train/MatthewBunce/359857newsML.txt\n",
      "processing... ../../raw/C50/C50train/MatthewBunce/362649newsML.txt\n",
      "processing... ../../raw/C50/C50train/MatthewBunce/362811newsML.txt\n",
      "processing... ../../raw/C50/C50train/MatthewBunce/362814newsML.txt\n",
      "processing... ../../raw/C50/C50train/MichaelConnor/102530newsML.txt\n",
      "processing... ../../raw/C50/C50train/MichaelConnor/105491newsML.txt\n",
      "processing... ../../raw/C50/C50train/MichaelConnor/119156newsML.txt\n",
      "processing... ../../raw/C50/C50train/MichaelConnor/120404newsML.txt\n",
      "processing... ../../raw/C50/C50train/MichaelConnor/122415newsML.txt\n",
      "processing... ../../raw/C50/C50train/MichaelConnor/124763newsML.txt\n",
      "processing... ../../raw/C50/C50train/MichaelConnor/13406newsML.txt\n",
      "processing... ../../raw/C50/C50train/MichaelConnor/13865newsML.txt\n",
      "processing... ../../raw/C50/C50train/MichaelConnor/13958newsML.txt\n",
      "processing... ../../raw/C50/C50train/MichaelConnor/152528newsML.txt\n",
      "processing... ../../raw/C50/C50train/MichaelConnor/183243newsML.txt\n",
      "processing... ../../raw/C50/C50train/MichaelConnor/184787newsML.txt\n",
      "processing... ../../raw/C50/C50train/MichaelConnor/186387newsML.txt\n",
      "processing... ../../raw/C50/C50train/MichaelConnor/186990newsML.txt\n",
      "processing... ../../raw/C50/C50train/MichaelConnor/22201newsML.txt\n",
      "processing... ../../raw/C50/C50train/MichaelConnor/233199newsML.txt\n",
      "processing... ../../raw/C50/C50train/MichaelConnor/234177newsML.txt\n",
      "processing... ../../raw/C50/C50train/MichaelConnor/237057newsML.txt\n",
      "processing... ../../raw/C50/C50train/MichaelConnor/239435newsML.txt\n",
      "processing... ../../raw/C50/C50train/MichaelConnor/239967newsML.txt\n",
      "processing... ../../raw/C50/C50train/MichaelConnor/245471newsML.txt\n",
      "processing... ../../raw/C50/C50train/MichaelConnor/257827newsML.txt\n",
      "processing... ../../raw/C50/C50train/MichaelConnor/261401newsML.txt\n",
      "processing... ../../raw/C50/C50train/MichaelConnor/269791newsML.txt\n",
      "processing... ../../raw/C50/C50train/MichaelConnor/269817newsML.txt\n",
      "processing... ../../raw/C50/C50train/MichaelConnor/269990newsML.txt\n",
      "processing... ../../raw/C50/C50train/MichaelConnor/270352newsML.txt\n",
      "processing... ../../raw/C50/C50train/MichaelConnor/285409newsML.txt\n",
      "processing... ../../raw/C50/C50train/MichaelConnor/287614newsML.txt\n",
      "processing... ../../raw/C50/C50train/MichaelConnor/288623newsML.txt\n",
      "processing... ../../raw/C50/C50train/MichaelConnor/288745newsML.txt\n",
      "processing... ../../raw/C50/C50train/MichaelConnor/298475newsML.txt\n",
      "processing... ../../raw/C50/C50train/MichaelConnor/299336newsML.txt\n",
      "processing... ../../raw/C50/C50train/MichaelConnor/305809newsML.txt\n",
      "processing... ../../raw/C50/C50train/MichaelConnor/307864newsML.txt\n",
      "processing... ../../raw/C50/C50train/MichaelConnor/309322newsML.txt\n",
      "processing... ../../raw/C50/C50train/MichaelConnor/320765newsML.txt\n",
      "processing... ../../raw/C50/C50train/MichaelConnor/323784newsML.txt\n",
      "processing... ../../raw/C50/C50train/MichaelConnor/324861newsML.txt\n",
      "processing... ../../raw/C50/C50train/MichaelConnor/328867newsML.txt\n",
      "processing... ../../raw/C50/C50train/MichaelConnor/353261newsML.txt\n",
      "processing... ../../raw/C50/C50train/MichaelConnor/357313newsML.txt\n",
      "processing... ../../raw/C50/C50train/MichaelConnor/360346newsML.txt\n",
      "processing... ../../raw/C50/C50train/MichaelConnor/363969newsML.txt\n",
      "processing... ../../raw/C50/C50train/MichaelConnor/372558newsML.txt\n",
      "processing... ../../raw/C50/C50train/MichaelConnor/375668newsML.txt\n",
      "processing... ../../raw/C50/C50train/MichaelConnor/379600newsML.txt\n",
      "processing... ../../raw/C50/C50train/MichaelConnor/40606newsML.txt\n",
      "processing... ../../raw/C50/C50train/MichaelConnor/406455newsML.txt\n",
      "processing... ../../raw/C50/C50train/MichaelConnor/418479newsML.txt\n",
      "processing... ../../raw/C50/C50train/MureDickie/102467newsML.txt\n",
      "processing... ../../raw/C50/C50train/MureDickie/105255newsML.txt\n",
      "processing... ../../raw/C50/C50train/MureDickie/108143newsML.txt\n",
      "processing... ../../raw/C50/C50train/MureDickie/110742newsML.txt\n",
      "processing... ../../raw/C50/C50train/MureDickie/11265newsML.txt\n",
      "processing... ../../raw/C50/C50train/MureDickie/11273newsML.txt\n",
      "processing... ../../raw/C50/C50train/MureDickie/117025newsML.txt\n",
      "processing... ../../raw/C50/C50train/MureDickie/118737newsML.txt\n",
      "processing... ../../raw/C50/C50train/MureDickie/120273newsML.txt\n",
      "processing... ../../raw/C50/C50train/MureDickie/125212newsML.txt\n",
      "processing... ../../raw/C50/C50train/MureDickie/126632newsML.txt\n",
      "processing... ../../raw/C50/C50train/MureDickie/129103newsML.txt\n",
      "processing... ../../raw/C50/C50train/MureDickie/130515newsML.txt\n",
      "processing... ../../raw/C50/C50train/MureDickie/133488newsML.txt\n",
      "processing... ../../raw/C50/C50train/MureDickie/137508newsML.txt\n",
      "processing... ../../raw/C50/C50train/MureDickie/138551newsML.txt\n",
      "processing... ../../raw/C50/C50train/MureDickie/140299newsML.txt\n",
      "processing... ../../raw/C50/C50train/MureDickie/142229newsML.txt\n",
      "processing... ../../raw/C50/C50train/MureDickie/144988newsML.txt\n",
      "processing... ../../raw/C50/C50train/MureDickie/153427newsML.txt\n",
      "processing... ../../raw/C50/C50train/MureDickie/155055newsML.txt\n",
      "processing... ../../raw/C50/C50train/MureDickie/156653newsML.txt\n",
      "processing... ../../raw/C50/C50train/MureDickie/15700newsML.txt\n",
      "processing... ../../raw/C50/C50train/MureDickie/158417newsML.txt\n",
      "processing... ../../raw/C50/C50train/MureDickie/159932newsML.txt\n",
      "processing... ../../raw/C50/C50train/MureDickie/159960newsML.txt\n",
      "processing... ../../raw/C50/C50train/MureDickie/161084newsML.txt\n",
      "processing... ../../raw/C50/C50train/MureDickie/161833newsML.txt\n",
      "processing... ../../raw/C50/C50train/MureDickie/163678newsML.txt\n",
      "processing... ../../raw/C50/C50train/MureDickie/166433newsML.txt\n",
      "processing... ../../raw/C50/C50train/MureDickie/167928newsML.txt\n",
      "processing... ../../raw/C50/C50train/MureDickie/169588newsML.txt\n",
      "processing... ../../raw/C50/C50train/MureDickie/169608newsML.txt\n",
      "processing... ../../raw/C50/C50train/MureDickie/174493newsML.txt\n",
      "processing... ../../raw/C50/C50train/MureDickie/176131newsML.txt\n",
      "processing... ../../raw/C50/C50train/MureDickie/182489newsML.txt\n",
      "processing... ../../raw/C50/C50train/MureDickie/186174newsML.txt\n",
      "processing... ../../raw/C50/C50train/MureDickie/187394newsML.txt\n",
      "processing... ../../raw/C50/C50train/MureDickie/188953newsML.txt\n",
      "processing... ../../raw/C50/C50train/MureDickie/192419newsML.txt\n",
      "processing... ../../raw/C50/C50train/MureDickie/192434newsML.txt\n",
      "processing... ../../raw/C50/C50train/MureDickie/196752newsML.txt\n",
      "processing... ../../raw/C50/C50train/MureDickie/199837newsML.txt\n",
      "processing... ../../raw/C50/C50train/MureDickie/204883newsML.txt\n",
      "processing... ../../raw/C50/C50train/MureDickie/209808newsML.txt\n",
      "processing... ../../raw/C50/C50train/MureDickie/209826newsML.txt\n",
      "processing... ../../raw/C50/C50train/MureDickie/211093newsML.txt\n",
      "processing... ../../raw/C50/C50train/MureDickie/214186newsML.txt\n"
     ]
    },
    {
     "name": "stdout",
     "output_type": "stream",
     "text": [
      "processing... ../../raw/C50/C50train/MureDickie/222803newsML.txt\n",
      "processing... ../../raw/C50/C50train/MureDickie/225075newsML.txt\n",
      "processing... ../../raw/C50/C50train/NickLouth/105567newsML.txt\n",
      "processing... ../../raw/C50/C50train/NickLouth/10799newsML.txt\n",
      "processing... ../../raw/C50/C50train/NickLouth/108449newsML.txt\n",
      "processing... ../../raw/C50/C50train/NickLouth/110904newsML.txt\n",
      "processing... ../../raw/C50/C50train/NickLouth/112673newsML.txt\n",
      "processing... ../../raw/C50/C50train/NickLouth/116073newsML.txt\n",
      "processing... ../../raw/C50/C50train/NickLouth/116176newsML.txt\n",
      "processing... ../../raw/C50/C50train/NickLouth/117081newsML.txt\n",
      "processing... ../../raw/C50/C50train/NickLouth/119266newsML.txt\n",
      "processing... ../../raw/C50/C50train/NickLouth/120416newsML.txt\n",
      "processing... ../../raw/C50/C50train/NickLouth/120591newsML.txt\n",
      "processing... ../../raw/C50/C50train/NickLouth/121030newsML.txt\n",
      "processing... ../../raw/C50/C50train/NickLouth/123754newsML.txt\n",
      "processing... ../../raw/C50/C50train/NickLouth/123878newsML.txt\n",
      "processing... ../../raw/C50/C50train/NickLouth/130621newsML.txt\n",
      "processing... ../../raw/C50/C50train/NickLouth/133736newsML.txt\n",
      "processing... ../../raw/C50/C50train/NickLouth/133837newsML.txt\n",
      "processing... ../../raw/C50/C50train/NickLouth/13391newsML.txt\n",
      "processing... ../../raw/C50/C50train/NickLouth/135866newsML.txt\n",
      "processing... ../../raw/C50/C50train/NickLouth/136039newsML.txt\n",
      "processing... ../../raw/C50/C50train/NickLouth/136074newsML.txt\n",
      "processing... ../../raw/C50/C50train/NickLouth/136895newsML.txt\n",
      "processing... ../../raw/C50/C50train/NickLouth/137483newsML.txt\n",
      "processing... ../../raw/C50/C50train/NickLouth/137486newsML.txt\n",
      "processing... ../../raw/C50/C50train/NickLouth/13825newsML.txt\n",
      "processing... ../../raw/C50/C50train/NickLouth/13930newsML.txt\n",
      "processing... ../../raw/C50/C50train/NickLouth/13951newsML.txt\n",
      "processing... ../../raw/C50/C50train/NickLouth/140553newsML.txt\n",
      "processing... ../../raw/C50/C50train/NickLouth/154642newsML.txt\n",
      "processing... ../../raw/C50/C50train/NickLouth/155834newsML.txt\n",
      "processing... ../../raw/C50/C50train/NickLouth/159095newsML.txt\n",
      "processing... ../../raw/C50/C50train/NickLouth/159997newsML.txt\n",
      "processing... ../../raw/C50/C50train/NickLouth/160344newsML.txt\n",
      "processing... ../../raw/C50/C50train/NickLouth/160349newsML.txt\n",
      "processing... ../../raw/C50/C50train/NickLouth/16038newsML.txt\n",
      "processing... ../../raw/C50/C50train/NickLouth/161927newsML.txt\n",
      "processing... ../../raw/C50/C50train/NickLouth/162020newsML.txt\n",
      "processing... ../../raw/C50/C50train/NickLouth/162173newsML.txt\n",
      "processing... ../../raw/C50/C50train/NickLouth/162177newsML.txt\n",
      "processing... ../../raw/C50/C50train/NickLouth/162521newsML.txt\n",
      "processing... ../../raw/C50/C50train/NickLouth/162540newsML.txt\n",
      "processing... ../../raw/C50/C50train/NickLouth/162682newsML.txt\n",
      "processing... ../../raw/C50/C50train/NickLouth/162894newsML.txt\n",
      "processing... ../../raw/C50/C50train/NickLouth/163897newsML.txt\n",
      "processing... ../../raw/C50/C50train/NickLouth/164455newsML.txt\n",
      "processing... ../../raw/C50/C50train/NickLouth/164659newsML.txt\n",
      "processing... ../../raw/C50/C50train/NickLouth/165338newsML.txt\n",
      "processing... ../../raw/C50/C50train/NickLouth/180293newsML.txt\n",
      "processing... ../../raw/C50/C50train/NickLouth/182667newsML.txt\n",
      "processing... ../../raw/C50/C50train/NickLouth/18798newsML.txt\n",
      "processing... ../../raw/C50/C50train/PatriciaCommins/102551newsML.txt\n",
      "processing... ../../raw/C50/C50train/PatriciaCommins/102719newsML.txt\n",
      "processing... ../../raw/C50/C50train/PatriciaCommins/102793newsML.txt\n",
      "processing... ../../raw/C50/C50train/PatriciaCommins/108222newsML.txt\n",
      "processing... ../../raw/C50/C50train/PatriciaCommins/108443newsML.txt\n",
      "processing... ../../raw/C50/C50train/PatriciaCommins/114356newsML.txt\n",
      "processing... ../../raw/C50/C50train/PatriciaCommins/114428newsML.txt\n",
      "processing... ../../raw/C50/C50train/PatriciaCommins/114859newsML.txt\n",
      "processing... ../../raw/C50/C50train/PatriciaCommins/117099newsML.txt\n",
      "processing... ../../raw/C50/C50train/PatriciaCommins/120569newsML.txt\n",
      "processing... ../../raw/C50/C50train/PatriciaCommins/120588newsML.txt\n",
      "processing... ../../raw/C50/C50train/PatriciaCommins/123595newsML.txt\n",
      "processing... ../../raw/C50/C50train/PatriciaCommins/123628newsML.txt\n",
      "processing... ../../raw/C50/C50train/PatriciaCommins/123987newsML.txt\n",
      "processing... ../../raw/C50/C50train/PatriciaCommins/125965newsML.txt\n",
      "processing... ../../raw/C50/C50train/PatriciaCommins/126714newsML.txt\n",
      "processing... ../../raw/C50/C50train/PatriciaCommins/132671newsML.txt\n",
      "processing... ../../raw/C50/C50train/PatriciaCommins/140446newsML.txt\n",
      "processing... ../../raw/C50/C50train/PatriciaCommins/142683newsML.txt\n",
      "processing... ../../raw/C50/C50train/PatriciaCommins/142736newsML.txt\n",
      "processing... ../../raw/C50/C50train/PatriciaCommins/143591newsML.txt\n",
      "processing... ../../raw/C50/C50train/PatriciaCommins/143765newsML.txt\n",
      "processing... ../../raw/C50/C50train/PatriciaCommins/153684newsML.txt\n",
      "processing... ../../raw/C50/C50train/PatriciaCommins/156759newsML.txt\n",
      "processing... ../../raw/C50/C50train/PatriciaCommins/15778newsML.txt\n",
      "processing... ../../raw/C50/C50train/PatriciaCommins/178068newsML.txt\n",
      "processing... ../../raw/C50/C50train/PatriciaCommins/178089newsML.txt\n",
      "processing... ../../raw/C50/C50train/PatriciaCommins/18217newsML.txt\n",
      "processing... ../../raw/C50/C50train/PatriciaCommins/18739newsML.txt\n",
      "processing... ../../raw/C50/C50train/PatriciaCommins/203296newsML.txt\n",
      "processing... ../../raw/C50/C50train/PatriciaCommins/205566newsML.txt\n",
      "processing... ../../raw/C50/C50train/PatriciaCommins/209925newsML.txt\n",
      "processing... ../../raw/C50/C50train/PatriciaCommins/209945newsML.txt\n",
      "processing... ../../raw/C50/C50train/PatriciaCommins/213454newsML.txt\n",
      "processing... ../../raw/C50/C50train/PatriciaCommins/217368newsML.txt\n",
      "processing... ../../raw/C50/C50train/PatriciaCommins/2296newsML.txt\n",
      "processing... ../../raw/C50/C50train/PatriciaCommins/231178newsML.txt\n",
      "processing... ../../raw/C50/C50train/PatriciaCommins/237159newsML.txt\n",
      "processing... ../../raw/C50/C50train/PatriciaCommins/251195newsML.txt\n",
      "processing... ../../raw/C50/C50train/PatriciaCommins/251347newsML.txt\n",
      "processing... ../../raw/C50/C50train/PatriciaCommins/255134newsML.txt\n",
      "processing... ../../raw/C50/C50train/PatriciaCommins/255733newsML.txt\n",
      "processing... ../../raw/C50/C50train/PatriciaCommins/258801newsML.txt\n",
      "processing... ../../raw/C50/C50train/PatriciaCommins/259000newsML.txt\n",
      "processing... ../../raw/C50/C50train/PatriciaCommins/264335newsML.txt\n",
      "processing... ../../raw/C50/C50train/PatriciaCommins/267178newsML.txt\n",
      "processing... ../../raw/C50/C50train/PatriciaCommins/270137newsML.txt\n",
      "processing... ../../raw/C50/C50train/PatriciaCommins/283991newsML.txt\n",
      "processing... ../../raw/C50/C50train/PatriciaCommins/288774newsML.txt\n",
      "processing... ../../raw/C50/C50train/PatriciaCommins/291177newsML.txt\n",
      "processing... ../../raw/C50/C50train/PeterHumphrey/108105newsML.txt\n",
      "processing... ../../raw/C50/C50train/PeterHumphrey/115524newsML.txt\n",
      "processing... ../../raw/C50/C50train/PeterHumphrey/120288newsML.txt\n",
      "processing... ../../raw/C50/C50train/PeterHumphrey/129185newsML.txt\n",
      "processing... ../../raw/C50/C50train/PeterHumphrey/151867newsML.txt\n",
      "processing... ../../raw/C50/C50train/PeterHumphrey/158626newsML.txt\n",
      "processing... ../../raw/C50/C50train/PeterHumphrey/161373newsML.txt\n",
      "processing... ../../raw/C50/C50train/PeterHumphrey/166468newsML.txt\n",
      "processing... ../../raw/C50/C50train/PeterHumphrey/174559newsML.txt\n",
      "processing... ../../raw/C50/C50train/PeterHumphrey/184622newsML.txt\n",
      "processing... ../../raw/C50/C50train/PeterHumphrey/190619newsML.txt\n",
      "processing... ../../raw/C50/C50train/PeterHumphrey/192387newsML.txt\n",
      "processing... ../../raw/C50/C50train/PeterHumphrey/194769newsML.txt\n",
      "processing... ../../raw/C50/C50train/PeterHumphrey/195348newsML.txt\n",
      "processing... ../../raw/C50/C50train/PeterHumphrey/202909newsML.txt\n",
      "processing... ../../raw/C50/C50train/PeterHumphrey/205146newsML.txt\n",
      "processing... ../../raw/C50/C50train/PeterHumphrey/208161newsML.txt\n",
      "processing... ../../raw/C50/C50train/PeterHumphrey/215906newsML.txt\n",
      "processing... ../../raw/C50/C50train/PeterHumphrey/217232newsML.txt\n",
      "processing... ../../raw/C50/C50train/PeterHumphrey/221800newsML.txt\n",
      "processing... ../../raw/C50/C50train/PeterHumphrey/222778newsML.txt\n",
      "processing... ../../raw/C50/C50train/PeterHumphrey/224140newsML.txt\n",
      "processing... ../../raw/C50/C50train/PeterHumphrey/226225newsML.txt\n",
      "processing... ../../raw/C50/C50train/PeterHumphrey/227262newsML.txt\n",
      "processing... ../../raw/C50/C50train/PeterHumphrey/232735newsML.txt\n",
      "processing... ../../raw/C50/C50train/PeterHumphrey/232850newsML.txt\n",
      "processing... ../../raw/C50/C50train/PeterHumphrey/235615newsML.txt\n",
      "processing... ../../raw/C50/C50train/PeterHumphrey/235690newsML.txt\n"
     ]
    },
    {
     "name": "stdout",
     "output_type": "stream",
     "text": [
      "processing... ../../raw/C50/C50train/PeterHumphrey/238764newsML.txt\n",
      "processing... ../../raw/C50/C50train/PeterHumphrey/242322newsML.txt\n",
      "processing... ../../raw/C50/C50train/PeterHumphrey/243415newsML.txt\n",
      "processing... ../../raw/C50/C50train/PeterHumphrey/244883newsML.txt\n",
      "processing... ../../raw/C50/C50train/PeterHumphrey/246251newsML.txt\n",
      "processing... ../../raw/C50/C50train/PeterHumphrey/247781newsML.txt\n",
      "processing... ../../raw/C50/C50train/PeterHumphrey/247855newsML.txt\n",
      "processing... ../../raw/C50/C50train/PeterHumphrey/250733newsML.txt\n",
      "processing... ../../raw/C50/C50train/PeterHumphrey/250825newsML.txt\n",
      "processing... ../../raw/C50/C50train/PeterHumphrey/252085newsML.txt\n",
      "processing... ../../raw/C50/C50train/PeterHumphrey/25384newsML.txt\n",
      "processing... ../../raw/C50/C50train/PeterHumphrey/256526newsML.txt\n",
      "processing... ../../raw/C50/C50train/PeterHumphrey/262875newsML.txt\n",
      "processing... ../../raw/C50/C50train/PeterHumphrey/262888newsML.txt\n",
      "processing... ../../raw/C50/C50train/PeterHumphrey/26410newsML.txt\n",
      "processing... ../../raw/C50/C50train/PeterHumphrey/269850newsML.txt\n",
      "processing... ../../raw/C50/C50train/PeterHumphrey/269864newsML.txt\n",
      "processing... ../../raw/C50/C50train/PeterHumphrey/271287newsML.txt\n",
      "processing... ../../raw/C50/C50train/PeterHumphrey/271684newsML.txt\n",
      "processing... ../../raw/C50/C50train/PeterHumphrey/276107newsML.txt\n",
      "processing... ../../raw/C50/C50train/PeterHumphrey/278596newsML.txt\n",
      "processing... ../../raw/C50/C50train/PeterHumphrey/302864newsML.txt\n",
      "processing... ../../raw/C50/C50train/PierreTran/100796newsML.txt\n",
      "processing... ../../raw/C50/C50train/PierreTran/103156newsML.txt\n",
      "processing... ../../raw/C50/C50train/PierreTran/103612newsML.txt\n",
      "processing... ../../raw/C50/C50train/PierreTran/111120newsML.txt\n",
      "processing... ../../raw/C50/C50train/PierreTran/114507newsML.txt\n",
      "processing... ../../raw/C50/C50train/PierreTran/114726newsML.txt\n",
      "processing... ../../raw/C50/C50train/PierreTran/117510newsML.txt\n",
      "processing... ../../raw/C50/C50train/PierreTran/120892newsML.txt\n",
      "processing... ../../raw/C50/C50train/PierreTran/120914newsML.txt\n",
      "processing... ../../raw/C50/C50train/PierreTran/121047newsML.txt\n",
      "processing... ../../raw/C50/C50train/PierreTran/121060newsML.txt\n",
      "processing... ../../raw/C50/C50train/PierreTran/131651newsML.txt\n",
      "processing... ../../raw/C50/C50train/PierreTran/134012newsML.txt\n",
      "processing... ../../raw/C50/C50train/PierreTran/134014newsML.txt\n",
      "processing... ../../raw/C50/C50train/PierreTran/135536newsML.txt\n",
      "processing... ../../raw/C50/C50train/PierreTran/137348newsML.txt\n",
      "processing... ../../raw/C50/C50train/PierreTran/166855newsML.txt\n",
      "processing... ../../raw/C50/C50train/PierreTran/169998newsML.txt\n",
      "processing... ../../raw/C50/C50train/PierreTran/187064newsML.txt\n",
      "processing... ../../raw/C50/C50train/PierreTran/193894newsML.txt\n",
      "processing... ../../raw/C50/C50train/PierreTran/200399newsML.txt\n",
      "processing... ../../raw/C50/C50train/PierreTran/203401newsML.txt\n",
      "processing... ../../raw/C50/C50train/PierreTran/203527newsML.txt\n",
      "processing... ../../raw/C50/C50train/PierreTran/204524newsML.txt\n",
      "processing... ../../raw/C50/C50train/PierreTran/220430newsML.txt\n",
      "processing... ../../raw/C50/C50train/PierreTran/221117newsML.txt\n",
      "processing... ../../raw/C50/C50train/PierreTran/231585newsML.txt\n",
      "processing... ../../raw/C50/C50train/PierreTran/240967newsML.txt\n",
      "processing... ../../raw/C50/C50train/PierreTran/243837newsML.txt\n",
      "processing... ../../raw/C50/C50train/PierreTran/244133newsML.txt\n",
      "processing... ../../raw/C50/C50train/PierreTran/257666newsML.txt\n",
      "processing... ../../raw/C50/C50train/PierreTran/257759newsML.txt\n",
      "processing... ../../raw/C50/C50train/PierreTran/257760newsML.txt\n",
      "processing... ../../raw/C50/C50train/PierreTran/259821newsML.txt\n",
      "processing... ../../raw/C50/C50train/PierreTran/261933newsML.txt\n",
      "processing... ../../raw/C50/C50train/PierreTran/270873newsML.txt\n",
      "processing... ../../raw/C50/C50train/PierreTran/286787newsML.txt\n",
      "processing... ../../raw/C50/C50train/PierreTran/29116newsML.txt\n",
      "processing... ../../raw/C50/C50train/PierreTran/303195newsML.txt\n",
      "processing... ../../raw/C50/C50train/PierreTran/304051newsML.txt\n",
      "processing... ../../raw/C50/C50train/PierreTran/315959newsML.txt\n",
      "processing... ../../raw/C50/C50train/PierreTran/319304newsML.txt\n",
      "processing... ../../raw/C50/C50train/PierreTran/322828newsML.txt\n",
      "processing... ../../raw/C50/C50train/PierreTran/322947newsML.txt\n",
      "processing... ../../raw/C50/C50train/PierreTran/335078newsML.txt\n",
      "processing... ../../raw/C50/C50train/PierreTran/335319newsML.txt\n",
      "processing... ../../raw/C50/C50train/PierreTran/37690newsML.txt\n",
      "processing... ../../raw/C50/C50train/PierreTran/37710newsML.txt\n",
      "processing... ../../raw/C50/C50train/PierreTran/37762newsML.txt\n",
      "processing... ../../raw/C50/C50train/PierreTran/379739newsML.txt\n",
      "processing... ../../raw/C50/C50train/RobinSidel/104639newsML.txt\n",
      "processing... ../../raw/C50/C50train/RobinSidel/105455newsML.txt\n",
      "processing... ../../raw/C50/C50train/RobinSidel/10726newsML.txt\n",
      "processing... ../../raw/C50/C50train/RobinSidel/110827newsML.txt\n",
      "processing... ../../raw/C50/C50train/RobinSidel/110986newsML.txt\n",
      "processing... ../../raw/C50/C50train/RobinSidel/113551newsML.txt\n",
      "processing... ../../raw/C50/C50train/RobinSidel/122605newsML.txt\n",
      "processing... ../../raw/C50/C50train/RobinSidel/129289newsML.txt\n",
      "processing... ../../raw/C50/C50train/RobinSidel/129717newsML.txt\n",
      "processing... ../../raw/C50/C50train/RobinSidel/137061newsML.txt\n",
      "processing... ../../raw/C50/C50train/RobinSidel/140433newsML.txt\n",
      "processing... ../../raw/C50/C50train/RobinSidel/142837newsML.txt\n",
      "processing... ../../raw/C50/C50train/RobinSidel/143798newsML.txt\n",
      "processing... ../../raw/C50/C50train/RobinSidel/144598newsML.txt\n",
      "processing... ../../raw/C50/C50train/RobinSidel/147604newsML.txt\n",
      "processing... ../../raw/C50/C50train/RobinSidel/147744newsML.txt\n",
      "processing... ../../raw/C50/C50train/RobinSidel/153574newsML.txt\n",
      "processing... ../../raw/C50/C50train/RobinSidel/156766newsML.txt\n",
      "processing... ../../raw/C50/C50train/RobinSidel/156978newsML.txt\n",
      "processing... ../../raw/C50/C50train/RobinSidel/163749newsML.txt\n",
      "processing... ../../raw/C50/C50train/RobinSidel/163771newsML.txt\n",
      "processing... ../../raw/C50/C50train/RobinSidel/163815newsML.txt\n",
      "processing... ../../raw/C50/C50train/RobinSidel/164273newsML.txt\n",
      "processing... ../../raw/C50/C50train/RobinSidel/166722newsML.txt\n",
      "processing... ../../raw/C50/C50train/RobinSidel/168531newsML.txt\n",
      "processing... ../../raw/C50/C50train/RobinSidel/168654newsML.txt\n",
      "processing... ../../raw/C50/C50train/RobinSidel/168806newsML.txt\n",
      "processing... ../../raw/C50/C50train/RobinSidel/172865newsML.txt\n",
      "processing... ../../raw/C50/C50train/RobinSidel/173005newsML.txt\n",
      "processing... ../../raw/C50/C50train/RobinSidel/173947newsML.txt\n",
      "processing... ../../raw/C50/C50train/RobinSidel/175201newsML.txt\n",
      "processing... ../../raw/C50/C50train/RobinSidel/177958newsML.txt\n",
      "processing... ../../raw/C50/C50train/RobinSidel/186416newsML.txt\n",
      "processing... ../../raw/C50/C50train/RobinSidel/196693newsML.txt\n",
      "processing... ../../raw/C50/C50train/RobinSidel/196812newsML.txt\n",
      "processing... ../../raw/C50/C50train/RobinSidel/196990newsML.txt\n",
      "processing... ../../raw/C50/C50train/RobinSidel/198999newsML.txt\n",
      "processing... ../../raw/C50/C50train/RobinSidel/206638newsML.txt\n",
      "processing... ../../raw/C50/C50train/RobinSidel/207287newsML.txt\n",
      "processing... ../../raw/C50/C50train/RobinSidel/207288newsML.txt\n",
      "processing... ../../raw/C50/C50train/RobinSidel/216335newsML.txt\n",
      "processing... ../../raw/C50/C50train/RobinSidel/219316newsML.txt\n",
      "processing... ../../raw/C50/C50train/RobinSidel/220676newsML.txt\n",
      "processing... ../../raw/C50/C50train/RobinSidel/243641newsML.txt\n",
      "processing... ../../raw/C50/C50train/RobinSidel/243684newsML.txt\n",
      "processing... ../../raw/C50/C50train/RobinSidel/251225newsML.txt\n",
      "processing... ../../raw/C50/C50train/RobinSidel/255995newsML.txt\n",
      "processing... ../../raw/C50/C50train/RobinSidel/257938newsML.txt\n",
      "processing... ../../raw/C50/C50train/RobinSidel/259306newsML.txt\n",
      "processing... ../../raw/C50/C50train/RobinSidel/264190newsML.txt\n",
      "processing... ../../raw/C50/C50train/RogerFillion/121036newsML.txt\n",
      "processing... ../../raw/C50/C50train/RogerFillion/135924newsML.txt\n",
      "processing... ../../raw/C50/C50train/RogerFillion/137485newsML.txt\n",
      "processing... ../../raw/C50/C50train/RogerFillion/139224newsML.txt\n"
     ]
    },
    {
     "name": "stdout",
     "output_type": "stream",
     "text": [
      "processing... ../../raw/C50/C50train/RogerFillion/140752newsML.txt\n",
      "processing... ../../raw/C50/C50train/RogerFillion/146861newsML.txt\n",
      "processing... ../../raw/C50/C50train/RogerFillion/150665newsML.txt\n",
      "processing... ../../raw/C50/C50train/RogerFillion/154675newsML.txt\n",
      "processing... ../../raw/C50/C50train/RogerFillion/155654newsML.txt\n",
      "processing... ../../raw/C50/C50train/RogerFillion/168572newsML.txt\n",
      "processing... ../../raw/C50/C50train/RogerFillion/171742newsML.txt\n",
      "processing... ../../raw/C50/C50train/RogerFillion/172846newsML.txt\n",
      "processing... ../../raw/C50/C50train/RogerFillion/173423newsML.txt\n",
      "processing... ../../raw/C50/C50train/RogerFillion/174058newsML.txt\n",
      "processing... ../../raw/C50/C50train/RogerFillion/175177newsML.txt\n",
      "processing... ../../raw/C50/C50train/RogerFillion/177017newsML.txt\n",
      "processing... ../../raw/C50/C50train/RogerFillion/181874newsML.txt\n",
      "processing... ../../raw/C50/C50train/RogerFillion/186425newsML.txt\n",
      "processing... ../../raw/C50/C50train/RogerFillion/186437newsML.txt\n",
      "processing... ../../raw/C50/C50train/RogerFillion/206783newsML.txt\n",
      "processing... ../../raw/C50/C50train/RogerFillion/214814newsML.txt\n",
      "processing... ../../raw/C50/C50train/RogerFillion/215305newsML.txt\n",
      "processing... ../../raw/C50/C50train/RogerFillion/215313newsML.txt\n",
      "processing... ../../raw/C50/C50train/RogerFillion/217357newsML.txt\n",
      "processing... ../../raw/C50/C50train/RogerFillion/217899newsML.txt\n",
      "processing... ../../raw/C50/C50train/RogerFillion/218296newsML.txt\n",
      "processing... ../../raw/C50/C50train/RogerFillion/231347newsML.txt\n",
      "processing... ../../raw/C50/C50train/RogerFillion/237323newsML.txt\n",
      "processing... ../../raw/C50/C50train/RogerFillion/252404newsML.txt\n",
      "processing... ../../raw/C50/C50train/RogerFillion/255709newsML.txt\n",
      "processing... ../../raw/C50/C50train/RogerFillion/264342newsML.txt\n",
      "processing... ../../raw/C50/C50train/RogerFillion/267134newsML.txt\n",
      "processing... ../../raw/C50/C50train/RogerFillion/277122newsML.txt\n",
      "processing... ../../raw/C50/C50train/RogerFillion/282184newsML.txt\n",
      "processing... ../../raw/C50/C50train/RogerFillion/283280newsML.txt\n",
      "processing... ../../raw/C50/C50train/RogerFillion/296312newsML.txt\n",
      "processing... ../../raw/C50/C50train/RogerFillion/305787newsML.txt\n",
      "processing... ../../raw/C50/C50train/RogerFillion/306326newsML.txt\n",
      "processing... ../../raw/C50/C50train/RogerFillion/312253newsML.txt\n",
      "processing... ../../raw/C50/C50train/RogerFillion/317583newsML.txt\n",
      "processing... ../../raw/C50/C50train/RogerFillion/32727newsML.txt\n",
      "processing... ../../raw/C50/C50train/RogerFillion/351344newsML.txt\n",
      "processing... ../../raw/C50/C50train/RogerFillion/352215newsML.txt\n",
      "processing... ../../raw/C50/C50train/RogerFillion/357213newsML.txt\n",
      "processing... ../../raw/C50/C50train/RogerFillion/357386newsML.txt\n",
      "processing... ../../raw/C50/C50train/RogerFillion/360479newsML.txt\n",
      "processing... ../../raw/C50/C50train/RogerFillion/361475newsML.txt\n",
      "processing... ../../raw/C50/C50train/RogerFillion/369492newsML.txt\n",
      "processing... ../../raw/C50/C50train/RogerFillion/379555newsML.txt\n",
      "processing... ../../raw/C50/C50train/RogerFillion/379567newsML.txt\n",
      "processing... ../../raw/C50/C50train/SamuelPerry/105557newsML.txt\n",
      "processing... ../../raw/C50/C50train/SamuelPerry/10781newsML.txt\n",
      "processing... ../../raw/C50/C50train/SamuelPerry/120398newsML.txt\n",
      "processing... ../../raw/C50/C50train/SamuelPerry/134566newsML.txt\n",
      "processing... ../../raw/C50/C50train/SamuelPerry/137035newsML.txt\n",
      "processing... ../../raw/C50/C50train/SamuelPerry/137812newsML.txt\n",
      "processing... ../../raw/C50/C50train/SamuelPerry/138944newsML.txt\n",
      "processing... ../../raw/C50/C50train/SamuelPerry/142698newsML.txt\n",
      "processing... ../../raw/C50/C50train/SamuelPerry/144030newsML.txt\n",
      "processing... ../../raw/C50/C50train/SamuelPerry/150672newsML.txt\n",
      "processing... ../../raw/C50/C50train/SamuelPerry/151392newsML.txt\n",
      "processing... ../../raw/C50/C50train/SamuelPerry/157604newsML.txt\n",
      "processing... ../../raw/C50/C50train/SamuelPerry/158945newsML.txt\n",
      "processing... ../../raw/C50/C50train/SamuelPerry/160066newsML.txt\n",
      "processing... ../../raw/C50/C50train/SamuelPerry/168565newsML.txt\n",
      "processing... ../../raw/C50/C50train/SamuelPerry/175043newsML.txt\n",
      "processing... ../../raw/C50/C50train/SamuelPerry/177032newsML.txt\n",
      "processing... ../../raw/C50/C50train/SamuelPerry/178271newsML.txt\n",
      "processing... ../../raw/C50/C50train/SamuelPerry/178647newsML.txt\n",
      "processing... ../../raw/C50/C50train/SamuelPerry/180753newsML.txt\n",
      "processing... ../../raw/C50/C50train/SamuelPerry/181711newsML.txt\n",
      "processing... ../../raw/C50/C50train/SamuelPerry/189155newsML.txt\n",
      "processing... ../../raw/C50/C50train/SamuelPerry/193298newsML.txt\n",
      "processing... ../../raw/C50/C50train/SamuelPerry/195461newsML.txt\n",
      "processing... ../../raw/C50/C50train/SamuelPerry/195465newsML.txt\n",
      "processing... ../../raw/C50/C50train/SamuelPerry/196664newsML.txt\n",
      "processing... ../../raw/C50/C50train/SamuelPerry/196870newsML.txt\n",
      "processing... ../../raw/C50/C50train/SamuelPerry/197518newsML.txt\n",
      "processing... ../../raw/C50/C50train/SamuelPerry/199947newsML.txt\n",
      "processing... ../../raw/C50/C50train/SamuelPerry/206811newsML.txt\n",
      "processing... ../../raw/C50/C50train/SamuelPerry/207693newsML.txt\n",
      "processing... ../../raw/C50/C50train/SamuelPerry/207747newsML.txt\n",
      "processing... ../../raw/C50/C50train/SamuelPerry/212471newsML.txt\n",
      "processing... ../../raw/C50/C50train/SamuelPerry/213090newsML.txt\n",
      "processing... ../../raw/C50/C50train/SamuelPerry/218057newsML.txt\n",
      "processing... ../../raw/C50/C50train/SamuelPerry/242117newsML.txt\n",
      "processing... ../../raw/C50/C50train/SamuelPerry/242528newsML.txt\n",
      "processing... ../../raw/C50/C50train/SamuelPerry/247268newsML.txt\n",
      "processing... ../../raw/C50/C50train/SamuelPerry/247516newsML.txt\n",
      "processing... ../../raw/C50/C50train/SamuelPerry/25052newsML.txt\n",
      "processing... ../../raw/C50/C50train/SamuelPerry/26550newsML.txt\n",
      "processing... ../../raw/C50/C50train/SamuelPerry/268174newsML.txt\n",
      "processing... ../../raw/C50/C50train/SamuelPerry/273216newsML.txt\n",
      "processing... ../../raw/C50/C50train/SamuelPerry/293806newsML.txt\n",
      "processing... ../../raw/C50/C50train/SamuelPerry/297101newsML.txt\n",
      "processing... ../../raw/C50/C50train/SamuelPerry/309801newsML.txt\n",
      "processing... ../../raw/C50/C50train/SamuelPerry/310667newsML.txt\n",
      "processing... ../../raw/C50/C50train/SamuelPerry/312805newsML.txt\n",
      "processing... ../../raw/C50/C50train/SamuelPerry/31339newsML.txt\n",
      "processing... ../../raw/C50/C50train/SamuelPerry/313966newsML.txt\n",
      "processing... ../../raw/C50/C50train/SarahDavison/108084newsML.txt\n",
      "processing... ../../raw/C50/C50train/SarahDavison/113117newsML.txt\n",
      "processing... ../../raw/C50/C50train/SarahDavison/140274newsML.txt\n",
      "processing... ../../raw/C50/C50train/SarahDavison/147534newsML.txt\n",
      "processing... ../../raw/C50/C50train/SarahDavison/148891newsML.txt\n",
      "processing... ../../raw/C50/C50train/SarahDavison/150435newsML.txt\n",
      "processing... ../../raw/C50/C50train/SarahDavison/155177newsML.txt\n",
      "processing... ../../raw/C50/C50train/SarahDavison/162424newsML.txt\n",
      "processing... ../../raw/C50/C50train/SarahDavison/165189newsML.txt\n",
      "processing... ../../raw/C50/C50train/SarahDavison/166481newsML.txt\n",
      "processing... ../../raw/C50/C50train/SarahDavison/169592newsML.txt\n",
      "processing... ../../raw/C50/C50train/SarahDavison/190734newsML.txt\n",
      "processing... ../../raw/C50/C50train/SarahDavison/196732newsML.txt\n",
      "processing... ../../raw/C50/C50train/SarahDavison/213002newsML.txt\n",
      "processing... ../../raw/C50/C50train/SarahDavison/21569newsML.txt\n",
      "processing... ../../raw/C50/C50train/SarahDavison/24260newsML.txt\n",
      "processing... ../../raw/C50/C50train/SarahDavison/26419newsML.txt\n",
      "processing... ../../raw/C50/C50train/SarahDavison/27290newsML.txt\n",
      "processing... ../../raw/C50/C50train/SarahDavison/310313newsML.txt\n",
      "processing... ../../raw/C50/C50train/SarahDavison/310654newsML.txt\n",
      "processing... ../../raw/C50/C50train/SarahDavison/317452newsML.txt\n",
      "processing... ../../raw/C50/C50train/SarahDavison/317706newsML.txt\n",
      "processing... ../../raw/C50/C50train/SarahDavison/31981newsML.txt\n",
      "processing... ../../raw/C50/C50train/SarahDavison/323333newsML.txt\n",
      "processing... ../../raw/C50/C50train/SarahDavison/324597newsML.txt\n",
      "processing... ../../raw/C50/C50train/SarahDavison/342562newsML.txt\n",
      "processing... ../../raw/C50/C50train/SarahDavison/352851newsML.txt\n",
      "processing... ../../raw/C50/C50train/SarahDavison/360226newsML.txt\n",
      "processing... ../../raw/C50/C50train/SarahDavison/361890newsML.txt\n",
      "processing... ../../raw/C50/C50train/SarahDavison/365768newsML.txt\n",
      "processing... ../../raw/C50/C50train/SarahDavison/369465newsML.txt\n",
      "processing... ../../raw/C50/C50train/SarahDavison/383224newsML.txt\n",
      "processing... ../../raw/C50/C50train/SarahDavison/386644newsML.txt\n",
      "processing... ../../raw/C50/C50train/SarahDavison/387955newsML.txt\n"
     ]
    },
    {
     "name": "stdout",
     "output_type": "stream",
     "text": [
      "processing... ../../raw/C50/C50train/SarahDavison/387956newsML.txt\n",
      "processing... ../../raw/C50/C50train/SarahDavison/392316newsML.txt\n",
      "processing... ../../raw/C50/C50train/SarahDavison/396739newsML.txt\n",
      "processing... ../../raw/C50/C50train/SarahDavison/396740newsML.txt\n",
      "processing... ../../raw/C50/C50train/SarahDavison/396743newsML.txt\n",
      "processing... ../../raw/C50/C50train/SarahDavison/405565newsML.txt\n",
      "processing... ../../raw/C50/C50train/SarahDavison/409023newsML.txt\n",
      "processing... ../../raw/C50/C50train/SarahDavison/414690newsML.txt\n",
      "processing... ../../raw/C50/C50train/SarahDavison/419462newsML.txt\n",
      "processing... ../../raw/C50/C50train/SarahDavison/421047newsML.txt\n",
      "processing... ../../raw/C50/C50train/SarahDavison/426559newsML.txt\n",
      "processing... ../../raw/C50/C50train/SarahDavison/426661newsML.txt\n",
      "processing... ../../raw/C50/C50train/SarahDavison/428346newsML.txt\n",
      "processing... ../../raw/C50/C50train/SarahDavison/429223newsML.txt\n",
      "processing... ../../raw/C50/C50train/SarahDavison/429225newsML.txt\n",
      "processing... ../../raw/C50/C50train/SarahDavison/436334newsML.txt\n",
      "processing... ../../raw/C50/C50train/ScottHillis/116929newsML.txt\n",
      "processing... ../../raw/C50/C50train/ScottHillis/123483newsML.txt\n",
      "processing... ../../raw/C50/C50train/ScottHillis/123507newsML.txt\n",
      "processing... ../../raw/C50/C50train/ScottHillis/125213newsML.txt\n",
      "processing... ../../raw/C50/C50train/ScottHillis/126593newsML.txt\n",
      "processing... ../../raw/C50/C50train/ScottHillis/130513newsML.txt\n",
      "processing... ../../raw/C50/C50train/ScottHillis/133498newsML.txt\n",
      "processing... ../../raw/C50/C50train/ScottHillis/136771newsML.txt\n",
      "processing... ../../raw/C50/C50train/ScottHillis/136805newsML.txt\n",
      "processing... ../../raw/C50/C50train/ScottHillis/140273newsML.txt\n",
      "processing... ../../raw/C50/C50train/ScottHillis/140340newsML.txt\n",
      "processing... ../../raw/C50/C50train/ScottHillis/142465newsML.txt\n",
      "processing... ../../raw/C50/C50train/ScottHillis/143454newsML.txt\n",
      "processing... ../../raw/C50/C50train/ScottHillis/145712newsML.txt\n",
      "processing... ../../raw/C50/C50train/ScottHillis/158507newsML.txt\n",
      "processing... ../../raw/C50/C50train/ScottHillis/159412newsML.txt\n",
      "processing... ../../raw/C50/C50train/ScottHillis/161138newsML.txt\n",
      "processing... ../../raw/C50/C50train/ScottHillis/165123newsML.txt\n",
      "processing... ../../raw/C50/C50train/ScottHillis/184219newsML.txt\n",
      "processing... ../../raw/C50/C50train/ScottHillis/194787newsML.txt\n",
      "processing... ../../raw/C50/C50train/ScottHillis/195353newsML.txt\n",
      "processing... ../../raw/C50/C50train/ScottHillis/195357newsML.txt\n",
      "processing... ../../raw/C50/C50train/ScottHillis/198216newsML.txt\n",
      "processing... ../../raw/C50/C50train/ScottHillis/199747newsML.txt\n",
      "processing... ../../raw/C50/C50train/ScottHillis/208266newsML.txt\n",
      "processing... ../../raw/C50/C50train/ScottHillis/209835newsML.txt\n",
      "processing... ../../raw/C50/C50train/ScottHillis/232758newsML.txt\n",
      "processing... ../../raw/C50/C50train/ScottHillis/244999newsML.txt\n",
      "processing... ../../raw/C50/C50train/ScottHillis/250880newsML.txt\n",
      "processing... ../../raw/C50/C50train/ScottHillis/253868newsML.txt\n",
      "processing... ../../raw/C50/C50train/ScottHillis/254803newsML.txt\n",
      "processing... ../../raw/C50/C50train/ScottHillis/256974newsML.txt\n",
      "processing... ../../raw/C50/C50train/ScottHillis/282007newsML.txt\n",
      "processing... ../../raw/C50/C50train/ScottHillis/287502newsML.txt\n",
      "processing... ../../raw/C50/C50train/ScottHillis/289837newsML.txt\n",
      "processing... ../../raw/C50/C50train/ScottHillis/292263newsML.txt\n",
      "processing... ../../raw/C50/C50train/ScottHillis/295436newsML.txt\n",
      "processing... ../../raw/C50/C50train/ScottHillis/295992newsML.txt\n",
      "processing... ../../raw/C50/C50train/ScottHillis/299129newsML.txt\n",
      "processing... ../../raw/C50/C50train/ScottHillis/301673newsML.txt\n",
      "processing... ../../raw/C50/C50train/ScottHillis/305692newsML.txt\n",
      "processing... ../../raw/C50/C50train/ScottHillis/310466newsML.txt\n",
      "processing... ../../raw/C50/C50train/ScottHillis/314875newsML.txt\n",
      "processing... ../../raw/C50/C50train/ScottHillis/318653newsML.txt\n",
      "processing... ../../raw/C50/C50train/ScottHillis/318742newsML.txt\n",
      "processing... ../../raw/C50/C50train/ScottHillis/321513newsML.txt\n",
      "processing... ../../raw/C50/C50train/ScottHillis/334739newsML.txt\n",
      "processing... ../../raw/C50/C50train/ScottHillis/340709newsML.txt\n",
      "processing... ../../raw/C50/C50train/ScottHillis/340736newsML.txt\n",
      "processing... ../../raw/C50/C50train/ScottHillis/345375newsML.txt\n",
      "processing... ../../raw/C50/C50train/SimonCowell/15627newsML.txt\n",
      "processing... ../../raw/C50/C50train/SimonCowell/242983newsML.txt\n",
      "processing... ../../raw/C50/C50train/SimonCowell/245741newsML.txt\n",
      "processing... ../../raw/C50/C50train/SimonCowell/248599newsML.txt\n",
      "processing... ../../raw/C50/C50train/SimonCowell/253060newsML.txt\n",
      "processing... ../../raw/C50/C50train/SimonCowell/255730newsML.txt\n",
      "processing... ../../raw/C50/C50train/SimonCowell/258206newsML.txt\n",
      "processing... ../../raw/C50/C50train/SimonCowell/259617newsML.txt\n",
      "processing... ../../raw/C50/C50train/SimonCowell/27675newsML.txt\n",
      "processing... ../../raw/C50/C50train/SimonCowell/302376newsML.txt\n",
      "processing... ../../raw/C50/C50train/SimonCowell/303707newsML.txt\n",
      "processing... ../../raw/C50/C50train/SimonCowell/311253newsML.txt\n",
      "processing... ../../raw/C50/C50train/SimonCowell/312858newsML.txt\n",
      "processing... ../../raw/C50/C50train/SimonCowell/312983newsML.txt\n",
      "processing... ../../raw/C50/C50train/SimonCowell/324051newsML.txt\n",
      "processing... ../../raw/C50/C50train/SimonCowell/347888newsML.txt\n",
      "processing... ../../raw/C50/C50train/SimonCowell/347894newsML.txt\n",
      "processing... ../../raw/C50/C50train/SimonCowell/350608newsML.txt\n",
      "processing... ../../raw/C50/C50train/SimonCowell/353509newsML.txt\n",
      "processing... ../../raw/C50/C50train/SimonCowell/356525newsML.txt\n",
      "processing... ../../raw/C50/C50train/SimonCowell/361250newsML.txt\n",
      "processing... ../../raw/C50/C50train/SimonCowell/376405newsML.txt\n",
      "processing... ../../raw/C50/C50train/SimonCowell/376414newsML.txt\n",
      "processing... ../../raw/C50/C50train/SimonCowell/377851newsML.txt\n",
      "processing... ../../raw/C50/C50train/SimonCowell/384133newsML.txt\n",
      "processing... ../../raw/C50/C50train/SimonCowell/385473newsML.txt\n",
      "processing... ../../raw/C50/C50train/SimonCowell/385542newsML.txt\n",
      "processing... ../../raw/C50/C50train/SimonCowell/390568newsML.txt\n",
      "processing... ../../raw/C50/C50train/SimonCowell/390574newsML.txt\n",
      "processing... ../../raw/C50/C50train/SimonCowell/400494newsML.txt\n",
      "processing... ../../raw/C50/C50train/SimonCowell/402074newsML.txt\n",
      "processing... ../../raw/C50/C50train/SimonCowell/403689newsML.txt\n",
      "processing... ../../raw/C50/C50train/SimonCowell/405057newsML.txt\n",
      "processing... ../../raw/C50/C50train/SimonCowell/405124newsML.txt\n",
      "processing... ../../raw/C50/C50train/SimonCowell/405237newsML.txt\n",
      "processing... ../../raw/C50/C50train/SimonCowell/406879newsML.txt\n",
      "processing... ../../raw/C50/C50train/SimonCowell/409884newsML.txt\n",
      "processing... ../../raw/C50/C50train/SimonCowell/413323newsML.txt\n",
      "processing... ../../raw/C50/C50train/SimonCowell/417061newsML.txt\n",
      "processing... ../../raw/C50/C50train/SimonCowell/418734newsML.txt\n",
      "processing... ../../raw/C50/C50train/SimonCowell/420566newsML.txt\n",
      "processing... ../../raw/C50/C50train/SimonCowell/423379newsML.txt\n",
      "processing... ../../raw/C50/C50train/SimonCowell/424503newsML.txt\n",
      "processing... ../../raw/C50/C50train/SimonCowell/425943newsML.txt\n",
      "processing... ../../raw/C50/C50train/SimonCowell/440535newsML.txt\n",
      "processing... ../../raw/C50/C50train/SimonCowell/442065newsML.txt\n",
      "processing... ../../raw/C50/C50train/SimonCowell/447824newsML.txt\n",
      "processing... ../../raw/C50/C50train/SimonCowell/448236newsML.txt\n",
      "processing... ../../raw/C50/C50train/SimonCowell/450839newsML.txt\n",
      "processing... ../../raw/C50/C50train/SimonCowell/455543newsML.txt\n",
      "processing... ../../raw/C50/C50train/TanEeLyn/108092newsML.txt\n",
      "processing... ../../raw/C50/C50train/TanEeLyn/110751newsML.txt\n",
      "processing... ../../raw/C50/C50train/TanEeLyn/113062newsML.txt\n",
      "processing... ../../raw/C50/C50train/TanEeLyn/113074newsML.txt\n",
      "processing... ../../raw/C50/C50train/TanEeLyn/123487newsML.txt\n",
      "processing... ../../raw/C50/C50train/TanEeLyn/127958newsML.txt\n",
      "processing... ../../raw/C50/C50train/TanEeLyn/153426newsML.txt\n",
      "processing... ../../raw/C50/C50train/TanEeLyn/155113newsML.txt\n",
      "processing... ../../raw/C50/C50train/TanEeLyn/163670newsML.txt\n",
      "processing... ../../raw/C50/C50train/TanEeLyn/169589newsML.txt\n",
      "processing... ../../raw/C50/C50train/TanEeLyn/169609newsML.txt\n",
      "processing... ../../raw/C50/C50train/TanEeLyn/186184newsML.txt\n",
      "processing... ../../raw/C50/C50train/TanEeLyn/190418newsML.txt\n",
      "processing... ../../raw/C50/C50train/TanEeLyn/192393newsML.txt\n",
      "processing... ../../raw/C50/C50train/TanEeLyn/192410newsML.txt\n",
      "processing... ../../raw/C50/C50train/TanEeLyn/195093newsML.txt\n",
      "processing... ../../raw/C50/C50train/TanEeLyn/241238newsML.txt\n"
     ]
    },
    {
     "name": "stdout",
     "output_type": "stream",
     "text": [
      "processing... ../../raw/C50/C50train/TanEeLyn/242294newsML.txt\n",
      "processing... ../../raw/C50/C50train/TanEeLyn/243445newsML.txt\n",
      "processing... ../../raw/C50/C50train/TanEeLyn/246306newsML.txt\n",
      "processing... ../../raw/C50/C50train/TanEeLyn/250726newsML.txt\n",
      "processing... ../../raw/C50/C50train/TanEeLyn/250732newsML.txt\n",
      "processing... ../../raw/C50/C50train/TanEeLyn/253732newsML.txt\n",
      "processing... ../../raw/C50/C50train/TanEeLyn/253869newsML.txt\n",
      "processing... ../../raw/C50/C50train/TanEeLyn/264108newsML.txt\n",
      "processing... ../../raw/C50/C50train/TanEeLyn/266981newsML.txt\n",
      "processing... ../../raw/C50/C50train/TanEeLyn/271710newsML.txt\n",
      "processing... ../../raw/C50/C50train/TanEeLyn/27284newsML.txt\n",
      "processing... ../../raw/C50/C50train/TanEeLyn/273117newsML.txt\n",
      "processing... ../../raw/C50/C50train/TanEeLyn/281155newsML.txt\n",
      "processing... ../../raw/C50/C50train/TanEeLyn/283835newsML.txt\n",
      "processing... ../../raw/C50/C50train/TanEeLyn/301674newsML.txt\n",
      "processing... ../../raw/C50/C50train/TanEeLyn/31955newsML.txt\n",
      "processing... ../../raw/C50/C50train/TanEeLyn/336357newsML.txt\n",
      "processing... ../../raw/C50/C50train/TanEeLyn/380721newsML.txt\n",
      "processing... ../../raw/C50/C50train/TanEeLyn/380733newsML.txt\n",
      "processing... ../../raw/C50/C50train/TanEeLyn/381221newsML.txt\n",
      "processing... ../../raw/C50/C50train/TanEeLyn/381228newsML.txt\n",
      "processing... ../../raw/C50/C50train/TanEeLyn/392182newsML.txt\n",
      "processing... ../../raw/C50/C50train/TanEeLyn/392471newsML.txt\n",
      "processing... ../../raw/C50/C50train/TanEeLyn/395666newsML.txt\n",
      "processing... ../../raw/C50/C50train/TanEeLyn/409157newsML.txt\n",
      "processing... ../../raw/C50/C50train/TanEeLyn/41230newsML.txt\n",
      "processing... ../../raw/C50/C50train/TanEeLyn/417677newsML.txt\n",
      "processing... ../../raw/C50/C50train/TanEeLyn/422392newsML.txt\n",
      "processing... ../../raw/C50/C50train/TanEeLyn/426779newsML.txt\n",
      "processing... ../../raw/C50/C50train/TanEeLyn/446979newsML.txt\n",
      "processing... ../../raw/C50/C50train/TanEeLyn/456180newsML.txt\n",
      "processing... ../../raw/C50/C50train/TanEeLyn/462146newsML.txt\n",
      "processing... ../../raw/C50/C50train/TanEeLyn/462149newsML.txt\n",
      "processing... ../../raw/C50/C50train/TheresePoletti/101565newsML.txt\n",
      "processing... ../../raw/C50/C50train/TheresePoletti/104608newsML.txt\n",
      "processing... ../../raw/C50/C50train/TheresePoletti/113481newsML.txt\n",
      "processing... ../../raw/C50/C50train/TheresePoletti/115852newsML.txt\n",
      "processing... ../../raw/C50/C50train/TheresePoletti/120387newsML.txt\n",
      "processing... ../../raw/C50/C50train/TheresePoletti/120410newsML.txt\n",
      "processing... ../../raw/C50/C50train/TheresePoletti/126708newsML.txt\n",
      "processing... ../../raw/C50/C50train/TheresePoletti/126897newsML.txt\n",
      "processing... ../../raw/C50/C50train/TheresePoletti/129783newsML.txt\n",
      "processing... ../../raw/C50/C50train/TheresePoletti/130612newsML.txt\n",
      "processing... ../../raw/C50/C50train/TheresePoletti/136917newsML.txt\n",
      "processing... ../../raw/C50/C50train/TheresePoletti/140583newsML.txt\n",
      "processing... ../../raw/C50/C50train/TheresePoletti/144326newsML.txt\n",
      "processing... ../../raw/C50/C50train/TheresePoletti/146012newsML.txt\n",
      "processing... ../../raw/C50/C50train/TheresePoletti/149309newsML.txt\n",
      "processing... ../../raw/C50/C50train/TheresePoletti/151061newsML.txt\n",
      "processing... ../../raw/C50/C50train/TheresePoletti/154598newsML.txt\n",
      "processing... ../../raw/C50/C50train/TheresePoletti/157001newsML.txt\n",
      "processing... ../../raw/C50/C50train/TheresePoletti/16054newsML.txt\n",
      "processing... ../../raw/C50/C50train/TheresePoletti/176991newsML.txt\n",
      "processing... ../../raw/C50/C50train/TheresePoletti/179117newsML.txt\n",
      "processing... ../../raw/C50/C50train/TheresePoletti/18158newsML.txt\n",
      "processing... ../../raw/C50/C50train/TheresePoletti/181674newsML.txt\n",
      "processing... ../../raw/C50/C50train/TheresePoletti/18215newsML.txt\n",
      "processing... ../../raw/C50/C50train/TheresePoletti/182700newsML.txt\n",
      "processing... ../../raw/C50/C50train/TheresePoletti/186457newsML.txt\n",
      "processing... ../../raw/C50/C50train/TheresePoletti/187047newsML.txt\n",
      "processing... ../../raw/C50/C50train/TheresePoletti/189987newsML.txt\n",
      "processing... ../../raw/C50/C50train/TheresePoletti/200003newsML.txt\n",
      "processing... ../../raw/C50/C50train/TheresePoletti/203028newsML.txt\n",
      "processing... ../../raw/C50/C50train/TheresePoletti/203129newsML.txt\n",
      "processing... ../../raw/C50/C50train/TheresePoletti/232280newsML.txt\n",
      "processing... ../../raw/C50/C50train/TheresePoletti/237345newsML.txt\n",
      "processing... ../../raw/C50/C50train/TheresePoletti/240007newsML.txt\n",
      "processing... ../../raw/C50/C50train/TheresePoletti/242113newsML.txt\n",
      "processing... ../../raw/C50/C50train/TheresePoletti/242590newsML.txt\n",
      "processing... ../../raw/C50/C50train/TheresePoletti/243514newsML.txt\n",
      "processing... ../../raw/C50/C50train/TheresePoletti/246358newsML.txt\n",
      "processing... ../../raw/C50/C50train/TheresePoletti/246460newsML.txt\n",
      "processing... ../../raw/C50/C50train/TheresePoletti/249362newsML.txt\n",
      "processing... ../../raw/C50/C50train/TheresePoletti/252289newsML.txt\n",
      "processing... ../../raw/C50/C50train/TheresePoletti/257205newsML.txt\n",
      "processing... ../../raw/C50/C50train/TheresePoletti/272016newsML.txt\n",
      "processing... ../../raw/C50/C50train/TheresePoletti/27551newsML.txt\n",
      "processing... ../../raw/C50/C50train/TheresePoletti/283077newsML.txt\n",
      "processing... ../../raw/C50/C50train/TheresePoletti/285748newsML.txt\n",
      "processing... ../../raw/C50/C50train/TheresePoletti/287618newsML.txt\n",
      "processing... ../../raw/C50/C50train/TheresePoletti/301796newsML.txt\n",
      "processing... ../../raw/C50/C50train/TheresePoletti/305885newsML.txt\n",
      "processing... ../../raw/C50/C50train/TheresePoletti/309865newsML.txt\n",
      "processing... ../../raw/C50/C50train/TimFarrand/10265newsML.txt\n",
      "processing... ../../raw/C50/C50train/TimFarrand/114953newsML.txt\n",
      "processing... ../../raw/C50/C50train/TimFarrand/127403newsML.txt\n",
      "processing... ../../raw/C50/C50train/TimFarrand/127856newsML.txt\n",
      "processing... ../../raw/C50/C50train/TimFarrand/143038newsML.txt\n",
      "processing... ../../raw/C50/C50train/TimFarrand/149844newsML.txt\n",
      "processing... ../../raw/C50/C50train/TimFarrand/152851newsML.txt\n",
      "processing... ../../raw/C50/C50train/TimFarrand/154492newsML.txt\n",
      "processing... ../../raw/C50/C50train/TimFarrand/15631newsML.txt\n",
      "processing... ../../raw/C50/C50train/TimFarrand/159528newsML.txt\n",
      "processing... ../../raw/C50/C50train/TimFarrand/159531newsML.txt\n",
      "processing... ../../raw/C50/C50train/TimFarrand/160644newsML.txt\n",
      "processing... ../../raw/C50/C50train/TimFarrand/164516newsML.txt\n",
      "processing... ../../raw/C50/C50train/TimFarrand/164877newsML.txt\n",
      "processing... ../../raw/C50/C50train/TimFarrand/164890newsML.txt\n",
      "processing... ../../raw/C50/C50train/TimFarrand/165801newsML.txt\n",
      "processing... ../../raw/C50/C50train/TimFarrand/165864newsML.txt\n",
      "processing... ../../raw/C50/C50train/TimFarrand/167779newsML.txt\n",
      "processing... ../../raw/C50/C50train/TimFarrand/167803newsML.txt\n",
      "processing... ../../raw/C50/C50train/TimFarrand/172132newsML.txt\n",
      "processing... ../../raw/C50/C50train/TimFarrand/173770newsML.txt\n",
      "processing... ../../raw/C50/C50train/TimFarrand/173850newsML.txt\n",
      "processing... ../../raw/C50/C50train/TimFarrand/175500newsML.txt\n",
      "processing... ../../raw/C50/C50train/TimFarrand/175594newsML.txt\n",
      "processing... ../../raw/C50/C50train/TimFarrand/177684newsML.txt\n",
      "processing... ../../raw/C50/C50train/TimFarrand/199222newsML.txt\n",
      "processing... ../../raw/C50/C50train/TimFarrand/201017newsML.txt\n",
      "processing... ../../raw/C50/C50train/TimFarrand/202017newsML.txt\n",
      "processing... ../../raw/C50/C50train/TimFarrand/204606newsML.txt\n",
      "processing... ../../raw/C50/C50train/TimFarrand/207557newsML.txt\n",
      "processing... ../../raw/C50/C50train/TimFarrand/210560newsML.txt\n",
      "processing... ../../raw/C50/C50train/TimFarrand/220852newsML.txt\n",
      "processing... ../../raw/C50/C50train/TimFarrand/220857newsML.txt\n",
      "processing... ../../raw/C50/C50train/TimFarrand/220938newsML.txt\n",
      "processing... ../../raw/C50/C50train/TimFarrand/221452newsML.txt\n",
      "processing... ../../raw/C50/C50train/TimFarrand/224668newsML.txt\n",
      "processing... ../../raw/C50/C50train/TimFarrand/224684newsML.txt\n",
      "processing... ../../raw/C50/C50train/TimFarrand/225561newsML.txt\n",
      "processing... ../../raw/C50/C50train/TimFarrand/229159newsML.txt\n",
      "processing... ../../raw/C50/C50train/TimFarrand/229685newsML.txt\n",
      "processing... ../../raw/C50/C50train/TimFarrand/230604newsML.txt\n",
      "processing... ../../raw/C50/C50train/TimFarrand/234885newsML.txt\n",
      "processing... ../../raw/C50/C50train/TimFarrand/235003newsML.txt\n",
      "processing... ../../raw/C50/C50train/TimFarrand/236371newsML.txt\n",
      "processing... ../../raw/C50/C50train/TimFarrand/237957newsML.txt\n",
      "processing... ../../raw/C50/C50train/TimFarrand/237980newsML.txt\n",
      "processing... ../../raw/C50/C50train/TimFarrand/238095newsML.txt\n",
      "processing... ../../raw/C50/C50train/TimFarrand/240674newsML.txt\n",
      "processing... ../../raw/C50/C50train/TimFarrand/242910newsML.txt\n"
     ]
    },
    {
     "name": "stdout",
     "output_type": "stream",
     "text": [
      "processing... ../../raw/C50/C50train/TimFarrand/242992newsML.txt\n",
      "processing... ../../raw/C50/C50train/ToddNissen/107276newsML.txt\n",
      "processing... ../../raw/C50/C50train/ToddNissen/108216newsML.txt\n",
      "processing... ../../raw/C50/C50train/ToddNissen/110957newsML.txt\n",
      "processing... ../../raw/C50/C50train/ToddNissen/111247newsML.txt\n",
      "processing... ../../raw/C50/C50train/ToddNissen/117089newsML.txt\n",
      "processing... ../../raw/C50/C50train/ToddNissen/120415newsML.txt\n",
      "processing... ../../raw/C50/C50train/ToddNissen/121051newsML.txt\n",
      "processing... ../../raw/C50/C50train/ToddNissen/133717newsML.txt\n",
      "processing... ../../raw/C50/C50train/ToddNissen/140567newsML.txt\n",
      "processing... ../../raw/C50/C50train/ToddNissen/144319newsML.txt\n",
      "processing... ../../raw/C50/C50train/ToddNissen/146468newsML.txt\n",
      "processing... ../../raw/C50/C50train/ToddNissen/146741newsML.txt\n",
      "processing... ../../raw/C50/C50train/ToddNissen/148408newsML.txt\n",
      "processing... ../../raw/C50/C50train/ToddNissen/149287newsML.txt\n",
      "processing... ../../raw/C50/C50train/ToddNissen/154381newsML.txt\n",
      "processing... ../../raw/C50/C50train/ToddNissen/155659newsML.txt\n",
      "processing... ../../raw/C50/C50train/ToddNissen/158140newsML.txt\n",
      "processing... ../../raw/C50/C50train/ToddNissen/160059newsML.txt\n",
      "processing... ../../raw/C50/C50train/ToddNissen/18151newsML.txt\n",
      "processing... ../../raw/C50/C50train/ToddNissen/18393newsML.txt\n",
      "processing... ../../raw/C50/C50train/ToddNissen/18414newsML.txt\n",
      "processing... ../../raw/C50/C50train/ToddNissen/189161newsML.txt\n",
      "processing... ../../raw/C50/C50train/ToddNissen/189259newsML.txt\n",
      "processing... ../../raw/C50/C50train/ToddNissen/191372newsML.txt\n",
      "processing... ../../raw/C50/C50train/ToddNissen/193383newsML.txt\n",
      "processing... ../../raw/C50/C50train/ToddNissen/193662newsML.txt\n",
      "processing... ../../raw/C50/C50train/ToddNissen/199894newsML.txt\n",
      "processing... ../../raw/C50/C50train/ToddNissen/200426newsML.txt\n",
      "processing... ../../raw/C50/C50train/ToddNissen/216410newsML.txt\n",
      "processing... ../../raw/C50/C50train/ToddNissen/217362newsML.txt\n",
      "processing... ../../raw/C50/C50train/ToddNissen/217419newsML.txt\n",
      "processing... ../../raw/C50/C50train/ToddNissen/217896newsML.txt\n",
      "processing... ../../raw/C50/C50train/ToddNissen/222096newsML.txt\n",
      "processing... ../../raw/C50/C50train/ToddNissen/227529newsML.txt\n",
      "processing... ../../raw/C50/C50train/ToddNissen/237066newsML.txt\n",
      "processing... ../../raw/C50/C50train/ToddNissen/245562newsML.txt\n",
      "processing... ../../raw/C50/C50train/ToddNissen/246995newsML.txt\n",
      "processing... ../../raw/C50/C50train/ToddNissen/259007newsML.txt\n",
      "processing... ../../raw/C50/C50train/ToddNissen/261367newsML.txt\n",
      "processing... ../../raw/C50/C50train/ToddNissen/264956newsML.txt\n",
      "processing... ../../raw/C50/C50train/ToddNissen/267365newsML.txt\n",
      "processing... ../../raw/C50/C50train/ToddNissen/270703newsML.txt\n",
      "processing... ../../raw/C50/C50train/ToddNissen/270751newsML.txt\n",
      "processing... ../../raw/C50/C50train/ToddNissen/271791newsML.txt\n",
      "processing... ../../raw/C50/C50train/ToddNissen/280639newsML.txt\n",
      "processing... ../../raw/C50/C50train/ToddNissen/284034newsML.txt\n",
      "processing... ../../raw/C50/C50train/ToddNissen/284597newsML.txt\n",
      "processing... ../../raw/C50/C50train/ToddNissen/28509newsML.txt\n",
      "processing... ../../raw/C50/C50train/ToddNissen/286232newsML.txt\n",
      "processing... ../../raw/C50/C50train/ToddNissen/291856newsML.txt\n",
      "processing... ../../raw/C50/C50train/WilliamKazer/101226newsML.txt\n",
      "processing... ../../raw/C50/C50train/WilliamKazer/10321newsML.txt\n",
      "processing... ../../raw/C50/C50train/WilliamKazer/105226newsML.txt\n",
      "processing... ../../raw/C50/C50train/WilliamKazer/106731newsML.txt\n",
      "processing... ../../raw/C50/C50train/WilliamKazer/108094newsML.txt\n",
      "processing... ../../raw/C50/C50train/WilliamKazer/113095newsML.txt\n",
      "processing... ../../raw/C50/C50train/WilliamKazer/113097newsML.txt\n",
      "processing... ../../raw/C50/C50train/WilliamKazer/115519newsML.txt\n",
      "processing... ../../raw/C50/C50train/WilliamKazer/118912newsML.txt\n",
      "processing... ../../raw/C50/C50train/WilliamKazer/123484newsML.txt\n",
      "processing... ../../raw/C50/C50train/WilliamKazer/125333newsML.txt\n",
      "processing... ../../raw/C50/C50train/WilliamKazer/126643newsML.txt\n",
      "processing... ../../raw/C50/C50train/WilliamKazer/12909newsML.txt\n",
      "processing... ../../raw/C50/C50train/WilliamKazer/129188newsML.txt\n",
      "processing... ../../raw/C50/C50train/WilliamKazer/143490newsML.txt\n",
      "processing... ../../raw/C50/C50train/WilliamKazer/147523newsML.txt\n",
      "processing... ../../raw/C50/C50train/WilliamKazer/148885newsML.txt\n",
      "processing... ../../raw/C50/C50train/WilliamKazer/153448newsML.txt\n",
      "processing... ../../raw/C50/C50train/WilliamKazer/165109newsML.txt\n",
      "processing... ../../raw/C50/C50train/WilliamKazer/169626newsML.txt\n",
      "processing... ../../raw/C50/C50train/WilliamKazer/178505newsML.txt\n",
      "processing... ../../raw/C50/C50train/WilliamKazer/178884newsML.txt\n",
      "processing... ../../raw/C50/C50train/WilliamKazer/180188newsML.txt\n",
      "processing... ../../raw/C50/C50train/WilliamKazer/188958newsML.txt\n",
      "processing... ../../raw/C50/C50train/WilliamKazer/195340newsML.txt\n",
      "processing... ../../raw/C50/C50train/WilliamKazer/196734newsML.txt\n",
      "processing... ../../raw/C50/C50train/WilliamKazer/202888newsML.txt\n",
      "processing... ../../raw/C50/C50train/WilliamKazer/206559newsML.txt\n",
      "processing... ../../raw/C50/C50train/WilliamKazer/208244newsML.txt\n",
      "processing... ../../raw/C50/C50train/WilliamKazer/209813newsML.txt\n",
      "processing... ../../raw/C50/C50train/WilliamKazer/214207newsML.txt\n",
      "processing... ../../raw/C50/C50train/WilliamKazer/222819newsML.txt\n",
      "processing... ../../raw/C50/C50train/WilliamKazer/235763newsML.txt\n",
      "processing... ../../raw/C50/C50train/WilliamKazer/239878newsML.txt\n",
      "processing... ../../raw/C50/C50train/WilliamKazer/2430newsML.txt\n",
      "processing... ../../raw/C50/C50train/WilliamKazer/246276newsML.txt\n",
      "processing... ../../raw/C50/C50train/WilliamKazer/247720newsML.txt\n",
      "processing... ../../raw/C50/C50train/WilliamKazer/247829newsML.txt\n",
      "processing... ../../raw/C50/C50train/WilliamKazer/247909newsML.txt\n",
      "processing... ../../raw/C50/C50train/WilliamKazer/257526newsML.txt\n",
      "processing... ../../raw/C50/C50train/WilliamKazer/258689newsML.txt\n",
      "processing... ../../raw/C50/C50train/WilliamKazer/264132newsML.txt\n",
      "processing... ../../raw/C50/C50train/WilliamKazer/268647newsML.txt\n",
      "processing... ../../raw/C50/C50train/WilliamKazer/278687newsML.txt\n",
      "processing... ../../raw/C50/C50train/WilliamKazer/281216newsML.txt\n",
      "processing... ../../raw/C50/C50train/WilliamKazer/28223newsML.txt\n",
      "processing... ../../raw/C50/C50train/WilliamKazer/282935newsML.txt\n",
      "processing... ../../raw/C50/C50train/WilliamKazer/287736newsML.txt\n",
      "processing... ../../raw/C50/C50train/WilliamKazer/289747newsML.txt\n",
      "processing... ../../raw/C50/C50train/WilliamKazer/304402newsML.txt\n"
     ]
    },
    {
     "data": {
      "text/html": [
       "<div>\n",
       "<style>\n",
       "    .dataframe thead tr:only-child th {\n",
       "        text-align: right;\n",
       "    }\n",
       "\n",
       "    .dataframe thead th {\n",
       "        text-align: left;\n",
       "    }\n",
       "\n",
       "    .dataframe tbody tr th {\n",
       "        vertical-align: top;\n",
       "    }\n",
       "</style>\n",
       "<table border=\"1\" class=\"dataframe\">\n",
       "  <thead>\n",
       "    <tr style=\"text-align: right;\">\n",
       "      <th></th>\n",
       "      <th>count</th>\n",
       "    </tr>\n",
       "  </thead>\n",
       "  <tbody>\n",
       "    <tr>\n",
       "      <th>count</th>\n",
       "      <td>28060.000000</td>\n",
       "    </tr>\n",
       "    <tr>\n",
       "      <th>mean</th>\n",
       "      <td>17.699073</td>\n",
       "    </tr>\n",
       "    <tr>\n",
       "      <th>std</th>\n",
       "      <td>77.339240</td>\n",
       "    </tr>\n",
       "    <tr>\n",
       "      <th>min</th>\n",
       "      <td>1.000000</td>\n",
       "    </tr>\n",
       "    <tr>\n",
       "      <th>25%</th>\n",
       "      <td>1.000000</td>\n",
       "    </tr>\n",
       "    <tr>\n",
       "      <th>50%</th>\n",
       "      <td>2.000000</td>\n",
       "    </tr>\n",
       "    <tr>\n",
       "      <th>75%</th>\n",
       "      <td>6.000000</td>\n",
       "    </tr>\n",
       "    <tr>\n",
       "      <th>max</th>\n",
       "      <td>2482.000000</td>\n",
       "    </tr>\n",
       "  </tbody>\n",
       "</table>\n",
       "</div>"
      ],
      "text/plain": [
       "              count\n",
       "count  28060.000000\n",
       "mean      17.699073\n",
       "std       77.339240\n",
       "min        1.000000\n",
       "25%        1.000000\n",
       "50%        2.000000\n",
       "75%        6.000000\n",
       "max     2482.000000"
      ]
     },
     "execution_count": 33,
     "metadata": {},
     "output_type": "execute_result"
    }
   ],
   "source": [
    "word_counts_filename=data_dir+\"corpus_word_counts.csv\"\n",
    "\n",
    "if first_time:\n",
    "    word_counts=corpus_word_counts(documents,stop)\n",
    "    word_counts = word_counts.rename(columns={'index':'word', 0:'count'})\n",
    "    word_counts.to_csv(word_counts_filename,index_label=\"word\")\n",
    "\n",
    "word_counts=pd.read_csv(word_counts_filename,index_col=\"word\")\n",
    "word_counts.describe()"
   ]
  },
  {
   "cell_type": "code",
   "execution_count": 34,
   "metadata": {
    "ExecuteTime": {
     "end_time": "2018-02-01T09:54:25.829558Z",
     "start_time": "2018-02-01T09:54:25.823543Z"
    }
   },
   "outputs": [
    {
     "name": "stdout",
     "output_type": "stream",
     "text": [
      "Vocabulary Size 28060\n",
      "Corpus Size 2500\n"
     ]
    }
   ],
   "source": [
    "# Vocabulary size\n",
    "V=len(word_counts)\n",
    "print(\"Vocabulary Size\",V)\n",
    "# Corpus size\n",
    "C=len(documents)\n",
    "print(\"Corpus Size\",C)"
   ]
  },
  {
   "cell_type": "code",
   "execution_count": 35,
   "metadata": {
    "ExecuteTime": {
     "end_time": "2018-02-01T09:54:25.872678Z",
     "start_time": "2018-02-01T09:54:25.831565Z"
    }
   },
   "outputs": [
    {
     "data": {
      "text/html": [
       "<div>\n",
       "<style>\n",
       "    .dataframe thead tr:only-child th {\n",
       "        text-align: right;\n",
       "    }\n",
       "\n",
       "    .dataframe thead th {\n",
       "        text-align: left;\n",
       "    }\n",
       "\n",
       "    .dataframe tbody tr th {\n",
       "        vertical-align: top;\n",
       "    }\n",
       "</style>\n",
       "<table border=\"1\" class=\"dataframe\">\n",
       "  <thead>\n",
       "    <tr style=\"text-align: right;\">\n",
       "      <th></th>\n",
       "      <th>count</th>\n",
       "    </tr>\n",
       "    <tr>\n",
       "      <th>word</th>\n",
       "      <th></th>\n",
       "    </tr>\n",
       "  </thead>\n",
       "  <tbody>\n",
       "    <tr>\n",
       "      <th>enforc</th>\n",
       "      <td>5.040256</td>\n",
       "    </tr>\n",
       "    <tr>\n",
       "      <th>equip</th>\n",
       "      <td>3.972416</td>\n",
       "    </tr>\n",
       "    <tr>\n",
       "      <th>third</th>\n",
       "      <td>2.894857</td>\n",
       "    </tr>\n",
       "    <tr>\n",
       "      <th>memori</th>\n",
       "      <td>5.135566</td>\n",
       "    </tr>\n",
       "    <tr>\n",
       "      <th>100,000</th>\n",
       "      <td>4.520381</td>\n",
       "    </tr>\n",
       "  </tbody>\n",
       "</table>\n",
       "</div>"
      ],
      "text/plain": [
       "            count\n",
       "word             \n",
       "enforc   5.040256\n",
       "equip    3.972416\n",
       "third    2.894857\n",
       "memori   5.135566\n",
       "100,000  4.520381"
      ]
     },
     "execution_count": 35,
     "metadata": {},
     "output_type": "execute_result"
    }
   ],
   "source": [
    "idfs=np.log((1+C)/(1+word_counts))+1\n",
    "idfs.head()"
   ]
  },
  {
   "cell_type": "code",
   "execution_count": 36,
   "metadata": {
    "ExecuteTime": {
     "end_time": "2018-02-01T09:54:25.886710Z",
     "start_time": "2018-02-01T09:54:25.874679Z"
    },
    "collapsed": true
   },
   "outputs": [],
   "source": [
    "def product_tfidf(count1,count2,idfs):\n",
    "    sum1=0.0\n",
    "    sum_cross=0.0\n",
    "    for key in count1:\n",
    "        if key not in idfs.index:\n",
    "            idf=0\n",
    "            print(f\"key {key} not found\")\n",
    "        else:\n",
    "            idf=idfs.loc[key][\"count\"]\n",
    "        w1=idf*count1[key]\n",
    "        w2=idf*count2[key]\n",
    "        sum1+=(w1)**2\n",
    "        sum_cross+=w1*w2\n",
    "    sum2=0.0\n",
    "    for key in count2:\n",
    "        if key not in idfs.index:\n",
    "            idf=0\n",
    "            print(f\"key {key} not found\")\n",
    "        else:\n",
    "            idf=idfs.loc[key][\"count\"]\n",
    "        w2=idf*count2[key]\n",
    "        sum2+=w2**2\n",
    "    return sum_cross/np.sqrt(sum1*sum2)"
   ]
  },
  {
   "cell_type": "code",
   "execution_count": 37,
   "metadata": {
    "ExecuteTime": {
     "end_time": "2018-02-01T09:54:25.949878Z",
     "start_time": "2018-02-01T09:54:25.888716Z"
    }
   },
   "outputs": [
    {
     "data": {
      "text/plain": [
       "1.0"
      ]
     },
     "execution_count": 37,
     "metadata": {},
     "output_type": "execute_result"
    }
   ],
   "source": [
    "product_tfidf(count1,count1,idfs)"
   ]
  },
  {
   "cell_type": "code",
   "execution_count": 38,
   "metadata": {
    "ExecuteTime": {
     "end_time": "2018-02-01T09:54:26.112313Z",
     "start_time": "2018-02-01T09:54:25.951884Z"
    }
   },
   "outputs": [
    {
     "data": {
      "text/plain": [
       "(0.098638168899128104, 0.031445199375524771, 0.035286391159521348)"
      ]
     },
     "execution_count": 38,
     "metadata": {},
     "output_type": "execute_result"
    }
   ],
   "source": [
    "product_tfidf(count1,count2,idfs),product_tfidf(count1,count3,idfs),product_tfidf(count2,count3,idfs)"
   ]
  },
  {
   "cell_type": "markdown",
   "metadata": {},
   "source": [
    "## Text Feature Extraction with `klearn`"
   ]
  },
  {
   "cell_type": "markdown",
   "metadata": {},
   "source": [
    "`sklearn` provide combinient methods to import text into a set of features suitable for machine learning \n"
   ]
  },
  {
   "cell_type": "markdown",
   "metadata": {},
   "source": [
    "### Represent Text as Word Counts"
   ]
  },
  {
   "cell_type": "markdown",
   "metadata": {},
   "source": [
    "We configure a `CountVectorizer` that will\n",
    "* use a list of `filename` as input and read the file to get text\n",
    "* process text using `steam_tokenizer`\n",
    "* remove stop words from our `stop` list\n",
    "\n",
    "It will return a matrix of word counts arranged `(document index)` x (`word index`)\n",
    "\n",
    "each word is mapped to its own column"
   ]
  },
  {
   "cell_type": "code",
   "execution_count": 39,
   "metadata": {
    "ExecuteTime": {
     "end_time": "2018-02-01T09:54:26.120331Z",
     "start_time": "2018-02-01T09:54:26.114315Z"
    },
    "collapsed": true
   },
   "outputs": [],
   "source": [
    "countVectorizer=CountVectorizer(input=\"filename\",tokenizer=stem_tokenizer,stop_words=stop)"
   ]
  },
  {
   "cell_type": "markdown",
   "metadata": {},
   "source": [
    "We have a count vectorizer, but we still need to learn a vocabulary by **fitting** a corpus of documents"
   ]
  },
  {
   "cell_type": "code",
   "execution_count": 40,
   "metadata": {
    "ExecuteTime": {
     "end_time": "2018-02-01T09:55:05.444901Z",
     "start_time": "2018-02-01T09:54:26.123340Z"
    },
    "collapsed": true
   },
   "outputs": [],
   "source": [
    "X=countVectorizer.fit_transform(documents[\"filename\"])"
   ]
  },
  {
   "cell_type": "code",
   "execution_count": 41,
   "metadata": {
    "ExecuteTime": {
     "end_time": "2018-02-01T09:55:05.459939Z",
     "start_time": "2018-02-01T09:55:05.449911Z"
    }
   },
   "outputs": [
    {
     "name": "stdout",
     "output_type": "stream",
     "text": [
      "Total Words 799731\n"
     ]
    }
   ],
   "source": [
    "print(\"Total Words\",X.sum())"
   ]
  },
  {
   "cell_type": "markdown",
   "metadata": {},
   "source": [
    "#### Inspecting the document Representation"
   ]
  },
  {
   "cell_type": "markdown",
   "metadata": {},
   "source": [
    "Count Tokenizer agree with our `word_counts` table on *vocabulary size*"
   ]
  },
  {
   "cell_type": "code",
   "execution_count": 42,
   "metadata": {
    "ExecuteTime": {
     "end_time": "2018-02-01T09:55:05.479991Z",
     "start_time": "2018-02-01T09:55:05.463946Z"
    }
   },
   "outputs": [
    {
     "data": {
      "text/plain": [
       "(28060, 28060)"
      ]
     },
     "execution_count": 42,
     "metadata": {},
     "output_type": "execute_result"
    }
   ],
   "source": [
    "len(countVectorizer.vocabulary_),len(word_counts)"
   ]
  },
  {
   "cell_type": "markdown",
   "metadata": {},
   "source": [
    "Each word in document gets mapped to a vocabulary index"
   ]
  },
  {
   "cell_type": "code",
   "execution_count": 43,
   "metadata": {
    "ExecuteTime": {
     "end_time": "2018-02-01T09:55:05.496033Z",
     "start_time": "2018-02-01T09:55:05.481995Z"
    }
   },
   "outputs": [
    {
     "name": "stdout",
     "output_type": "stream",
     "text": [
      "internet 15609\n",
      "may 17800\n",
      "overflow 20017\n",
      "new 19054\n",
      "technolog 25282\n"
     ]
    }
   ],
   "source": [
    "words=list(countVectorizer.vocabulary_.keys())[:5] # only get the first 5 words\n",
    "for word in words:\n",
    "    print( word,countVectorizer.vocabulary_[word])"
   ]
  },
  {
   "cell_type": "markdown",
   "metadata": {},
   "source": [
    "Lets print the word counts on  a couple of documents:"
   ]
  },
  {
   "cell_type": "code",
   "execution_count": 44,
   "metadata": {
    "ExecuteTime": {
     "end_time": "2018-02-01T09:55:05.520096Z",
     "start_time": "2018-02-01T09:55:05.497037Z"
    }
   },
   "outputs": [
    {
     "name": "stdout",
     "output_type": "stream",
     "text": [
      "doc\tword           \tdim\tcount\n",
      "0\tinternet       \t15609\t9\n",
      "0\tmay            \t17800\t3\n",
      "0\toverflow       \t20017\t1\n",
      "0\tnew            \t19054\t1\n",
      "0\ttechnolog      \t25282\t1\n",
      "1\tinternet       \t15609\t5\n",
      "1\tmay            \t17800\t0\n",
      "1\toverflow       \t20017\t0\n",
      "1\tnew            \t19054\t3\n",
      "1\ttechnolog      \t25282\t1\n"
     ]
    }
   ],
   "source": [
    "print(\"doc\",\"word\"+\" \"*11,\"dim\",\"count\",sep=\"\\t\")\n",
    "for i1 in range(2):\n",
    "    for word in words:\n",
    "        document=X[i1]\n",
    "        dimension=countVectorizer.vocabulary_[word]\n",
    "        print(i1,f\"{word:15}\",dimension,document[0,dimension],sep=\"\\t\")"
   ]
  },
  {
   "cell_type": "markdown",
   "metadata": {},
   "source": [
    "So X is just a **matrix**:\n",
    "* **rows** are **documents**\n",
    "* **columns** are **words**, each word has its own column\n",
    "\n",
    "There are 28k columns, but the representation is **sparse** to save memory, only non-zero entries are stored in X."
   ]
  },
  {
   "cell_type": "markdown",
   "metadata": {},
   "source": [
    "#### Comparing to hand Written Word Count Representation"
   ]
  },
  {
   "cell_type": "markdown",
   "metadata": {},
   "source": [
    "Let's compute vector square norms using numpy's usual linear algebra functions"
   ]
  },
  {
   "cell_type": "code",
   "execution_count": 45,
   "metadata": {
    "ExecuteTime": {
     "end_time": "2018-02-01T09:55:05.534134Z",
     "start_time": "2018-02-01T09:55:05.523104Z"
    },
    "collapsed": true
   },
   "outputs": [],
   "source": [
    "x1_sqr=np.dot(X[document1],X[document1].T)[0,0] # np.dot returns a 1x1 matrix, extract value\n",
    "x2_sqr=np.dot(X[document2],X[document2].T)[0,0]\n",
    "x3_sqr=np.dot(X[document3],X[document3].T)[0,0]"
   ]
  },
  {
   "cell_type": "markdown",
   "metadata": {},
   "source": [
    "Normalized scalar product matches our `product_count` similarity measure"
   ]
  },
  {
   "cell_type": "code",
   "execution_count": 46,
   "metadata": {
    "ExecuteTime": {
     "end_time": "2018-02-01T09:55:05.556194Z",
     "start_time": "2018-02-01T09:55:05.537149Z"
    }
   },
   "outputs": [
    {
     "data": {
      "text/plain": [
       "(0.097099800804124392, 0.097099800804124392)"
      ]
     },
     "execution_count": 46,
     "metadata": {},
     "output_type": "execute_result"
    }
   ],
   "source": [
    "np.dot(X[document1],X[document3].T)[0,0]/np.sqrt(x1_sqr*x3_sqr),product_count(count1,count3)"
   ]
  },
  {
   "cell_type": "markdown",
   "metadata": {},
   "source": [
    "#### Representing new text"
   ]
  },
  {
   "cell_type": "markdown",
   "metadata": {},
   "source": [
    "We call `transform`, not `fit_transform`\n",
    "\n",
    "Words in new documents, will get mapped to the columns learned on the training set.\n",
    "New words not in the original vocabulary will be ignored.\n",
    "\n",
    "If we called `fit_transform` instead the indexing of words would be scrambled up."
   ]
  },
  {
   "cell_type": "code",
   "execution_count": 47,
   "metadata": {
    "ExecuteTime": {
     "end_time": "2018-02-01T09:55:51.500111Z",
     "start_time": "2018-02-01T09:55:05.559205Z"
    },
    "collapsed": true
   },
   "outputs": [],
   "source": [
    "X_test=countVectorizer.transform(test_documents[\"filename\"])"
   ]
  },
  {
   "cell_type": "markdown",
   "metadata": {},
   "source": [
    "Lets check the word counts of a few new documents"
   ]
  },
  {
   "cell_type": "code",
   "execution_count": 48,
   "metadata": {
    "ExecuteTime": {
     "end_time": "2018-02-01T09:55:51.524107Z",
     "start_time": "2018-02-01T09:55:51.503085Z"
    }
   },
   "outputs": [
    {
     "name": "stdout",
     "output_type": "stream",
     "text": [
      "doc\tword           \tdim\tcount\n",
      "0\tinternet       \t15609\t0\n",
      "0\tmay            \t17800\t1\n",
      "0\toverflow       \t20017\t0\n",
      "0\tnew            \t19054\t3\n",
      "0\ttechnolog      \t25282\t0\n",
      "1\tinternet       \t15609\t0\n",
      "1\tmay            \t17800\t1\n",
      "1\toverflow       \t20017\t0\n",
      "1\tnew            \t19054\t0\n",
      "1\ttechnolog      \t25282\t0\n"
     ]
    }
   ],
   "source": [
    "print(\"doc\",\"word\"+\" \"*11,\"dim\",\"count\",sep=\"\\t\")\n",
    "for i1 in range(2):\n",
    "    for word in words:\n",
    "        document=X_test[i1]\n",
    "        dimension=countVectorizer.vocabulary_[word]\n",
    "        print(i1,f\"{word:15}\",dimension,document[0,dimension],sep=\"\\t\")"
   ]
  },
  {
   "cell_type": "markdown",
   "metadata": {},
   "source": [
    "### Represent Text as a Set of Words"
   ]
  },
  {
   "cell_type": "markdown",
   "metadata": {
    "collapsed": true
   },
   "source": [
    "To represent text as a set of words (instead of a vector of counts) we pass an extra flag to\n",
    "`CountVectorizer` so that it only counts up to `one`. "
   ]
  },
  {
   "cell_type": "code",
   "execution_count": 49,
   "metadata": {
    "ExecuteTime": {
     "end_time": "2018-02-01T09:55:51.535138Z",
     "start_time": "2018-02-01T09:55:51.526114Z"
    },
    "collapsed": true
   },
   "outputs": [],
   "source": [
    "setVectorizer=CountVectorizer(input=\"filename\",binary=True,tokenizer=stem_tokenizer,stop_words=stop)"
   ]
  },
  {
   "cell_type": "code",
   "execution_count": 50,
   "metadata": {
    "ExecuteTime": {
     "end_time": "2018-02-01T09:56:26.730980Z",
     "start_time": "2018-02-01T09:55:51.537142Z"
    },
    "collapsed": true
   },
   "outputs": [],
   "source": [
    "X_set=setVectorizer.fit_transform(documents[\"filename\"])"
   ]
  },
  {
   "cell_type": "code",
   "execution_count": 51,
   "metadata": {
    "ExecuteTime": {
     "end_time": "2018-02-01T09:56:26.744724Z",
     "start_time": "2018-02-01T09:56:26.732693Z"
    }
   },
   "outputs": [
    {
     "name": "stdout",
     "output_type": "stream",
     "text": [
      "doc\tword           \tdim\tcount\n",
      "0\tinternet       \t15609\t1\n",
      "0\tmay            \t17800\t1\n",
      "0\toverflow       \t20017\t1\n",
      "0\tnew            \t19054\t1\n",
      "0\ttechnolog      \t25282\t1\n",
      "1\tinternet       \t15609\t1\n",
      "1\tmay            \t17800\t0\n",
      "1\toverflow       \t20017\t0\n",
      "1\tnew            \t19054\t1\n",
      "1\ttechnolog      \t25282\t1\n"
     ]
    }
   ],
   "source": [
    "print(\"doc\",\"word\"+\" \"*11,\"dim\",\"count\",sep=\"\\t\")\n",
    "for i1 in range(2):\n",
    "    for word in words:\n",
    "        document=X_set[i1]\n",
    "        dimension=setVectorizer.vocabulary_[word]\n",
    "        print(i1,f\"{word:15}\",dimension,document[0,dimension],sep=\"\\t\")"
   ]
  },
  {
   "cell_type": "code",
   "execution_count": 52,
   "metadata": {
    "ExecuteTime": {
     "end_time": "2018-02-01T09:57:04.067973Z",
     "start_time": "2018-02-01T09:56:26.747733Z"
    },
    "collapsed": true
   },
   "outputs": [],
   "source": [
    "X_set_test=setVectorizer.transform(test_documents[\"filename\"])"
   ]
  },
  {
   "cell_type": "markdown",
   "metadata": {},
   "source": [
    "### Represent Text as TF-IDF weighted Counts"
   ]
  },
  {
   "cell_type": "markdown",
   "metadata": {},
   "source": [
    "`sklearn` has also a vectorizer that weights columns by the inverse document frequencies."
   ]
  },
  {
   "cell_type": "code",
   "execution_count": 53,
   "metadata": {
    "ExecuteTime": {
     "end_time": "2018-02-01T09:57:04.073993Z",
     "start_time": "2018-02-01T09:57:04.068979Z"
    },
    "collapsed": true
   },
   "outputs": [],
   "source": [
    "tfidfVectorizer=TfidfVectorizer(input=\"filename\",tokenizer=stem_tokenizer,stop_words=stop)"
   ]
  },
  {
   "cell_type": "code",
   "execution_count": 54,
   "metadata": {
    "ExecuteTime": {
     "end_time": "2018-02-01T09:57:39.682928Z",
     "start_time": "2018-02-01T09:57:04.075998Z"
    },
    "collapsed": true
   },
   "outputs": [],
   "source": [
    "Xi=tfidfVectorizer.fit_transform(documents[\"filename\"])"
   ]
  },
  {
   "cell_type": "code",
   "execution_count": 55,
   "metadata": {
    "ExecuteTime": {
     "end_time": "2018-02-01T09:58:18.105768Z",
     "start_time": "2018-02-01T09:57:39.684646Z"
    },
    "collapsed": true
   },
   "outputs": [],
   "source": [
    "Xi_test=tfidfVectorizer.transform(test_documents[\"filename\"])"
   ]
  },
  {
   "cell_type": "markdown",
   "metadata": {},
   "source": [
    "TF-IDF vectorizer already returns normalized vectors"
   ]
  },
  {
   "cell_type": "code",
   "execution_count": 56,
   "metadata": {
    "ExecuteTime": {
     "end_time": "2018-02-01T09:58:18.146914Z",
     "start_time": "2018-02-01T09:58:18.106771Z"
    }
   },
   "outputs": [
    {
     "data": {
      "text/plain": [
       "(0.098638168899128187, 0.098638168899128104)"
      ]
     },
     "execution_count": 56,
     "metadata": {},
     "output_type": "execute_result"
    }
   ],
   "source": [
    "np.dot(Xi[document1],Xi[document2].T)[0,0],product_tfidf(count1,count2,idfs)"
   ]
  },
  {
   "cell_type": "markdown",
   "metadata": {
    "ExecuteTime": {
     "end_time": "2017-11-24T14:01:55.755276Z",
     "start_time": "2017-11-24T14:01:55.747404Z"
    }
   },
   "source": [
    "### Using Digrams as features"
   ]
  },
  {
   "cell_type": "markdown",
   "metadata": {
    "ExecuteTime": {
     "end_time": "2017-11-24T14:03:26.802775Z",
     "start_time": "2017-11-24T14:03:26.794901Z"
    }
   },
   "source": [
    "Instead of using *words* counts as features, we can use *pairs of words*.\n",
    "This are called **digrams**. \n"
   ]
  },
  {
   "cell_type": "code",
   "execution_count": 57,
   "metadata": {
    "ExecuteTime": {
     "end_time": "2018-02-01T09:58:18.153897Z",
     "start_time": "2018-02-01T09:58:18.148884Z"
    },
    "collapsed": true
   },
   "outputs": [],
   "source": [
    "digramVectorizer=CountVectorizer(input=\"filename\",tokenizer=stem_tokenizer,stop_words=stop,ngram_range=(2,2))"
   ]
  },
  {
   "cell_type": "code",
   "execution_count": 58,
   "metadata": {
    "ExecuteTime": {
     "end_time": "2018-02-01T09:58:57.140521Z",
     "start_time": "2018-02-01T09:58:18.155902Z"
    }
   },
   "outputs": [],
   "source": [
    "X_digram=digramVectorizer.fit_transform(documents[\"filename\"])"
   ]
  },
  {
   "cell_type": "code",
   "execution_count": 59,
   "metadata": {
    "ExecuteTime": {
     "end_time": "2018-02-01T09:59:36.799276Z",
     "start_time": "2018-02-01T09:58:57.141524Z"
    },
    "collapsed": true
   },
   "outputs": [],
   "source": [
    "X_digram_test=digramVectorizer.transform(test_documents[\"filename\"])"
   ]
  },
  {
   "cell_type": "code",
   "execution_count": 60,
   "metadata": {
    "ExecuteTime": {
     "end_time": "2018-02-01T09:59:36.818032Z",
     "start_time": "2018-02-01T09:59:36.800985Z"
    }
   },
   "outputs": [
    {
     "name": "stdout",
     "output_type": "stream",
     "text": [
      "internet may 182960\n",
      "may overflow 215852\n",
      "overflow new 246048\n",
      "new technolog 233347\n",
      "technolog crime 343655\n"
     ]
    }
   ],
   "source": [
    "digrams=list(digramVectorizer.vocabulary_.keys())[:5] # only get the first 5 digrams\n",
    "for digram in digrams:\n",
    "    print( digram,digramVectorizer.vocabulary_[digram])"
   ]
  },
  {
   "cell_type": "code",
   "execution_count": 61,
   "metadata": {
    "ExecuteTime": {
     "end_time": "2018-02-01T09:59:36.836079Z",
     "start_time": "2018-02-01T09:59:36.820036Z"
    }
   },
   "outputs": [
    {
     "data": {
      "text/plain": [
       "388209"
      ]
     },
     "execution_count": 61,
     "metadata": {},
     "output_type": "execute_result"
    }
   ],
   "source": [
    "V_digram=X_digram.shape[1]\n",
    "V_digram"
   ]
  },
  {
   "cell_type": "code",
   "execution_count": 62,
   "metadata": {
    "ExecuteTime": {
     "end_time": "2018-02-01T09:59:36.859140Z",
     "start_time": "2018-02-01T09:59:36.837081Z"
    }
   },
   "outputs": [
    {
     "name": "stdout",
     "output_type": "stream",
     "text": [
      "doc\tdigram           \tdim\tcount\n",
      "0\tinternet may   \t182960\t1\n",
      "0\tmay overflow   \t215852\t1\n",
      "0\toverflow new   \t246048\t1\n",
      "0\tnew technolog  \t233347\t1\n",
      "0\ttechnolog crime\t343655\t1\n",
      "1\tinternet may   \t182960\t0\n",
      "1\tmay overflow   \t215852\t0\n",
      "1\toverflow new   \t246048\t0\n",
      "1\tnew technolog  \t233347\t1\n",
      "1\ttechnolog crime\t343655\t0\n"
     ]
    }
   ],
   "source": [
    "print(\"doc\",\"digram\"+\" \"*11,\"dim\",\"count\",sep=\"\\t\")\n",
    "for i1 in range(2):\n",
    "    for digram in digrams:\n",
    "        document=X_digram[i1]\n",
    "        dimension=digramVectorizer.vocabulary_[digram]\n",
    "        print(i1,f\"{digram:15}\",dimension,document[0,dimension],sep=\"\\t\")"
   ]
  },
  {
   "cell_type": "markdown",
   "metadata": {},
   "source": [
    "### Saving Trained models for Reuse"
   ]
  },
  {
   "cell_type": "markdown",
   "metadata": {},
   "source": [
    "Training a text model (calling `fit_transform`) is slow because we need to process all the documents in the training corpus.\n",
    "\n",
    "Sometimes it is convenient to save pre-trained models to disk for reuse later. We can also save the pre-processed test documents:"
   ]
  },
  {
   "cell_type": "code",
   "execution_count": 63,
   "metadata": {
    "ExecuteTime": {
     "end_time": "2018-02-01T09:59:36.995502Z",
     "start_time": "2018-02-01T09:59:36.861146Z"
    },
    "collapsed": true
   },
   "outputs": [],
   "source": [
    "set_vectorizer_filename=   data_dir+\"/set_vectorizer.p\"\n",
    "set_features_filename=     data_dir+\"/set_features.p\"\n",
    "set_test_features_filename=data_dir+\"/set_test_features.p\"\n",
    "\n",
    "pickle.dump(setVectorizer, open( set_vectorizer_filename, \"wb\" ) )\n",
    "pickle.dump(X_set,         open( set_features_filename, \"wb\" ) )\n",
    "pickle.dump(X_set_test,    open( set_test_features_filename, \"wb\" ) )\n"
   ]
  },
  {
   "cell_type": "code",
   "execution_count": 64,
   "metadata": {
    "ExecuteTime": {
     "end_time": "2018-02-01T09:59:37.138883Z",
     "start_time": "2018-02-01T09:59:36.997508Z"
    },
    "collapsed": true
   },
   "outputs": [],
   "source": [
    "count_vectorizer_filename=   data_dir+\"/count_vectorizer.p\"\n",
    "count_features_filename=     data_dir+\"/count_features.p\"\n",
    "count_test_features_filename=data_dir+\"/count_test_features.p\"\n",
    "\n",
    "pickle.dump(countVectorizer, open( count_vectorizer_filename, \"wb\" ) )\n",
    "pickle.dump(X,             open( count_features_filename, \"wb\" ) )\n",
    "pickle.dump(X_test,        open( count_test_features_filename, \"wb\" ) )\n"
   ]
  },
  {
   "cell_type": "code",
   "execution_count": 65,
   "metadata": {
    "ExecuteTime": {
     "end_time": "2018-02-01T09:59:37.253187Z",
     "start_time": "2018-02-01T09:59:37.139885Z"
    },
    "collapsed": true
   },
   "outputs": [],
   "source": [
    "tfidf_vectorizer_filename=   data_dir+\"/tfidf_vectorizer.p\"\n",
    "tfidf_features_filename=     data_dir+\"/tfidf_features.p\"\n",
    "tfidf_test_features_filename=data_dir+\"/tfidf_test_features.p\"\n",
    "\n",
    "pickle.dump(tfidfVectorizer, open( tfidf_vectorizer_filename, \"wb\" ) )\n",
    "pickle.dump(Xi,              open( tfidf_features_filename, \"wb\" ) )\n",
    "pickle.dump(Xi_test,         open( tfidf_test_features_filename, \"wb\" ) )\n"
   ]
  },
  {
   "cell_type": "code",
   "execution_count": 66,
   "metadata": {
    "ExecuteTime": {
     "end_time": "2018-02-01T09:59:38.617813Z",
     "start_time": "2018-02-01T09:59:37.255194Z"
    },
    "collapsed": true
   },
   "outputs": [],
   "source": [
    "digram_vectorizer_filename=   data_dir+\"/digram_vectorizer.p\"\n",
    "digram_features_filename=     data_dir+\"/digram_features.p\"\n",
    "digram_test_features_filename=data_dir+\"/digram_test_features.p\"\n",
    "\n",
    "pickle.dump(digramVectorizer, open( digram_vectorizer_filename, \"wb\" ) )\n",
    "pickle.dump(X_digram,              open( digram_features_filename, \"wb\" ) )\n",
    "pickle.dump(X_digram_test,         open( digram_test_features_filename, \"wb\" ) )"
   ]
  },
  {
   "cell_type": "code",
   "execution_count": null,
   "metadata": {
    "collapsed": true
   },
   "outputs": [],
   "source": []
  }
 ],
 "metadata": {
  "kernelspec": {
   "display_name": "Python [default]",
   "language": "python",
   "name": "python3"
  },
  "language_info": {
   "codemirror_mode": {
    "name": "ipython",
    "version": 3
   },
   "file_extension": ".py",
   "mimetype": "text/x-python",
   "name": "python",
   "nbconvert_exporter": "python",
   "pygments_lexer": "ipython3",
   "version": "3.5.2"
  },
  "toc": {
   "nav_menu": {},
   "number_sections": true,
   "sideBar": true,
   "skip_h1_title": false,
   "toc_cell": false,
   "toc_position": {
    "height": "497px",
    "left": "0px",
    "right": "auto",
    "top": "107px",
    "width": "314px"
   },
   "toc_section_display": "block",
   "toc_window_display": false
  }
 },
 "nbformat": 4,
 "nbformat_minor": 2
}
