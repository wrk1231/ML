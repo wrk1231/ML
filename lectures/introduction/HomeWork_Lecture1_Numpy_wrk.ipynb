{
 "cells": [
  {
   "cell_type": "markdown",
   "metadata": {
    "ExecuteTime": {
     "end_time": "2018-01-09T15:16:27.144141Z",
     "start_time": "2018-01-09T15:16:27.139141Z"
    }
   },
   "source": [
    "# Homework Lecture 1"
   ]
  },
  {
   "cell_type": "markdown",
   "metadata": {
    "ExecuteTime": {
     "end_time": "2018-01-09T15:16:42.223141Z",
     "start_time": "2018-01-09T15:16:42.218141Z"
    }
   },
   "source": [
    "## Preliminaries"
   ]
  },
  {
   "cell_type": "markdown",
   "metadata": {
    "ExecuteTime": {
     "end_time": "2018-01-09T15:16:58.417141Z",
     "start_time": "2018-01-09T15:16:58.414141Z"
    }
   },
   "source": [
    "### Imports"
   ]
  },
  {
   "cell_type": "code",
   "execution_count": 3,
   "metadata": {
    "ExecuteTime": {
     "end_time": "2018-01-17T16:09:33.797176Z",
     "start_time": "2018-01-17T16:09:12.299456Z"
    }
   },
   "outputs": [],
   "source": [
    "import os\n",
    "\n",
    "import numpy as np\n",
    "import pandas as pd\n",
    "import matplotlib.pyplot as plt\n",
    "\n",
    "%matplotlib inline\n",
    "\n",
    "import sys \n",
    "sys.path.append(\"../..\")\n",
    "import E4525_ML.mnist as mnist"
   ]
  },
  {
   "cell_type": "markdown",
   "metadata": {
    "ExecuteTime": {
     "end_time": "2018-01-09T15:18:16.996141Z",
     "start_time": "2018-01-09T15:18:16.993141Z"
    }
   },
   "source": [
    "### Data Directories "
   ]
  },
  {
   "cell_type": "markdown",
   "metadata": {},
   "source": [
    "Create a directory with the path below"
   ]
  },
  {
   "cell_type": "code",
   "execution_count": 4,
   "metadata": {
    "ExecuteTime": {
     "end_time": "2018-01-17T16:09:33.816326Z",
     "start_time": "2018-01-17T16:09:33.801275Z"
    }
   },
   "outputs": [],
   "source": [
    "raw_data_dir=\"../../raw/MNIST\"\n",
    "data_dir=\"../../data/introduction\"\n"
   ]
  },
  {
   "cell_type": "markdown",
   "metadata": {},
   "source": [
    "<div class=\"alert alert-block alert-info\"> Problem 0 </div>\n",
    "Download the file `data.csv` and save it fo the directory `data_dir`"
   ]
  },
  {
   "cell_type": "markdown",
   "metadata": {
    "ExecuteTime": {
     "end_time": "2018-01-09T15:21:30.644141Z",
     "start_time": "2018-01-09T15:21:30.639141Z"
    }
   },
   "source": [
    "## Numpy Exercises"
   ]
  },
  {
   "cell_type": "markdown",
   "metadata": {
    "ExecuteTime": {
     "end_time": "2018-01-09T16:23:41.930141Z",
     "start_time": "2018-01-09T16:23:41.927141Z"
    }
   },
   "source": [
    "### Read and Inspect the Data "
   ]
  },
  {
   "cell_type": "markdown",
   "metadata": {},
   "source": [
    "<div class=\"alert alert-block alert-info\"> Problem 1.1 </div>\n",
    "Read the contents of `data.csv` into a panda's dataframe"
   ]
  },
  {
   "cell_type": "code",
   "execution_count": 6,
   "metadata": {
    "ExecuteTime": {
     "end_time": "2018-01-15T02:43:44.196239Z",
     "start_time": "2018-01-15T02:43:44.108006Z"
    }
   },
   "outputs": [
    {
     "data": {
      "text/html": [
       "<div>\n",
       "<table border=\"1\" class=\"dataframe\">\n",
       "  <thead>\n",
       "    <tr style=\"text-align: right;\">\n",
       "      <th></th>\n",
       "      <th>X</th>\n",
       "      <th>Y</th>\n",
       "    </tr>\n",
       "  </thead>\n",
       "  <tbody>\n",
       "    <tr>\n",
       "      <th>0</th>\n",
       "      <td>A</td>\n",
       "      <td>a</td>\n",
       "    </tr>\n",
       "    <tr>\n",
       "      <th>1</th>\n",
       "      <td>A</td>\n",
       "      <td>c</td>\n",
       "    </tr>\n",
       "    <tr>\n",
       "      <th>2</th>\n",
       "      <td>B</td>\n",
       "      <td>a</td>\n",
       "    </tr>\n",
       "    <tr>\n",
       "      <th>3</th>\n",
       "      <td>B</td>\n",
       "      <td>a</td>\n",
       "    </tr>\n",
       "    <tr>\n",
       "      <th>4</th>\n",
       "      <td>A</td>\n",
       "      <td>a</td>\n",
       "    </tr>\n",
       "    <tr>\n",
       "      <th>5</th>\n",
       "      <td>B</td>\n",
       "      <td>a</td>\n",
       "    </tr>\n",
       "    <tr>\n",
       "      <th>6</th>\n",
       "      <td>B</td>\n",
       "      <td>a</td>\n",
       "    </tr>\n",
       "    <tr>\n",
       "      <th>7</th>\n",
       "      <td>B</td>\n",
       "      <td>d</td>\n",
       "    </tr>\n",
       "    <tr>\n",
       "      <th>8</th>\n",
       "      <td>C</td>\n",
       "      <td>a</td>\n",
       "    </tr>\n",
       "    <tr>\n",
       "      <th>9</th>\n",
       "      <td>A</td>\n",
       "      <td>a</td>\n",
       "    </tr>\n",
       "    <tr>\n",
       "      <th>10</th>\n",
       "      <td>B</td>\n",
       "      <td>d</td>\n",
       "    </tr>\n",
       "    <tr>\n",
       "      <th>11</th>\n",
       "      <td>A</td>\n",
       "      <td>c</td>\n",
       "    </tr>\n",
       "    <tr>\n",
       "      <th>12</th>\n",
       "      <td>A</td>\n",
       "      <td>d</td>\n",
       "    </tr>\n",
       "    <tr>\n",
       "      <th>13</th>\n",
       "      <td>A</td>\n",
       "      <td>c</td>\n",
       "    </tr>\n",
       "    <tr>\n",
       "      <th>14</th>\n",
       "      <td>A</td>\n",
       "      <td>c</td>\n",
       "    </tr>\n",
       "    <tr>\n",
       "      <th>15</th>\n",
       "      <td>B</td>\n",
       "      <td>a</td>\n",
       "    </tr>\n",
       "    <tr>\n",
       "      <th>16</th>\n",
       "      <td>B</td>\n",
       "      <td>a</td>\n",
       "    </tr>\n",
       "    <tr>\n",
       "      <th>17</th>\n",
       "      <td>A</td>\n",
       "      <td>d</td>\n",
       "    </tr>\n",
       "    <tr>\n",
       "      <th>18</th>\n",
       "      <td>B</td>\n",
       "      <td>a</td>\n",
       "    </tr>\n",
       "    <tr>\n",
       "      <th>19</th>\n",
       "      <td>A</td>\n",
       "      <td>c</td>\n",
       "    </tr>\n",
       "    <tr>\n",
       "      <th>20</th>\n",
       "      <td>A</td>\n",
       "      <td>c</td>\n",
       "    </tr>\n",
       "    <tr>\n",
       "      <th>21</th>\n",
       "      <td>C</td>\n",
       "      <td>d</td>\n",
       "    </tr>\n",
       "    <tr>\n",
       "      <th>22</th>\n",
       "      <td>B</td>\n",
       "      <td>b</td>\n",
       "    </tr>\n",
       "    <tr>\n",
       "      <th>23</th>\n",
       "      <td>B</td>\n",
       "      <td>b</td>\n",
       "    </tr>\n",
       "    <tr>\n",
       "      <th>24</th>\n",
       "      <td>A</td>\n",
       "      <td>c</td>\n",
       "    </tr>\n",
       "    <tr>\n",
       "      <th>25</th>\n",
       "      <td>A</td>\n",
       "      <td>c</td>\n",
       "    </tr>\n",
       "    <tr>\n",
       "      <th>26</th>\n",
       "      <td>A</td>\n",
       "      <td>c</td>\n",
       "    </tr>\n",
       "    <tr>\n",
       "      <th>27</th>\n",
       "      <td>A</td>\n",
       "      <td>c</td>\n",
       "    </tr>\n",
       "    <tr>\n",
       "      <th>28</th>\n",
       "      <td>C</td>\n",
       "      <td>c</td>\n",
       "    </tr>\n",
       "    <tr>\n",
       "      <th>29</th>\n",
       "      <td>A</td>\n",
       "      <td>c</td>\n",
       "    </tr>\n",
       "    <tr>\n",
       "      <th>...</th>\n",
       "      <td>...</td>\n",
       "      <td>...</td>\n",
       "    </tr>\n",
       "    <tr>\n",
       "      <th>970</th>\n",
       "      <td>A</td>\n",
       "      <td>c</td>\n",
       "    </tr>\n",
       "    <tr>\n",
       "      <th>971</th>\n",
       "      <td>C</td>\n",
       "      <td>e</td>\n",
       "    </tr>\n",
       "    <tr>\n",
       "      <th>972</th>\n",
       "      <td>C</td>\n",
       "      <td>b</td>\n",
       "    </tr>\n",
       "    <tr>\n",
       "      <th>973</th>\n",
       "      <td>B</td>\n",
       "      <td>b</td>\n",
       "    </tr>\n",
       "    <tr>\n",
       "      <th>974</th>\n",
       "      <td>B</td>\n",
       "      <td>a</td>\n",
       "    </tr>\n",
       "    <tr>\n",
       "      <th>975</th>\n",
       "      <td>A</td>\n",
       "      <td>c</td>\n",
       "    </tr>\n",
       "    <tr>\n",
       "      <th>976</th>\n",
       "      <td>C</td>\n",
       "      <td>c</td>\n",
       "    </tr>\n",
       "    <tr>\n",
       "      <th>977</th>\n",
       "      <td>C</td>\n",
       "      <td>c</td>\n",
       "    </tr>\n",
       "    <tr>\n",
       "      <th>978</th>\n",
       "      <td>C</td>\n",
       "      <td>d</td>\n",
       "    </tr>\n",
       "    <tr>\n",
       "      <th>979</th>\n",
       "      <td>B</td>\n",
       "      <td>a</td>\n",
       "    </tr>\n",
       "    <tr>\n",
       "      <th>980</th>\n",
       "      <td>B</td>\n",
       "      <td>b</td>\n",
       "    </tr>\n",
       "    <tr>\n",
       "      <th>981</th>\n",
       "      <td>B</td>\n",
       "      <td>d</td>\n",
       "    </tr>\n",
       "    <tr>\n",
       "      <th>982</th>\n",
       "      <td>C</td>\n",
       "      <td>d</td>\n",
       "    </tr>\n",
       "    <tr>\n",
       "      <th>983</th>\n",
       "      <td>C</td>\n",
       "      <td>e</td>\n",
       "    </tr>\n",
       "    <tr>\n",
       "      <th>984</th>\n",
       "      <td>C</td>\n",
       "      <td>e</td>\n",
       "    </tr>\n",
       "    <tr>\n",
       "      <th>985</th>\n",
       "      <td>B</td>\n",
       "      <td>a</td>\n",
       "    </tr>\n",
       "    <tr>\n",
       "      <th>986</th>\n",
       "      <td>C</td>\n",
       "      <td>b</td>\n",
       "    </tr>\n",
       "    <tr>\n",
       "      <th>987</th>\n",
       "      <td>C</td>\n",
       "      <td>a</td>\n",
       "    </tr>\n",
       "    <tr>\n",
       "      <th>988</th>\n",
       "      <td>C</td>\n",
       "      <td>b</td>\n",
       "    </tr>\n",
       "    <tr>\n",
       "      <th>989</th>\n",
       "      <td>A</td>\n",
       "      <td>d</td>\n",
       "    </tr>\n",
       "    <tr>\n",
       "      <th>990</th>\n",
       "      <td>B</td>\n",
       "      <td>a</td>\n",
       "    </tr>\n",
       "    <tr>\n",
       "      <th>991</th>\n",
       "      <td>A</td>\n",
       "      <td>c</td>\n",
       "    </tr>\n",
       "    <tr>\n",
       "      <th>992</th>\n",
       "      <td>A</td>\n",
       "      <td>c</td>\n",
       "    </tr>\n",
       "    <tr>\n",
       "      <th>993</th>\n",
       "      <td>A</td>\n",
       "      <td>a</td>\n",
       "    </tr>\n",
       "    <tr>\n",
       "      <th>994</th>\n",
       "      <td>A</td>\n",
       "      <td>c</td>\n",
       "    </tr>\n",
       "    <tr>\n",
       "      <th>995</th>\n",
       "      <td>A</td>\n",
       "      <td>c</td>\n",
       "    </tr>\n",
       "    <tr>\n",
       "      <th>996</th>\n",
       "      <td>B</td>\n",
       "      <td>a</td>\n",
       "    </tr>\n",
       "    <tr>\n",
       "      <th>997</th>\n",
       "      <td>B</td>\n",
       "      <td>b</td>\n",
       "    </tr>\n",
       "    <tr>\n",
       "      <th>998</th>\n",
       "      <td>C</td>\n",
       "      <td>c</td>\n",
       "    </tr>\n",
       "    <tr>\n",
       "      <th>999</th>\n",
       "      <td>A</td>\n",
       "      <td>c</td>\n",
       "    </tr>\n",
       "  </tbody>\n",
       "</table>\n",
       "<p>1000 rows × 2 columns</p>\n",
       "</div>"
      ],
      "text/plain": [
       "     X  Y\n",
       "0    A  a\n",
       "1    A  c\n",
       "2    B  a\n",
       "3    B  a\n",
       "4    A  a\n",
       "5    B  a\n",
       "6    B  a\n",
       "7    B  d\n",
       "8    C  a\n",
       "9    A  a\n",
       "10   B  d\n",
       "11   A  c\n",
       "12   A  d\n",
       "13   A  c\n",
       "14   A  c\n",
       "15   B  a\n",
       "16   B  a\n",
       "17   A  d\n",
       "18   B  a\n",
       "19   A  c\n",
       "20   A  c\n",
       "21   C  d\n",
       "22   B  b\n",
       "23   B  b\n",
       "24   A  c\n",
       "25   A  c\n",
       "26   A  c\n",
       "27   A  c\n",
       "28   C  c\n",
       "29   A  c\n",
       "..  .. ..\n",
       "970  A  c\n",
       "971  C  e\n",
       "972  C  b\n",
       "973  B  b\n",
       "974  B  a\n",
       "975  A  c\n",
       "976  C  c\n",
       "977  C  c\n",
       "978  C  d\n",
       "979  B  a\n",
       "980  B  b\n",
       "981  B  d\n",
       "982  C  d\n",
       "983  C  e\n",
       "984  C  e\n",
       "985  B  a\n",
       "986  C  b\n",
       "987  C  a\n",
       "988  C  b\n",
       "989  A  d\n",
       "990  B  a\n",
       "991  A  c\n",
       "992  A  c\n",
       "993  A  a\n",
       "994  A  c\n",
       "995  A  c\n",
       "996  B  a\n",
       "997  B  b\n",
       "998  C  c\n",
       "999  A  c\n",
       "\n",
       "[1000 rows x 2 columns]"
      ]
     },
     "execution_count": 6,
     "metadata": {},
     "output_type": "execute_result"
    }
   ],
   "source": [
    "filename=\"data.csv\"\n",
    "data1_1=pd.read_csv(data_dir+\"/\"+filename)\n",
    "data1_1"
   ]
  },
  {
   "cell_type": "markdown",
   "metadata": {},
   "source": [
    "<div class=\"alert alert-block alert-info\"> Problem 1.2 </div>\n",
    "What are the name of the columns?"
   ]
  },
  {
   "cell_type": "code",
   "execution_count": 8,
   "metadata": {
    "ExecuteTime": {
     "end_time": "2018-01-15T02:43:44.223312Z",
     "start_time": "2018-01-15T02:43:44.198245Z"
    }
   },
   "outputs": [
    {
     "name": "stdout",
     "output_type": "stream",
     "text": [
      "name of the columns: Index(['X', 'Y'], dtype='object')\n"
     ]
    }
   ],
   "source": [
    "print('name of the columns:',data1_1.columns)"
   ]
  },
  {
   "cell_type": "markdown",
   "metadata": {
    "ExecuteTime": {
     "end_time": "2018-01-09T16:25:39.747141Z",
     "start_time": "2018-01-09T16:25:39.722141Z"
    }
   },
   "source": [
    "<div class=\"alert alert-block alert-info\"> Problem 1.3 </div>\n",
    "How many rows are there?"
   ]
  },
  {
   "cell_type": "code",
   "execution_count": 10,
   "metadata": {
    "ExecuteTime": {
     "end_time": "2018-01-15T02:43:44.242362Z",
     "start_time": "2018-01-15T02:43:44.225318Z"
    }
   },
   "outputs": [
    {
     "name": "stdout",
     "output_type": "stream",
     "text": [
      "rows: 1000\n"
     ]
    }
   ],
   "source": [
    "print('rows:',len(data1_1))"
   ]
  },
  {
   "cell_type": "markdown",
   "metadata": {},
   "source": [
    "<div class=\"alert alert-block alert-info\"> Problem 1.4 </div>\n",
    "List the unique values of column \"X\", and of column \"Y\""
   ]
  },
  {
   "cell_type": "code",
   "execution_count": 13,
   "metadata": {
    "ExecuteTime": {
     "end_time": "2018-01-15T02:43:44.265424Z",
     "start_time": "2018-01-15T02:43:44.244369Z"
    }
   },
   "outputs": [
    {
     "name": "stdout",
     "output_type": "stream",
     "text": [
      "unique values of column \"X\": ['A' 'B' 'C' 'D']\n",
      "unique values of column \"Y\": ['a' 'c' 'd' 'b' 'e']\n"
     ]
    }
   ],
   "source": [
    "print('unique values of column \"X\":',data1_1['X'].unique())\n",
    "print('unique values of column \"Y\":',data1_1['Y'].unique())"
   ]
  },
  {
   "cell_type": "markdown",
   "metadata": {
    "ExecuteTime": {
     "end_time": "2018-01-09T16:27:20.953141Z",
     "start_time": "2018-01-09T16:27:20.944141Z"
    }
   },
   "source": [
    "<div class=\"alert alert-block alert-info\"> Problem 1.5 </div>\n",
    "Use [pandas.Series.value_counts](https://pandas.pydata.org/pandas-docs/stable/generated/pandas.Series.value_counts.html) function to get the counts of each possible value  of X and Y variables"
   ]
  },
  {
   "cell_type": "code",
   "execution_count": 14,
   "metadata": {
    "ExecuteTime": {
     "end_time": "2018-01-15T02:43:44.465957Z",
     "start_time": "2018-01-15T02:43:44.267430Z"
    }
   },
   "outputs": [
    {
     "data": {
      "text/plain": [
       "A    383\n",
       "B    293\n",
       "C    279\n",
       "D     45\n",
       "Name: X, dtype: int64"
      ]
     },
     "execution_count": 14,
     "metadata": {},
     "output_type": "execute_result"
    }
   ],
   "source": [
    "data1_1['X'].value_counts()"
   ]
  },
  {
   "cell_type": "code",
   "execution_count": 15,
   "metadata": {
    "ExecuteTime": {
     "end_time": "2018-01-15T02:43:44.600543Z",
     "start_time": "2018-01-15T02:43:44.468966Z"
    }
   },
   "outputs": [
    {
     "data": {
      "text/plain": [
       "c    349\n",
       "a    312\n",
       "b    148\n",
       "d    132\n",
       "e     59\n",
       "Name: Y, dtype: int64"
      ]
     },
     "execution_count": 15,
     "metadata": {},
     "output_type": "execute_result"
    }
   ],
   "source": [
    "data1_1['Y'].value_counts()"
   ]
  },
  {
   "cell_type": "markdown",
   "metadata": {
    "ExecuteTime": {
     "end_time": "2018-01-09T16:29:30.641141Z",
     "start_time": "2018-01-09T16:29:30.635141Z"
    }
   },
   "source": [
    "### Basic Usage of Numpy"
   ]
  },
  {
   "cell_type": "markdown",
   "metadata": {},
   "source": [
    "<div class=\"alert alert-block alert-info\"> Problem 2.1 </div>\n",
    "\n",
    "Use panda's function [get_dummies](https://pandas.pydata.org/pandas-docs/stable/generated/pandas.get_dummies.html) to\n",
    "* create a variable named `data_ZX` with one row per row on the original data, and one-hot encoded `X` variable values as columns\n",
    "* create a varialbe named `data_ZY` with one row per row on the original data, and one-hot encoded `Y` variable values as columns"
   ]
  },
  {
   "cell_type": "code",
   "execution_count": 27,
   "metadata": {
    "ExecuteTime": {
     "end_time": "2018-01-15T02:43:44.608564Z",
     "start_time": "2018-01-15T02:43:44.602548Z"
    }
   },
   "outputs": [
    {
     "data": {
      "text/html": [
       "<div>\n",
       "<table border=\"1\" class=\"dataframe\">\n",
       "  <thead>\n",
       "    <tr style=\"text-align: right;\">\n",
       "      <th></th>\n",
       "      <th>A</th>\n",
       "      <th>B</th>\n",
       "      <th>C</th>\n",
       "      <th>D</th>\n",
       "    </tr>\n",
       "  </thead>\n",
       "  <tbody>\n",
       "    <tr>\n",
       "      <th>0</th>\n",
       "      <td>1.0</td>\n",
       "      <td>0.0</td>\n",
       "      <td>0.0</td>\n",
       "      <td>0.0</td>\n",
       "    </tr>\n",
       "    <tr>\n",
       "      <th>1</th>\n",
       "      <td>1.0</td>\n",
       "      <td>0.0</td>\n",
       "      <td>0.0</td>\n",
       "      <td>0.0</td>\n",
       "    </tr>\n",
       "    <tr>\n",
       "      <th>2</th>\n",
       "      <td>0.0</td>\n",
       "      <td>1.0</td>\n",
       "      <td>0.0</td>\n",
       "      <td>0.0</td>\n",
       "    </tr>\n",
       "    <tr>\n",
       "      <th>3</th>\n",
       "      <td>0.0</td>\n",
       "      <td>1.0</td>\n",
       "      <td>0.0</td>\n",
       "      <td>0.0</td>\n",
       "    </tr>\n",
       "    <tr>\n",
       "      <th>4</th>\n",
       "      <td>1.0</td>\n",
       "      <td>0.0</td>\n",
       "      <td>0.0</td>\n",
       "      <td>0.0</td>\n",
       "    </tr>\n",
       "    <tr>\n",
       "      <th>5</th>\n",
       "      <td>0.0</td>\n",
       "      <td>1.0</td>\n",
       "      <td>0.0</td>\n",
       "      <td>0.0</td>\n",
       "    </tr>\n",
       "    <tr>\n",
       "      <th>6</th>\n",
       "      <td>0.0</td>\n",
       "      <td>1.0</td>\n",
       "      <td>0.0</td>\n",
       "      <td>0.0</td>\n",
       "    </tr>\n",
       "    <tr>\n",
       "      <th>7</th>\n",
       "      <td>0.0</td>\n",
       "      <td>1.0</td>\n",
       "      <td>0.0</td>\n",
       "      <td>0.0</td>\n",
       "    </tr>\n",
       "    <tr>\n",
       "      <th>8</th>\n",
       "      <td>0.0</td>\n",
       "      <td>0.0</td>\n",
       "      <td>1.0</td>\n",
       "      <td>0.0</td>\n",
       "    </tr>\n",
       "    <tr>\n",
       "      <th>9</th>\n",
       "      <td>1.0</td>\n",
       "      <td>0.0</td>\n",
       "      <td>0.0</td>\n",
       "      <td>0.0</td>\n",
       "    </tr>\n",
       "    <tr>\n",
       "      <th>10</th>\n",
       "      <td>0.0</td>\n",
       "      <td>1.0</td>\n",
       "      <td>0.0</td>\n",
       "      <td>0.0</td>\n",
       "    </tr>\n",
       "    <tr>\n",
       "      <th>11</th>\n",
       "      <td>1.0</td>\n",
       "      <td>0.0</td>\n",
       "      <td>0.0</td>\n",
       "      <td>0.0</td>\n",
       "    </tr>\n",
       "    <tr>\n",
       "      <th>12</th>\n",
       "      <td>1.0</td>\n",
       "      <td>0.0</td>\n",
       "      <td>0.0</td>\n",
       "      <td>0.0</td>\n",
       "    </tr>\n",
       "    <tr>\n",
       "      <th>13</th>\n",
       "      <td>1.0</td>\n",
       "      <td>0.0</td>\n",
       "      <td>0.0</td>\n",
       "      <td>0.0</td>\n",
       "    </tr>\n",
       "    <tr>\n",
       "      <th>14</th>\n",
       "      <td>1.0</td>\n",
       "      <td>0.0</td>\n",
       "      <td>0.0</td>\n",
       "      <td>0.0</td>\n",
       "    </tr>\n",
       "    <tr>\n",
       "      <th>15</th>\n",
       "      <td>0.0</td>\n",
       "      <td>1.0</td>\n",
       "      <td>0.0</td>\n",
       "      <td>0.0</td>\n",
       "    </tr>\n",
       "    <tr>\n",
       "      <th>16</th>\n",
       "      <td>0.0</td>\n",
       "      <td>1.0</td>\n",
       "      <td>0.0</td>\n",
       "      <td>0.0</td>\n",
       "    </tr>\n",
       "    <tr>\n",
       "      <th>17</th>\n",
       "      <td>1.0</td>\n",
       "      <td>0.0</td>\n",
       "      <td>0.0</td>\n",
       "      <td>0.0</td>\n",
       "    </tr>\n",
       "    <tr>\n",
       "      <th>18</th>\n",
       "      <td>0.0</td>\n",
       "      <td>1.0</td>\n",
       "      <td>0.0</td>\n",
       "      <td>0.0</td>\n",
       "    </tr>\n",
       "    <tr>\n",
       "      <th>19</th>\n",
       "      <td>1.0</td>\n",
       "      <td>0.0</td>\n",
       "      <td>0.0</td>\n",
       "      <td>0.0</td>\n",
       "    </tr>\n",
       "    <tr>\n",
       "      <th>20</th>\n",
       "      <td>1.0</td>\n",
       "      <td>0.0</td>\n",
       "      <td>0.0</td>\n",
       "      <td>0.0</td>\n",
       "    </tr>\n",
       "    <tr>\n",
       "      <th>21</th>\n",
       "      <td>0.0</td>\n",
       "      <td>0.0</td>\n",
       "      <td>1.0</td>\n",
       "      <td>0.0</td>\n",
       "    </tr>\n",
       "    <tr>\n",
       "      <th>22</th>\n",
       "      <td>0.0</td>\n",
       "      <td>1.0</td>\n",
       "      <td>0.0</td>\n",
       "      <td>0.0</td>\n",
       "    </tr>\n",
       "    <tr>\n",
       "      <th>23</th>\n",
       "      <td>0.0</td>\n",
       "      <td>1.0</td>\n",
       "      <td>0.0</td>\n",
       "      <td>0.0</td>\n",
       "    </tr>\n",
       "    <tr>\n",
       "      <th>24</th>\n",
       "      <td>1.0</td>\n",
       "      <td>0.0</td>\n",
       "      <td>0.0</td>\n",
       "      <td>0.0</td>\n",
       "    </tr>\n",
       "    <tr>\n",
       "      <th>25</th>\n",
       "      <td>1.0</td>\n",
       "      <td>0.0</td>\n",
       "      <td>0.0</td>\n",
       "      <td>0.0</td>\n",
       "    </tr>\n",
       "    <tr>\n",
       "      <th>26</th>\n",
       "      <td>1.0</td>\n",
       "      <td>0.0</td>\n",
       "      <td>0.0</td>\n",
       "      <td>0.0</td>\n",
       "    </tr>\n",
       "    <tr>\n",
       "      <th>27</th>\n",
       "      <td>1.0</td>\n",
       "      <td>0.0</td>\n",
       "      <td>0.0</td>\n",
       "      <td>0.0</td>\n",
       "    </tr>\n",
       "    <tr>\n",
       "      <th>28</th>\n",
       "      <td>0.0</td>\n",
       "      <td>0.0</td>\n",
       "      <td>1.0</td>\n",
       "      <td>0.0</td>\n",
       "    </tr>\n",
       "    <tr>\n",
       "      <th>29</th>\n",
       "      <td>1.0</td>\n",
       "      <td>0.0</td>\n",
       "      <td>0.0</td>\n",
       "      <td>0.0</td>\n",
       "    </tr>\n",
       "    <tr>\n",
       "      <th>...</th>\n",
       "      <td>...</td>\n",
       "      <td>...</td>\n",
       "      <td>...</td>\n",
       "      <td>...</td>\n",
       "    </tr>\n",
       "    <tr>\n",
       "      <th>970</th>\n",
       "      <td>1.0</td>\n",
       "      <td>0.0</td>\n",
       "      <td>0.0</td>\n",
       "      <td>0.0</td>\n",
       "    </tr>\n",
       "    <tr>\n",
       "      <th>971</th>\n",
       "      <td>0.0</td>\n",
       "      <td>0.0</td>\n",
       "      <td>1.0</td>\n",
       "      <td>0.0</td>\n",
       "    </tr>\n",
       "    <tr>\n",
       "      <th>972</th>\n",
       "      <td>0.0</td>\n",
       "      <td>0.0</td>\n",
       "      <td>1.0</td>\n",
       "      <td>0.0</td>\n",
       "    </tr>\n",
       "    <tr>\n",
       "      <th>973</th>\n",
       "      <td>0.0</td>\n",
       "      <td>1.0</td>\n",
       "      <td>0.0</td>\n",
       "      <td>0.0</td>\n",
       "    </tr>\n",
       "    <tr>\n",
       "      <th>974</th>\n",
       "      <td>0.0</td>\n",
       "      <td>1.0</td>\n",
       "      <td>0.0</td>\n",
       "      <td>0.0</td>\n",
       "    </tr>\n",
       "    <tr>\n",
       "      <th>975</th>\n",
       "      <td>1.0</td>\n",
       "      <td>0.0</td>\n",
       "      <td>0.0</td>\n",
       "      <td>0.0</td>\n",
       "    </tr>\n",
       "    <tr>\n",
       "      <th>976</th>\n",
       "      <td>0.0</td>\n",
       "      <td>0.0</td>\n",
       "      <td>1.0</td>\n",
       "      <td>0.0</td>\n",
       "    </tr>\n",
       "    <tr>\n",
       "      <th>977</th>\n",
       "      <td>0.0</td>\n",
       "      <td>0.0</td>\n",
       "      <td>1.0</td>\n",
       "      <td>0.0</td>\n",
       "    </tr>\n",
       "    <tr>\n",
       "      <th>978</th>\n",
       "      <td>0.0</td>\n",
       "      <td>0.0</td>\n",
       "      <td>1.0</td>\n",
       "      <td>0.0</td>\n",
       "    </tr>\n",
       "    <tr>\n",
       "      <th>979</th>\n",
       "      <td>0.0</td>\n",
       "      <td>1.0</td>\n",
       "      <td>0.0</td>\n",
       "      <td>0.0</td>\n",
       "    </tr>\n",
       "    <tr>\n",
       "      <th>980</th>\n",
       "      <td>0.0</td>\n",
       "      <td>1.0</td>\n",
       "      <td>0.0</td>\n",
       "      <td>0.0</td>\n",
       "    </tr>\n",
       "    <tr>\n",
       "      <th>981</th>\n",
       "      <td>0.0</td>\n",
       "      <td>1.0</td>\n",
       "      <td>0.0</td>\n",
       "      <td>0.0</td>\n",
       "    </tr>\n",
       "    <tr>\n",
       "      <th>982</th>\n",
       "      <td>0.0</td>\n",
       "      <td>0.0</td>\n",
       "      <td>1.0</td>\n",
       "      <td>0.0</td>\n",
       "    </tr>\n",
       "    <tr>\n",
       "      <th>983</th>\n",
       "      <td>0.0</td>\n",
       "      <td>0.0</td>\n",
       "      <td>1.0</td>\n",
       "      <td>0.0</td>\n",
       "    </tr>\n",
       "    <tr>\n",
       "      <th>984</th>\n",
       "      <td>0.0</td>\n",
       "      <td>0.0</td>\n",
       "      <td>1.0</td>\n",
       "      <td>0.0</td>\n",
       "    </tr>\n",
       "    <tr>\n",
       "      <th>985</th>\n",
       "      <td>0.0</td>\n",
       "      <td>1.0</td>\n",
       "      <td>0.0</td>\n",
       "      <td>0.0</td>\n",
       "    </tr>\n",
       "    <tr>\n",
       "      <th>986</th>\n",
       "      <td>0.0</td>\n",
       "      <td>0.0</td>\n",
       "      <td>1.0</td>\n",
       "      <td>0.0</td>\n",
       "    </tr>\n",
       "    <tr>\n",
       "      <th>987</th>\n",
       "      <td>0.0</td>\n",
       "      <td>0.0</td>\n",
       "      <td>1.0</td>\n",
       "      <td>0.0</td>\n",
       "    </tr>\n",
       "    <tr>\n",
       "      <th>988</th>\n",
       "      <td>0.0</td>\n",
       "      <td>0.0</td>\n",
       "      <td>1.0</td>\n",
       "      <td>0.0</td>\n",
       "    </tr>\n",
       "    <tr>\n",
       "      <th>989</th>\n",
       "      <td>1.0</td>\n",
       "      <td>0.0</td>\n",
       "      <td>0.0</td>\n",
       "      <td>0.0</td>\n",
       "    </tr>\n",
       "    <tr>\n",
       "      <th>990</th>\n",
       "      <td>0.0</td>\n",
       "      <td>1.0</td>\n",
       "      <td>0.0</td>\n",
       "      <td>0.0</td>\n",
       "    </tr>\n",
       "    <tr>\n",
       "      <th>991</th>\n",
       "      <td>1.0</td>\n",
       "      <td>0.0</td>\n",
       "      <td>0.0</td>\n",
       "      <td>0.0</td>\n",
       "    </tr>\n",
       "    <tr>\n",
       "      <th>992</th>\n",
       "      <td>1.0</td>\n",
       "      <td>0.0</td>\n",
       "      <td>0.0</td>\n",
       "      <td>0.0</td>\n",
       "    </tr>\n",
       "    <tr>\n",
       "      <th>993</th>\n",
       "      <td>1.0</td>\n",
       "      <td>0.0</td>\n",
       "      <td>0.0</td>\n",
       "      <td>0.0</td>\n",
       "    </tr>\n",
       "    <tr>\n",
       "      <th>994</th>\n",
       "      <td>1.0</td>\n",
       "      <td>0.0</td>\n",
       "      <td>0.0</td>\n",
       "      <td>0.0</td>\n",
       "    </tr>\n",
       "    <tr>\n",
       "      <th>995</th>\n",
       "      <td>1.0</td>\n",
       "      <td>0.0</td>\n",
       "      <td>0.0</td>\n",
       "      <td>0.0</td>\n",
       "    </tr>\n",
       "    <tr>\n",
       "      <th>996</th>\n",
       "      <td>0.0</td>\n",
       "      <td>1.0</td>\n",
       "      <td>0.0</td>\n",
       "      <td>0.0</td>\n",
       "    </tr>\n",
       "    <tr>\n",
       "      <th>997</th>\n",
       "      <td>0.0</td>\n",
       "      <td>1.0</td>\n",
       "      <td>0.0</td>\n",
       "      <td>0.0</td>\n",
       "    </tr>\n",
       "    <tr>\n",
       "      <th>998</th>\n",
       "      <td>0.0</td>\n",
       "      <td>0.0</td>\n",
       "      <td>1.0</td>\n",
       "      <td>0.0</td>\n",
       "    </tr>\n",
       "    <tr>\n",
       "      <th>999</th>\n",
       "      <td>1.0</td>\n",
       "      <td>0.0</td>\n",
       "      <td>0.0</td>\n",
       "      <td>0.0</td>\n",
       "    </tr>\n",
       "  </tbody>\n",
       "</table>\n",
       "<p>1000 rows × 4 columns</p>\n",
       "</div>"
      ],
      "text/plain": [
       "       A    B    C    D\n",
       "0    1.0  0.0  0.0  0.0\n",
       "1    1.0  0.0  0.0  0.0\n",
       "2    0.0  1.0  0.0  0.0\n",
       "3    0.0  1.0  0.0  0.0\n",
       "4    1.0  0.0  0.0  0.0\n",
       "5    0.0  1.0  0.0  0.0\n",
       "6    0.0  1.0  0.0  0.0\n",
       "7    0.0  1.0  0.0  0.0\n",
       "8    0.0  0.0  1.0  0.0\n",
       "9    1.0  0.0  0.0  0.0\n",
       "10   0.0  1.0  0.0  0.0\n",
       "11   1.0  0.0  0.0  0.0\n",
       "12   1.0  0.0  0.0  0.0\n",
       "13   1.0  0.0  0.0  0.0\n",
       "14   1.0  0.0  0.0  0.0\n",
       "15   0.0  1.0  0.0  0.0\n",
       "16   0.0  1.0  0.0  0.0\n",
       "17   1.0  0.0  0.0  0.0\n",
       "18   0.0  1.0  0.0  0.0\n",
       "19   1.0  0.0  0.0  0.0\n",
       "20   1.0  0.0  0.0  0.0\n",
       "21   0.0  0.0  1.0  0.0\n",
       "22   0.0  1.0  0.0  0.0\n",
       "23   0.0  1.0  0.0  0.0\n",
       "24   1.0  0.0  0.0  0.0\n",
       "25   1.0  0.0  0.0  0.0\n",
       "26   1.0  0.0  0.0  0.0\n",
       "27   1.0  0.0  0.0  0.0\n",
       "28   0.0  0.0  1.0  0.0\n",
       "29   1.0  0.0  0.0  0.0\n",
       "..   ...  ...  ...  ...\n",
       "970  1.0  0.0  0.0  0.0\n",
       "971  0.0  0.0  1.0  0.0\n",
       "972  0.0  0.0  1.0  0.0\n",
       "973  0.0  1.0  0.0  0.0\n",
       "974  0.0  1.0  0.0  0.0\n",
       "975  1.0  0.0  0.0  0.0\n",
       "976  0.0  0.0  1.0  0.0\n",
       "977  0.0  0.0  1.0  0.0\n",
       "978  0.0  0.0  1.0  0.0\n",
       "979  0.0  1.0  0.0  0.0\n",
       "980  0.0  1.0  0.0  0.0\n",
       "981  0.0  1.0  0.0  0.0\n",
       "982  0.0  0.0  1.0  0.0\n",
       "983  0.0  0.0  1.0  0.0\n",
       "984  0.0  0.0  1.0  0.0\n",
       "985  0.0  1.0  0.0  0.0\n",
       "986  0.0  0.0  1.0  0.0\n",
       "987  0.0  0.0  1.0  0.0\n",
       "988  0.0  0.0  1.0  0.0\n",
       "989  1.0  0.0  0.0  0.0\n",
       "990  0.0  1.0  0.0  0.0\n",
       "991  1.0  0.0  0.0  0.0\n",
       "992  1.0  0.0  0.0  0.0\n",
       "993  1.0  0.0  0.0  0.0\n",
       "994  1.0  0.0  0.0  0.0\n",
       "995  1.0  0.0  0.0  0.0\n",
       "996  0.0  1.0  0.0  0.0\n",
       "997  0.0  1.0  0.0  0.0\n",
       "998  0.0  0.0  1.0  0.0\n",
       "999  1.0  0.0  0.0  0.0\n",
       "\n",
       "[1000 rows x 4 columns]"
      ]
     },
     "execution_count": 27,
     "metadata": {},
     "output_type": "execute_result"
    }
   ],
   "source": [
    "data_ZX = pd.get_dummies(data= data1_1['X'])\n",
    "data_ZX"
   ]
  },
  {
   "cell_type": "code",
   "execution_count": 28,
   "metadata": {
    "ExecuteTime": {
     "end_time": "2018-01-15T02:43:44.638662Z",
     "start_time": "2018-01-15T02:43:44.613588Z"
    }
   },
   "outputs": [
    {
     "data": {
      "text/html": [
       "<div>\n",
       "<table border=\"1\" class=\"dataframe\">\n",
       "  <thead>\n",
       "    <tr style=\"text-align: right;\">\n",
       "      <th></th>\n",
       "      <th>a</th>\n",
       "      <th>b</th>\n",
       "      <th>c</th>\n",
       "      <th>d</th>\n",
       "      <th>e</th>\n",
       "    </tr>\n",
       "  </thead>\n",
       "  <tbody>\n",
       "    <tr>\n",
       "      <th>0</th>\n",
       "      <td>1.0</td>\n",
       "      <td>0.0</td>\n",
       "      <td>0.0</td>\n",
       "      <td>0.0</td>\n",
       "      <td>0.0</td>\n",
       "    </tr>\n",
       "    <tr>\n",
       "      <th>1</th>\n",
       "      <td>0.0</td>\n",
       "      <td>0.0</td>\n",
       "      <td>1.0</td>\n",
       "      <td>0.0</td>\n",
       "      <td>0.0</td>\n",
       "    </tr>\n",
       "    <tr>\n",
       "      <th>2</th>\n",
       "      <td>1.0</td>\n",
       "      <td>0.0</td>\n",
       "      <td>0.0</td>\n",
       "      <td>0.0</td>\n",
       "      <td>0.0</td>\n",
       "    </tr>\n",
       "    <tr>\n",
       "      <th>3</th>\n",
       "      <td>1.0</td>\n",
       "      <td>0.0</td>\n",
       "      <td>0.0</td>\n",
       "      <td>0.0</td>\n",
       "      <td>0.0</td>\n",
       "    </tr>\n",
       "    <tr>\n",
       "      <th>4</th>\n",
       "      <td>1.0</td>\n",
       "      <td>0.0</td>\n",
       "      <td>0.0</td>\n",
       "      <td>0.0</td>\n",
       "      <td>0.0</td>\n",
       "    </tr>\n",
       "    <tr>\n",
       "      <th>5</th>\n",
       "      <td>1.0</td>\n",
       "      <td>0.0</td>\n",
       "      <td>0.0</td>\n",
       "      <td>0.0</td>\n",
       "      <td>0.0</td>\n",
       "    </tr>\n",
       "    <tr>\n",
       "      <th>6</th>\n",
       "      <td>1.0</td>\n",
       "      <td>0.0</td>\n",
       "      <td>0.0</td>\n",
       "      <td>0.0</td>\n",
       "      <td>0.0</td>\n",
       "    </tr>\n",
       "    <tr>\n",
       "      <th>7</th>\n",
       "      <td>0.0</td>\n",
       "      <td>0.0</td>\n",
       "      <td>0.0</td>\n",
       "      <td>1.0</td>\n",
       "      <td>0.0</td>\n",
       "    </tr>\n",
       "    <tr>\n",
       "      <th>8</th>\n",
       "      <td>1.0</td>\n",
       "      <td>0.0</td>\n",
       "      <td>0.0</td>\n",
       "      <td>0.0</td>\n",
       "      <td>0.0</td>\n",
       "    </tr>\n",
       "    <tr>\n",
       "      <th>9</th>\n",
       "      <td>1.0</td>\n",
       "      <td>0.0</td>\n",
       "      <td>0.0</td>\n",
       "      <td>0.0</td>\n",
       "      <td>0.0</td>\n",
       "    </tr>\n",
       "    <tr>\n",
       "      <th>10</th>\n",
       "      <td>0.0</td>\n",
       "      <td>0.0</td>\n",
       "      <td>0.0</td>\n",
       "      <td>1.0</td>\n",
       "      <td>0.0</td>\n",
       "    </tr>\n",
       "    <tr>\n",
       "      <th>11</th>\n",
       "      <td>0.0</td>\n",
       "      <td>0.0</td>\n",
       "      <td>1.0</td>\n",
       "      <td>0.0</td>\n",
       "      <td>0.0</td>\n",
       "    </tr>\n",
       "    <tr>\n",
       "      <th>12</th>\n",
       "      <td>0.0</td>\n",
       "      <td>0.0</td>\n",
       "      <td>0.0</td>\n",
       "      <td>1.0</td>\n",
       "      <td>0.0</td>\n",
       "    </tr>\n",
       "    <tr>\n",
       "      <th>13</th>\n",
       "      <td>0.0</td>\n",
       "      <td>0.0</td>\n",
       "      <td>1.0</td>\n",
       "      <td>0.0</td>\n",
       "      <td>0.0</td>\n",
       "    </tr>\n",
       "    <tr>\n",
       "      <th>14</th>\n",
       "      <td>0.0</td>\n",
       "      <td>0.0</td>\n",
       "      <td>1.0</td>\n",
       "      <td>0.0</td>\n",
       "      <td>0.0</td>\n",
       "    </tr>\n",
       "    <tr>\n",
       "      <th>15</th>\n",
       "      <td>1.0</td>\n",
       "      <td>0.0</td>\n",
       "      <td>0.0</td>\n",
       "      <td>0.0</td>\n",
       "      <td>0.0</td>\n",
       "    </tr>\n",
       "    <tr>\n",
       "      <th>16</th>\n",
       "      <td>1.0</td>\n",
       "      <td>0.0</td>\n",
       "      <td>0.0</td>\n",
       "      <td>0.0</td>\n",
       "      <td>0.0</td>\n",
       "    </tr>\n",
       "    <tr>\n",
       "      <th>17</th>\n",
       "      <td>0.0</td>\n",
       "      <td>0.0</td>\n",
       "      <td>0.0</td>\n",
       "      <td>1.0</td>\n",
       "      <td>0.0</td>\n",
       "    </tr>\n",
       "    <tr>\n",
       "      <th>18</th>\n",
       "      <td>1.0</td>\n",
       "      <td>0.0</td>\n",
       "      <td>0.0</td>\n",
       "      <td>0.0</td>\n",
       "      <td>0.0</td>\n",
       "    </tr>\n",
       "    <tr>\n",
       "      <th>19</th>\n",
       "      <td>0.0</td>\n",
       "      <td>0.0</td>\n",
       "      <td>1.0</td>\n",
       "      <td>0.0</td>\n",
       "      <td>0.0</td>\n",
       "    </tr>\n",
       "    <tr>\n",
       "      <th>20</th>\n",
       "      <td>0.0</td>\n",
       "      <td>0.0</td>\n",
       "      <td>1.0</td>\n",
       "      <td>0.0</td>\n",
       "      <td>0.0</td>\n",
       "    </tr>\n",
       "    <tr>\n",
       "      <th>21</th>\n",
       "      <td>0.0</td>\n",
       "      <td>0.0</td>\n",
       "      <td>0.0</td>\n",
       "      <td>1.0</td>\n",
       "      <td>0.0</td>\n",
       "    </tr>\n",
       "    <tr>\n",
       "      <th>22</th>\n",
       "      <td>0.0</td>\n",
       "      <td>1.0</td>\n",
       "      <td>0.0</td>\n",
       "      <td>0.0</td>\n",
       "      <td>0.0</td>\n",
       "    </tr>\n",
       "    <tr>\n",
       "      <th>23</th>\n",
       "      <td>0.0</td>\n",
       "      <td>1.0</td>\n",
       "      <td>0.0</td>\n",
       "      <td>0.0</td>\n",
       "      <td>0.0</td>\n",
       "    </tr>\n",
       "    <tr>\n",
       "      <th>24</th>\n",
       "      <td>0.0</td>\n",
       "      <td>0.0</td>\n",
       "      <td>1.0</td>\n",
       "      <td>0.0</td>\n",
       "      <td>0.0</td>\n",
       "    </tr>\n",
       "    <tr>\n",
       "      <th>25</th>\n",
       "      <td>0.0</td>\n",
       "      <td>0.0</td>\n",
       "      <td>1.0</td>\n",
       "      <td>0.0</td>\n",
       "      <td>0.0</td>\n",
       "    </tr>\n",
       "    <tr>\n",
       "      <th>26</th>\n",
       "      <td>0.0</td>\n",
       "      <td>0.0</td>\n",
       "      <td>1.0</td>\n",
       "      <td>0.0</td>\n",
       "      <td>0.0</td>\n",
       "    </tr>\n",
       "    <tr>\n",
       "      <th>27</th>\n",
       "      <td>0.0</td>\n",
       "      <td>0.0</td>\n",
       "      <td>1.0</td>\n",
       "      <td>0.0</td>\n",
       "      <td>0.0</td>\n",
       "    </tr>\n",
       "    <tr>\n",
       "      <th>28</th>\n",
       "      <td>0.0</td>\n",
       "      <td>0.0</td>\n",
       "      <td>1.0</td>\n",
       "      <td>0.0</td>\n",
       "      <td>0.0</td>\n",
       "    </tr>\n",
       "    <tr>\n",
       "      <th>29</th>\n",
       "      <td>0.0</td>\n",
       "      <td>0.0</td>\n",
       "      <td>1.0</td>\n",
       "      <td>0.0</td>\n",
       "      <td>0.0</td>\n",
       "    </tr>\n",
       "    <tr>\n",
       "      <th>...</th>\n",
       "      <td>...</td>\n",
       "      <td>...</td>\n",
       "      <td>...</td>\n",
       "      <td>...</td>\n",
       "      <td>...</td>\n",
       "    </tr>\n",
       "    <tr>\n",
       "      <th>970</th>\n",
       "      <td>0.0</td>\n",
       "      <td>0.0</td>\n",
       "      <td>1.0</td>\n",
       "      <td>0.0</td>\n",
       "      <td>0.0</td>\n",
       "    </tr>\n",
       "    <tr>\n",
       "      <th>971</th>\n",
       "      <td>0.0</td>\n",
       "      <td>0.0</td>\n",
       "      <td>0.0</td>\n",
       "      <td>0.0</td>\n",
       "      <td>1.0</td>\n",
       "    </tr>\n",
       "    <tr>\n",
       "      <th>972</th>\n",
       "      <td>0.0</td>\n",
       "      <td>1.0</td>\n",
       "      <td>0.0</td>\n",
       "      <td>0.0</td>\n",
       "      <td>0.0</td>\n",
       "    </tr>\n",
       "    <tr>\n",
       "      <th>973</th>\n",
       "      <td>0.0</td>\n",
       "      <td>1.0</td>\n",
       "      <td>0.0</td>\n",
       "      <td>0.0</td>\n",
       "      <td>0.0</td>\n",
       "    </tr>\n",
       "    <tr>\n",
       "      <th>974</th>\n",
       "      <td>1.0</td>\n",
       "      <td>0.0</td>\n",
       "      <td>0.0</td>\n",
       "      <td>0.0</td>\n",
       "      <td>0.0</td>\n",
       "    </tr>\n",
       "    <tr>\n",
       "      <th>975</th>\n",
       "      <td>0.0</td>\n",
       "      <td>0.0</td>\n",
       "      <td>1.0</td>\n",
       "      <td>0.0</td>\n",
       "      <td>0.0</td>\n",
       "    </tr>\n",
       "    <tr>\n",
       "      <th>976</th>\n",
       "      <td>0.0</td>\n",
       "      <td>0.0</td>\n",
       "      <td>1.0</td>\n",
       "      <td>0.0</td>\n",
       "      <td>0.0</td>\n",
       "    </tr>\n",
       "    <tr>\n",
       "      <th>977</th>\n",
       "      <td>0.0</td>\n",
       "      <td>0.0</td>\n",
       "      <td>1.0</td>\n",
       "      <td>0.0</td>\n",
       "      <td>0.0</td>\n",
       "    </tr>\n",
       "    <tr>\n",
       "      <th>978</th>\n",
       "      <td>0.0</td>\n",
       "      <td>0.0</td>\n",
       "      <td>0.0</td>\n",
       "      <td>1.0</td>\n",
       "      <td>0.0</td>\n",
       "    </tr>\n",
       "    <tr>\n",
       "      <th>979</th>\n",
       "      <td>1.0</td>\n",
       "      <td>0.0</td>\n",
       "      <td>0.0</td>\n",
       "      <td>0.0</td>\n",
       "      <td>0.0</td>\n",
       "    </tr>\n",
       "    <tr>\n",
       "      <th>980</th>\n",
       "      <td>0.0</td>\n",
       "      <td>1.0</td>\n",
       "      <td>0.0</td>\n",
       "      <td>0.0</td>\n",
       "      <td>0.0</td>\n",
       "    </tr>\n",
       "    <tr>\n",
       "      <th>981</th>\n",
       "      <td>0.0</td>\n",
       "      <td>0.0</td>\n",
       "      <td>0.0</td>\n",
       "      <td>1.0</td>\n",
       "      <td>0.0</td>\n",
       "    </tr>\n",
       "    <tr>\n",
       "      <th>982</th>\n",
       "      <td>0.0</td>\n",
       "      <td>0.0</td>\n",
       "      <td>0.0</td>\n",
       "      <td>1.0</td>\n",
       "      <td>0.0</td>\n",
       "    </tr>\n",
       "    <tr>\n",
       "      <th>983</th>\n",
       "      <td>0.0</td>\n",
       "      <td>0.0</td>\n",
       "      <td>0.0</td>\n",
       "      <td>0.0</td>\n",
       "      <td>1.0</td>\n",
       "    </tr>\n",
       "    <tr>\n",
       "      <th>984</th>\n",
       "      <td>0.0</td>\n",
       "      <td>0.0</td>\n",
       "      <td>0.0</td>\n",
       "      <td>0.0</td>\n",
       "      <td>1.0</td>\n",
       "    </tr>\n",
       "    <tr>\n",
       "      <th>985</th>\n",
       "      <td>1.0</td>\n",
       "      <td>0.0</td>\n",
       "      <td>0.0</td>\n",
       "      <td>0.0</td>\n",
       "      <td>0.0</td>\n",
       "    </tr>\n",
       "    <tr>\n",
       "      <th>986</th>\n",
       "      <td>0.0</td>\n",
       "      <td>1.0</td>\n",
       "      <td>0.0</td>\n",
       "      <td>0.0</td>\n",
       "      <td>0.0</td>\n",
       "    </tr>\n",
       "    <tr>\n",
       "      <th>987</th>\n",
       "      <td>1.0</td>\n",
       "      <td>0.0</td>\n",
       "      <td>0.0</td>\n",
       "      <td>0.0</td>\n",
       "      <td>0.0</td>\n",
       "    </tr>\n",
       "    <tr>\n",
       "      <th>988</th>\n",
       "      <td>0.0</td>\n",
       "      <td>1.0</td>\n",
       "      <td>0.0</td>\n",
       "      <td>0.0</td>\n",
       "      <td>0.0</td>\n",
       "    </tr>\n",
       "    <tr>\n",
       "      <th>989</th>\n",
       "      <td>0.0</td>\n",
       "      <td>0.0</td>\n",
       "      <td>0.0</td>\n",
       "      <td>1.0</td>\n",
       "      <td>0.0</td>\n",
       "    </tr>\n",
       "    <tr>\n",
       "      <th>990</th>\n",
       "      <td>1.0</td>\n",
       "      <td>0.0</td>\n",
       "      <td>0.0</td>\n",
       "      <td>0.0</td>\n",
       "      <td>0.0</td>\n",
       "    </tr>\n",
       "    <tr>\n",
       "      <th>991</th>\n",
       "      <td>0.0</td>\n",
       "      <td>0.0</td>\n",
       "      <td>1.0</td>\n",
       "      <td>0.0</td>\n",
       "      <td>0.0</td>\n",
       "    </tr>\n",
       "    <tr>\n",
       "      <th>992</th>\n",
       "      <td>0.0</td>\n",
       "      <td>0.0</td>\n",
       "      <td>1.0</td>\n",
       "      <td>0.0</td>\n",
       "      <td>0.0</td>\n",
       "    </tr>\n",
       "    <tr>\n",
       "      <th>993</th>\n",
       "      <td>1.0</td>\n",
       "      <td>0.0</td>\n",
       "      <td>0.0</td>\n",
       "      <td>0.0</td>\n",
       "      <td>0.0</td>\n",
       "    </tr>\n",
       "    <tr>\n",
       "      <th>994</th>\n",
       "      <td>0.0</td>\n",
       "      <td>0.0</td>\n",
       "      <td>1.0</td>\n",
       "      <td>0.0</td>\n",
       "      <td>0.0</td>\n",
       "    </tr>\n",
       "    <tr>\n",
       "      <th>995</th>\n",
       "      <td>0.0</td>\n",
       "      <td>0.0</td>\n",
       "      <td>1.0</td>\n",
       "      <td>0.0</td>\n",
       "      <td>0.0</td>\n",
       "    </tr>\n",
       "    <tr>\n",
       "      <th>996</th>\n",
       "      <td>1.0</td>\n",
       "      <td>0.0</td>\n",
       "      <td>0.0</td>\n",
       "      <td>0.0</td>\n",
       "      <td>0.0</td>\n",
       "    </tr>\n",
       "    <tr>\n",
       "      <th>997</th>\n",
       "      <td>0.0</td>\n",
       "      <td>1.0</td>\n",
       "      <td>0.0</td>\n",
       "      <td>0.0</td>\n",
       "      <td>0.0</td>\n",
       "    </tr>\n",
       "    <tr>\n",
       "      <th>998</th>\n",
       "      <td>0.0</td>\n",
       "      <td>0.0</td>\n",
       "      <td>1.0</td>\n",
       "      <td>0.0</td>\n",
       "      <td>0.0</td>\n",
       "    </tr>\n",
       "    <tr>\n",
       "      <th>999</th>\n",
       "      <td>0.0</td>\n",
       "      <td>0.0</td>\n",
       "      <td>1.0</td>\n",
       "      <td>0.0</td>\n",
       "      <td>0.0</td>\n",
       "    </tr>\n",
       "  </tbody>\n",
       "</table>\n",
       "<p>1000 rows × 5 columns</p>\n",
       "</div>"
      ],
      "text/plain": [
       "       a    b    c    d    e\n",
       "0    1.0  0.0  0.0  0.0  0.0\n",
       "1    0.0  0.0  1.0  0.0  0.0\n",
       "2    1.0  0.0  0.0  0.0  0.0\n",
       "3    1.0  0.0  0.0  0.0  0.0\n",
       "4    1.0  0.0  0.0  0.0  0.0\n",
       "5    1.0  0.0  0.0  0.0  0.0\n",
       "6    1.0  0.0  0.0  0.0  0.0\n",
       "7    0.0  0.0  0.0  1.0  0.0\n",
       "8    1.0  0.0  0.0  0.0  0.0\n",
       "9    1.0  0.0  0.0  0.0  0.0\n",
       "10   0.0  0.0  0.0  1.0  0.0\n",
       "11   0.0  0.0  1.0  0.0  0.0\n",
       "12   0.0  0.0  0.0  1.0  0.0\n",
       "13   0.0  0.0  1.0  0.0  0.0\n",
       "14   0.0  0.0  1.0  0.0  0.0\n",
       "15   1.0  0.0  0.0  0.0  0.0\n",
       "16   1.0  0.0  0.0  0.0  0.0\n",
       "17   0.0  0.0  0.0  1.0  0.0\n",
       "18   1.0  0.0  0.0  0.0  0.0\n",
       "19   0.0  0.0  1.0  0.0  0.0\n",
       "20   0.0  0.0  1.0  0.0  0.0\n",
       "21   0.0  0.0  0.0  1.0  0.0\n",
       "22   0.0  1.0  0.0  0.0  0.0\n",
       "23   0.0  1.0  0.0  0.0  0.0\n",
       "24   0.0  0.0  1.0  0.0  0.0\n",
       "25   0.0  0.0  1.0  0.0  0.0\n",
       "26   0.0  0.0  1.0  0.0  0.0\n",
       "27   0.0  0.0  1.0  0.0  0.0\n",
       "28   0.0  0.0  1.0  0.0  0.0\n",
       "29   0.0  0.0  1.0  0.0  0.0\n",
       "..   ...  ...  ...  ...  ...\n",
       "970  0.0  0.0  1.0  0.0  0.0\n",
       "971  0.0  0.0  0.0  0.0  1.0\n",
       "972  0.0  1.0  0.0  0.0  0.0\n",
       "973  0.0  1.0  0.0  0.0  0.0\n",
       "974  1.0  0.0  0.0  0.0  0.0\n",
       "975  0.0  0.0  1.0  0.0  0.0\n",
       "976  0.0  0.0  1.0  0.0  0.0\n",
       "977  0.0  0.0  1.0  0.0  0.0\n",
       "978  0.0  0.0  0.0  1.0  0.0\n",
       "979  1.0  0.0  0.0  0.0  0.0\n",
       "980  0.0  1.0  0.0  0.0  0.0\n",
       "981  0.0  0.0  0.0  1.0  0.0\n",
       "982  0.0  0.0  0.0  1.0  0.0\n",
       "983  0.0  0.0  0.0  0.0  1.0\n",
       "984  0.0  0.0  0.0  0.0  1.0\n",
       "985  1.0  0.0  0.0  0.0  0.0\n",
       "986  0.0  1.0  0.0  0.0  0.0\n",
       "987  1.0  0.0  0.0  0.0  0.0\n",
       "988  0.0  1.0  0.0  0.0  0.0\n",
       "989  0.0  0.0  0.0  1.0  0.0\n",
       "990  1.0  0.0  0.0  0.0  0.0\n",
       "991  0.0  0.0  1.0  0.0  0.0\n",
       "992  0.0  0.0  1.0  0.0  0.0\n",
       "993  1.0  0.0  0.0  0.0  0.0\n",
       "994  0.0  0.0  1.0  0.0  0.0\n",
       "995  0.0  0.0  1.0  0.0  0.0\n",
       "996  1.0  0.0  0.0  0.0  0.0\n",
       "997  0.0  1.0  0.0  0.0  0.0\n",
       "998  0.0  0.0  1.0  0.0  0.0\n",
       "999  0.0  0.0  1.0  0.0  0.0\n",
       "\n",
       "[1000 rows x 5 columns]"
      ]
     },
     "execution_count": 28,
     "metadata": {},
     "output_type": "execute_result"
    }
   ],
   "source": [
    "data_ZY = pd.get_dummies(data= data1_1['Y'])\n",
    "data_ZY"
   ]
  },
  {
   "cell_type": "markdown",
   "metadata": {},
   "source": [
    "<div class=\"alert alert-block alert-info\"> Problem 2.2 </div>\n",
    "Using the dataframe function `as_matrix()`  create `numpy` arrays `ZX` and `ZY` with the occurrence data for `X` and `Y` variables"
   ]
  },
  {
   "cell_type": "code",
   "execution_count": 19,
   "metadata": {
    "ExecuteTime": {
     "end_time": "2018-01-15T02:43:44.672736Z",
     "start_time": "2018-01-15T02:43:44.645664Z"
    }
   },
   "outputs": [
    {
     "name": "stdout",
     "output_type": "stream",
     "text": [
      "ZX: ['A' 'A' 'B' 'B' 'A' 'B' 'B' 'B' 'C' 'A' 'B' 'A' 'A' 'A' 'A' 'B' 'B' 'A'\n",
      " 'B' 'A' 'A' 'C' 'B' 'B' 'A' 'A' 'A' 'A' 'C' 'A' 'D' 'C' 'B' 'D' 'C' 'C'\n",
      " 'D' 'A' 'C' 'A' 'A' 'B' 'B' 'C' 'C' 'D' 'C' 'B' 'A' 'B' 'D' 'A' 'A' 'B'\n",
      " 'C' 'A' 'A' 'C' 'C' 'A' 'A' 'C' 'A' 'A' 'A' 'B' 'B' 'C' 'C' 'A' 'A' 'B'\n",
      " 'A' 'B' 'B' 'A' 'A' 'C' 'C' 'C' 'B' 'A' 'C' 'D' 'B' 'B' 'B' 'B' 'C' 'A'\n",
      " 'A' 'C' 'A' 'C' 'B' 'A' 'C' 'C' 'A' 'A' 'A' 'C' 'A' 'C' 'A' 'A' 'D' 'C'\n",
      " 'B' 'B' 'A' 'A' 'C' 'D' 'A' 'A' 'B' 'A' 'A' 'A' 'D' 'A' 'C' 'B' 'A' 'A'\n",
      " 'B' 'B' 'C' 'A' 'C' 'C' 'C' 'A' 'B' 'A' 'C' 'A' 'A' 'A' 'B' 'A' 'A' 'B'\n",
      " 'A' 'B' 'C' 'B' 'B' 'C' 'A' 'A' 'C' 'B' 'A' 'B' 'C' 'B' 'C' 'A' 'B' 'C'\n",
      " 'A' 'C' 'C' 'C' 'B' 'A' 'B' 'A' 'C' 'B' 'B' 'A' 'B' 'A' 'C' 'A' 'A' 'A'\n",
      " 'A' 'C' 'A' 'B' 'C' 'A' 'B' 'C' 'D' 'A' 'C' 'C' 'B' 'C' 'C' 'B' 'B' 'B'\n",
      " 'A' 'A' 'B' 'B' 'A' 'A' 'A' 'A' 'C' 'B' 'A' 'A' 'C' 'C' 'A' 'C' 'B' 'A'\n",
      " 'C' 'C' 'A' 'C' 'A' 'A' 'C' 'B' 'D' 'B' 'B' 'A' 'B' 'A' 'A' 'C' 'D' 'B'\n",
      " 'A' 'C' 'B' 'B' 'C' 'B' 'C' 'C' 'B' 'B' 'A' 'B' 'A' 'C' 'B' 'A' 'A' 'A'\n",
      " 'C' 'C' 'A' 'C' 'A' 'C' 'A' 'B' 'B' 'A' 'C' 'D' 'A' 'C' 'C' 'A' 'A' 'A'\n",
      " 'B' 'B' 'A' 'A' 'A' 'A' 'A' 'D' 'B' 'A' 'A' 'C' 'C' 'C' 'A' 'C' 'A' 'A'\n",
      " 'B' 'C' 'A' 'C' 'B' 'A' 'C' 'A' 'B' 'C' 'D' 'B' 'A' 'C' 'B' 'A' 'A' 'C'\n",
      " 'A' 'B' 'C' 'C' 'C' 'C' 'B' 'A' 'A' 'B' 'A' 'C' 'D' 'A' 'B' 'A' 'B' 'A'\n",
      " 'B' 'B' 'B' 'A' 'C' 'B' 'A' 'B' 'C' 'B' 'A' 'A' 'B' 'A' 'A' 'C' 'C' 'B'\n",
      " 'C' 'A' 'B' 'A' 'B' 'B' 'A' 'A' 'B' 'B' 'C' 'A' 'A' 'A' 'C' 'C' 'A' 'A'\n",
      " 'C' 'B' 'B' 'C' 'A' 'A' 'A' 'B' 'D' 'A' 'C' 'C' 'D' 'A' 'B' 'B' 'D' 'A'\n",
      " 'A' 'A' 'B' 'B' 'C' 'A' 'B' 'C' 'C' 'A' 'C' 'A' 'C' 'D' 'B' 'C' 'A' 'A'\n",
      " 'A' 'B' 'C' 'A' 'C' 'C' 'C' 'A' 'C' 'A' 'D' 'B' 'A' 'A' 'B' 'C' 'A' 'A'\n",
      " 'B' 'B' 'A' 'C' 'C' 'B' 'B' 'A' 'C' 'C' 'A' 'A' 'D' 'C' 'A' 'A' 'A' 'C'\n",
      " 'A' 'A' 'C' 'C' 'C' 'B' 'B' 'B' 'C' 'A' 'C' 'B' 'A' 'B' 'A' 'B' 'C' 'C'\n",
      " 'A' 'A' 'B' 'C' 'B' 'A' 'A' 'C' 'A' 'A' 'A' 'D' 'C' 'C' 'C' 'C' 'A' 'A'\n",
      " 'B' 'D' 'C' 'A' 'D' 'A' 'B' 'B' 'A' 'A' 'B' 'C' 'D' 'A' 'B' 'A' 'C' 'B'\n",
      " 'A' 'A' 'B' 'A' 'B' 'B' 'B' 'A' 'C' 'B' 'C' 'C' 'A' 'B' 'C' 'B' 'C' 'B'\n",
      " 'A' 'B' 'B' 'B' 'C' 'B' 'B' 'A' 'B' 'C' 'A' 'C' 'B' 'C' 'C' 'A' 'C' 'A'\n",
      " 'A' 'A' 'C' 'C' 'A' 'A' 'B' 'A' 'C' 'A' 'B' 'A' 'C' 'C' 'C' 'A' 'A' 'C'\n",
      " 'A' 'B' 'C' 'A' 'A' 'C' 'B' 'C' 'B' 'C' 'A' 'A' 'A' 'C' 'C' 'A' 'C' 'A'\n",
      " 'A' 'B' 'D' 'A' 'A' 'A' 'B' 'C' 'D' 'C' 'B' 'B' 'A' 'B' 'B' 'C' 'C' 'C'\n",
      " 'B' 'B' 'B' 'B' 'B' 'C' 'C' 'D' 'B' 'A' 'C' 'C' 'A' 'A' 'B' 'A' 'C' 'B'\n",
      " 'B' 'B' 'B' 'A' 'C' 'C' 'B' 'A' 'A' 'B' 'C' 'A' 'C' 'A' 'B' 'A' 'B' 'B'\n",
      " 'B' 'C' 'A' 'B' 'A' 'A' 'A' 'C' 'B' 'C' 'A' 'B' 'C' 'A' 'A' 'A' 'C' 'A'\n",
      " 'B' 'C' 'A' 'B' 'C' 'C' 'A' 'A' 'B' 'C' 'C' 'B' 'C' 'C' 'C' 'B' 'A' 'B'\n",
      " 'C' 'A' 'A' 'A' 'C' 'A' 'A' 'B' 'A' 'A' 'B' 'A' 'B' 'D' 'C' 'B' 'B' 'B'\n",
      " 'B' 'A' 'B' 'B' 'A' 'A' 'B' 'C' 'A' 'B' 'A' 'B' 'B' 'B' 'A' 'B' 'B' 'A'\n",
      " 'C' 'A' 'A' 'A' 'B' 'A' 'C' 'A' 'A' 'C' 'C' 'B' 'A' 'C' 'A' 'C' 'A' 'B'\n",
      " 'A' 'C' 'B' 'A' 'D' 'C' 'A' 'A' 'C' 'C' 'C' 'A' 'A' 'A' 'B' 'C' 'B' 'B'\n",
      " 'B' 'A' 'A' 'A' 'D' 'B' 'A' 'B' 'A' 'A' 'A' 'B' 'A' 'C' 'B' 'B' 'B' 'B'\n",
      " 'A' 'C' 'A' 'A' 'B' 'A' 'C' 'A' 'C' 'A' 'C' 'A' 'B' 'C' 'D' 'C' 'B' 'B'\n",
      " 'B' 'C' 'A' 'C' 'A' 'A' 'A' 'C' 'C' 'A' 'B' 'C' 'C' 'C' 'C' 'B' 'A' 'C'\n",
      " 'A' 'D' 'C' 'C' 'A' 'A' 'D' 'B' 'C' 'B' 'C' 'B' 'B' 'B' 'A' 'A' 'C' 'A'\n",
      " 'D' 'A' 'B' 'A' 'B' 'B' 'A' 'A' 'B' 'B' 'C' 'A' 'A' 'B' 'A' 'A' 'B' 'B'\n",
      " 'C' 'C' 'C' 'B' 'C' 'A' 'D' 'B' 'C' 'D' 'B' 'A' 'C' 'A' 'A' 'B' 'A' 'C'\n",
      " 'A' 'C' 'A' 'B' 'A' 'D' 'B' 'B' 'D' 'A' 'A' 'A' 'B' 'B' 'B' 'A' 'C' 'A'\n",
      " 'B' 'A' 'A' 'A' 'D' 'A' 'B' 'C' 'B' 'D' 'C' 'A' 'B' 'B' 'B' 'A' 'A' 'B'\n",
      " 'C' 'C' 'A' 'B' 'A' 'A' 'A' 'B' 'A' 'C' 'B' 'A' 'C' 'B' 'A' 'A' 'B' 'B'\n",
      " 'C' 'B' 'D' 'C' 'B' 'B' 'B' 'B' 'C' 'A' 'A' 'B' 'B' 'C' 'D' 'C' 'A' 'A'\n",
      " 'B' 'C' 'B' 'C' 'C' 'C' 'C' 'B' 'A' 'B' 'B' 'B' 'C' 'C' 'A' 'C' 'A' 'C'\n",
      " 'C' 'C' 'B' 'B' 'A' 'A' 'B' 'A' 'C' 'B' 'A' 'B' 'A' 'C' 'B' 'A' 'C' 'B'\n",
      " 'A' 'A' 'B' 'A' 'C' 'A' 'C' 'A' 'B' 'A' 'C' 'A' 'A' 'B' 'B' 'A' 'D' 'A'\n",
      " 'A' 'A' 'C' 'C' 'C' 'B' 'C' 'B' 'A' 'C' 'B' 'B' 'A' 'B' 'A' 'A' 'A' 'C'\n",
      " 'C' 'B' 'B' 'A' 'C' 'C' 'C' 'B' 'B' 'B' 'C' 'C' 'C' 'B' 'C' 'C' 'C' 'A'\n",
      " 'B' 'A' 'A' 'A' 'A' 'A' 'B' 'B' 'C' 'A']\n",
      "type of ZX: <class 'numpy.ndarray'>\n"
     ]
    }
   ],
   "source": [
    "ZX = data1_1['X'].as_matrix()\n",
    "print(\"ZX:\",ZX)\n",
    "print(\"type of ZX:\",type(ZX))"
   ]
  },
  {
   "cell_type": "code",
   "execution_count": 21,
   "metadata": {
    "ExecuteTime": {
     "end_time": "2018-01-15T02:43:44.691786Z",
     "start_time": "2018-01-15T02:43:44.674741Z"
    }
   },
   "outputs": [
    {
     "name": "stdout",
     "output_type": "stream",
     "text": [
      "ZY: ['a' 'c' 'a' 'a' 'a' 'a' 'a' 'd' 'a' 'a' 'd' 'c' 'd' 'c' 'c' 'a' 'a' 'd'\n",
      " 'a' 'c' 'c' 'd' 'b' 'b' 'c' 'c' 'c' 'c' 'c' 'c' 'b' 'd' 'b' 'a' 'b' 'd'\n",
      " 'a' 'd' 'c' 'c' 'c' 'd' 'a' 'c' 'b' 'a' 'e' 'd' 'c' 'a' 'a' 'c' 'c' 'a'\n",
      " 'b' 'c' 'b' 'a' 'e' 'a' 'c' 'd' 'a' 'c' 'c' 'b' 'a' 'e' 'b' 'c' 'c' 'b'\n",
      " 'c' 'c' 'a' 'c' 'c' 'c' 'e' 'c' 'a' 'c' 'd' 'a' 'a' 'a' 'a' 'd' 'e' 'a'\n",
      " 'c' 'b' 'c' 'd' 'b' 'c' 'b' 'd' 'c' 'b' 'c' 'd' 'b' 'd' 'c' 'c' 'a' 'a'\n",
      " 'b' 'a' 'c' 'c' 'b' 'b' 'c' 'a' 'a' 'c' 'c' 'c' 'a' 'b' 'b' 'a' 'c' 'c'\n",
      " 'c' 'd' 'e' 'c' 'e' 'e' 'c' 'c' 'd' 'c' 'd' 'c' 'd' 'c' 'a' 'a' 'd' 'c'\n",
      " 'c' 'a' 'a' 'a' 'a' 'b' 'c' 'c' 'a' 'a' 'c' 'a' 'b' 'a' 'd' 'a' 'd' 'd'\n",
      " 'c' 'c' 'e' 'b' 'c' 'c' 'a' 'c' 'a' 'd' 'a' 'a' 'a' 'c' 'e' 'c' 'b' 'c'\n",
      " 'a' 'e' 'c' 'c' 'd' 'c' 'b' 'd' 'a' 'c' 'd' 'b' 'd' 'b' 'c' 'a' 'a' 'a'\n",
      " 'b' 'c' 'b' 'a' 'b' 'c' 'c' 'c' 'b' 'a' 'c' 'c' 'e' 'e' 'a' 'd' 'c' 'c'\n",
      " 'a' 'e' 'b' 'c' 'c' 'd' 'a' 'a' 'a' 'b' 'c' 'c' 'b' 'c' 'c' 'b' 'a' 'a'\n",
      " 'd' 'c' 'a' 'a' 'c' 'a' 'a' 'b' 'b' 'a' 'c' 'b' 'c' 'd' 'a' 'c' 'c' 'a'\n",
      " 'c' 'c' 'c' 'a' 'c' 'c' 'c' 'a' 'a' 'c' 'd' 'a' 'b' 'a' 'c' 'c' 'c' 'c'\n",
      " 'a' 'a' 'c' 'c' 'c' 'c' 'd' 'a' 'c' 'a' 'd' 'e' 'b' 'e' 'a' 'd' 'b' 'c'\n",
      " 'a' 'b' 'd' 'b' 'a' 'c' 'c' 'b' 'c' 'a' 'a' 'c' 'd' 'e' 'a' 'c' 'c' 'd'\n",
      " 'a' 'a' 'b' 'b' 'b' 'a' 'a' 'b' 'b' 'a' 'c' 'b' 'a' 'd' 'b' 'c' 'c' 'b'\n",
      " 'b' 'a' 'd' 'c' 'e' 'a' 'b' 'a' 'a' 'c' 'a' 'c' 'a' 'c' 'a' 'b' 'c' 'a'\n",
      " 'd' 'c' 'a' 'c' 'd' 'a' 'c' 'c' 'a' 'a' 'd' 'd' 'a' 'd' 'b' 'b' 'b' 'c'\n",
      " 'e' 'a' 'b' 'c' 'c' 'c' 'a' 'a' 'a' 'd' 'b' 'b' 'a' 'd' 'a' 'c' 'a' 'c'\n",
      " 'b' 'c' 'b' 'a' 'd' 'd' 'a' 'd' 'b' 'c' 'b' 'b' 'e' 'a' 'a' 'd' 'c' 'd'\n",
      " 'c' 'a' 'c' 'a' 'c' 'c' 'e' 'c' 'd' 'c' 'a' 'a' 'c' 'd' 'a' 'e' 'c' 'c'\n",
      " 'a' 'a' 'c' 'a' 'e' 'a' 'c' 'c' 'c' 'e' 'd' 'c' 'a' 'b' 'c' 'c' 'c' 'a'\n",
      " 'd' 'c' 'a' 'b' 'd' 'b' 'a' 'b' 'a' 'c' 'c' 'a' 'c' 'a' 'a' 'c' 'd' 'e'\n",
      " 'c' 'd' 'a' 'c' 'd' 'd' 'c' 'd' 'c' 'c' 'c' 'a' 'a' 'c' 'b' 'b' 'c' 'b'\n",
      " 'd' 'a' 'c' 'c' 'a' 'c' 'a' 'd' 'b' 'c' 'a' 'd' 'a' 'c' 'a' 'c' 'a' 'a'\n",
      " 'd' 'c' 'a' 'c' 'a' 'a' 'a' 'd' 'b' 'a' 'b' 'c' 'c' 'a' 'e' 'a' 'c' 'c'\n",
      " 'c' 'b' 'a' 'a' 'c' 'a' 'd' 'c' 'b' 'e' 'c' 'a' 'b' 'a' 'a' 'd' 'd' 'c'\n",
      " 'c' 'c' 'd' 'e' 'c' 'c' 'a' 'c' 'a' 'c' 'c' 'c' 'e' 'c' 'e' 'c' 'c' 'e'\n",
      " 'd' 'a' 'd' 'c' 'd' 'b' 'a' 'a' 'c' 'b' 'c' 'b' 'd' 'a' 'e' 'c' 'c' 'a'\n",
      " 'c' 'b' 'a' 'c' 'c' 'c' 'a' 'a' 'a' 'a' 'b' 'a' 'c' 'a' 'a' 'a' 'e' 'd'\n",
      " 'a' 'a' 'a' 'a' 'a' 'b' 'd' 'a' 'b' 'd' 'a' 'd' 'b' 'a' 'a' 'c' 'e' 'c'\n",
      " 'd' 'a' 'a' 'c' 'a' 'b' 'd' 'c' 'c' 'b' 'b' 'b' 'c' 'd' 'a' 'd' 'a' 'c'\n",
      " 'a' 'd' 'c' 'd' 'c' 'd' 'c' 'd' 'a' 'c' 'c' 'c' 'd' 'c' 'a' 'c' 'c' 'a'\n",
      " 'a' 'e' 'd' 'a' 'e' 'b' 'd' 'c' 'b' 'c' 'c' 'a' 'c' 'b' 'c' 'b' 'c' 'b'\n",
      " 'd' 'c' 'c' 'a' 'b' 'c' 'c' 'a' 'b' 'c' 'b' 'b' 'a' 'a' 'e' 'a' 'c' 'b'\n",
      " 'c' 'c' 'a' 'a' 'd' 'a' 'd' 'a' 'b' 'a' 'c' 'a' 'c' 'b' 'c' 'c' 'c' 'c'\n",
      " 'a' 'c' 'a' 'c' 'b' 'c' 'e' 'c' 'c' 'e' 'd' 'c' 'c' 'd' 'c' 'e' 'c' 'a'\n",
      " 'c' 'd' 'd' 'c' 'a' 'c' 'a' 'c' 'd' 'a' 'e' 'c' 'c' 'c' 'b' 'e' 'c' 'd'\n",
      " 'a' 'a' 'c' 'c' 'a' 'b' 'c' 'c' 'c' 'd' 'c' 'c' 'b' 'b' 'a' 'c' 'a' 'a'\n",
      " 'c' 'a' 'c' 'c' 'd' 'c' 'd' 'c' 'b' 'c' 'd' 'c' 'd' 'd' 'a' 'd' 'a' 'd'\n",
      " 'a' 'c' 'a' 'c' 'b' 'c' 'c' 'e' 'a' 'b' 'a' 'e' 'a' 'c' 'd' 'a' 'c' 'e'\n",
      " 'c' 'a' 'c' 'a' 'c' 'd' 'a' 'a' 'a' 'a' 'c' 'c' 'b' 'a' 'c' 'd' 'c' 'a'\n",
      " 'a' 'c' 'b' 'c' 'b' 'a' 'b' 'b' 'a' 'a' 'a' 'c' 'c' 'd' 'c' 'c' 'a' 'c'\n",
      " 'b' 'd' 'b' 'a' 'c' 'a' 'a' 'c' 'c' 'a' 'd' 'c' 'd' 'b' 'c' 'a' 'c' 'd'\n",
      " 'b' 'c' 'a' 'c' 'c' 'a' 'a' 'c' 'a' 'a' 'c' 'c' 'a' 'a' 'a' 'a' 'd' 'c'\n",
      " 'a' 'c' 'c' 'b' 'a' 'd' 'a' 'b' 'a' 'a' 'b' 'b' 'a' 'a' 'a' 'a' 'd' 'a'\n",
      " 'a' 'e' 'c' 'b' 'a' 'c' 'c' 'a' 'c' 'd' 'c' 'c' 'b' 'c' 'c' 'c' 'b' 'a'\n",
      " 'a' 'a' 'd' 'e' 'a' 'b' 'a' 'a' 'e' 'c' 'c' 'b' 'b' 'a' 'a' 'e' 'c' 'c'\n",
      " 'a' 'c' 'a' 'c' 'a' 'a' 'e' 'b' 'c' 'c' 'a' 'a' 'c' 'c' 'a' 'e' 'd' 'd'\n",
      " 'e' 'c' 'b' 'a' 'c' 'a' 'a' 'c' 'e' 'b' 'b' 'a' 'a' 'a' 'b' 'b' 'e' 'c'\n",
      " 'd' 'a' 'a' 'c' 'b' 'b' 'b' 'c' 'a' 'c' 'd' 'b' 'a' 'a' 'a' 'c' 'a' 'c'\n",
      " 'c' 'c' 'a' 'a' 'a' 'a' 'e' 'a' 'b' 'e' 'a' 'a' 'c' 'd' 'a' 'c' 'c' 'e'\n",
      " 'b' 'b' 'a' 'c' 'c' 'c' 'd' 'a' 'b' 'd' 'd' 'e' 'e' 'a' 'b' 'a' 'b' 'd'\n",
      " 'a' 'c' 'c' 'a' 'c' 'c' 'a' 'b' 'c' 'c']\n",
      "type of ZY: <class 'numpy.ndarray'>\n"
     ]
    }
   ],
   "source": [
    "ZY = data1_1['Y'].as_matrix()\n",
    "print(\"ZY:\",ZY)\n",
    "print(\"type of ZY:\",type(ZY))"
   ]
  },
  {
   "cell_type": "markdown",
   "metadata": {},
   "source": [
    "<div class=\"alert alert-block alert-info\"> Problem 2.3 </div>\n",
    "Save the column names of `data_ZX` in a variable named `X_values`, create also `Y_values`"
   ]
  },
  {
   "cell_type": "code",
   "execution_count": 30,
   "metadata": {
    "ExecuteTime": {
     "end_time": "2018-01-15T02:43:44.715850Z",
     "start_time": "2018-01-15T02:43:44.693792Z"
    }
   },
   "outputs": [
    {
     "data": {
      "text/plain": [
       "Index(['A', 'B', 'C', 'D'], dtype='object')"
      ]
     },
     "execution_count": 30,
     "metadata": {},
     "output_type": "execute_result"
    }
   ],
   "source": [
    "X_values = data_ZX.columns\n",
    "X_values"
   ]
  },
  {
   "cell_type": "code",
   "execution_count": 31,
   "metadata": {
    "ExecuteTime": {
     "end_time": "2018-01-15T02:43:44.739915Z",
     "start_time": "2018-01-15T02:43:44.719865Z"
    }
   },
   "outputs": [
    {
     "data": {
      "text/plain": [
       "Index(['a', 'b', 'c', 'd', 'e'], dtype='object')"
      ]
     },
     "execution_count": 31,
     "metadata": {},
     "output_type": "execute_result"
    }
   ],
   "source": [
    "Y_values = data_ZY.columns\n",
    "Y_values"
   ]
  },
  {
   "cell_type": "markdown",
   "metadata": {},
   "source": [
    "### Covariance calculation"
   ]
  },
  {
   "cell_type": "markdown",
   "metadata": {
    "ExecuteTime": {
     "end_time": "2018-01-09T17:01:14.184187Z",
     "start_time": "2018-01-09T17:01:14.176186Z"
    }
   },
   "source": [
    "From now on, work **only** with the variables `ZX`, and `ZY`, `X_values` and `Y_values`"
   ]
  },
  {
   "cell_type": "markdown",
   "metadata": {},
   "source": [
    "<div class=\"alert alert-block alert-info\"> Problem 3.1 </div>\n",
    "Show the shape of `ZX` and `ZY` variables"
   ]
  },
  {
   "cell_type": "code",
   "execution_count": 23,
   "metadata": {
    "ExecuteTime": {
     "end_time": "2018-01-15T02:43:44.760970Z",
     "start_time": "2018-01-15T02:43:44.741919Z"
    }
   },
   "outputs": [
    {
     "name": "stdout",
     "output_type": "stream",
     "text": [
      "shape of ZX: (1000,)\n",
      "shape of ZY: (1000,)\n"
     ]
    }
   ],
   "source": [
    "print(\"shape of ZX:\",ZX.shape)\n",
    "print(\"shape of ZY:\",ZY.shape)"
   ]
  },
  {
   "cell_type": "markdown",
   "metadata": {},
   "source": [
    "<div class=\"alert alert-block alert-info\"> Problem 3.2 </div>\n",
    "* using `ZX`  compute the number of occurrences of each possible value of the variable X\n",
    "* using `ZY`  compute the number of occurrences of each possible value of the variable Y\n",
    "\n",
    "for each posible value of 'X' print the value (a string), and how may times it occurs on the data (an integer).\n",
    "Do the same for 'Y'"
   ]
  },
  {
   "cell_type": "code",
   "execution_count": 43,
   "metadata": {
    "ExecuteTime": {
     "end_time": "2018-01-15T02:43:44.781026Z",
     "start_time": "2018-01-15T02:43:44.767992Z"
    }
   },
   "outputs": [
    {
     "name": "stdout",
     "output_type": "stream",
     "text": [
      "number of occurrences of each possible values of X {'B': 293, 'D': 45, 'C': 279, 'A': 383}\n"
     ]
    }
   ],
   "source": [
    "unique1, counts1 = np.unique(ZX, return_counts=True)\n",
    "occurrences_ZX = dict(zip(unique1, counts1))\n",
    "print(\"number of occurrences of each possible values of X\",occurrences_ZX)"
   ]
  },
  {
   "cell_type": "code",
   "execution_count": 40,
   "metadata": {
    "ExecuteTime": {
     "end_time": "2018-01-15T02:43:44.845193Z",
     "start_time": "2018-01-15T02:43:44.785035Z"
    }
   },
   "outputs": [
    {
     "name": "stdout",
     "output_type": "stream",
     "text": [
      "number of occurrences of each possible values of Y {'b': 148, 'e': 59, 'c': 349, 'd': 132, 'a': 312}\n"
     ]
    }
   ],
   "source": [
    "unique2, counts2 = np.unique(ZY, return_counts=True)\n",
    "occurrences_ZY = dict(zip(unique2, counts2))\n",
    "print(\"number of occurrences of each possible values of Y\",occurrences_ZY)"
   ]
  },
  {
   "cell_type": "markdown",
   "metadata": {
    "ExecuteTime": {
     "end_time": "2018-01-09T18:41:32.233141Z",
     "start_time": "2018-01-09T18:41:32.228141Z"
    }
   },
   "source": [
    "<div class=\"alert alert-block alert-info\"> Problem 3.3</div>\n",
    "Compute the empirical (sample) probabilities of the  values of `X` and `Y`.\n",
    "$$\n",
    "    \\mu^X_d = \\frac{1}{N} \\sum_i Z^X_{i,k}\n",
    "$$\n",
    "and similarly for $\\mu^Y_k$\n",
    "\n",
    "Store the results on variables `muX` and `muY`"
   ]
  },
  {
   "cell_type": "code",
   "execution_count": 55,
   "metadata": {
    "ExecuteTime": {
     "end_time": "2018-01-15T02:43:44.879284Z",
     "start_time": "2018-01-15T02:43:44.864244Z"
    }
   },
   "outputs": [
    {
     "name": "stdout",
     "output_type": "stream",
     "text": [
      "muX: {'B': 0.29299999999999998, 'D': 0.044999999999999998, 'C': 0.27900000000000003, 'A': 0.38300000000000001}\n",
      "muY: {'b': 0.14799999999999999, 'e': 0.058999999999999997, 'c': 0.34899999999999998, 'a': 0.312, 'd': 0.13200000000000001}\n"
     ]
    }
   ],
   "source": [
    "muX = dict()\n",
    "for key in list(occurrences_ZX.keys()):\n",
    "    muX[key] = occurrences_ZX[key]/len(ZX)\n",
    "print('muX:',muX)\n",
    "\n",
    "muY = dict()\n",
    "for key in list(occurrences_ZY.keys()):\n",
    "    muY[key] = occurrences_ZY[key]/len(ZY)\n",
    "print('muY:',muY)"
   ]
  },
  {
   "cell_type": "markdown",
   "metadata": {},
   "source": [
    "<div class=\"alert alert-block alert-info\"> Problem 3.4 </div>\n",
    "Compute the covariance matrix of `ZX` and `ZY` values defined as \n",
    "$$\n",
    "    \\sigma^{X}_{d,d'} = \\frac{1}{N}\\sum_i Z^X_{i,d}Z^X_{i,d'}- \\mu^X_d \\mu^X_{d'}\n",
    "$$\n",
    "and similarly for $\\sigma^Y_{k,k'}$"
   ]
  },
  {
   "cell_type": "code",
   "execution_count": null,
   "metadata": {
    "ExecuteTime": {
     "end_time": "2018-01-15T02:43:44.898336Z",
     "start_time": "2018-01-15T02:43:44.881290Z"
    },
    "collapsed": true
   },
   "outputs": [],
   "source": []
  },
  {
   "cell_type": "code",
   "execution_count": null,
   "metadata": {
    "ExecuteTime": {
     "end_time": "2018-01-15T02:43:45.039711Z",
     "start_time": "2018-01-15T02:43:44.902347Z"
    },
    "collapsed": true
   },
   "outputs": [],
   "source": []
  },
  {
   "cell_type": "markdown",
   "metadata": {},
   "source": [
    "<div class=\"alert alert-block alert-info\"> Problem 3.5 </div>\n",
    "Compute the convariance matrix between `ZX` and `ZY` values defined as\n",
    "$$\n",
    "    \\sigma^{Y,X}_{k,d} = \\frac{1}{N}\\sum_i Z^Y_{i,k}Z^X_{i,d}- \\mu^Y_k\\mu^X_d \n",
    "$$"
   ]
  },
  {
   "cell_type": "code",
   "execution_count": null,
   "metadata": {
    "ExecuteTime": {
     "end_time": "2018-01-15T02:43:45.062778Z",
     "start_time": "2018-01-15T02:43:45.041716Z"
    },
    "collapsed": true
   },
   "outputs": [],
   "source": []
  },
  {
   "cell_type": "markdown",
   "metadata": {
    "collapsed": true
   },
   "source": [
    "### Exponential weighted covariance"
   ]
  },
  {
   "cell_type": "markdown",
   "metadata": {
    "ExecuteTime": {
     "end_time": "2018-01-10T10:22:23.229504Z",
     "start_time": "2018-01-10T10:22:23.224493Z"
    }
   },
   "source": [
    "Some times, we want to give more weight so some observations $i$  others.\n",
    "\n",
    "For example, We could interpret the sample index $i$, as time, and we want to weight more strongly observations close to the present more \n",
    "strongly than ones far in the pass."
   ]
  },
  {
   "cell_type": "markdown",
   "metadata": {
    "ExecuteTime": {
     "end_time": "2018-01-10T10:26:19.566016Z",
     "start_time": "2018-01-10T10:26:19.561003Z"
    }
   },
   "source": [
    "<div class=\"alert alert-block alert-info\"> Problem 4.1 </div>\n",
    "Generate an array $W$ of shape $(N,)$ such that\n",
    "$$\n",
    "    W_i =\\frac{ e^{-\\lambda i}}{\\sum_{j} e^{-\\lambda j}}\n",
    "$$\n",
    "with $\\lambda = 4/N$\n",
    "\n",
    "Verify that \n",
    "$$\n",
    "     \\sum_i W_i = 1\n",
    "$$\n",
    "[Hints]\n",
    "* Try not write a python for loop (too slow). \n",
    "* It is probably easier to break the implementation into  two or three intermediate steps.\n",
    "* The function [`numpy.arange`](https://docs.scipy.org/doc/numpy-1.13.0/reference/generated/numpy.arange.html) will probably be useful.\n",
    "* `lambda` is a reserved word in python."
   ]
  },
  {
   "cell_type": "code",
   "execution_count": null,
   "metadata": {
    "ExecuteTime": {
     "end_time": "2018-01-15T02:43:45.082826Z",
     "start_time": "2018-01-15T02:43:45.066797Z"
    },
    "collapsed": true
   },
   "outputs": [],
   "source": []
  },
  {
   "cell_type": "markdown",
   "metadata": {},
   "source": [
    "<div class=\"alert alert-block alert-info\"> Problem 4.2 </div>\n",
    "Compute the $X$ and $Y$ weighted means defined as\n",
    "$$\n",
    "    \\mu^X_{W,d} = \\sum_i W_i Z^X_{i,d}\n",
    "$$\n",
    "and similarly for $Y$"
   ]
  },
  {
   "cell_type": "code",
   "execution_count": null,
   "metadata": {
    "ExecuteTime": {
     "end_time": "2018-01-15T02:43:45.267318Z",
     "start_time": "2018-01-15T02:43:45.087840Z"
    },
    "collapsed": true
   },
   "outputs": [],
   "source": []
  },
  {
   "cell_type": "code",
   "execution_count": null,
   "metadata": {
    "ExecuteTime": {
     "end_time": "2018-01-15T02:43:45.407690Z",
     "start_time": "2018-01-15T02:43:45.271328Z"
    },
    "collapsed": true
   },
   "outputs": [],
   "source": []
  },
  {
   "cell_type": "markdown",
   "metadata": {},
   "source": [
    "<div class=\"alert alert-block alert-info\"> Problem 4.3 </div>\n",
    "Compute the exponentially weighted  covariance matrix defined as\n",
    "$$\n",
    "    \\sigma^{Y,X}_{W,\\,k,d} = \\sum_i W_i (Z^Y_{i,k} - \\mu^Y_{W,k})(Z^X_{i,k} - \\mu^X_{W,k})\n",
    "$$"
   ]
  },
  {
   "cell_type": "code",
   "execution_count": null,
   "metadata": {
    "ExecuteTime": {
     "end_time": "2018-01-15T02:43:45.567120Z",
     "start_time": "2018-01-15T02:43:45.410699Z"
    },
    "collapsed": true
   },
   "outputs": [],
   "source": []
  },
  {
   "cell_type": "markdown",
   "metadata": {},
   "source": [
    "## Analyzing MNIST with Numpy"
   ]
  },
  {
   "cell_type": "markdown",
   "metadata": {},
   "source": [
    "<div class=\"alert alert-block alert-info\"> Problem 5.0 </div>\n",
    "Got to MNIST dataset's [web site](http://yann.lecun.com/exdb/mnist/)'.\n",
    "\n",
    "Download the floowing four files, and save them with those names in the raw data directory [raw/MINST](../../raw/MNIST)\n",
    "* `train-images-idx3-ubyte.gz`:  training set images\n",
    "* `train-labels-idx1-ubyte.gz`:  training set labels\n",
    "* `t10k-images-idx3-ubyte.gz`:   test set images\n",
    "* `t10k-labels-idx1-ubyte.gz`:   test set labels\n",
    "\n",
    "Make sure not the decompress, or modify the files in any way.\n"
   ]
  },
  {
   "cell_type": "markdown",
   "metadata": {},
   "source": [
    "<div class=\"alert alert-block alert-info\"> Problem 5.1 </div>\n",
    "Using `E54525_ML.mnist.read_images` function read the train images in file `train-images-idx3-ubyte.gz` into a variable named\n",
    "`images`. \n",
    "\n",
    "images will be a tensor (`np.array` of floating point numbers) with three dimensions $N\\times R \\times C$ where\n",
    "1. $N$ is the number of images\n",
    "2. $R$ is the number of column pixels in an image\n",
    "3. $C$ is the number of row pixels.\n",
    "\n",
    "Show whe shape of the `images` variable"
   ]
  },
  {
   "cell_type": "code",
   "execution_count": null,
   "metadata": {
    "ExecuteTime": {
     "end_time": "2018-01-15T02:43:48.089823Z",
     "start_time": "2018-01-15T02:43:45.570121Z"
    },
    "collapsed": true
   },
   "outputs": [],
   "source": []
  },
  {
   "cell_type": "code",
   "execution_count": null,
   "metadata": {
    "ExecuteTime": {
     "end_time": "2018-01-15T02:43:48.172043Z",
     "start_time": "2018-01-15T02:43:48.091829Z"
    },
    "collapsed": true
   },
   "outputs": [],
   "source": []
  },
  {
   "cell_type": "markdown",
   "metadata": {},
   "source": [
    "<div class=\"alert alert-block alert-info\"> Problem 5.2 </div>\n",
    "Read the labels from file `train-labels-idx1-ubyte.gz`, save them in a variable named labels\n",
    "What is the shape of  label's variable?"
   ]
  },
  {
   "cell_type": "code",
   "execution_count": null,
   "metadata": {
    "ExecuteTime": {
     "end_time": "2018-01-15T02:43:48.455796Z",
     "start_time": "2018-01-15T02:43:48.176054Z"
    },
    "collapsed": true
   },
   "outputs": [],
   "source": []
  },
  {
   "cell_type": "markdown",
   "metadata": {},
   "source": [
    "<div class=\"alert alert-block alert-info\"> Problem 5.3 </div>\n",
    "Use [`matplotlib.pyplot.imshow`](https://matplotlib.org/api/_as_gen/matplotlib.pyplot.imshow.html?highlight=matplotlib%20pyplot%20imshow#matplotlib.pyplot.imshow) to display the first three images on the MNIST dataset\n",
    "\n",
    "Se the plot title to each image to the corresponding label\n",
    "\n",
    "[HINT] set the color map to `gray` for best results"
   ]
  },
  {
   "cell_type": "code",
   "execution_count": null,
   "metadata": {
    "ExecuteTime": {
     "end_time": "2018-01-15T02:43:49.134602Z",
     "start_time": "2018-01-15T02:43:48.458806Z"
    },
    "collapsed": true
   },
   "outputs": [],
   "source": []
  },
  {
   "cell_type": "code",
   "execution_count": null,
   "metadata": {
    "ExecuteTime": {
     "end_time": "2018-01-15T02:43:49.646964Z",
     "start_time": "2018-01-15T02:43:49.136607Z"
    },
    "collapsed": true
   },
   "outputs": [],
   "source": []
  },
  {
   "cell_type": "code",
   "execution_count": null,
   "metadata": {
    "ExecuteTime": {
     "end_time": "2018-01-15T02:43:50.071093Z",
     "start_time": "2018-01-15T02:43:49.648970Z"
    },
    "collapsed": true
   },
   "outputs": [],
   "source": []
  },
  {
   "cell_type": "markdown",
   "metadata": {},
   "source": [
    "<div class=\"alert alert-block alert-info\"> Problem 5.3 </div>\n",
    "Compute the average image (averaged over all the samples).\n",
    "use `imshow` to plot the result.\n",
    "\n",
    "[HINT] this is just averaging over the first axis of the images array"
   ]
  },
  {
   "cell_type": "code",
   "execution_count": null,
   "metadata": {
    "ExecuteTime": {
     "end_time": "2018-01-15T02:43:50.633590Z",
     "start_time": "2018-01-15T02:43:50.072095Z"
    },
    "collapsed": true
   },
   "outputs": [],
   "source": []
  },
  {
   "cell_type": "code",
   "execution_count": 3,
   "metadata": {
    "ExecuteTime": {
     "end_time": "2018-01-17T16:09:33.832469Z",
     "start_time": "2018-01-17T16:09:33.818041Z"
    },
    "collapsed": true
   },
   "outputs": [],
   "source": [
    "def one_hot_encode(labels):\n",
    "    N=len(labels)\n",
    "    K=labels.max()+1\n",
    "    Z=np.zeros((len(labels),K))\n",
    "    Z[np.arange(N),labels]=1\n",
    "    return Z"
   ]
  },
  {
   "cell_type": "markdown",
   "metadata": {},
   "source": [
    "<div class=\"alert alert-block alert-info\"> Problem 5.4 </div>\n",
    "Use the function `one_hot_encode` defined above to create a variable `Z` with the one hot encoding of the labels.\n",
    "\n",
    "Show the shape of `Z`"
   ]
  },
  {
   "cell_type": "code",
   "execution_count": null,
   "metadata": {
    "ExecuteTime": {
     "end_time": "2018-01-15T02:43:50.785769Z",
     "start_time": "2018-01-15T02:43:50.649639Z"
    },
    "collapsed": true
   },
   "outputs": [],
   "source": []
  },
  {
   "cell_type": "markdown",
   "metadata": {
    "ExecuteTime": {
     "end_time": "2018-01-14T19:55:30.710143Z",
     "start_time": "2018-01-14T19:55:30.705129Z"
    }
   },
   "source": [
    "<div class=\"alert alert-block alert-info\"> Problem 5.5 </div>\n",
    "Create the rank four tensor\n",
    "$$\n",
    "T_{i,k,r,c} = Z_{i,k}  \\textrm{images}_{i,r,c}\n",
    "$$\n"
   ]
  },
  {
   "cell_type": "code",
   "execution_count": null,
   "metadata": {
    "ExecuteTime": {
     "end_time": "2018-01-15T02:43:56.812860Z",
     "start_time": "2018-01-15T02:43:50.787775Z"
    },
    "collapsed": true
   },
   "outputs": [],
   "source": []
  },
  {
   "cell_type": "markdown",
   "metadata": {},
   "source": [
    "<div class=\"alert alert-block alert-info\"> Problem 5.6 </div>\n",
    "Average $T$ over the sample index $i$, save to a variable named `average`"
   ]
  },
  {
   "cell_type": "code",
   "execution_count": null,
   "metadata": {
    "ExecuteTime": {
     "end_time": "2018-01-15T02:43:57.700447Z",
     "start_time": "2018-01-15T02:43:56.814869Z"
    },
    "collapsed": true
   },
   "outputs": [],
   "source": []
  },
  {
   "cell_type": "markdown",
   "metadata": {
    "ExecuteTime": {
     "end_time": "2018-01-14T19:59:54.793042Z",
     "start_time": "2018-01-14T19:59:54.787027Z"
    }
   },
   "source": [
    "<div class=\"alert alert-block alert-info\"> Problem 5.7</div>\n",
    "What does `average[0]` represent? \n",
    "\n",
    "and `average[5]`?"
   ]
  },
  {
   "cell_type": "code",
   "execution_count": null,
   "metadata": {
    "collapsed": true
   },
   "outputs": [],
   "source": []
  },
  {
   "cell_type": "markdown",
   "metadata": {
    "ExecuteTime": {
     "end_time": "2018-01-14T20:02:02.528638Z",
     "start_time": "2018-01-14T20:02:02.513011Z"
    }
   },
   "source": [
    "<div class=\"alert alert-block alert-info\"> Problem 5.8 </div>\n",
    "use `imshow` to plot `average[0]` and `average[5]`"
   ]
  },
  {
   "cell_type": "code",
   "execution_count": null,
   "metadata": {
    "ExecuteTime": {
     "end_time": "2018-01-15T02:43:58.395295Z",
     "start_time": "2018-01-15T02:43:57.702454Z"
    },
    "collapsed": true
   },
   "outputs": [],
   "source": []
  },
  {
   "cell_type": "code",
   "execution_count": null,
   "metadata": {
    "ExecuteTime": {
     "end_time": "2018-01-15T02:43:58.917685Z",
     "start_time": "2018-01-15T02:43:58.397302Z"
    },
    "collapsed": true
   },
   "outputs": [],
   "source": []
  },
  {
   "cell_type": "code",
   "execution_count": null,
   "metadata": {
    "collapsed": true
   },
   "outputs": [],
   "source": []
  }
 ],
 "metadata": {
  "kernelspec": {
   "display_name": "Python [default]",
   "language": "python",
   "name": "python3"
  },
  "language_info": {
   "codemirror_mode": {
    "name": "ipython",
    "version": 3
   },
   "file_extension": ".py",
   "mimetype": "text/x-python",
   "name": "python",
   "nbconvert_exporter": "python",
   "pygments_lexer": "ipython3",
   "version": "3.5.2"
  },
  "toc": {
   "nav_menu": {},
   "number_sections": true,
   "sideBar": true,
   "skip_h1_title": false,
   "toc_cell": false,
   "toc_position": {},
   "toc_section_display": "block",
   "toc_window_display": true
  }
 },
 "nbformat": 4,
 "nbformat_minor": 2
}
