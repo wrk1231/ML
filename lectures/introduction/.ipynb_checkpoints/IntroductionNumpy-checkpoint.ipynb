{
 "cells": [
  {
   "cell_type": "markdown",
   "metadata": {},
   "source": [
    "# Introduction to Numpy, Pandas and Matplotlib"
   ]
  },
  {
   "cell_type": "markdown",
   "metadata": {},
   "source": [
    "1. We review the **generic** libraries we will use during this course.\n",
    "2. There are **domain specific** libraries like `NLT`, `skimage`, `tensorflow` that we will review later.\n",
    "3. Please make sure you install **anaconda** with python 3.6\n",
    "and tensorflow on your working machines."
   ]
  },
  {
   "cell_type": "markdown",
   "metadata": {},
   "source": [
    "**Why numpy**\n",
    "\n",
    "* python is a scripting language, well suited for performing generic task\n",
    "* optimized for ease of use, not for computational speed\n",
    "* make it easy to call specialized libraries to perform expensive operations.\n",
    "\n",
    "Numerical computations\n",
    "* for loops are very **slow** in python\n",
    "* `numpy` allows us to define computions that apply to large chunks of data. \n",
    "* The `numpy` way to define computations on *all the data* at the same time takes some **getting used to**. \n",
    "* It is a **general** technique, can be applied in any other computer language.\n",
    "* `numpy` is becoming a standard. `tensorfow`, for example will define operations in parallel to `numpy`. Other computer languages are beginning to imitate `numpy` API and terminology."
   ]
  },
  {
   "cell_type": "markdown",
   "metadata": {
    "ExecuteTime": {
     "end_time": "2017-11-27T10:30:51.250948Z",
     "start_time": "2017-11-27T10:30:51.247948Z"
    }
   },
   "source": [
    "## Preliminaries"
   ]
  },
  {
   "cell_type": "markdown",
   "metadata": {
    "ExecuteTime": {
     "end_time": "2018-01-09T14:41:12.491141Z",
     "start_time": "2018-01-09T14:41:12.487141Z"
    },
    "collapsed": true
   },
   "source": [
    "### Imports"
   ]
  },
  {
   "cell_type": "code",
   "execution_count": 1,
   "metadata": {
    "ExecuteTime": {
     "end_time": "2018-01-19T10:37:15.335753Z",
     "start_time": "2018-01-19T10:37:03.191474Z"
    },
    "collapsed": true
   },
   "outputs": [],
   "source": [
    "import os\n",
    "import skimage\n",
    "import numpy as np # we import with shorter names\n",
    "                   # this short names are conventional\n",
    "                   # you could import them with any other name\n",
    "                   # but every one uses np,pd and plt\n",
    "import pandas as pd\n",
    "import matplotlib.pyplot as plt\n",
    "\n",
    "# make sure we can show plots inside the jupyter notebook cells\n",
    "%matplotlib inline \n",
    "\n",
    "import sys\n",
    "sys.path.append(\"../..\")\n",
    "#import E4525_ML.mnist  # this will work if you follow the directory organization below"
   ]
  },
  {
   "cell_type": "markdown",
   "metadata": {
    "ExecuteTime": {
     "end_time": "2017-11-27T09:59:04.795698Z",
     "start_time": "2017-11-27T09:59:04.792698Z"
    }
   },
   "source": [
    "### Directory Organization"
   ]
  },
  {
   "cell_type": "markdown",
   "metadata": {},
   "source": [
    "We will always assume a relative organization like this\n",
    "\n",
    "* **root**\n",
    "    * **lectures** (lecture notes and jupyter notebooks)\n",
    "        * lecture1\n",
    "        * lecture2\n",
    "        * ...\n",
    "    * **E4525_ML** ( python modules reused during the course)\n",
    "        * module1.py\n",
    "        * module2.py\n",
    "        * ...\n",
    "    * **raw** (raw unmodified data we will use during course)\n",
    "        * dataset1 (directory for dataset1)\n",
    "        * dataset2\n",
    "        * ...\n",
    "    * **data** (pre-processed data )\n",
    "        * project1\n",
    "        * project2\n",
    "        * ...\n",
    "    * **scripts** (stand along python scripts)\n",
    "        * script1.py\n",
    "        * script2.py\n",
    "        \n",
    "If you saved notebooks, data, etc this way, all examples from course should work out of the box"
   ]
  },
  {
   "cell_type": "markdown",
   "metadata": {},
   "source": [
    "Here we create a working data directory for this notebook, in case it did not exist already"
   ]
  },
  {
   "cell_type": "code",
   "execution_count": 2,
   "metadata": {
    "ExecuteTime": {
     "end_time": "2018-01-19T10:37:15.346088Z",
     "start_time": "2018-01-19T10:37:15.337758Z"
    },
    "collapsed": true
   },
   "outputs": [],
   "source": [
    "data_dir=\"../../data/introduction\"\n",
    "if not os.path.exists(data_dir):\n",
    "    os.mkdir(data_dir)"
   ]
  },
  {
   "cell_type": "markdown",
   "metadata": {},
   "source": [
    "### Random Numbers"
   ]
  },
  {
   "cell_type": "markdown",
   "metadata": {
    "ExecuteTime": {
     "end_time": "2017-11-27T10:34:08.522948Z",
     "start_time": "2017-11-27T10:34:08.515948Z"
    }
   },
   "source": [
    "We initialize the random seed at the start of each notebook so that the results are **reproducible**.\n",
    "\n",
    "It does not matter what number we use, but we should all get the same numbers if we use the same seed."
   ]
  },
  {
   "cell_type": "code",
   "execution_count": 3,
   "metadata": {
    "ExecuteTime": {
     "end_time": "2018-01-19T10:37:15.374179Z",
     "start_time": "2018-01-19T10:37:15.348414Z"
    },
    "collapsed": true
   },
   "outputs": [],
   "source": [
    "seed=1367\n",
    "np.random.seed(seed)"
   ]
  },
  {
   "cell_type": "markdown",
   "metadata": {
    "ExecuteTime": {
     "end_time": "2017-11-22T12:48:45.791000Z",
     "start_time": "2017-11-22T12:48:45.782558Z"
    }
   },
   "source": [
    "## Numpy"
   ]
  },
  {
   "cell_type": "markdown",
   "metadata": {
    "ExecuteTime": {
     "end_time": "2017-11-22T12:37:17.684929Z",
     "start_time": "2017-11-22T12:37:17.679929Z"
    }
   },
   "source": [
    "They is very good [documentation](https://docs.scipy.org/doc/numpy/user/index.html) for numpy.\n",
    "\n",
    "But [StackOverflow](https://stackoverflow.com/) is also a **great resource** for programing questions"
   ]
  },
  {
   "cell_type": "markdown",
   "metadata": {
    "ExecuteTime": {
     "end_time": "2017-11-22T12:52:39.914792Z",
     "start_time": "2017-11-22T12:52:39.898348Z"
    }
   },
   "source": [
    "The main object in `numpy` is the `array`.\n",
    "\n",
    "An array is an efficient emplamentation of a **tensor**: and object with one or more indexes.\n",
    "\n",
    "1. A `np.array` with zero indexes is a **scalar**\n",
    "1. A `np.array` with only one index is a **vector**\n",
    "2. A `np.array` with two indexes is a **matrix**\n",
    "3. A object with three or more indexes we will call a **tensor**.\n",
    "\n",
    "We will need over the course objects with 3, 4, or more indexes. "
   ]
  },
  {
   "cell_type": "markdown",
   "metadata": {},
   "source": [
    "Let's create a scalar, a vector, a matrix and tensor"
   ]
  },
  {
   "cell_type": "code",
   "execution_count": 4,
   "metadata": {
    "ExecuteTime": {
     "end_time": "2018-01-19T10:37:15.390740Z",
     "start_time": "2018-01-19T10:37:15.376319Z"
    },
    "collapsed": true
   },
   "outputs": [],
   "source": [
    "s=np.array(4.0)\n",
    "v=np.array([1, 2, 3])\n",
    "X=np.array([\n",
    "            [ 1.0, 2, 3],\n",
    "            [ 4, 5, 6],\n",
    "            [ 6, 7, 8],\n",
    "            [ 9 ,10,11]\n",
    "           ])\n",
    "T=np.array([ \n",
    "            [\n",
    "             [ 1, 2, 3],\n",
    "             [ 4, 5, 6],\n",
    "             [ 6, 7, 8]\n",
    "            ],\n",
    "            [\n",
    "             [ 9,10,11],\n",
    "             [12,13,14],\n",
    "             [15,16,17]\n",
    "            ],\n",
    "           ],\n",
    "            dtype=np.double)\n"
   ]
  },
  {
   "cell_type": "markdown",
   "metadata": {},
   "source": [
    "We can see the contents"
   ]
  },
  {
   "cell_type": "code",
   "execution_count": 5,
   "metadata": {
    "ExecuteTime": {
     "end_time": "2018-01-19T10:37:15.414026Z",
     "start_time": "2018-01-19T10:37:15.391745Z"
    }
   },
   "outputs": [
    {
     "name": "stdout",
     "output_type": "stream",
     "text": [
      "scalar 4.0\n",
      "vector [1 2 3]\n",
      "Matrix [[  1.   2.   3.]\n",
      " [  4.   5.   6.]\n",
      " [  6.   7.   8.]\n",
      " [  9.  10.  11.]]\n",
      "tensor [[[  1.   2.   3.]\n",
      "  [  4.   5.   6.]\n",
      "  [  6.   7.   8.]]\n",
      "\n",
      " [[  9.  10.  11.]\n",
      "  [ 12.  13.  14.]\n",
      "  [ 15.  16.  17.]]]\n"
     ]
    }
   ],
   "source": [
    "print(\"scalar\",s)\n",
    "print(\"vector\",v)\n",
    "print(\"Matrix\",X),\n",
    "print(\"tensor\",T)"
   ]
  },
  {
   "cell_type": "markdown",
   "metadata": {},
   "source": [
    "The type of of the various objects, note that the vector is of dtype `int32`"
   ]
  },
  {
   "cell_type": "code",
   "execution_count": 6,
   "metadata": {
    "ExecuteTime": {
     "end_time": "2018-01-19T10:37:15.434227Z",
     "start_time": "2018-01-19T10:37:15.417124Z"
    }
   },
   "outputs": [
    {
     "name": "stdout",
     "output_type": "stream",
     "text": [
      "scalar float64\n",
      "vector int32\n",
      "Matrix float64\n",
      "tensor float64\n"
     ]
    }
   ],
   "source": [
    "print(\"scalar\",s.dtype)\n",
    "print(\"vector\",v.dtype)\n",
    "print(\"Matrix\",X.dtype),\n",
    "print(\"tensor\",T.dtype)"
   ]
  },
  {
   "cell_type": "markdown",
   "metadata": {
    "ExecuteTime": {
     "end_time": "2017-11-22T09:34:16.911929Z",
     "start_time": "2017-11-22T09:34:16.904929Z"
    }
   },
   "source": [
    "The number of dimensions of each object, also known as the tensor's  **rank** "
   ]
  },
  {
   "cell_type": "code",
   "execution_count": 7,
   "metadata": {
    "ExecuteTime": {
     "end_time": "2018-01-19T10:37:15.448526Z",
     "start_time": "2018-01-19T10:37:15.436114Z"
    }
   },
   "outputs": [
    {
     "name": "stdout",
     "output_type": "stream",
     "text": [
      "scalar 0\n",
      "vector 1\n",
      "Matrix 2\n",
      "tensor 3\n"
     ]
    }
   ],
   "source": [
    "print(\"scalar\",s.ndim)\n",
    "print(\"vector\",v.ndim)\n",
    "print(\"Matrix\",X.ndim),\n",
    "print(\"tensor\",T.ndim)"
   ]
  },
  {
   "cell_type": "markdown",
   "metadata": {},
   "source": [
    "And the shape (the size of each one of the dimensions)"
   ]
  },
  {
   "cell_type": "code",
   "execution_count": 8,
   "metadata": {
    "ExecuteTime": {
     "end_time": "2018-01-19T10:37:15.463804Z",
     "start_time": "2018-01-19T10:37:15.450546Z"
    }
   },
   "outputs": [
    {
     "name": "stdout",
     "output_type": "stream",
     "text": [
      "scalar ()\n",
      "vector (3,)\n",
      "Matrix (4, 3)\n",
      "tensor (2, 3, 3)\n"
     ]
    }
   ],
   "source": [
    "print(\"scalar\",s.shape)\n",
    "print(\"vector\",v.shape)\n",
    "print(\"Matrix\",X.shape),\n",
    "print(\"tensor\",T.shape)"
   ]
  },
  {
   "cell_type": "markdown",
   "metadata": {},
   "source": [
    "Size is the total number of element of the array, the **product** of the size of alls its dimensions"
   ]
  },
  {
   "cell_type": "code",
   "execution_count": 9,
   "metadata": {
    "ExecuteTime": {
     "end_time": "2018-01-19T10:37:15.483421Z",
     "start_time": "2018-01-19T10:37:15.466857Z"
    }
   },
   "outputs": [
    {
     "name": "stdout",
     "output_type": "stream",
     "text": [
      "scalar 1\n",
      "vector 3\n",
      "Matrix 12\n",
      "tensor 18\n"
     ]
    }
   ],
   "source": [
    "print(\"scalar\",s.size)\n",
    "print(\"vector\",v.size)\n",
    "print(\"Matrix\",X.size),\n",
    "print(\"tensor\",T.size)"
   ]
  },
  {
   "cell_type": "markdown",
   "metadata": {},
   "source": [
    "As a convenience, the function **`len`** gives the size of the **first** dimension"
   ]
  },
  {
   "cell_type": "code",
   "execution_count": 10,
   "metadata": {
    "ExecuteTime": {
     "end_time": "2018-01-19T10:37:15.495706Z",
     "start_time": "2018-01-19T10:37:15.485268Z"
    }
   },
   "outputs": [
    {
     "name": "stdout",
     "output_type": "stream",
     "text": [
      "vector 3\n",
      "Matrix 4\n",
      "tensor 2\n"
     ]
    }
   ],
   "source": [
    "#print(\"scalar\",len(s)) # does not work for a zero dimensional tensor!\n",
    "print(\"vector\",len(v))\n",
    "print(\"Matrix\",len(X))\n",
    "print(\"tensor\",len(T))"
   ]
  },
  {
   "cell_type": "markdown",
   "metadata": {
    "ExecuteTime": {
     "end_time": "2017-11-22T10:01:56.450929Z",
     "start_time": "2017-11-22T10:01:56.445929Z"
    }
   },
   "source": [
    "### Indexing"
   ]
  },
  {
   "cell_type": "markdown",
   "metadata": {},
   "source": [
    "Access to elements is **zero indexed** and stored in **Row Major** order: for a matrix first index is row."
   ]
  },
  {
   "cell_type": "code",
   "execution_count": 11,
   "metadata": {
    "ExecuteTime": {
     "end_time": "2018-01-19T10:37:15.515331Z",
     "start_time": "2018-01-19T10:37:15.498777Z"
    }
   },
   "outputs": [
    {
     "name": "stdout",
     "output_type": "stream",
     "text": [
      "scalar 4.0\n",
      "vector [1 2 3]\n",
      "Matrix [[  1.   2.   3.]\n",
      " [  4.   5.   6.]\n",
      " [  6.   7.   8.]\n",
      " [  9.  10.  11.]]\n",
      "tensor [[[  1.   2.   3.]\n",
      "  [  4.   5.   6.]\n",
      "  [  6.   7.   8.]]\n",
      "\n",
      " [[  9.  10.  11.]\n",
      "  [ 12.  13.  14.]\n",
      "  [ 15.  16.  17.]]]\n"
     ]
    }
   ],
   "source": [
    "print(\"scalar\",s)\n",
    "print(\"vector\",v)\n",
    "print(\"Matrix\",X),\n",
    "print(\"tensor\",T)"
   ]
  },
  {
   "cell_type": "code",
   "execution_count": 12,
   "metadata": {
    "ExecuteTime": {
     "end_time": "2018-01-19T10:37:15.531417Z",
     "start_time": "2018-01-19T10:37:15.516772Z"
    },
    "collapsed": true
   },
   "outputs": [
    {
     "name": "stdout",
     "output_type": "stream",
     "text": [
      "scalar 4.0\n"
     ]
    }
   ],
   "source": [
    "print(\"scalar\",s)"
   ]
  },
  {
   "cell_type": "code",
   "execution_count": 13,
   "metadata": {
    "ExecuteTime": {
     "end_time": "2018-01-19T10:37:15.547672Z",
     "start_time": "2018-01-19T10:37:15.533725Z"
    },
    "collapsed": true
   },
   "outputs": [
    {
     "name": "stdout",
     "output_type": "stream",
     "text": [
      "vector[1] 2\n"
     ]
    }
   ],
   "source": [
    "print(\"vector[1]\",v[1])"
   ]
  },
  {
   "cell_type": "code",
   "execution_count": 14,
   "metadata": {
    "ExecuteTime": {
     "end_time": "2018-01-19T10:37:15.560654Z",
     "start_time": "2018-01-19T10:37:15.550106Z"
    },
    "collapsed": true
   },
   "outputs": [
    {
     "name": "stdout",
     "output_type": "stream",
     "text": [
      "Matrix[0,2] 3.0\n"
     ]
    }
   ],
   "source": [
    "print(\"Matrix[0,2]\",X[0,2])"
   ]
  },
  {
   "cell_type": "code",
   "execution_count": 15,
   "metadata": {
    "ExecuteTime": {
     "end_time": "2018-01-19T10:37:15.583987Z",
     "start_time": "2018-01-19T10:37:15.562660Z"
    },
    "collapsed": true
   },
   "outputs": [
    {
     "name": "stdout",
     "output_type": "stream",
     "text": [
      "tensor[1,1,-1] 14.0\n"
     ]
    }
   ],
   "source": [
    "print(\"tensor[1,1,-1]\",T[1,1,-1]) # in python negative elements count from the end"
   ]
  },
  {
   "cell_type": "markdown",
   "metadata": {},
   "source": [
    "We can do **slicing** to return sub-tensors with a lower number of dimensions"
   ]
  },
  {
   "cell_type": "code",
   "execution_count": 16,
   "metadata": {
    "ExecuteTime": {
     "end_time": "2018-01-19T10:37:15.611205Z",
     "start_time": "2018-01-19T10:37:15.585786Z"
    }
   },
   "outputs": [
    {
     "name": "stdout",
     "output_type": "stream",
     "text": [
      "Matrix[0] [ 1.  2.  3.] first row\n",
      "Matrix[:,0] [ 1.  4.  6.  9.] first column\n",
      "tensor[-1]\n",
      " [[  9.  10.  11.]\n",
      " [ 12.  13.  14.]\n",
      " [ 15.  16.  17.]] \n",
      "last sub-matrix\n",
      "tensor[:,1,:]\n",
      " [[  4.   5.   6.]\n",
      " [ 12.  13.  14.]] \n",
      "fixed second index\n",
      "tensor[0,:,-1]\n",
      " [ 3.  6.  8.] \\last column of first submatrix\n"
     ]
    }
   ],
   "source": [
    "print(\"Matrix[0]\",X[0],\"first row\")\n",
    "print(\"Matrix[:,0]\",X[:,0],\"first column\")\n",
    "print(\"tensor[-1]\\n\",T[-1],\"\\n     last sub-matrix\")\n",
    "print(\"tensor[:,1,:]\\n\",T[:,1,:],\"\\n    fixed second index\")\n",
    "print(\"tensor[0,:,-1]\\n\",T[0,:,-1],\"\\n    last column of first submatrix\")"
   ]
  },
  {
   "cell_type": "markdown",
   "metadata": {},
   "source": [
    "We can also **promote** a tensor to a higher rank "
   ]
  },
  {
   "cell_type": "code",
   "execution_count": 17,
   "metadata": {
    "ExecuteTime": {
     "end_time": "2018-01-19T10:37:15.638951Z",
     "start_time": "2018-01-19T10:37:15.614166Z"
    }
   },
   "outputs": [
    {
     "name": "stdout",
     "output_type": "stream",
     "text": [
      "M1.shape (3, 1)\n",
      "M1\n",
      " [[1 2 3]]\n",
      "M2.shape (1, 3)\n",
      "M2\n",
      " [[1 2 3]]\n"
     ]
    }
   ],
   "source": [
    "M1=v[:,np.newaxis]\n",
    "M2=v[np.newaxis,:]\n",
    "print(\"M1.shape\",M1.shape)\n",
    "print(\"M1\\n\",M2)\n",
    "print(\"M2.shape\",M2.shape)\n",
    "print(\"M2\\n\",M2)"
   ]
  },
  {
   "cell_type": "markdown",
   "metadata": {
    "ExecuteTime": {
     "end_time": "2017-11-22T10:07:27.683929Z",
     "start_time": "2017-11-22T10:07:27.680929Z"
    }
   },
   "source": [
    "### Functions  on `np.arrays`"
   ]
  },
  {
   "cell_type": "markdown",
   "metadata": {},
   "source": [
    "Be default, operations on np.arrays work element wise"
   ]
  },
  {
   "cell_type": "code",
   "execution_count": 48,
   "metadata": {
    "ExecuteTime": {
     "end_time": "2018-01-19T10:50:50.270805Z",
     "start_time": "2018-01-19T10:50:50.248768Z"
    }
   },
   "outputs": [
    {
     "name": "stdout",
     "output_type": "stream",
     "text": [
      "v [1 2 3]\n",
      "2*v [2 4 6]\n",
      "sqrt(v) [ 1.          1.41421356  1.73205081]\n"
     ]
    }
   ],
   "source": [
    "v2=2*v\n",
    "v_sqrt=v**(1/2) # or np.sqrt(v)\n",
    "print(\"v\",v)\n",
    "print(\"2*v\",v2)\n",
    "print(\"sqrt(v)\",v_sqrt)"
   ]
  },
  {
   "cell_type": "markdown",
   "metadata": {},
   "source": [
    "Sum and Multiplication make sense if both objects have the same size"
   ]
  },
  {
   "cell_type": "code",
   "execution_count": 19,
   "metadata": {
    "ExecuteTime": {
     "end_time": "2018-01-19T10:37:15.671385Z",
     "start_time": "2018-01-19T10:37:15.656763Z"
    }
   },
   "outputs": [
    {
     "name": "stdout",
     "output_type": "stream",
     "text": [
      "v+v2 [3 6 9]\n",
      "v*v2 [ 2  8 18]\n"
     ]
    }
   ],
   "source": [
    "print(\"v+v2\",v+v2)\n",
    "print(\"v*v2\",v*v2)"
   ]
  },
  {
   "cell_type": "markdown",
   "metadata": {
    "ExecuteTime": {
     "end_time": "2017-11-22T10:23:49.815929Z",
     "start_time": "2017-11-22T10:23:49.809929Z"
    }
   },
   "source": [
    "arrays have defined a **large number** of special functions"
   ]
  },
  {
   "cell_type": "code",
   "execution_count": 20,
   "metadata": {
    "ExecuteTime": {
     "end_time": "2018-01-19T10:37:15.688008Z",
     "start_time": "2018-01-19T10:37:15.672781Z"
    }
   },
   "outputs": [
    {
     "name": "stdout",
     "output_type": "stream",
     "text": [
      "log(v) [ 0.          0.69314718  1.09861229]\n",
      "exp(v) [  2.71828183   7.3890561   20.08553692]\n",
      "sin(pi/4*v) [ 0.70710678  1.          0.70710678]\n",
      "max(X,1.2)\n",
      " [[  1.2   2.    3. ]\n",
      " [  4.    5.    6. ]\n",
      " [  6.    7.    8. ]\n",
      " [  9.   10.   11. ]]\n"
     ]
    }
   ],
   "source": [
    "print(\"log(v)\",np.log(v))\n",
    "print(\"exp(v)\",np.exp(v))\n",
    "print(\"sin(pi/4*v)\",np.sin(np.pi/4*v))\n",
    "print(\"max(X,1.2)\\n\",np.maximum(X,1.2))"
   ]
  },
  {
   "cell_type": "markdown",
   "metadata": {
    "ExecuteTime": {
     "end_time": "2017-11-22T10:24:48.113929Z",
     "start_time": "2017-11-22T10:24:48.110929Z"
    }
   },
   "source": [
    "### Aggregate Functions"
   ]
  },
  {
   "cell_type": "markdown",
   "metadata": {
    "ExecuteTime": {
     "end_time": "2017-11-22T10:26:00.328929Z",
     "start_time": "2017-11-22T10:26:00.322929Z"
    }
   },
   "source": [
    "Some functions apply to a group of numbers, by default, they are applied to the whole array"
   ]
  },
  {
   "cell_type": "code",
   "execution_count": 21,
   "metadata": {
    "ExecuteTime": {
     "end_time": "2018-01-19T10:37:15.705005Z",
     "start_time": "2018-01-19T10:37:15.689224Z"
    }
   },
   "outputs": [
    {
     "name": "stdout",
     "output_type": "stream",
     "text": [
      "scalar 4.0\n",
      "vector 6\n",
      "Matrix 72.0\n",
      "tensor 159.0\n"
     ]
    }
   ],
   "source": [
    "print(\"scalar\",s.sum())\n",
    "print(\"vector\",v.sum())\n",
    "print(\"Matrix\",X.sum()),\n",
    "print(\"tensor\",T.sum())"
   ]
  },
  {
   "cell_type": "markdown",
   "metadata": {},
   "source": [
    "This are a few useful aggregate functions"
   ]
  },
  {
   "cell_type": "code",
   "execution_count": 22,
   "metadata": {
    "ExecuteTime": {
     "end_time": "2018-01-19T10:37:15.729814Z",
     "start_time": "2018-01-19T10:37:15.711620Z"
    }
   },
   "outputs": [
    {
     "name": "stdout",
     "output_type": "stream",
     "text": [
      "sum(v) 6\n",
      "product(v) 6\n",
      "mean(v) 2.0\n",
      "std(v) 0.816496580928\n",
      "max(T) 17.0\n",
      "min(X) 1.0\n"
     ]
    }
   ],
   "source": [
    "print(\"sum(v)\",np.sum(v))\n",
    "print(\"product(v)\",np.product(v))\n",
    "print(\"mean(v)\",np.mean(v))\n",
    "print(\"std(v)\",np.std(v))\n",
    "print(\"max(T)\",np.max(T))\n",
    "print(\"min(X)\",np.min(X))"
   ]
  },
  {
   "cell_type": "markdown",
   "metadata": {},
   "source": [
    "Aggreate functions can take an **axis** argument, in which case the lower the rank of the tensor by one, and apply\n",
    "the function accross that axes only."
   ]
  },
  {
   "cell_type": "code",
   "execution_count": 23,
   "metadata": {
    "ExecuteTime": {
     "end_time": "2018-01-19T10:37:15.745590Z",
     "start_time": "2018-01-19T10:37:15.733023Z"
    }
   },
   "outputs": [
    {
     "name": "stdout",
     "output_type": "stream",
     "text": [
      "sum(X,columns) [ 20.  24.  28.]\n",
      "sum(X,rows) [  6.  15.  21.  30.]\n"
     ]
    }
   ],
   "source": [
    "print(\"sum(X,columns)\",np.sum(X,axis=0))\n",
    "print(\"sum(X,rows)\",np.sum(X,axis=1))"
   ]
  },
  {
   "cell_type": "markdown",
   "metadata": {},
   "source": [
    "Let's do that for the rank-3 tensor"
   ]
  },
  {
   "cell_type": "code",
   "execution_count": 24,
   "metadata": {
    "ExecuteTime": {
     "end_time": "2018-01-19T10:37:15.767015Z",
     "start_time": "2018-01-19T10:37:15.747596Z"
    }
   },
   "outputs": [
    {
     "name": "stdout",
     "output_type": "stream",
     "text": [
      "mean(T,axis=0)\n",
      " [[ 10.  12.  14.]\n",
      " [ 16.  18.  20.]\n",
      " [ 21.  23.  25.]]\n",
      "mean(T,axis=1)\n",
      " [[ 11.  14.  17.]\n",
      " [ 36.  39.  42.]]\n",
      "mean(T,axis=2)\n",
      " [[  6.  15.  21.]\n",
      " [ 30.  39.  48.]]\n"
     ]
    }
   ],
   "source": [
    "print(\"mean(T,axis=0)\\n\",np.sum(T,axis=0))\n",
    "print(\"mean(T,axis=1)\\n\",np.sum(T,axis=1))\n",
    "print(\"mean(T,axis=2)\\n\",np.sum(T,axis=2))"
   ]
  },
  {
   "cell_type": "markdown",
   "metadata": {
    "ExecuteTime": {
     "end_time": "2017-11-22T12:20:00.597929Z",
     "start_time": "2017-11-22T12:20:00.594929Z"
    }
   },
   "source": [
    "### Broadcasting and Index Manipulations with Tensors"
   ]
  },
  {
   "cell_type": "markdown",
   "metadata": {},
   "source": [
    "Broadcasting is the process of making arrays with different shapes have compatible shapes for arithmetic operations.\n",
    "\n",
    "See the numpy [broadcasting ](https://docs.scipy.org/doc/numpy/user/basics.broadcasting.html) documentation.\n",
    "\n"
   ]
  },
  {
   "cell_type": "markdown",
   "metadata": {},
   "source": [
    "When operating on two arrays of different rank, numpy will \"fill in\" (with copies) the lower rank one to mark the number of dimensions of the high rank vector"
   ]
  },
  {
   "cell_type": "code",
   "execution_count": 25,
   "metadata": {
    "ExecuteTime": {
     "end_time": "2018-01-19T10:37:15.792128Z",
     "start_time": "2018-01-19T10:37:15.773814Z"
    }
   },
   "outputs": [
    {
     "name": "stdout",
     "output_type": "stream",
     "text": [
      "s+v [ 5.  6.  7.]\n",
      "s+X\n",
      " [[  5.   6.   7.]\n",
      " [  8.   9.  10.]\n",
      " [ 10.  11.  12.]\n",
      " [ 13.  14.  15.]]\n",
      "v*X\n",
      " [[  1.   4.   9.]\n",
      " [  4.  10.  18.]\n",
      " [  6.  14.  24.]\n",
      " [  9.  20.  33.]] this repeats each v as a column\n"
     ]
    }
   ],
   "source": [
    "print(\"s+v\",s+v)\n",
    "print(\"s+X\\n\",s+X)\n",
    "print(\"v*X\\n\",v*X, \"this repeats each v as a column\")"
   ]
  },
  {
   "cell_type": "markdown",
   "metadata": {
    "ExecuteTime": {
     "end_time": "2017-11-22T12:54:50.858929Z",
     "start_time": "2017-11-22T12:54:50.852929Z"
    }
   },
   "source": [
    "What if we want to repeat v as a row instead? We use **`np.newaxis``**\n",
    "\n",
    "When operating on two arrays, NumPy compares their shapes element-wise. It starts with the trailing dimensions, and works its way forward. Two dimensions are compatible when\n",
    "\n",
    "1. they are equal, or\n",
    "2. one of them is 1"
   ]
  },
  {
   "cell_type": "markdown",
   "metadata": {
    "ExecuteTime": {
     "end_time": "2017-11-22T13:07:25.955929Z",
     "start_time": "2017-11-22T13:07:25.948929Z"
    }
   },
   "source": [
    "Given a vector \n",
    "    $v_i$ and matrix $X_{k,j}$ we want to form the expression\n",
    "    \n",
    "$$\n",
    "        v_j\\  X_{k,j}\n",
    "$$\n",
    "\n",
    "the dimension of $v$ and the last dimension of $X$ must match"
   ]
  },
  {
   "cell_type": "code",
   "execution_count": 49,
   "metadata": {
    "ExecuteTime": {
     "end_time": "2018-01-19T11:28:26.540685Z",
     "start_time": "2018-01-19T11:28:26.522396Z"
    }
   },
   "outputs": [
    {
     "name": "stdout",
     "output_type": "stream",
     "text": [
      "By Column\n",
      "v.shape (3,)\n",
      "v[np.newaxis,:] (1, 3)\n",
      "v[np.newais,:] [[1 2 3]]\n",
      "v[np.newaxis,:]*X\n",
      " [[  1.   4.   9.]\n",
      " [  4.  10.  18.]\n",
      " [  6.  14.  24.]\n",
      " [  9.  20.  33.]]\n"
     ]
    }
   ],
   "source": [
    "print(\"By Column\")\n",
    "print(\"v.shape\",v.shape)\n",
    "vc=v[np.newaxis,:]\n",
    "print(\"v[np.newaxis,:]\",vc.shape)\n",
    "print(\"v[np.newaxis,:]\",vc)\n",
    "print(\"v[np.newaxis,:]*X\\n\",vc*X)"
   ]
  },
  {
   "cell_type": "markdown",
   "metadata": {
    "ExecuteTime": {
     "end_time": "2017-11-22T13:10:45.565929Z",
     "start_time": "2017-11-22T13:10:45.558929Z"
    }
   },
   "source": [
    "Given a vector \n",
    "    $v_i$ and matrix $X_{k,j}$ we want to form the expression\n",
    "    \n",
    "$$\n",
    "        v_k\\  X_{k,j}\n",
    "$$\n",
    "\n",
    "the dimension of $v$ and the first dimension of $X$ must match"
   ]
  },
  {
   "cell_type": "code",
   "execution_count": 27,
   "metadata": {
    "ExecuteTime": {
     "end_time": "2018-01-19T10:37:15.827029Z",
     "start_time": "2018-01-19T10:37:15.810701Z"
    }
   },
   "outputs": [
    {
     "name": "stdout",
     "output_type": "stream",
     "text": [
      "By Row\n",
      "v.shape (4,)\n",
      "v[:,np.newaxis] (4, 1)\n",
      "v[:,np.newaxis]*X\n",
      " [[  0.   0.   0.]\n",
      " [  4.   5.   6.]\n",
      " [ 12.  14.  16.]\n",
      " [ 27.  30.  33.]]\n"
     ]
    }
   ],
   "source": [
    "v4=np.array([0,1,2,3])\n",
    "print(\"By Row\")\n",
    "print(\"v.shape\",v4.shape)\n",
    "v4=v4[:,np.newaxis]\n",
    "print(\"v[:,np.newaxis]\",v4.shape)\n",
    "print(\"v[:,np.newaxis]*X\\n\",v4*X)"
   ]
  },
  {
   "cell_type": "markdown",
   "metadata": {
    "ExecuteTime": {
     "end_time": "2017-11-22T13:12:54.277929Z",
     "start_time": "2017-11-22T13:12:54.271929Z"
    }
   },
   "source": [
    "Given a matrix $X_{k,j}$ we want to form the three index tensor\n",
    "$$\n",
    "    T_{k,j,i} = X_{k,j} X_{k,i}\n",
    "$$"
   ]
  },
  {
   "cell_type": "code",
   "execution_count": 28,
   "metadata": {
    "ExecuteTime": {
     "end_time": "2018-01-19T10:37:15.846346Z",
     "start_time": "2018-01-19T10:37:15.828442Z"
    }
   },
   "outputs": [
    {
     "data": {
      "text/plain": [
       "array([[[   1.,    2.,    3.],\n",
       "        [   2.,    4.,    6.],\n",
       "        [   3.,    6.,    9.]],\n",
       "\n",
       "       [[  16.,   20.,   24.],\n",
       "        [  20.,   25.,   30.],\n",
       "        [  24.,   30.,   36.]],\n",
       "\n",
       "       [[  36.,   42.,   48.],\n",
       "        [  42.,   49.,   56.],\n",
       "        [  48.,   56.,   64.]],\n",
       "\n",
       "       [[  81.,   90.,   99.],\n",
       "        [  90.,  100.,  110.],\n",
       "        [  99.,  110.,  121.]]])"
      ]
     },
     "execution_count": 28,
     "metadata": {},
     "output_type": "execute_result"
    }
   ],
   "source": [
    "X[:,:,np.newaxis]*X[:,np.newaxis,:]"
   ]
  },
  {
   "cell_type": "markdown",
   "metadata": {},
   "source": [
    "### Worked out Example: Sample Covariance with Numpy"
   ]
  },
  {
   "cell_type": "markdown",
   "metadata": {
    "ExecuteTime": {
     "end_time": "2017-11-22T13:19:08.404929Z",
     "start_time": "2017-11-22T13:19:08.398929Z"
    }
   },
   "source": [
    "Let's assume we observe a vector-valued random variable $X\\in\\mathbb{R}^D$.\n",
    "\n",
    "The components of one observation are  $x_d$  for $d=1,\\dots, D$, $N$ times.\n",
    "\n",
    "We will represent $N$ samples of $X$ by a matrix $X_{i,d}$ where each row $i=1,\\dots,N$ is one observation of the $D$-dimensional vector.\n",
    "\n",
    "The sample mean of $X$ is\n",
    "$$\n",
    "    \\hat{\\mu}_d = \\frac{1}{N} \\sum_{i=1}^N X_{i,d}\n",
    "$$\n",
    "And the (biased) sample covariance of $X$ is given by\n",
    "$$\n",
    "    \\hat{\\sigma}_{d,d'} = \\frac{1}{N}\\sum_{i=1}^N X_{i,d} X_{i,d'} -  \\mu_d \\mu_{d'}\n",
    "$$"
   ]
  },
  {
   "cell_type": "code",
   "execution_count": 29,
   "metadata": {
    "ExecuteTime": {
     "end_time": "2018-01-19T10:37:15.866058Z",
     "start_time": "2018-01-19T10:37:15.849357Z"
    }
   },
   "outputs": [
    {
     "name": "stdout",
     "output_type": "stream",
     "text": [
      "N 4\n",
      "D 3\n"
     ]
    }
   ],
   "source": [
    "N,D=X.shape\n",
    "print(\"N\",N)\n",
    "print(\"D\",D)"
   ]
  },
  {
   "cell_type": "markdown",
   "metadata": {
    "ExecuteTime": {
     "end_time": "2018-01-19T11:45:00.920963Z",
     "start_time": "2018-01-19T11:45:00.916825Z"
    }
   },
   "source": [
    "#### Implementation using low level index operations"
   ]
  },
  {
   "cell_type": "code",
   "execution_count": 30,
   "metadata": {
    "ExecuteTime": {
     "end_time": "2018-01-19T10:37:15.891157Z",
     "start_time": "2018-01-19T10:37:15.868603Z"
    }
   },
   "outputs": [
    {
     "name": "stdout",
     "output_type": "stream",
     "text": [
      "mu.shape (3,)\n"
     ]
    },
    {
     "data": {
      "text/plain": [
       "array([ 5.,  6.,  7.])"
      ]
     },
     "execution_count": 30,
     "metadata": {},
     "output_type": "execute_result"
    }
   ],
   "source": [
    "mu=X.mean(axis=0)\n",
    "print(\"mu.shape\",mu.shape)\n",
    "mu"
   ]
  },
  {
   "cell_type": "markdown",
   "metadata": {
    "ExecuteTime": {
     "end_time": "2017-11-22T13:39:35.421929Z",
     "start_time": "2017-11-22T13:39:35.415929Z"
    }
   },
   "source": [
    "We now form the product of means\n",
    "$$\n",
    "    C_{d,d'} = \\mu_d \\mu_{d'}\n",
    "$$"
   ]
  },
  {
   "cell_type": "code",
   "execution_count": 31,
   "metadata": {
    "ExecuteTime": {
     "end_time": "2018-01-19T10:37:15.914959Z",
     "start_time": "2018-01-19T10:37:15.896946Z"
    }
   },
   "outputs": [
    {
     "name": "stdout",
     "output_type": "stream",
     "text": [
      "C.shape (3, 3)\n"
     ]
    },
    {
     "data": {
      "text/plain": [
       "array([[ 25.,  30.,  35.],\n",
       "       [ 30.,  36.,  42.],\n",
       "       [ 35.,  42.,  49.]])"
      ]
     },
     "execution_count": 31,
     "metadata": {},
     "output_type": "execute_result"
    }
   ],
   "source": [
    "C = mu[:,np.newaxis]*mu[np.newaxis,:]\n",
    "print(\"C.shape\",C.shape)\n",
    "C"
   ]
  },
  {
   "cell_type": "markdown",
   "metadata": {
    "ExecuteTime": {
     "end_time": "2017-11-22T13:41:35.104929Z",
     "start_time": "2017-11-22T13:41:35.098929Z"
    }
   },
   "source": [
    "Now we write as before we tensor\n",
    "\n",
    "$$\n",
    "    T_{k,j,i} = X_{k,j} X_{k,i}\n",
    "$$\n"
   ]
  },
  {
   "cell_type": "code",
   "execution_count": 32,
   "metadata": {
    "ExecuteTime": {
     "end_time": "2018-01-19T10:37:15.939029Z",
     "start_time": "2018-01-19T10:37:15.916726Z"
    }
   },
   "outputs": [
    {
     "name": "stdout",
     "output_type": "stream",
     "text": [
      "T.shape (4, 3, 3)\n"
     ]
    },
    {
     "data": {
      "text/plain": [
       "array([[[   1.,    2.,    3.],\n",
       "        [   2.,    4.,    6.],\n",
       "        [   3.,    6.,    9.]],\n",
       "\n",
       "       [[  16.,   20.,   24.],\n",
       "        [  20.,   25.,   30.],\n",
       "        [  24.,   30.,   36.]],\n",
       "\n",
       "       [[  36.,   42.,   48.],\n",
       "        [  42.,   49.,   56.],\n",
       "        [  48.,   56.,   64.]],\n",
       "\n",
       "       [[  81.,   90.,   99.],\n",
       "        [  90.,  100.,  110.],\n",
       "        [  99.,  110.,  121.]]])"
      ]
     },
     "execution_count": 32,
     "metadata": {},
     "output_type": "execute_result"
    }
   ],
   "source": [
    "T=X[:,:,np.newaxis]*X[:,np.newaxis,:]\n",
    "print(\"T.shape\",T.shape)\n",
    "T"
   ]
  },
  {
   "cell_type": "markdown",
   "metadata": {
    "ExecuteTime": {
     "end_time": "2017-11-22T13:43:38.847929Z",
     "start_time": "2017-11-22T13:43:38.840929Z"
    }
   },
   "source": [
    "Finally, the covariance is\n",
    "$$ \n",
    "\\hat{\\sigma}_{d,d'} = \\frac{1}{N}\\sum_{i=1}^N T_{i,d,d'} -  C_{d,d'}\n",
    "$$"
   ]
  },
  {
   "cell_type": "code",
   "execution_count": 33,
   "metadata": {
    "ExecuteTime": {
     "end_time": "2018-01-19T10:37:15.962347Z",
     "start_time": "2018-01-19T10:37:15.941035Z"
    }
   },
   "outputs": [
    {
     "name": "stdout",
     "output_type": "stream",
     "text": [
      "sigma.shape (3, 3)\n",
      "[[ 8.5  8.5  8.5]\n",
      " [ 8.5  8.5  8.5]\n",
      " [ 8.5  8.5  8.5]]\n"
     ]
    }
   ],
   "source": [
    "sigma=np.mean(T,axis=0)-C\n",
    "print(\"sigma.shape\",sigma.shape)\n",
    "print(sigma)"
   ]
  },
  {
   "cell_type": "markdown",
   "metadata": {},
   "source": [
    "All this can be written in a  fairly dense one-liner"
   ]
  },
  {
   "cell_type": "code",
   "execution_count": 34,
   "metadata": {
    "ExecuteTime": {
     "end_time": "2018-01-19T10:37:15.981746Z",
     "start_time": "2018-01-19T10:37:15.963498Z"
    }
   },
   "outputs": [
    {
     "name": "stdout",
     "output_type": "stream",
     "text": [
      "sigma.shape (3, 3)\n",
      "[[ 8.5  8.5  8.5]\n",
      " [ 8.5  8.5  8.5]\n",
      " [ 8.5  8.5  8.5]]\n"
     ]
    }
   ],
   "source": [
    "sigma=np.mean(X[:,:,np.newaxis]*X[:,np.newaxis,:],axis=0)-mu[:,np.newaxis]*mu[np.newaxis,:]\n",
    "print(\"sigma.shape\",sigma.shape)\n",
    "print(sigma)"
   ]
  },
  {
   "cell_type": "markdown",
   "metadata": {},
   "source": [
    "#### Using matrix algebra"
   ]
  },
  {
   "cell_type": "markdown",
   "metadata": {},
   "source": [
    "The expression above can be written in matrix form as\n",
    "$$\n",
    "    C = \\frac{1}{N} X^T X - \\mu \\mu^T\n",
    "$$\n"
   ]
  },
  {
   "cell_type": "code",
   "execution_count": 54,
   "metadata": {
    "ExecuteTime": {
     "end_time": "2018-01-19T11:48:49.581866Z",
     "start_time": "2018-01-19T11:48:49.571442Z"
    }
   },
   "outputs": [
    {
     "data": {
      "text/plain": [
       "array([[ 8.5,  8.5,  8.5],\n",
       "       [ 8.5,  8.5,  8.5],\n",
       "       [ 8.5,  8.5,  8.5]])"
      ]
     },
     "execution_count": 54,
     "metadata": {},
     "output_type": "execute_result"
    }
   ],
   "source": [
    "np.dot(X.T,X)/N-np.outer(mu,mu)"
   ]
  },
  {
   "cell_type": "markdown",
   "metadata": {
    "ExecuteTime": {
     "end_time": "2018-01-19T11:51:14.777340Z",
     "start_time": "2018-01-19T11:51:14.739439Z"
    }
   },
   "source": [
    "1. `numpy.dot` is matrix product, super useful.\n",
    "2. `numpy.outer` is the **outer product**, create the object with two indexes.\n",
    "\n",
    "Matrix notation can get confusing when there are many dimensions, because the indexes are implicit.\n",
    "\n",
    "I, personally, find it easier to keep track of the indexes."
   ]
  },
  {
   "cell_type": "markdown",
   "metadata": {
    "ExecuteTime": {
     "end_time": "2018-01-19T11:52:51.290834Z",
     "start_time": "2018-01-19T11:52:51.271242Z"
    }
   },
   "source": [
    "#### Specialized `numpy` function"
   ]
  },
  {
   "cell_type": "markdown",
   "metadata": {},
   "source": [
    "We can check against the **ready-made** numpy function"
   ]
  },
  {
   "cell_type": "code",
   "execution_count": 35,
   "metadata": {
    "ExecuteTime": {
     "end_time": "2018-01-19T10:37:16.005973Z",
     "start_time": "2018-01-19T10:37:15.984681Z"
    }
   },
   "outputs": [
    {
     "data": {
      "text/plain": [
       "array([[ 8.5,  8.5,  8.5],\n",
       "       [ 8.5,  8.5,  8.5],\n",
       "       [ 8.5,  8.5,  8.5]])"
      ]
     },
     "execution_count": 35,
     "metadata": {},
     "output_type": "execute_result"
    }
   ],
   "source": [
    "np.cov(X,rowvar=False,bias=True)"
   ]
  },
  {
   "cell_type": "markdown",
   "metadata": {},
   "source": [
    "There are all this flags and arguments you have to remember.\n"
   ]
  },
  {
   "cell_type": "markdown",
   "metadata": {
    "ExecuteTime": {
     "end_time": "2017-11-22T12:47:30.775956Z",
     "start_time": "2017-11-22T12:47:30.767376Z"
    }
   },
   "source": [
    "## Pandas"
   ]
  },
  {
   "cell_type": "markdown",
   "metadata": {},
   "source": [
    "`pandas` is data analysis library based on top of `numpy`\n",
    "\n",
    "It is a convenience library that allows us to work with **named columns** instead of column indexes.\n",
    "\n",
    "The central object in `pandas` is the  **`DataFrame`**.\n",
    "\n",
    "\n",
    "It is specially useful when working with a small enough number of features (say 10 or 100) that it makes\n",
    "sense to have names for all of them.\n",
    "\n",
    "The documentation can be found [here](https://pandas.pydata.org/)"
   ]
  },
  {
   "cell_type": "code",
   "execution_count": 36,
   "metadata": {
    "ExecuteTime": {
     "end_time": "2018-01-19T10:37:16.035198Z",
     "start_time": "2018-01-19T10:37:16.009037Z"
    }
   },
   "outputs": [
    {
     "data": {
      "text/html": [
       "<div>\n",
       "<style>\n",
       "    .dataframe thead tr:only-child th {\n",
       "        text-align: right;\n",
       "    }\n",
       "\n",
       "    .dataframe thead th {\n",
       "        text-align: left;\n",
       "    }\n",
       "\n",
       "    .dataframe tbody tr th {\n",
       "        vertical-align: top;\n",
       "    }\n",
       "</style>\n",
       "<table border=\"1\" class=\"dataframe\">\n",
       "  <thead>\n",
       "    <tr style=\"text-align: right;\">\n",
       "      <th></th>\n",
       "      <th>Col1</th>\n",
       "      <th>Col2</th>\n",
       "      <th>Col3</th>\n",
       "    </tr>\n",
       "  </thead>\n",
       "  <tbody>\n",
       "    <tr>\n",
       "      <th>0</th>\n",
       "      <td>1.0</td>\n",
       "      <td>2.0</td>\n",
       "      <td>3.0</td>\n",
       "    </tr>\n",
       "    <tr>\n",
       "      <th>1</th>\n",
       "      <td>4.0</td>\n",
       "      <td>5.0</td>\n",
       "      <td>6.0</td>\n",
       "    </tr>\n",
       "    <tr>\n",
       "      <th>2</th>\n",
       "      <td>6.0</td>\n",
       "      <td>7.0</td>\n",
       "      <td>8.0</td>\n",
       "    </tr>\n",
       "    <tr>\n",
       "      <th>3</th>\n",
       "      <td>9.0</td>\n",
       "      <td>10.0</td>\n",
       "      <td>11.0</td>\n",
       "    </tr>\n",
       "  </tbody>\n",
       "</table>\n",
       "</div>"
      ],
      "text/plain": [
       "   Col1  Col2  Col3\n",
       "0   1.0   2.0   3.0\n",
       "1   4.0   5.0   6.0\n",
       "2   6.0   7.0   8.0\n",
       "3   9.0  10.0  11.0"
      ]
     },
     "execution_count": 36,
     "metadata": {},
     "output_type": "execute_result"
    }
   ],
   "source": [
    "data=pd.DataFrame(X,columns=[\"Col1\",\"Col2\",\"Col3\"])\n",
    "data"
   ]
  },
  {
   "cell_type": "markdown",
   "metadata": {},
   "source": [
    "We can extract one column"
   ]
  },
  {
   "cell_type": "code",
   "execution_count": 37,
   "metadata": {
    "ExecuteTime": {
     "end_time": "2018-01-19T10:37:16.054699Z",
     "start_time": "2018-01-19T10:37:16.037011Z"
    }
   },
   "outputs": [
    {
     "data": {
      "text/plain": [
       "0    1.0\n",
       "1    4.0\n",
       "2    6.0\n",
       "3    9.0\n",
       "Name: Col1, dtype: float64"
      ]
     },
     "execution_count": 37,
     "metadata": {},
     "output_type": "execute_result"
    }
   ],
   "source": [
    "data[\"Col1\"]"
   ]
  },
  {
   "cell_type": "markdown",
   "metadata": {
    "ExecuteTime": {
     "end_time": "2018-01-09T14:44:14.734141Z",
     "start_time": "2018-01-09T14:44:14.719141Z"
    },
    "collapsed": true
   },
   "source": [
    "Or a few columns"
   ]
  },
  {
   "cell_type": "code",
   "execution_count": 38,
   "metadata": {
    "ExecuteTime": {
     "end_time": "2018-01-19T10:37:16.093563Z",
     "start_time": "2018-01-19T10:37:16.056556Z"
    }
   },
   "outputs": [
    {
     "data": {
      "text/html": [
       "<div>\n",
       "<style>\n",
       "    .dataframe thead tr:only-child th {\n",
       "        text-align: right;\n",
       "    }\n",
       "\n",
       "    .dataframe thead th {\n",
       "        text-align: left;\n",
       "    }\n",
       "\n",
       "    .dataframe tbody tr th {\n",
       "        vertical-align: top;\n",
       "    }\n",
       "</style>\n",
       "<table border=\"1\" class=\"dataframe\">\n",
       "  <thead>\n",
       "    <tr style=\"text-align: right;\">\n",
       "      <th></th>\n",
       "      <th>Col1</th>\n",
       "      <th>Col3</th>\n",
       "    </tr>\n",
       "  </thead>\n",
       "  <tbody>\n",
       "    <tr>\n",
       "      <th>0</th>\n",
       "      <td>1.0</td>\n",
       "      <td>3.0</td>\n",
       "    </tr>\n",
       "    <tr>\n",
       "      <th>1</th>\n",
       "      <td>4.0</td>\n",
       "      <td>6.0</td>\n",
       "    </tr>\n",
       "    <tr>\n",
       "      <th>2</th>\n",
       "      <td>6.0</td>\n",
       "      <td>8.0</td>\n",
       "    </tr>\n",
       "    <tr>\n",
       "      <th>3</th>\n",
       "      <td>9.0</td>\n",
       "      <td>11.0</td>\n",
       "    </tr>\n",
       "  </tbody>\n",
       "</table>\n",
       "</div>"
      ],
      "text/plain": [
       "   Col1  Col3\n",
       "0   1.0   3.0\n",
       "1   4.0   6.0\n",
       "2   6.0   8.0\n",
       "3   9.0  11.0"
      ]
     },
     "execution_count": 38,
     "metadata": {},
     "output_type": "execute_result"
    }
   ],
   "source": [
    "submatrix=data[[\"Col1\",\"Col3\"]]\n",
    "submatrix"
   ]
  },
  {
   "cell_type": "markdown",
   "metadata": {},
   "source": [
    "We can get to the underlying numpy object"
   ]
  },
  {
   "cell_type": "code",
   "execution_count": 39,
   "metadata": {
    "ExecuteTime": {
     "end_time": "2018-01-19T10:37:16.122771Z",
     "start_time": "2018-01-19T10:37:16.098886Z"
    }
   },
   "outputs": [
    {
     "data": {
      "text/plain": [
       "array([[  1.,   3.],\n",
       "       [  4.,   6.],\n",
       "       [  6.,   8.],\n",
       "       [  9.,  11.]])"
      ]
     },
     "execution_count": 39,
     "metadata": {},
     "output_type": "execute_result"
    }
   ],
   "source": [
    "submatrix.as_matrix()"
   ]
  },
  {
   "cell_type": "markdown",
   "metadata": {},
   "source": [
    "You can append new columns as computations on the old ones"
   ]
  },
  {
   "cell_type": "code",
   "execution_count": 40,
   "metadata": {
    "ExecuteTime": {
     "end_time": "2018-01-19T10:37:16.148926Z",
     "start_time": "2018-01-19T10:37:16.125289Z"
    }
   },
   "outputs": [
    {
     "data": {
      "text/html": [
       "<div>\n",
       "<style>\n",
       "    .dataframe thead tr:only-child th {\n",
       "        text-align: right;\n",
       "    }\n",
       "\n",
       "    .dataframe thead th {\n",
       "        text-align: left;\n",
       "    }\n",
       "\n",
       "    .dataframe tbody tr th {\n",
       "        vertical-align: top;\n",
       "    }\n",
       "</style>\n",
       "<table border=\"1\" class=\"dataframe\">\n",
       "  <thead>\n",
       "    <tr style=\"text-align: right;\">\n",
       "      <th></th>\n",
       "      <th>Col1</th>\n",
       "      <th>Col2</th>\n",
       "      <th>Col3</th>\n",
       "      <th>Y</th>\n",
       "    </tr>\n",
       "  </thead>\n",
       "  <tbody>\n",
       "    <tr>\n",
       "      <th>0</th>\n",
       "      <td>1.0</td>\n",
       "      <td>2.0</td>\n",
       "      <td>3.0</td>\n",
       "      <td>-1.0</td>\n",
       "    </tr>\n",
       "    <tr>\n",
       "      <th>1</th>\n",
       "      <td>4.0</td>\n",
       "      <td>5.0</td>\n",
       "      <td>6.0</td>\n",
       "      <td>14.0</td>\n",
       "    </tr>\n",
       "    <tr>\n",
       "      <th>2</th>\n",
       "      <td>6.0</td>\n",
       "      <td>7.0</td>\n",
       "      <td>8.0</td>\n",
       "      <td>34.0</td>\n",
       "    </tr>\n",
       "    <tr>\n",
       "      <th>3</th>\n",
       "      <td>9.0</td>\n",
       "      <td>10.0</td>\n",
       "      <td>11.0</td>\n",
       "      <td>79.0</td>\n",
       "    </tr>\n",
       "  </tbody>\n",
       "</table>\n",
       "</div>"
      ],
      "text/plain": [
       "   Col1  Col2  Col3     Y\n",
       "0   1.0   2.0   3.0  -1.0\n",
       "1   4.0   5.0   6.0  14.0\n",
       "2   6.0   7.0   8.0  34.0\n",
       "3   9.0  10.0  11.0  79.0"
      ]
     },
     "execution_count": 40,
     "metadata": {},
     "output_type": "execute_result"
    }
   ],
   "source": [
    "data[\"Y\"]=data[\"Col1\"]*data[\"Col2\"]-data[\"Col3\"]\n",
    "data.head()"
   ]
  },
  {
   "cell_type": "markdown",
   "metadata": {},
   "source": [
    "Pandas also have convenient functions to save and read csv files"
   ]
  },
  {
   "cell_type": "code",
   "execution_count": 41,
   "metadata": {
    "ExecuteTime": {
     "end_time": "2018-01-19T10:37:16.173083Z",
     "start_time": "2018-01-19T10:37:16.151408Z"
    },
    "collapsed": true
   },
   "outputs": [],
   "source": [
    "filename=\"X.csv\"\n",
    "data.to_csv(data_dir+\"/\"+filename,index=False) # do not save the index column"
   ]
  },
  {
   "cell_type": "markdown",
   "metadata": {},
   "source": [
    "We can also easly read the data back"
   ]
  },
  {
   "cell_type": "code",
   "execution_count": 42,
   "metadata": {
    "ExecuteTime": {
     "end_time": "2018-01-19T10:37:16.194603Z",
     "start_time": "2018-01-19T10:37:16.174832Z"
    }
   },
   "outputs": [
    {
     "data": {
      "text/html": [
       "<div>\n",
       "<style>\n",
       "    .dataframe thead tr:only-child th {\n",
       "        text-align: right;\n",
       "    }\n",
       "\n",
       "    .dataframe thead th {\n",
       "        text-align: left;\n",
       "    }\n",
       "\n",
       "    .dataframe tbody tr th {\n",
       "        vertical-align: top;\n",
       "    }\n",
       "</style>\n",
       "<table border=\"1\" class=\"dataframe\">\n",
       "  <thead>\n",
       "    <tr style=\"text-align: right;\">\n",
       "      <th></th>\n",
       "      <th>Col1</th>\n",
       "      <th>Col2</th>\n",
       "      <th>Col3</th>\n",
       "      <th>Y</th>\n",
       "    </tr>\n",
       "  </thead>\n",
       "  <tbody>\n",
       "    <tr>\n",
       "      <th>0</th>\n",
       "      <td>1.0</td>\n",
       "      <td>2.0</td>\n",
       "      <td>3.0</td>\n",
       "      <td>-1.0</td>\n",
       "    </tr>\n",
       "    <tr>\n",
       "      <th>1</th>\n",
       "      <td>4.0</td>\n",
       "      <td>5.0</td>\n",
       "      <td>6.0</td>\n",
       "      <td>14.0</td>\n",
       "    </tr>\n",
       "    <tr>\n",
       "      <th>2</th>\n",
       "      <td>6.0</td>\n",
       "      <td>7.0</td>\n",
       "      <td>8.0</td>\n",
       "      <td>34.0</td>\n",
       "    </tr>\n",
       "    <tr>\n",
       "      <th>3</th>\n",
       "      <td>9.0</td>\n",
       "      <td>10.0</td>\n",
       "      <td>11.0</td>\n",
       "      <td>79.0</td>\n",
       "    </tr>\n",
       "  </tbody>\n",
       "</table>\n",
       "</div>"
      ],
      "text/plain": [
       "   Col1  Col2  Col3     Y\n",
       "0   1.0   2.0   3.0  -1.0\n",
       "1   4.0   5.0   6.0  14.0\n",
       "2   6.0   7.0   8.0  34.0\n",
       "3   9.0  10.0  11.0  79.0"
      ]
     },
     "execution_count": 42,
     "metadata": {},
     "output_type": "execute_result"
    }
   ],
   "source": [
    "data2=pd.read_csv(data_dir+\"/\"+filename)\n",
    "data2"
   ]
  },
  {
   "cell_type": "markdown",
   "metadata": {
    "ExecuteTime": {
     "end_time": "2017-11-22T12:48:37.785064Z",
     "start_time": "2017-11-22T12:48:37.777493Z"
    }
   },
   "source": [
    "## Matplotlib"
   ]
  },
  {
   "cell_type": "markdown",
   "metadata": {
    "collapsed": true
   },
   "source": [
    "Matplotlib is a Python **2D plotting library** which produces publication quality figures in a variety of hardcopy formats and interactive environments across platforms.\n",
    "\n",
    "The documentation is (here)[https://matplotlib.org], but, as usual [StackOverflow](https://stackoverflow.com/) is a great place to look for answers.\n",
    "\n",
    "As all plotting libraries, the API is very large. But let's just do a simple demo"
   ]
  },
  {
   "cell_type": "code",
   "execution_count": 43,
   "metadata": {
    "ExecuteTime": {
     "end_time": "2018-01-19T10:37:16.214261Z",
     "start_time": "2018-01-19T10:37:16.196608Z"
    },
    "collapsed": true
   },
   "outputs": [],
   "source": [
    "x=np.linspace(-1,1,100) # this generates 100 equaly spaces numbers from -1 to 1 inclusive"
   ]
  },
  {
   "cell_type": "code",
   "execution_count": 44,
   "metadata": {
    "ExecuteTime": {
     "end_time": "2018-01-19T10:37:16.238309Z",
     "start_time": "2018-01-19T10:37:16.217063Z"
    },
    "collapsed": true
   },
   "outputs": [],
   "source": [
    "y0=np.sin(np.pi*x)\n",
    "y1=y0+0.25*np.sin(3*np.pi*x)"
   ]
  },
  {
   "cell_type": "code",
   "execution_count": 45,
   "metadata": {
    "ExecuteTime": {
     "end_time": "2018-01-19T10:37:16.460040Z",
     "start_time": "2018-01-19T10:37:16.242265Z"
    }
   },
   "outputs": [
    {
     "data": {
      "text/plain": [
       "[<matplotlib.lines.Line2D at 0x292383f0828>]"
      ]
     },
     "execution_count": 45,
     "metadata": {},
     "output_type": "execute_result"
    },
    {
     "data": {
      "image/png": "[encoded data removed]",
      "text/plain": [
       "<matplotlib.figure.Figure at 0x292383f0358>"
      ]
     },
     "metadata": {},
     "output_type": "display_data"
    }
   ],
   "source": [
    "plt.plot(x,y0)\n",
    "plt.plot(x,y1)"
   ]
  },
  {
   "cell_type": "markdown",
   "metadata": {},
   "source": [
    "You can add titles, axis labels, legends, etc"
   ]
  },
  {
   "cell_type": "code",
   "execution_count": 46,
   "metadata": {
    "ExecuteTime": {
     "end_time": "2018-01-19T10:37:17.099458Z",
     "start_time": "2018-01-19T10:37:16.462272Z"
    }
   },
   "outputs": [
    {
     "data": {
      "image/png": "[encoded data removed]",
      "text/plain": [
       "<matplotlib.figure.Figure at 0x2923898fcc0>"
      ]
     },
     "metadata": {},
     "output_type": "display_data"
    }
   ],
   "source": [
    "plt.plot(x,y0,label=\"Y0\")\n",
    "plt.plot(x,y1,label=\"Y1\")\n",
    "plt.title(\"Demo Plot\")\n",
    "plt.xlabel(\"X\")\n",
    "plt.ylabel(\"Y\")\n",
    "plt.legend()\n",
    "plt.savefig(data_dir+\"/demo.jpg\") # you can save a copy of the graph"
   ]
  }
 ],
 "metadata": {
  "kernelspec": {
   "display_name": "Python 2",
   "language": "python",
   "name": "python2"
  },
  "language_info": {
   "codemirror_mode": {
    "name": "ipython",
    "version": 2
   },
   "file_extension": ".py",
   "mimetype": "text/x-python",
   "name": "python",
   "nbconvert_exporter": "python",
   "pygments_lexer": "ipython2",
   "version": "2.7.13"
  },
  "toc": {
   "nav_menu": {},
   "number_sections": true,
   "sideBar": true,
   "skip_h1_title": true,
   "toc_cell": false,
   "toc_position": {
    "height": "666px",
    "left": "0px",
    "right": "1099px",
    "top": "106px",
    "width": "245px"
   },
   "toc_section_display": "block",
   "toc_window_display": true
  }
 },
 "nbformat": 4,
 "nbformat_minor": 2
}
