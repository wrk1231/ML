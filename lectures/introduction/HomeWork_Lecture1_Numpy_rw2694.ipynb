{
 "cells": [
  {
   "cell_type": "markdown",
   "metadata": {
    "ExecuteTime": {
     "end_time": "2018-01-09T15:16:27.144141Z",
     "start_time": "2018-01-09T15:16:27.139141Z"
    }
   },
   "source": [
    "# Homework Lecture 1"
   ]
  },
  {
   "cell_type": "markdown",
   "metadata": {
    "ExecuteTime": {
     "end_time": "2018-01-09T15:16:42.223141Z",
     "start_time": "2018-01-09T15:16:42.218141Z"
    }
   },
   "source": [
    "## Preliminaries"
   ]
  },
  {
   "cell_type": "markdown",
   "metadata": {
    "ExecuteTime": {
     "end_time": "2018-01-09T15:16:58.417141Z",
     "start_time": "2018-01-09T15:16:58.414141Z"
    }
   },
   "source": [
    "### Imports"
   ]
  },
  {
   "cell_type": "code",
   "execution_count": 227,
   "metadata": {
    "ExecuteTime": {
     "end_time": "2018-01-17T16:09:33.797176Z",
     "start_time": "2018-01-17T16:09:12.299456Z"
    }
   },
   "outputs": [],
   "source": [
    "import os\n",
    "\n",
    "import numpy as np\n",
    "import pandas as pd\n",
    "import matplotlib.pyplot as plt\n",
    "\n",
    "%matplotlib inline\n",
    "\n",
    "import sys \n",
    "sys.path.append(\"../..\")\n",
    "import E4525_ML.mnist as mnist"
   ]
  },
  {
   "cell_type": "markdown",
   "metadata": {
    "ExecuteTime": {
     "end_time": "2018-01-09T15:18:16.996141Z",
     "start_time": "2018-01-09T15:18:16.993141Z"
    }
   },
   "source": [
    "### Data Directories "
   ]
  },
  {
   "cell_type": "markdown",
   "metadata": {},
   "source": [
    "Create a directory with the path below"
   ]
  },
  {
   "cell_type": "code",
   "execution_count": 228,
   "metadata": {
    "ExecuteTime": {
     "end_time": "2018-01-17T16:09:33.816326Z",
     "start_time": "2018-01-17T16:09:33.801275Z"
    }
   },
   "outputs": [],
   "source": [
    "raw_data_dir=\"../../raw/MNIST\"\n",
    "data_dir=\"../../data/introduction\"\n"
   ]
  },
  {
   "cell_type": "markdown",
   "metadata": {},
   "source": [
    "<div class=\"alert alert-block alert-info\"> Problem 0 </div>\n",
    "Download the file `data.csv` and save it fo the directory `data_dir`"
   ]
  },
  {
   "cell_type": "markdown",
   "metadata": {
    "ExecuteTime": {
     "end_time": "2018-01-09T15:21:30.644141Z",
     "start_time": "2018-01-09T15:21:30.639141Z"
    }
   },
   "source": [
    "## Numpy Exercises"
   ]
  },
  {
   "cell_type": "markdown",
   "metadata": {
    "ExecuteTime": {
     "end_time": "2018-01-09T16:23:41.930141Z",
     "start_time": "2018-01-09T16:23:41.927141Z"
    }
   },
   "source": [
    "### Read and Inspect the Data "
   ]
  },
  {
   "cell_type": "markdown",
   "metadata": {},
   "source": [
    "<div class=\"alert alert-block alert-info\"> Problem 1.1 </div>\n",
    "Read the contents of `data.csv` into a panda's dataframe"
   ]
  },
  {
   "cell_type": "code",
   "execution_count": 229,
   "metadata": {
    "ExecuteTime": {
     "end_time": "2018-01-15T02:43:44.196239Z",
     "start_time": "2018-01-15T02:43:44.108006Z"
    }
   },
   "outputs": [
    {
     "data": {
      "text/html": [
       "<div>\n",
       "<table border=\"1\" class=\"dataframe\">\n",
       "  <thead>\n",
       "    <tr style=\"text-align: right;\">\n",
       "      <th></th>\n",
       "      <th>X</th>\n",
       "      <th>Y</th>\n",
       "    </tr>\n",
       "  </thead>\n",
       "  <tbody>\n",
       "    <tr>\n",
       "      <th>0</th>\n",
       "      <td>A</td>\n",
       "      <td>a</td>\n",
       "    </tr>\n",
       "    <tr>\n",
       "      <th>1</th>\n",
       "      <td>A</td>\n",
       "      <td>c</td>\n",
       "    </tr>\n",
       "    <tr>\n",
       "      <th>2</th>\n",
       "      <td>B</td>\n",
       "      <td>a</td>\n",
       "    </tr>\n",
       "    <tr>\n",
       "      <th>3</th>\n",
       "      <td>B</td>\n",
       "      <td>a</td>\n",
       "    </tr>\n",
       "    <tr>\n",
       "      <th>4</th>\n",
       "      <td>A</td>\n",
       "      <td>a</td>\n",
       "    </tr>\n",
       "    <tr>\n",
       "      <th>5</th>\n",
       "      <td>B</td>\n",
       "      <td>a</td>\n",
       "    </tr>\n",
       "    <tr>\n",
       "      <th>6</th>\n",
       "      <td>B</td>\n",
       "      <td>a</td>\n",
       "    </tr>\n",
       "    <tr>\n",
       "      <th>7</th>\n",
       "      <td>B</td>\n",
       "      <td>d</td>\n",
       "    </tr>\n",
       "    <tr>\n",
       "      <th>8</th>\n",
       "      <td>C</td>\n",
       "      <td>a</td>\n",
       "    </tr>\n",
       "    <tr>\n",
       "      <th>9</th>\n",
       "      <td>A</td>\n",
       "      <td>a</td>\n",
       "    </tr>\n",
       "    <tr>\n",
       "      <th>10</th>\n",
       "      <td>B</td>\n",
       "      <td>d</td>\n",
       "    </tr>\n",
       "    <tr>\n",
       "      <th>11</th>\n",
       "      <td>A</td>\n",
       "      <td>c</td>\n",
       "    </tr>\n",
       "    <tr>\n",
       "      <th>12</th>\n",
       "      <td>A</td>\n",
       "      <td>d</td>\n",
       "    </tr>\n",
       "    <tr>\n",
       "      <th>13</th>\n",
       "      <td>A</td>\n",
       "      <td>c</td>\n",
       "    </tr>\n",
       "    <tr>\n",
       "      <th>14</th>\n",
       "      <td>A</td>\n",
       "      <td>c</td>\n",
       "    </tr>\n",
       "    <tr>\n",
       "      <th>15</th>\n",
       "      <td>B</td>\n",
       "      <td>a</td>\n",
       "    </tr>\n",
       "    <tr>\n",
       "      <th>16</th>\n",
       "      <td>B</td>\n",
       "      <td>a</td>\n",
       "    </tr>\n",
       "    <tr>\n",
       "      <th>17</th>\n",
       "      <td>A</td>\n",
       "      <td>d</td>\n",
       "    </tr>\n",
       "    <tr>\n",
       "      <th>18</th>\n",
       "      <td>B</td>\n",
       "      <td>a</td>\n",
       "    </tr>\n",
       "    <tr>\n",
       "      <th>19</th>\n",
       "      <td>A</td>\n",
       "      <td>c</td>\n",
       "    </tr>\n",
       "    <tr>\n",
       "      <th>20</th>\n",
       "      <td>A</td>\n",
       "      <td>c</td>\n",
       "    </tr>\n",
       "    <tr>\n",
       "      <th>21</th>\n",
       "      <td>C</td>\n",
       "      <td>d</td>\n",
       "    </tr>\n",
       "    <tr>\n",
       "      <th>22</th>\n",
       "      <td>B</td>\n",
       "      <td>b</td>\n",
       "    </tr>\n",
       "    <tr>\n",
       "      <th>23</th>\n",
       "      <td>B</td>\n",
       "      <td>b</td>\n",
       "    </tr>\n",
       "    <tr>\n",
       "      <th>24</th>\n",
       "      <td>A</td>\n",
       "      <td>c</td>\n",
       "    </tr>\n",
       "    <tr>\n",
       "      <th>25</th>\n",
       "      <td>A</td>\n",
       "      <td>c</td>\n",
       "    </tr>\n",
       "    <tr>\n",
       "      <th>26</th>\n",
       "      <td>A</td>\n",
       "      <td>c</td>\n",
       "    </tr>\n",
       "    <tr>\n",
       "      <th>27</th>\n",
       "      <td>A</td>\n",
       "      <td>c</td>\n",
       "    </tr>\n",
       "    <tr>\n",
       "      <th>28</th>\n",
       "      <td>C</td>\n",
       "      <td>c</td>\n",
       "    </tr>\n",
       "    <tr>\n",
       "      <th>29</th>\n",
       "      <td>A</td>\n",
       "      <td>c</td>\n",
       "    </tr>\n",
       "    <tr>\n",
       "      <th>...</th>\n",
       "      <td>...</td>\n",
       "      <td>...</td>\n",
       "    </tr>\n",
       "    <tr>\n",
       "      <th>970</th>\n",
       "      <td>A</td>\n",
       "      <td>c</td>\n",
       "    </tr>\n",
       "    <tr>\n",
       "      <th>971</th>\n",
       "      <td>C</td>\n",
       "      <td>e</td>\n",
       "    </tr>\n",
       "    <tr>\n",
       "      <th>972</th>\n",
       "      <td>C</td>\n",
       "      <td>b</td>\n",
       "    </tr>\n",
       "    <tr>\n",
       "      <th>973</th>\n",
       "      <td>B</td>\n",
       "      <td>b</td>\n",
       "    </tr>\n",
       "    <tr>\n",
       "      <th>974</th>\n",
       "      <td>B</td>\n",
       "      <td>a</td>\n",
       "    </tr>\n",
       "    <tr>\n",
       "      <th>975</th>\n",
       "      <td>A</td>\n",
       "      <td>c</td>\n",
       "    </tr>\n",
       "    <tr>\n",
       "      <th>976</th>\n",
       "      <td>C</td>\n",
       "      <td>c</td>\n",
       "    </tr>\n",
       "    <tr>\n",
       "      <th>977</th>\n",
       "      <td>C</td>\n",
       "      <td>c</td>\n",
       "    </tr>\n",
       "    <tr>\n",
       "      <th>978</th>\n",
       "      <td>C</td>\n",
       "      <td>d</td>\n",
       "    </tr>\n",
       "    <tr>\n",
       "      <th>979</th>\n",
       "      <td>B</td>\n",
       "      <td>a</td>\n",
       "    </tr>\n",
       "    <tr>\n",
       "      <th>980</th>\n",
       "      <td>B</td>\n",
       "      <td>b</td>\n",
       "    </tr>\n",
       "    <tr>\n",
       "      <th>981</th>\n",
       "      <td>B</td>\n",
       "      <td>d</td>\n",
       "    </tr>\n",
       "    <tr>\n",
       "      <th>982</th>\n",
       "      <td>C</td>\n",
       "      <td>d</td>\n",
       "    </tr>\n",
       "    <tr>\n",
       "      <th>983</th>\n",
       "      <td>C</td>\n",
       "      <td>e</td>\n",
       "    </tr>\n",
       "    <tr>\n",
       "      <th>984</th>\n",
       "      <td>C</td>\n",
       "      <td>e</td>\n",
       "    </tr>\n",
       "    <tr>\n",
       "      <th>985</th>\n",
       "      <td>B</td>\n",
       "      <td>a</td>\n",
       "    </tr>\n",
       "    <tr>\n",
       "      <th>986</th>\n",
       "      <td>C</td>\n",
       "      <td>b</td>\n",
       "    </tr>\n",
       "    <tr>\n",
       "      <th>987</th>\n",
       "      <td>C</td>\n",
       "      <td>a</td>\n",
       "    </tr>\n",
       "    <tr>\n",
       "      <th>988</th>\n",
       "      <td>C</td>\n",
       "      <td>b</td>\n",
       "    </tr>\n",
       "    <tr>\n",
       "      <th>989</th>\n",
       "      <td>A</td>\n",
       "      <td>d</td>\n",
       "    </tr>\n",
       "    <tr>\n",
       "      <th>990</th>\n",
       "      <td>B</td>\n",
       "      <td>a</td>\n",
       "    </tr>\n",
       "    <tr>\n",
       "      <th>991</th>\n",
       "      <td>A</td>\n",
       "      <td>c</td>\n",
       "    </tr>\n",
       "    <tr>\n",
       "      <th>992</th>\n",
       "      <td>A</td>\n",
       "      <td>c</td>\n",
       "    </tr>\n",
       "    <tr>\n",
       "      <th>993</th>\n",
       "      <td>A</td>\n",
       "      <td>a</td>\n",
       "    </tr>\n",
       "    <tr>\n",
       "      <th>994</th>\n",
       "      <td>A</td>\n",
       "      <td>c</td>\n",
       "    </tr>\n",
       "    <tr>\n",
       "      <th>995</th>\n",
       "      <td>A</td>\n",
       "      <td>c</td>\n",
       "    </tr>\n",
       "    <tr>\n",
       "      <th>996</th>\n",
       "      <td>B</td>\n",
       "      <td>a</td>\n",
       "    </tr>\n",
       "    <tr>\n",
       "      <th>997</th>\n",
       "      <td>B</td>\n",
       "      <td>b</td>\n",
       "    </tr>\n",
       "    <tr>\n",
       "      <th>998</th>\n",
       "      <td>C</td>\n",
       "      <td>c</td>\n",
       "    </tr>\n",
       "    <tr>\n",
       "      <th>999</th>\n",
       "      <td>A</td>\n",
       "      <td>c</td>\n",
       "    </tr>\n",
       "  </tbody>\n",
       "</table>\n",
       "<p>1000 rows × 2 columns</p>\n",
       "</div>"
      ],
      "text/plain": [
       "     X  Y\n",
       "0    A  a\n",
       "1    A  c\n",
       "2    B  a\n",
       "3    B  a\n",
       "4    A  a\n",
       "5    B  a\n",
       "6    B  a\n",
       "7    B  d\n",
       "8    C  a\n",
       "9    A  a\n",
       "10   B  d\n",
       "11   A  c\n",
       "12   A  d\n",
       "13   A  c\n",
       "14   A  c\n",
       "15   B  a\n",
       "16   B  a\n",
       "17   A  d\n",
       "18   B  a\n",
       "19   A  c\n",
       "20   A  c\n",
       "21   C  d\n",
       "22   B  b\n",
       "23   B  b\n",
       "24   A  c\n",
       "25   A  c\n",
       "26   A  c\n",
       "27   A  c\n",
       "28   C  c\n",
       "29   A  c\n",
       "..  .. ..\n",
       "970  A  c\n",
       "971  C  e\n",
       "972  C  b\n",
       "973  B  b\n",
       "974  B  a\n",
       "975  A  c\n",
       "976  C  c\n",
       "977  C  c\n",
       "978  C  d\n",
       "979  B  a\n",
       "980  B  b\n",
       "981  B  d\n",
       "982  C  d\n",
       "983  C  e\n",
       "984  C  e\n",
       "985  B  a\n",
       "986  C  b\n",
       "987  C  a\n",
       "988  C  b\n",
       "989  A  d\n",
       "990  B  a\n",
       "991  A  c\n",
       "992  A  c\n",
       "993  A  a\n",
       "994  A  c\n",
       "995  A  c\n",
       "996  B  a\n",
       "997  B  b\n",
       "998  C  c\n",
       "999  A  c\n",
       "\n",
       "[1000 rows x 2 columns]"
      ]
     },
     "execution_count": 229,
     "metadata": {},
     "output_type": "execute_result"
    }
   ],
   "source": [
    "filename=\"data.csv\"\n",
    "data1_1=pd.read_csv(data_dir+\"/\"+filename)\n",
    "data1_1"
   ]
  },
  {
   "cell_type": "markdown",
   "metadata": {},
   "source": [
    "<div class=\"alert alert-block alert-info\"> Problem 1.2 </div>\n",
    "What are the name of the columns?"
   ]
  },
  {
   "cell_type": "code",
   "execution_count": 230,
   "metadata": {
    "ExecuteTime": {
     "end_time": "2018-01-15T02:43:44.223312Z",
     "start_time": "2018-01-15T02:43:44.198245Z"
    }
   },
   "outputs": [
    {
     "name": "stdout",
     "output_type": "stream",
     "text": [
      "name of the columns: Index(['X', 'Y'], dtype='object')\n"
     ]
    }
   ],
   "source": [
    "print('name of the columns:',data1_1.columns)"
   ]
  },
  {
   "cell_type": "markdown",
   "metadata": {
    "ExecuteTime": {
     "end_time": "2018-01-09T16:25:39.747141Z",
     "start_time": "2018-01-09T16:25:39.722141Z"
    }
   },
   "source": [
    "<div class=\"alert alert-block alert-info\"> Problem 1.3 </div>\n",
    "How many rows are there?"
   ]
  },
  {
   "cell_type": "code",
   "execution_count": 231,
   "metadata": {
    "ExecuteTime": {
     "end_time": "2018-01-15T02:43:44.242362Z",
     "start_time": "2018-01-15T02:43:44.225318Z"
    }
   },
   "outputs": [
    {
     "name": "stdout",
     "output_type": "stream",
     "text": [
      "rows: 1000\n"
     ]
    }
   ],
   "source": [
    "print('rows:',len(data1_1))"
   ]
  },
  {
   "cell_type": "markdown",
   "metadata": {},
   "source": [
    "<div class=\"alert alert-block alert-info\"> Problem 1.4 </div>\n",
    "List the unique values of column \"X\", and of column \"Y\""
   ]
  },
  {
   "cell_type": "code",
   "execution_count": 232,
   "metadata": {
    "ExecuteTime": {
     "end_time": "2018-01-15T02:43:44.265424Z",
     "start_time": "2018-01-15T02:43:44.244369Z"
    }
   },
   "outputs": [
    {
     "name": "stdout",
     "output_type": "stream",
     "text": [
      "unique values of column \"X\": ['A' 'B' 'C' 'D']\n",
      "unique values of column \"Y\": ['a' 'c' 'd' 'b' 'e']\n"
     ]
    }
   ],
   "source": [
    "print('unique values of column \"X\":',data1_1['X'].unique())\n",
    "print('unique values of column \"Y\":',data1_1['Y'].unique())"
   ]
  },
  {
   "cell_type": "markdown",
   "metadata": {
    "ExecuteTime": {
     "end_time": "2018-01-09T16:27:20.953141Z",
     "start_time": "2018-01-09T16:27:20.944141Z"
    }
   },
   "source": [
    "<div class=\"alert alert-block alert-info\"> Problem 1.5 </div>\n",
    "Use [pandas.Series.value_counts](https://pandas.pydata.org/pandas-docs/stable/generated/pandas.Series.value_counts.html) function to get the counts of each possible value  of X and Y variables"
   ]
  },
  {
   "cell_type": "code",
   "execution_count": 233,
   "metadata": {
    "ExecuteTime": {
     "end_time": "2018-01-15T02:43:44.465957Z",
     "start_time": "2018-01-15T02:43:44.267430Z"
    }
   },
   "outputs": [
    {
     "data": {
      "text/plain": [
       "A    383\n",
       "B    293\n",
       "C    279\n",
       "D     45\n",
       "Name: X, dtype: int64"
      ]
     },
     "execution_count": 233,
     "metadata": {},
     "output_type": "execute_result"
    }
   ],
   "source": [
    "data1_1['X'].value_counts()"
   ]
  },
  {
   "cell_type": "code",
   "execution_count": 234,
   "metadata": {
    "ExecuteTime": {
     "end_time": "2018-01-15T02:43:44.600543Z",
     "start_time": "2018-01-15T02:43:44.468966Z"
    }
   },
   "outputs": [
    {
     "data": {
      "text/plain": [
       "c    349\n",
       "a    312\n",
       "b    148\n",
       "d    132\n",
       "e     59\n",
       "Name: Y, dtype: int64"
      ]
     },
     "execution_count": 234,
     "metadata": {},
     "output_type": "execute_result"
    }
   ],
   "source": [
    "data1_1['Y'].value_counts()"
   ]
  },
  {
   "cell_type": "markdown",
   "metadata": {
    "ExecuteTime": {
     "end_time": "2018-01-09T16:29:30.641141Z",
     "start_time": "2018-01-09T16:29:30.635141Z"
    }
   },
   "source": [
    "### Basic Usage of Numpy"
   ]
  },
  {
   "cell_type": "markdown",
   "metadata": {},
   "source": [
    "<div class=\"alert alert-block alert-info\"> Problem 2.1 </div>\n",
    "\n",
    "Use panda's function [get_dummies](https://pandas.pydata.org/pandas-docs/stable/generated/pandas.get_dummies.html) to\n",
    "* create a variable named `data_ZX` with one row per row on the original data, and one-hot encoded `X` variable values as columns\n",
    "* create a varialbe named `data_ZY` with one row per row on the original data, and one-hot encoded `Y` variable values as columns"
   ]
  },
  {
   "cell_type": "code",
   "execution_count": 235,
   "metadata": {
    "ExecuteTime": {
     "end_time": "2018-01-15T02:43:44.608564Z",
     "start_time": "2018-01-15T02:43:44.602548Z"
    }
   },
   "outputs": [
    {
     "data": {
      "text/html": [
       "<div>\n",
       "<table border=\"1\" class=\"dataframe\">\n",
       "  <thead>\n",
       "    <tr style=\"text-align: right;\">\n",
       "      <th></th>\n",
       "      <th>A</th>\n",
       "      <th>B</th>\n",
       "      <th>C</th>\n",
       "      <th>D</th>\n",
       "    </tr>\n",
       "  </thead>\n",
       "  <tbody>\n",
       "    <tr>\n",
       "      <th>0</th>\n",
       "      <td>1.0</td>\n",
       "      <td>0.0</td>\n",
       "      <td>0.0</td>\n",
       "      <td>0.0</td>\n",
       "    </tr>\n",
       "    <tr>\n",
       "      <th>1</th>\n",
       "      <td>1.0</td>\n",
       "      <td>0.0</td>\n",
       "      <td>0.0</td>\n",
       "      <td>0.0</td>\n",
       "    </tr>\n",
       "    <tr>\n",
       "      <th>2</th>\n",
       "      <td>0.0</td>\n",
       "      <td>1.0</td>\n",
       "      <td>0.0</td>\n",
       "      <td>0.0</td>\n",
       "    </tr>\n",
       "    <tr>\n",
       "      <th>3</th>\n",
       "      <td>0.0</td>\n",
       "      <td>1.0</td>\n",
       "      <td>0.0</td>\n",
       "      <td>0.0</td>\n",
       "    </tr>\n",
       "    <tr>\n",
       "      <th>4</th>\n",
       "      <td>1.0</td>\n",
       "      <td>0.0</td>\n",
       "      <td>0.0</td>\n",
       "      <td>0.0</td>\n",
       "    </tr>\n",
       "    <tr>\n",
       "      <th>5</th>\n",
       "      <td>0.0</td>\n",
       "      <td>1.0</td>\n",
       "      <td>0.0</td>\n",
       "      <td>0.0</td>\n",
       "    </tr>\n",
       "    <tr>\n",
       "      <th>6</th>\n",
       "      <td>0.0</td>\n",
       "      <td>1.0</td>\n",
       "      <td>0.0</td>\n",
       "      <td>0.0</td>\n",
       "    </tr>\n",
       "    <tr>\n",
       "      <th>7</th>\n",
       "      <td>0.0</td>\n",
       "      <td>1.0</td>\n",
       "      <td>0.0</td>\n",
       "      <td>0.0</td>\n",
       "    </tr>\n",
       "    <tr>\n",
       "      <th>8</th>\n",
       "      <td>0.0</td>\n",
       "      <td>0.0</td>\n",
       "      <td>1.0</td>\n",
       "      <td>0.0</td>\n",
       "    </tr>\n",
       "    <tr>\n",
       "      <th>9</th>\n",
       "      <td>1.0</td>\n",
       "      <td>0.0</td>\n",
       "      <td>0.0</td>\n",
       "      <td>0.0</td>\n",
       "    </tr>\n",
       "    <tr>\n",
       "      <th>10</th>\n",
       "      <td>0.0</td>\n",
       "      <td>1.0</td>\n",
       "      <td>0.0</td>\n",
       "      <td>0.0</td>\n",
       "    </tr>\n",
       "    <tr>\n",
       "      <th>11</th>\n",
       "      <td>1.0</td>\n",
       "      <td>0.0</td>\n",
       "      <td>0.0</td>\n",
       "      <td>0.0</td>\n",
       "    </tr>\n",
       "    <tr>\n",
       "      <th>12</th>\n",
       "      <td>1.0</td>\n",
       "      <td>0.0</td>\n",
       "      <td>0.0</td>\n",
       "      <td>0.0</td>\n",
       "    </tr>\n",
       "    <tr>\n",
       "      <th>13</th>\n",
       "      <td>1.0</td>\n",
       "      <td>0.0</td>\n",
       "      <td>0.0</td>\n",
       "      <td>0.0</td>\n",
       "    </tr>\n",
       "    <tr>\n",
       "      <th>14</th>\n",
       "      <td>1.0</td>\n",
       "      <td>0.0</td>\n",
       "      <td>0.0</td>\n",
       "      <td>0.0</td>\n",
       "    </tr>\n",
       "    <tr>\n",
       "      <th>15</th>\n",
       "      <td>0.0</td>\n",
       "      <td>1.0</td>\n",
       "      <td>0.0</td>\n",
       "      <td>0.0</td>\n",
       "    </tr>\n",
       "    <tr>\n",
       "      <th>16</th>\n",
       "      <td>0.0</td>\n",
       "      <td>1.0</td>\n",
       "      <td>0.0</td>\n",
       "      <td>0.0</td>\n",
       "    </tr>\n",
       "    <tr>\n",
       "      <th>17</th>\n",
       "      <td>1.0</td>\n",
       "      <td>0.0</td>\n",
       "      <td>0.0</td>\n",
       "      <td>0.0</td>\n",
       "    </tr>\n",
       "    <tr>\n",
       "      <th>18</th>\n",
       "      <td>0.0</td>\n",
       "      <td>1.0</td>\n",
       "      <td>0.0</td>\n",
       "      <td>0.0</td>\n",
       "    </tr>\n",
       "    <tr>\n",
       "      <th>19</th>\n",
       "      <td>1.0</td>\n",
       "      <td>0.0</td>\n",
       "      <td>0.0</td>\n",
       "      <td>0.0</td>\n",
       "    </tr>\n",
       "    <tr>\n",
       "      <th>20</th>\n",
       "      <td>1.0</td>\n",
       "      <td>0.0</td>\n",
       "      <td>0.0</td>\n",
       "      <td>0.0</td>\n",
       "    </tr>\n",
       "    <tr>\n",
       "      <th>21</th>\n",
       "      <td>0.0</td>\n",
       "      <td>0.0</td>\n",
       "      <td>1.0</td>\n",
       "      <td>0.0</td>\n",
       "    </tr>\n",
       "    <tr>\n",
       "      <th>22</th>\n",
       "      <td>0.0</td>\n",
       "      <td>1.0</td>\n",
       "      <td>0.0</td>\n",
       "      <td>0.0</td>\n",
       "    </tr>\n",
       "    <tr>\n",
       "      <th>23</th>\n",
       "      <td>0.0</td>\n",
       "      <td>1.0</td>\n",
       "      <td>0.0</td>\n",
       "      <td>0.0</td>\n",
       "    </tr>\n",
       "    <tr>\n",
       "      <th>24</th>\n",
       "      <td>1.0</td>\n",
       "      <td>0.0</td>\n",
       "      <td>0.0</td>\n",
       "      <td>0.0</td>\n",
       "    </tr>\n",
       "    <tr>\n",
       "      <th>25</th>\n",
       "      <td>1.0</td>\n",
       "      <td>0.0</td>\n",
       "      <td>0.0</td>\n",
       "      <td>0.0</td>\n",
       "    </tr>\n",
       "    <tr>\n",
       "      <th>26</th>\n",
       "      <td>1.0</td>\n",
       "      <td>0.0</td>\n",
       "      <td>0.0</td>\n",
       "      <td>0.0</td>\n",
       "    </tr>\n",
       "    <tr>\n",
       "      <th>27</th>\n",
       "      <td>1.0</td>\n",
       "      <td>0.0</td>\n",
       "      <td>0.0</td>\n",
       "      <td>0.0</td>\n",
       "    </tr>\n",
       "    <tr>\n",
       "      <th>28</th>\n",
       "      <td>0.0</td>\n",
       "      <td>0.0</td>\n",
       "      <td>1.0</td>\n",
       "      <td>0.0</td>\n",
       "    </tr>\n",
       "    <tr>\n",
       "      <th>29</th>\n",
       "      <td>1.0</td>\n",
       "      <td>0.0</td>\n",
       "      <td>0.0</td>\n",
       "      <td>0.0</td>\n",
       "    </tr>\n",
       "    <tr>\n",
       "      <th>...</th>\n",
       "      <td>...</td>\n",
       "      <td>...</td>\n",
       "      <td>...</td>\n",
       "      <td>...</td>\n",
       "    </tr>\n",
       "    <tr>\n",
       "      <th>970</th>\n",
       "      <td>1.0</td>\n",
       "      <td>0.0</td>\n",
       "      <td>0.0</td>\n",
       "      <td>0.0</td>\n",
       "    </tr>\n",
       "    <tr>\n",
       "      <th>971</th>\n",
       "      <td>0.0</td>\n",
       "      <td>0.0</td>\n",
       "      <td>1.0</td>\n",
       "      <td>0.0</td>\n",
       "    </tr>\n",
       "    <tr>\n",
       "      <th>972</th>\n",
       "      <td>0.0</td>\n",
       "      <td>0.0</td>\n",
       "      <td>1.0</td>\n",
       "      <td>0.0</td>\n",
       "    </tr>\n",
       "    <tr>\n",
       "      <th>973</th>\n",
       "      <td>0.0</td>\n",
       "      <td>1.0</td>\n",
       "      <td>0.0</td>\n",
       "      <td>0.0</td>\n",
       "    </tr>\n",
       "    <tr>\n",
       "      <th>974</th>\n",
       "      <td>0.0</td>\n",
       "      <td>1.0</td>\n",
       "      <td>0.0</td>\n",
       "      <td>0.0</td>\n",
       "    </tr>\n",
       "    <tr>\n",
       "      <th>975</th>\n",
       "      <td>1.0</td>\n",
       "      <td>0.0</td>\n",
       "      <td>0.0</td>\n",
       "      <td>0.0</td>\n",
       "    </tr>\n",
       "    <tr>\n",
       "      <th>976</th>\n",
       "      <td>0.0</td>\n",
       "      <td>0.0</td>\n",
       "      <td>1.0</td>\n",
       "      <td>0.0</td>\n",
       "    </tr>\n",
       "    <tr>\n",
       "      <th>977</th>\n",
       "      <td>0.0</td>\n",
       "      <td>0.0</td>\n",
       "      <td>1.0</td>\n",
       "      <td>0.0</td>\n",
       "    </tr>\n",
       "    <tr>\n",
       "      <th>978</th>\n",
       "      <td>0.0</td>\n",
       "      <td>0.0</td>\n",
       "      <td>1.0</td>\n",
       "      <td>0.0</td>\n",
       "    </tr>\n",
       "    <tr>\n",
       "      <th>979</th>\n",
       "      <td>0.0</td>\n",
       "      <td>1.0</td>\n",
       "      <td>0.0</td>\n",
       "      <td>0.0</td>\n",
       "    </tr>\n",
       "    <tr>\n",
       "      <th>980</th>\n",
       "      <td>0.0</td>\n",
       "      <td>1.0</td>\n",
       "      <td>0.0</td>\n",
       "      <td>0.0</td>\n",
       "    </tr>\n",
       "    <tr>\n",
       "      <th>981</th>\n",
       "      <td>0.0</td>\n",
       "      <td>1.0</td>\n",
       "      <td>0.0</td>\n",
       "      <td>0.0</td>\n",
       "    </tr>\n",
       "    <tr>\n",
       "      <th>982</th>\n",
       "      <td>0.0</td>\n",
       "      <td>0.0</td>\n",
       "      <td>1.0</td>\n",
       "      <td>0.0</td>\n",
       "    </tr>\n",
       "    <tr>\n",
       "      <th>983</th>\n",
       "      <td>0.0</td>\n",
       "      <td>0.0</td>\n",
       "      <td>1.0</td>\n",
       "      <td>0.0</td>\n",
       "    </tr>\n",
       "    <tr>\n",
       "      <th>984</th>\n",
       "      <td>0.0</td>\n",
       "      <td>0.0</td>\n",
       "      <td>1.0</td>\n",
       "      <td>0.0</td>\n",
       "    </tr>\n",
       "    <tr>\n",
       "      <th>985</th>\n",
       "      <td>0.0</td>\n",
       "      <td>1.0</td>\n",
       "      <td>0.0</td>\n",
       "      <td>0.0</td>\n",
       "    </tr>\n",
       "    <tr>\n",
       "      <th>986</th>\n",
       "      <td>0.0</td>\n",
       "      <td>0.0</td>\n",
       "      <td>1.0</td>\n",
       "      <td>0.0</td>\n",
       "    </tr>\n",
       "    <tr>\n",
       "      <th>987</th>\n",
       "      <td>0.0</td>\n",
       "      <td>0.0</td>\n",
       "      <td>1.0</td>\n",
       "      <td>0.0</td>\n",
       "    </tr>\n",
       "    <tr>\n",
       "      <th>988</th>\n",
       "      <td>0.0</td>\n",
       "      <td>0.0</td>\n",
       "      <td>1.0</td>\n",
       "      <td>0.0</td>\n",
       "    </tr>\n",
       "    <tr>\n",
       "      <th>989</th>\n",
       "      <td>1.0</td>\n",
       "      <td>0.0</td>\n",
       "      <td>0.0</td>\n",
       "      <td>0.0</td>\n",
       "    </tr>\n",
       "    <tr>\n",
       "      <th>990</th>\n",
       "      <td>0.0</td>\n",
       "      <td>1.0</td>\n",
       "      <td>0.0</td>\n",
       "      <td>0.0</td>\n",
       "    </tr>\n",
       "    <tr>\n",
       "      <th>991</th>\n",
       "      <td>1.0</td>\n",
       "      <td>0.0</td>\n",
       "      <td>0.0</td>\n",
       "      <td>0.0</td>\n",
       "    </tr>\n",
       "    <tr>\n",
       "      <th>992</th>\n",
       "      <td>1.0</td>\n",
       "      <td>0.0</td>\n",
       "      <td>0.0</td>\n",
       "      <td>0.0</td>\n",
       "    </tr>\n",
       "    <tr>\n",
       "      <th>993</th>\n",
       "      <td>1.0</td>\n",
       "      <td>0.0</td>\n",
       "      <td>0.0</td>\n",
       "      <td>0.0</td>\n",
       "    </tr>\n",
       "    <tr>\n",
       "      <th>994</th>\n",
       "      <td>1.0</td>\n",
       "      <td>0.0</td>\n",
       "      <td>0.0</td>\n",
       "      <td>0.0</td>\n",
       "    </tr>\n",
       "    <tr>\n",
       "      <th>995</th>\n",
       "      <td>1.0</td>\n",
       "      <td>0.0</td>\n",
       "      <td>0.0</td>\n",
       "      <td>0.0</td>\n",
       "    </tr>\n",
       "    <tr>\n",
       "      <th>996</th>\n",
       "      <td>0.0</td>\n",
       "      <td>1.0</td>\n",
       "      <td>0.0</td>\n",
       "      <td>0.0</td>\n",
       "    </tr>\n",
       "    <tr>\n",
       "      <th>997</th>\n",
       "      <td>0.0</td>\n",
       "      <td>1.0</td>\n",
       "      <td>0.0</td>\n",
       "      <td>0.0</td>\n",
       "    </tr>\n",
       "    <tr>\n",
       "      <th>998</th>\n",
       "      <td>0.0</td>\n",
       "      <td>0.0</td>\n",
       "      <td>1.0</td>\n",
       "      <td>0.0</td>\n",
       "    </tr>\n",
       "    <tr>\n",
       "      <th>999</th>\n",
       "      <td>1.0</td>\n",
       "      <td>0.0</td>\n",
       "      <td>0.0</td>\n",
       "      <td>0.0</td>\n",
       "    </tr>\n",
       "  </tbody>\n",
       "</table>\n",
       "<p>1000 rows × 4 columns</p>\n",
       "</div>"
      ],
      "text/plain": [
       "       A    B    C    D\n",
       "0    1.0  0.0  0.0  0.0\n",
       "1    1.0  0.0  0.0  0.0\n",
       "2    0.0  1.0  0.0  0.0\n",
       "3    0.0  1.0  0.0  0.0\n",
       "4    1.0  0.0  0.0  0.0\n",
       "5    0.0  1.0  0.0  0.0\n",
       "6    0.0  1.0  0.0  0.0\n",
       "7    0.0  1.0  0.0  0.0\n",
       "8    0.0  0.0  1.0  0.0\n",
       "9    1.0  0.0  0.0  0.0\n",
       "10   0.0  1.0  0.0  0.0\n",
       "11   1.0  0.0  0.0  0.0\n",
       "12   1.0  0.0  0.0  0.0\n",
       "13   1.0  0.0  0.0  0.0\n",
       "14   1.0  0.0  0.0  0.0\n",
       "15   0.0  1.0  0.0  0.0\n",
       "16   0.0  1.0  0.0  0.0\n",
       "17   1.0  0.0  0.0  0.0\n",
       "18   0.0  1.0  0.0  0.0\n",
       "19   1.0  0.0  0.0  0.0\n",
       "20   1.0  0.0  0.0  0.0\n",
       "21   0.0  0.0  1.0  0.0\n",
       "22   0.0  1.0  0.0  0.0\n",
       "23   0.0  1.0  0.0  0.0\n",
       "24   1.0  0.0  0.0  0.0\n",
       "25   1.0  0.0  0.0  0.0\n",
       "26   1.0  0.0  0.0  0.0\n",
       "27   1.0  0.0  0.0  0.0\n",
       "28   0.0  0.0  1.0  0.0\n",
       "29   1.0  0.0  0.0  0.0\n",
       "..   ...  ...  ...  ...\n",
       "970  1.0  0.0  0.0  0.0\n",
       "971  0.0  0.0  1.0  0.0\n",
       "972  0.0  0.0  1.0  0.0\n",
       "973  0.0  1.0  0.0  0.0\n",
       "974  0.0  1.0  0.0  0.0\n",
       "975  1.0  0.0  0.0  0.0\n",
       "976  0.0  0.0  1.0  0.0\n",
       "977  0.0  0.0  1.0  0.0\n",
       "978  0.0  0.0  1.0  0.0\n",
       "979  0.0  1.0  0.0  0.0\n",
       "980  0.0  1.0  0.0  0.0\n",
       "981  0.0  1.0  0.0  0.0\n",
       "982  0.0  0.0  1.0  0.0\n",
       "983  0.0  0.0  1.0  0.0\n",
       "984  0.0  0.0  1.0  0.0\n",
       "985  0.0  1.0  0.0  0.0\n",
       "986  0.0  0.0  1.0  0.0\n",
       "987  0.0  0.0  1.0  0.0\n",
       "988  0.0  0.0  1.0  0.0\n",
       "989  1.0  0.0  0.0  0.0\n",
       "990  0.0  1.0  0.0  0.0\n",
       "991  1.0  0.0  0.0  0.0\n",
       "992  1.0  0.0  0.0  0.0\n",
       "993  1.0  0.0  0.0  0.0\n",
       "994  1.0  0.0  0.0  0.0\n",
       "995  1.0  0.0  0.0  0.0\n",
       "996  0.0  1.0  0.0  0.0\n",
       "997  0.0  1.0  0.0  0.0\n",
       "998  0.0  0.0  1.0  0.0\n",
       "999  1.0  0.0  0.0  0.0\n",
       "\n",
       "[1000 rows x 4 columns]"
      ]
     },
     "execution_count": 235,
     "metadata": {},
     "output_type": "execute_result"
    }
   ],
   "source": [
    "data_ZX = pd.get_dummies(data= data1_1['X'])\n",
    "data_ZX"
   ]
  },
  {
   "cell_type": "code",
   "execution_count": 236,
   "metadata": {
    "ExecuteTime": {
     "end_time": "2018-01-15T02:43:44.638662Z",
     "start_time": "2018-01-15T02:43:44.613588Z"
    }
   },
   "outputs": [
    {
     "data": {
      "text/html": [
       "<div>\n",
       "<table border=\"1\" class=\"dataframe\">\n",
       "  <thead>\n",
       "    <tr style=\"text-align: right;\">\n",
       "      <th></th>\n",
       "      <th>a</th>\n",
       "      <th>b</th>\n",
       "      <th>c</th>\n",
       "      <th>d</th>\n",
       "      <th>e</th>\n",
       "    </tr>\n",
       "  </thead>\n",
       "  <tbody>\n",
       "    <tr>\n",
       "      <th>0</th>\n",
       "      <td>1.0</td>\n",
       "      <td>0.0</td>\n",
       "      <td>0.0</td>\n",
       "      <td>0.0</td>\n",
       "      <td>0.0</td>\n",
       "    </tr>\n",
       "    <tr>\n",
       "      <th>1</th>\n",
       "      <td>0.0</td>\n",
       "      <td>0.0</td>\n",
       "      <td>1.0</td>\n",
       "      <td>0.0</td>\n",
       "      <td>0.0</td>\n",
       "    </tr>\n",
       "    <tr>\n",
       "      <th>2</th>\n",
       "      <td>1.0</td>\n",
       "      <td>0.0</td>\n",
       "      <td>0.0</td>\n",
       "      <td>0.0</td>\n",
       "      <td>0.0</td>\n",
       "    </tr>\n",
       "    <tr>\n",
       "      <th>3</th>\n",
       "      <td>1.0</td>\n",
       "      <td>0.0</td>\n",
       "      <td>0.0</td>\n",
       "      <td>0.0</td>\n",
       "      <td>0.0</td>\n",
       "    </tr>\n",
       "    <tr>\n",
       "      <th>4</th>\n",
       "      <td>1.0</td>\n",
       "      <td>0.0</td>\n",
       "      <td>0.0</td>\n",
       "      <td>0.0</td>\n",
       "      <td>0.0</td>\n",
       "    </tr>\n",
       "    <tr>\n",
       "      <th>5</th>\n",
       "      <td>1.0</td>\n",
       "      <td>0.0</td>\n",
       "      <td>0.0</td>\n",
       "      <td>0.0</td>\n",
       "      <td>0.0</td>\n",
       "    </tr>\n",
       "    <tr>\n",
       "      <th>6</th>\n",
       "      <td>1.0</td>\n",
       "      <td>0.0</td>\n",
       "      <td>0.0</td>\n",
       "      <td>0.0</td>\n",
       "      <td>0.0</td>\n",
       "    </tr>\n",
       "    <tr>\n",
       "      <th>7</th>\n",
       "      <td>0.0</td>\n",
       "      <td>0.0</td>\n",
       "      <td>0.0</td>\n",
       "      <td>1.0</td>\n",
       "      <td>0.0</td>\n",
       "    </tr>\n",
       "    <tr>\n",
       "      <th>8</th>\n",
       "      <td>1.0</td>\n",
       "      <td>0.0</td>\n",
       "      <td>0.0</td>\n",
       "      <td>0.0</td>\n",
       "      <td>0.0</td>\n",
       "    </tr>\n",
       "    <tr>\n",
       "      <th>9</th>\n",
       "      <td>1.0</td>\n",
       "      <td>0.0</td>\n",
       "      <td>0.0</td>\n",
       "      <td>0.0</td>\n",
       "      <td>0.0</td>\n",
       "    </tr>\n",
       "    <tr>\n",
       "      <th>10</th>\n",
       "      <td>0.0</td>\n",
       "      <td>0.0</td>\n",
       "      <td>0.0</td>\n",
       "      <td>1.0</td>\n",
       "      <td>0.0</td>\n",
       "    </tr>\n",
       "    <tr>\n",
       "      <th>11</th>\n",
       "      <td>0.0</td>\n",
       "      <td>0.0</td>\n",
       "      <td>1.0</td>\n",
       "      <td>0.0</td>\n",
       "      <td>0.0</td>\n",
       "    </tr>\n",
       "    <tr>\n",
       "      <th>12</th>\n",
       "      <td>0.0</td>\n",
       "      <td>0.0</td>\n",
       "      <td>0.0</td>\n",
       "      <td>1.0</td>\n",
       "      <td>0.0</td>\n",
       "    </tr>\n",
       "    <tr>\n",
       "      <th>13</th>\n",
       "      <td>0.0</td>\n",
       "      <td>0.0</td>\n",
       "      <td>1.0</td>\n",
       "      <td>0.0</td>\n",
       "      <td>0.0</td>\n",
       "    </tr>\n",
       "    <tr>\n",
       "      <th>14</th>\n",
       "      <td>0.0</td>\n",
       "      <td>0.0</td>\n",
       "      <td>1.0</td>\n",
       "      <td>0.0</td>\n",
       "      <td>0.0</td>\n",
       "    </tr>\n",
       "    <tr>\n",
       "      <th>15</th>\n",
       "      <td>1.0</td>\n",
       "      <td>0.0</td>\n",
       "      <td>0.0</td>\n",
       "      <td>0.0</td>\n",
       "      <td>0.0</td>\n",
       "    </tr>\n",
       "    <tr>\n",
       "      <th>16</th>\n",
       "      <td>1.0</td>\n",
       "      <td>0.0</td>\n",
       "      <td>0.0</td>\n",
       "      <td>0.0</td>\n",
       "      <td>0.0</td>\n",
       "    </tr>\n",
       "    <tr>\n",
       "      <th>17</th>\n",
       "      <td>0.0</td>\n",
       "      <td>0.0</td>\n",
       "      <td>0.0</td>\n",
       "      <td>1.0</td>\n",
       "      <td>0.0</td>\n",
       "    </tr>\n",
       "    <tr>\n",
       "      <th>18</th>\n",
       "      <td>1.0</td>\n",
       "      <td>0.0</td>\n",
       "      <td>0.0</td>\n",
       "      <td>0.0</td>\n",
       "      <td>0.0</td>\n",
       "    </tr>\n",
       "    <tr>\n",
       "      <th>19</th>\n",
       "      <td>0.0</td>\n",
       "      <td>0.0</td>\n",
       "      <td>1.0</td>\n",
       "      <td>0.0</td>\n",
       "      <td>0.0</td>\n",
       "    </tr>\n",
       "    <tr>\n",
       "      <th>20</th>\n",
       "      <td>0.0</td>\n",
       "      <td>0.0</td>\n",
       "      <td>1.0</td>\n",
       "      <td>0.0</td>\n",
       "      <td>0.0</td>\n",
       "    </tr>\n",
       "    <tr>\n",
       "      <th>21</th>\n",
       "      <td>0.0</td>\n",
       "      <td>0.0</td>\n",
       "      <td>0.0</td>\n",
       "      <td>1.0</td>\n",
       "      <td>0.0</td>\n",
       "    </tr>\n",
       "    <tr>\n",
       "      <th>22</th>\n",
       "      <td>0.0</td>\n",
       "      <td>1.0</td>\n",
       "      <td>0.0</td>\n",
       "      <td>0.0</td>\n",
       "      <td>0.0</td>\n",
       "    </tr>\n",
       "    <tr>\n",
       "      <th>23</th>\n",
       "      <td>0.0</td>\n",
       "      <td>1.0</td>\n",
       "      <td>0.0</td>\n",
       "      <td>0.0</td>\n",
       "      <td>0.0</td>\n",
       "    </tr>\n",
       "    <tr>\n",
       "      <th>24</th>\n",
       "      <td>0.0</td>\n",
       "      <td>0.0</td>\n",
       "      <td>1.0</td>\n",
       "      <td>0.0</td>\n",
       "      <td>0.0</td>\n",
       "    </tr>\n",
       "    <tr>\n",
       "      <th>25</th>\n",
       "      <td>0.0</td>\n",
       "      <td>0.0</td>\n",
       "      <td>1.0</td>\n",
       "      <td>0.0</td>\n",
       "      <td>0.0</td>\n",
       "    </tr>\n",
       "    <tr>\n",
       "      <th>26</th>\n",
       "      <td>0.0</td>\n",
       "      <td>0.0</td>\n",
       "      <td>1.0</td>\n",
       "      <td>0.0</td>\n",
       "      <td>0.0</td>\n",
       "    </tr>\n",
       "    <tr>\n",
       "      <th>27</th>\n",
       "      <td>0.0</td>\n",
       "      <td>0.0</td>\n",
       "      <td>1.0</td>\n",
       "      <td>0.0</td>\n",
       "      <td>0.0</td>\n",
       "    </tr>\n",
       "    <tr>\n",
       "      <th>28</th>\n",
       "      <td>0.0</td>\n",
       "      <td>0.0</td>\n",
       "      <td>1.0</td>\n",
       "      <td>0.0</td>\n",
       "      <td>0.0</td>\n",
       "    </tr>\n",
       "    <tr>\n",
       "      <th>29</th>\n",
       "      <td>0.0</td>\n",
       "      <td>0.0</td>\n",
       "      <td>1.0</td>\n",
       "      <td>0.0</td>\n",
       "      <td>0.0</td>\n",
       "    </tr>\n",
       "    <tr>\n",
       "      <th>...</th>\n",
       "      <td>...</td>\n",
       "      <td>...</td>\n",
       "      <td>...</td>\n",
       "      <td>...</td>\n",
       "      <td>...</td>\n",
       "    </tr>\n",
       "    <tr>\n",
       "      <th>970</th>\n",
       "      <td>0.0</td>\n",
       "      <td>0.0</td>\n",
       "      <td>1.0</td>\n",
       "      <td>0.0</td>\n",
       "      <td>0.0</td>\n",
       "    </tr>\n",
       "    <tr>\n",
       "      <th>971</th>\n",
       "      <td>0.0</td>\n",
       "      <td>0.0</td>\n",
       "      <td>0.0</td>\n",
       "      <td>0.0</td>\n",
       "      <td>1.0</td>\n",
       "    </tr>\n",
       "    <tr>\n",
       "      <th>972</th>\n",
       "      <td>0.0</td>\n",
       "      <td>1.0</td>\n",
       "      <td>0.0</td>\n",
       "      <td>0.0</td>\n",
       "      <td>0.0</td>\n",
       "    </tr>\n",
       "    <tr>\n",
       "      <th>973</th>\n",
       "      <td>0.0</td>\n",
       "      <td>1.0</td>\n",
       "      <td>0.0</td>\n",
       "      <td>0.0</td>\n",
       "      <td>0.0</td>\n",
       "    </tr>\n",
       "    <tr>\n",
       "      <th>974</th>\n",
       "      <td>1.0</td>\n",
       "      <td>0.0</td>\n",
       "      <td>0.0</td>\n",
       "      <td>0.0</td>\n",
       "      <td>0.0</td>\n",
       "    </tr>\n",
       "    <tr>\n",
       "      <th>975</th>\n",
       "      <td>0.0</td>\n",
       "      <td>0.0</td>\n",
       "      <td>1.0</td>\n",
       "      <td>0.0</td>\n",
       "      <td>0.0</td>\n",
       "    </tr>\n",
       "    <tr>\n",
       "      <th>976</th>\n",
       "      <td>0.0</td>\n",
       "      <td>0.0</td>\n",
       "      <td>1.0</td>\n",
       "      <td>0.0</td>\n",
       "      <td>0.0</td>\n",
       "    </tr>\n",
       "    <tr>\n",
       "      <th>977</th>\n",
       "      <td>0.0</td>\n",
       "      <td>0.0</td>\n",
       "      <td>1.0</td>\n",
       "      <td>0.0</td>\n",
       "      <td>0.0</td>\n",
       "    </tr>\n",
       "    <tr>\n",
       "      <th>978</th>\n",
       "      <td>0.0</td>\n",
       "      <td>0.0</td>\n",
       "      <td>0.0</td>\n",
       "      <td>1.0</td>\n",
       "      <td>0.0</td>\n",
       "    </tr>\n",
       "    <tr>\n",
       "      <th>979</th>\n",
       "      <td>1.0</td>\n",
       "      <td>0.0</td>\n",
       "      <td>0.0</td>\n",
       "      <td>0.0</td>\n",
       "      <td>0.0</td>\n",
       "    </tr>\n",
       "    <tr>\n",
       "      <th>980</th>\n",
       "      <td>0.0</td>\n",
       "      <td>1.0</td>\n",
       "      <td>0.0</td>\n",
       "      <td>0.0</td>\n",
       "      <td>0.0</td>\n",
       "    </tr>\n",
       "    <tr>\n",
       "      <th>981</th>\n",
       "      <td>0.0</td>\n",
       "      <td>0.0</td>\n",
       "      <td>0.0</td>\n",
       "      <td>1.0</td>\n",
       "      <td>0.0</td>\n",
       "    </tr>\n",
       "    <tr>\n",
       "      <th>982</th>\n",
       "      <td>0.0</td>\n",
       "      <td>0.0</td>\n",
       "      <td>0.0</td>\n",
       "      <td>1.0</td>\n",
       "      <td>0.0</td>\n",
       "    </tr>\n",
       "    <tr>\n",
       "      <th>983</th>\n",
       "      <td>0.0</td>\n",
       "      <td>0.0</td>\n",
       "      <td>0.0</td>\n",
       "      <td>0.0</td>\n",
       "      <td>1.0</td>\n",
       "    </tr>\n",
       "    <tr>\n",
       "      <th>984</th>\n",
       "      <td>0.0</td>\n",
       "      <td>0.0</td>\n",
       "      <td>0.0</td>\n",
       "      <td>0.0</td>\n",
       "      <td>1.0</td>\n",
       "    </tr>\n",
       "    <tr>\n",
       "      <th>985</th>\n",
       "      <td>1.0</td>\n",
       "      <td>0.0</td>\n",
       "      <td>0.0</td>\n",
       "      <td>0.0</td>\n",
       "      <td>0.0</td>\n",
       "    </tr>\n",
       "    <tr>\n",
       "      <th>986</th>\n",
       "      <td>0.0</td>\n",
       "      <td>1.0</td>\n",
       "      <td>0.0</td>\n",
       "      <td>0.0</td>\n",
       "      <td>0.0</td>\n",
       "    </tr>\n",
       "    <tr>\n",
       "      <th>987</th>\n",
       "      <td>1.0</td>\n",
       "      <td>0.0</td>\n",
       "      <td>0.0</td>\n",
       "      <td>0.0</td>\n",
       "      <td>0.0</td>\n",
       "    </tr>\n",
       "    <tr>\n",
       "      <th>988</th>\n",
       "      <td>0.0</td>\n",
       "      <td>1.0</td>\n",
       "      <td>0.0</td>\n",
       "      <td>0.0</td>\n",
       "      <td>0.0</td>\n",
       "    </tr>\n",
       "    <tr>\n",
       "      <th>989</th>\n",
       "      <td>0.0</td>\n",
       "      <td>0.0</td>\n",
       "      <td>0.0</td>\n",
       "      <td>1.0</td>\n",
       "      <td>0.0</td>\n",
       "    </tr>\n",
       "    <tr>\n",
       "      <th>990</th>\n",
       "      <td>1.0</td>\n",
       "      <td>0.0</td>\n",
       "      <td>0.0</td>\n",
       "      <td>0.0</td>\n",
       "      <td>0.0</td>\n",
       "    </tr>\n",
       "    <tr>\n",
       "      <th>991</th>\n",
       "      <td>0.0</td>\n",
       "      <td>0.0</td>\n",
       "      <td>1.0</td>\n",
       "      <td>0.0</td>\n",
       "      <td>0.0</td>\n",
       "    </tr>\n",
       "    <tr>\n",
       "      <th>992</th>\n",
       "      <td>0.0</td>\n",
       "      <td>0.0</td>\n",
       "      <td>1.0</td>\n",
       "      <td>0.0</td>\n",
       "      <td>0.0</td>\n",
       "    </tr>\n",
       "    <tr>\n",
       "      <th>993</th>\n",
       "      <td>1.0</td>\n",
       "      <td>0.0</td>\n",
       "      <td>0.0</td>\n",
       "      <td>0.0</td>\n",
       "      <td>0.0</td>\n",
       "    </tr>\n",
       "    <tr>\n",
       "      <th>994</th>\n",
       "      <td>0.0</td>\n",
       "      <td>0.0</td>\n",
       "      <td>1.0</td>\n",
       "      <td>0.0</td>\n",
       "      <td>0.0</td>\n",
       "    </tr>\n",
       "    <tr>\n",
       "      <th>995</th>\n",
       "      <td>0.0</td>\n",
       "      <td>0.0</td>\n",
       "      <td>1.0</td>\n",
       "      <td>0.0</td>\n",
       "      <td>0.0</td>\n",
       "    </tr>\n",
       "    <tr>\n",
       "      <th>996</th>\n",
       "      <td>1.0</td>\n",
       "      <td>0.0</td>\n",
       "      <td>0.0</td>\n",
       "      <td>0.0</td>\n",
       "      <td>0.0</td>\n",
       "    </tr>\n",
       "    <tr>\n",
       "      <th>997</th>\n",
       "      <td>0.0</td>\n",
       "      <td>1.0</td>\n",
       "      <td>0.0</td>\n",
       "      <td>0.0</td>\n",
       "      <td>0.0</td>\n",
       "    </tr>\n",
       "    <tr>\n",
       "      <th>998</th>\n",
       "      <td>0.0</td>\n",
       "      <td>0.0</td>\n",
       "      <td>1.0</td>\n",
       "      <td>0.0</td>\n",
       "      <td>0.0</td>\n",
       "    </tr>\n",
       "    <tr>\n",
       "      <th>999</th>\n",
       "      <td>0.0</td>\n",
       "      <td>0.0</td>\n",
       "      <td>1.0</td>\n",
       "      <td>0.0</td>\n",
       "      <td>0.0</td>\n",
       "    </tr>\n",
       "  </tbody>\n",
       "</table>\n",
       "<p>1000 rows × 5 columns</p>\n",
       "</div>"
      ],
      "text/plain": [
       "       a    b    c    d    e\n",
       "0    1.0  0.0  0.0  0.0  0.0\n",
       "1    0.0  0.0  1.0  0.0  0.0\n",
       "2    1.0  0.0  0.0  0.0  0.0\n",
       "3    1.0  0.0  0.0  0.0  0.0\n",
       "4    1.0  0.0  0.0  0.0  0.0\n",
       "5    1.0  0.0  0.0  0.0  0.0\n",
       "6    1.0  0.0  0.0  0.0  0.0\n",
       "7    0.0  0.0  0.0  1.0  0.0\n",
       "8    1.0  0.0  0.0  0.0  0.0\n",
       "9    1.0  0.0  0.0  0.0  0.0\n",
       "10   0.0  0.0  0.0  1.0  0.0\n",
       "11   0.0  0.0  1.0  0.0  0.0\n",
       "12   0.0  0.0  0.0  1.0  0.0\n",
       "13   0.0  0.0  1.0  0.0  0.0\n",
       "14   0.0  0.0  1.0  0.0  0.0\n",
       "15   1.0  0.0  0.0  0.0  0.0\n",
       "16   1.0  0.0  0.0  0.0  0.0\n",
       "17   0.0  0.0  0.0  1.0  0.0\n",
       "18   1.0  0.0  0.0  0.0  0.0\n",
       "19   0.0  0.0  1.0  0.0  0.0\n",
       "20   0.0  0.0  1.0  0.0  0.0\n",
       "21   0.0  0.0  0.0  1.0  0.0\n",
       "22   0.0  1.0  0.0  0.0  0.0\n",
       "23   0.0  1.0  0.0  0.0  0.0\n",
       "24   0.0  0.0  1.0  0.0  0.0\n",
       "25   0.0  0.0  1.0  0.0  0.0\n",
       "26   0.0  0.0  1.0  0.0  0.0\n",
       "27   0.0  0.0  1.0  0.0  0.0\n",
       "28   0.0  0.0  1.0  0.0  0.0\n",
       "29   0.0  0.0  1.0  0.0  0.0\n",
       "..   ...  ...  ...  ...  ...\n",
       "970  0.0  0.0  1.0  0.0  0.0\n",
       "971  0.0  0.0  0.0  0.0  1.0\n",
       "972  0.0  1.0  0.0  0.0  0.0\n",
       "973  0.0  1.0  0.0  0.0  0.0\n",
       "974  1.0  0.0  0.0  0.0  0.0\n",
       "975  0.0  0.0  1.0  0.0  0.0\n",
       "976  0.0  0.0  1.0  0.0  0.0\n",
       "977  0.0  0.0  1.0  0.0  0.0\n",
       "978  0.0  0.0  0.0  1.0  0.0\n",
       "979  1.0  0.0  0.0  0.0  0.0\n",
       "980  0.0  1.0  0.0  0.0  0.0\n",
       "981  0.0  0.0  0.0  1.0  0.0\n",
       "982  0.0  0.0  0.0  1.0  0.0\n",
       "983  0.0  0.0  0.0  0.0  1.0\n",
       "984  0.0  0.0  0.0  0.0  1.0\n",
       "985  1.0  0.0  0.0  0.0  0.0\n",
       "986  0.0  1.0  0.0  0.0  0.0\n",
       "987  1.0  0.0  0.0  0.0  0.0\n",
       "988  0.0  1.0  0.0  0.0  0.0\n",
       "989  0.0  0.0  0.0  1.0  0.0\n",
       "990  1.0  0.0  0.0  0.0  0.0\n",
       "991  0.0  0.0  1.0  0.0  0.0\n",
       "992  0.0  0.0  1.0  0.0  0.0\n",
       "993  1.0  0.0  0.0  0.0  0.0\n",
       "994  0.0  0.0  1.0  0.0  0.0\n",
       "995  0.0  0.0  1.0  0.0  0.0\n",
       "996  1.0  0.0  0.0  0.0  0.0\n",
       "997  0.0  1.0  0.0  0.0  0.0\n",
       "998  0.0  0.0  1.0  0.0  0.0\n",
       "999  0.0  0.0  1.0  0.0  0.0\n",
       "\n",
       "[1000 rows x 5 columns]"
      ]
     },
     "execution_count": 236,
     "metadata": {},
     "output_type": "execute_result"
    }
   ],
   "source": [
    "data_ZY = pd.get_dummies(data= data1_1['Y'])\n",
    "data_ZY"
   ]
  },
  {
   "cell_type": "markdown",
   "metadata": {},
   "source": [
    "<div class=\"alert alert-block alert-info\"> Problem 2.2 </div>\n",
    "Using the dataframe function `as_matrix()`  create `numpy` arrays `ZX` and `ZY` with the occurrence data for `X` and `Y` variables"
   ]
  },
  {
   "cell_type": "code",
   "execution_count": 237,
   "metadata": {
    "ExecuteTime": {
     "end_time": "2018-01-15T02:43:44.672736Z",
     "start_time": "2018-01-15T02:43:44.645664Z"
    }
   },
   "outputs": [
    {
     "data": {
      "text/plain": [
       "array([[ 1.,  0.,  0.,  0.],\n",
       "       [ 1.,  0.,  0.,  0.],\n",
       "       [ 0.,  1.,  0.,  0.],\n",
       "       ..., \n",
       "       [ 0.,  1.,  0.,  0.],\n",
       "       [ 0.,  0.,  1.,  0.],\n",
       "       [ 1.,  0.,  0.,  0.]])"
      ]
     },
     "execution_count": 237,
     "metadata": {},
     "output_type": "execute_result"
    }
   ],
   "source": [
    "ZX = data_ZX.as_matrix()\n",
    "ZX"
   ]
  },
  {
   "cell_type": "code",
   "execution_count": 238,
   "metadata": {
    "ExecuteTime": {
     "end_time": "2018-01-15T02:43:44.691786Z",
     "start_time": "2018-01-15T02:43:44.674741Z"
    }
   },
   "outputs": [
    {
     "data": {
      "text/plain": [
       "array([[ 1.,  0.,  0.,  0.,  0.],\n",
       "       [ 0.,  0.,  1.,  0.,  0.],\n",
       "       [ 1.,  0.,  0.,  0.,  0.],\n",
       "       ..., \n",
       "       [ 0.,  1.,  0.,  0.,  0.],\n",
       "       [ 0.,  0.,  1.,  0.,  0.],\n",
       "       [ 0.,  0.,  1.,  0.,  0.]])"
      ]
     },
     "execution_count": 238,
     "metadata": {},
     "output_type": "execute_result"
    }
   ],
   "source": [
    "ZY = data_ZY.as_matrix()\n",
    "ZY"
   ]
  },
  {
   "cell_type": "markdown",
   "metadata": {},
   "source": [
    "<div class=\"alert alert-block alert-info\"> Problem 2.3 </div>\n",
    "Save the column names of `data_ZX` in a variable named `X_values`, create also `Y_values`"
   ]
  },
  {
   "cell_type": "code",
   "execution_count": 239,
   "metadata": {
    "ExecuteTime": {
     "end_time": "2018-01-15T02:43:44.715850Z",
     "start_time": "2018-01-15T02:43:44.693792Z"
    }
   },
   "outputs": [
    {
     "data": {
      "text/plain": [
       "array(['A', 'B', 'C', 'D'], dtype=object)"
      ]
     },
     "execution_count": 239,
     "metadata": {},
     "output_type": "execute_result"
    }
   ],
   "source": [
    "X_values = data_ZX.columns.values\n",
    "X_values"
   ]
  },
  {
   "cell_type": "code",
   "execution_count": 240,
   "metadata": {
    "ExecuteTime": {
     "end_time": "2018-01-15T02:43:44.739915Z",
     "start_time": "2018-01-15T02:43:44.719865Z"
    }
   },
   "outputs": [
    {
     "data": {
      "text/plain": [
       "array(['a', 'b', 'c', 'd', 'e'], dtype=object)"
      ]
     },
     "execution_count": 240,
     "metadata": {},
     "output_type": "execute_result"
    }
   ],
   "source": [
    "Y_values = data_ZY.columns.values\n",
    "Y_values"
   ]
  },
  {
   "cell_type": "markdown",
   "metadata": {},
   "source": [
    "### Covariance calculation"
   ]
  },
  {
   "cell_type": "markdown",
   "metadata": {
    "ExecuteTime": {
     "end_time": "2018-01-09T17:01:14.184187Z",
     "start_time": "2018-01-09T17:01:14.176186Z"
    }
   },
   "source": [
    "From now on, work **only** with the variables `ZX`, and `ZY`, `X_values` and `Y_values`"
   ]
  },
  {
   "cell_type": "markdown",
   "metadata": {},
   "source": [
    "<div class=\"alert alert-block alert-info\"> Problem 3.1 </div>\n",
    "Show the shape of `ZX` and `ZY` variables"
   ]
  },
  {
   "cell_type": "code",
   "execution_count": 241,
   "metadata": {
    "ExecuteTime": {
     "end_time": "2018-01-15T02:43:44.760970Z",
     "start_time": "2018-01-15T02:43:44.741919Z"
    }
   },
   "outputs": [
    {
     "name": "stdout",
     "output_type": "stream",
     "text": [
      "shape of ZX: (1000, 4)\n",
      "shape of ZY: (1000, 5)\n"
     ]
    }
   ],
   "source": [
    "print(\"shape of ZX:\",ZX.shape)\n",
    "print(\"shape of ZY:\",ZY.shape)"
   ]
  },
  {
   "cell_type": "markdown",
   "metadata": {},
   "source": [
    "<div class=\"alert alert-block alert-info\"> Problem 3.2 </div>\n",
    "* using `ZX`  compute the number of occurrences of each possible value of the variable X\n",
    "* using `ZY`  compute the number of occurrences of each possible value of the variable Y\n",
    "\n",
    "for each posible value of 'X' print the value (a string), and how may times it occurs on the data (an integer).\n",
    "Do the same for 'Y'"
   ]
  },
  {
   "cell_type": "code",
   "execution_count": 242,
   "metadata": {
    "ExecuteTime": {
     "end_time": "2018-01-15T02:43:44.781026Z",
     "start_time": "2018-01-15T02:43:44.767992Z"
    }
   },
   "outputs": [
    {
     "data": {
      "text/plain": [
       "{'A': 383.0, 'B': 293.0, 'C': 279.0, 'D': 45.0}"
      ]
     },
     "execution_count": 242,
     "metadata": {},
     "output_type": "execute_result"
    }
   ],
   "source": [
    "occurrences_ZX = dict(zip(X_values,[sum(ZX[:,k]) for k in range(ZX.shape[1])]))\n",
    "occurrences_ZX"
   ]
  },
  {
   "cell_type": "code",
   "execution_count": 243,
   "metadata": {
    "ExecuteTime": {
     "end_time": "2018-01-15T02:43:44.845193Z",
     "start_time": "2018-01-15T02:43:44.785035Z"
    }
   },
   "outputs": [
    {
     "data": {
      "text/plain": [
       "{'a': 312.0, 'b': 148.0, 'c': 349.0, 'd': 132.0, 'e': 59.0}"
      ]
     },
     "execution_count": 243,
     "metadata": {},
     "output_type": "execute_result"
    }
   ],
   "source": [
    "occurrences_ZY = dict(zip(Y_values,[sum(ZY[:,k]) for k in range(ZY.shape[1])]))\n",
    "occurrences_ZY"
   ]
  },
  {
   "cell_type": "markdown",
   "metadata": {
    "ExecuteTime": {
     "end_time": "2018-01-09T18:41:32.233141Z",
     "start_time": "2018-01-09T18:41:32.228141Z"
    }
   },
   "source": [
    "<div class=\"alert alert-block alert-info\"> Problem 3.3</div>\n",
    "Compute the empirical (sample) probabilities of the  values of `X` and `Y`.\n",
    "$$\n",
    "    \\mu^X_d = \\frac{1}{N} \\sum_i Z^X_{i,k}\n",
    "$$\n",
    "and similarly for $\\mu^Y_k$\n",
    "\n",
    "Store the results on variables `muX` and `muY`"
   ]
  },
  {
   "cell_type": "code",
   "execution_count": 244,
   "metadata": {
    "ExecuteTime": {
     "end_time": "2018-01-15T02:43:44.879284Z",
     "start_time": "2018-01-15T02:43:44.864244Z"
    }
   },
   "outputs": [
    {
     "data": {
      "text/plain": [
       "{'A': 0.38300000000000001,\n",
       " 'B': 0.29299999999999998,\n",
       " 'C': 0.27900000000000003,\n",
       " 'D': 0.044999999999999998}"
      ]
     },
     "execution_count": 244,
     "metadata": {},
     "output_type": "execute_result"
    }
   ],
   "source": [
    "muX = dict()\n",
    "for key in list(occurrences_ZX.keys()):\n",
    "    muX[key] = occurrences_ZX[key]/len(ZX)\n",
    "muX"
   ]
  },
  {
   "cell_type": "code",
   "execution_count": 245,
   "metadata": {},
   "outputs": [
    {
     "data": {
      "text/plain": [
       "{'a': 0.312,\n",
       " 'b': 0.14799999999999999,\n",
       " 'c': 0.34899999999999998,\n",
       " 'd': 0.13200000000000001,\n",
       " 'e': 0.058999999999999997}"
      ]
     },
     "execution_count": 245,
     "metadata": {},
     "output_type": "execute_result"
    }
   ],
   "source": [
    "muY = dict()\n",
    "for key in list(occurrences_ZY.keys()):\n",
    "    muY[key] = occurrences_ZY[key]/len(ZY)\n",
    "muY"
   ]
  },
  {
   "cell_type": "markdown",
   "metadata": {},
   "source": [
    "<div class=\"alert alert-block alert-info\"> Problem 3.4 </div>\n",
    "Compute the covariance matrix of `ZX` and `ZY` values defined as \n",
    "$$\n",
    "    \\sigma^{X}_{d,d'} = \\frac{1}{N}\\sum_i Z^X_{i,d}Z^X_{i,d'}- \\mu^X_d \\mu^X_{d'}\n",
    "$$\n",
    "and similarly for $\\sigma^Y_{k,k'}$"
   ]
  },
  {
   "cell_type": "code",
   "execution_count": 246,
   "metadata": {
    "ExecuteTime": {
     "end_time": "2018-01-15T02:43:44.898336Z",
     "start_time": "2018-01-15T02:43:44.881290Z"
    }
   },
   "outputs": [
    {
     "data": {
      "text/plain": [
       "array([[ 0.236311, -0.112219, -0.106857, -0.017235],\n",
       "       [-0.112219,  0.207151, -0.081747, -0.013185],\n",
       "       [-0.106857, -0.081747,  0.201159, -0.012555],\n",
       "       [-0.017235, -0.013185, -0.012555,  0.042975]])"
      ]
     },
     "execution_count": 246,
     "metadata": {},
     "output_type": "execute_result"
    }
   ],
   "source": [
    "np.cov(ZX.T,bias = True)"
   ]
  },
  {
   "cell_type": "code",
   "execution_count": 247,
   "metadata": {},
   "outputs": [
    {
     "data": {
      "text/plain": [
       "array([[ 0.236311, -0.112219, -0.106857, -0.017235],\n",
       "       [-0.112219,  0.207151, -0.081747, -0.013185],\n",
       "       [-0.106857, -0.081747,  0.201159, -0.012555],\n",
       "       [-0.017235, -0.013185, -0.012555,  0.042975]])"
      ]
     },
     "execution_count": 247,
     "metadata": {},
     "output_type": "execute_result"
    }
   ],
   "source": [
    "mean_X = ZX.mean(axis=0)\n",
    "COV_X = np.dot(ZX.T,ZX)/len(ZX) - np.outer(mean_X,mean_X)\n",
    "COV_X"
   ]
  },
  {
   "cell_type": "code",
   "execution_count": 248,
   "metadata": {},
   "outputs": [
    {
     "data": {
      "text/plain": [
       "matrix([[ 0.236311, -0.112219, -0.106857, -0.017235],\n",
       "        [-0.112219,  0.207151, -0.081747, -0.013185],\n",
       "        [-0.106857, -0.081747,  0.201159, -0.012555],\n",
       "        [-0.017235, -0.013185, -0.012555,  0.042975]])"
      ]
     },
     "execution_count": 248,
     "metadata": {},
     "output_type": "execute_result"
    }
   ],
   "source": [
    "##(X-meanX).T*(X-meanX)\n",
    "np.mat(ZX-mean_X).T*np.mat(ZX-mean_X)/len(ZX)"
   ]
  },
  {
   "cell_type": "code",
   "execution_count": 249,
   "metadata": {
    "ExecuteTime": {
     "end_time": "2018-01-15T02:43:45.039711Z",
     "start_time": "2018-01-15T02:43:44.902347Z"
    }
   },
   "outputs": [
    {
     "data": {
      "text/plain": [
       "array([[ 0.214656, -0.046176, -0.108888, -0.041184, -0.018408],\n",
       "       [-0.046176,  0.126096, -0.051652, -0.019536, -0.008732],\n",
       "       [-0.108888, -0.051652,  0.227199, -0.046068, -0.020591],\n",
       "       [-0.041184, -0.019536, -0.046068,  0.114576, -0.007788],\n",
       "       [-0.018408, -0.008732, -0.020591, -0.007788,  0.055519]])"
      ]
     },
     "execution_count": 249,
     "metadata": {},
     "output_type": "execute_result"
    }
   ],
   "source": [
    "np.cov(ZY.T, bias = True)"
   ]
  },
  {
   "cell_type": "code",
   "execution_count": 250,
   "metadata": {},
   "outputs": [
    {
     "data": {
      "text/plain": [
       "matrix([[ 0.214656, -0.046176, -0.108888, -0.041184, -0.018408],\n",
       "        [-0.046176,  0.126096, -0.051652, -0.019536, -0.008732],\n",
       "        [-0.108888, -0.051652,  0.227199, -0.046068, -0.020591],\n",
       "        [-0.041184, -0.019536, -0.046068,  0.114576, -0.007788],\n",
       "        [-0.018408, -0.008732, -0.020591, -0.007788,  0.055519]])"
      ]
     },
     "execution_count": 250,
     "metadata": {},
     "output_type": "execute_result"
    }
   ],
   "source": [
    "mean_Y = ZY.mean(axis=0)\n",
    "COV_Y = np.dot(ZY.T,ZY)/len(ZY) - np.dot(np.mat(mean_Y).T,np.mat(mean_Y))\n",
    "COV_Y"
   ]
  },
  {
   "cell_type": "markdown",
   "metadata": {},
   "source": [
    "<div class=\"alert alert-block alert-info\"> Problem 3.5 </div>\n",
    "Compute the convariance matrix between `ZX` and `ZY` values defined as\n",
    "$$\n",
    "    \\sigma^{Y,X}_{k,d} = \\frac{1}{N}\\sum_i Z^Y_{i,k}Z^X_{i,d}- \\mu^Y_k\\mu^X_d \n",
    "$$"
   ]
  },
  {
   "cell_type": "code",
   "execution_count": 251,
   "metadata": {
    "ExecuteTime": {
     "end_time": "2018-01-15T02:43:45.062778Z",
     "start_time": "2018-01-15T02:43:45.041716Z"
    }
   },
   "outputs": [
    {
     "data": {
      "text/plain": [
       "array([[-0.073496,  0.082584, -0.037048,  0.02796 ],\n",
       "       [-0.016684,  0.006636,  0.014708, -0.00466 ],\n",
       "       [ 0.119333, -0.062257, -0.041371, -0.015705],\n",
       "       [-0.006556, -0.009676,  0.021172, -0.00494 ],\n",
       "       [-0.022597, -0.017287,  0.042539, -0.002655]])"
      ]
     },
     "execution_count": 251,
     "metadata": {},
     "output_type": "execute_result"
    }
   ],
   "source": [
    "np.cov(ZX.T,ZY.T,bias = True)[0:ZX.shape[1],ZX.shape[1]:ZX.shape[1]+ZY.shape[1]].T"
   ]
  },
  {
   "cell_type": "code",
   "execution_count": 252,
   "metadata": {},
   "outputs": [
    {
     "data": {
      "text/plain": [
       "matrix([[-0.073496,  0.082584, -0.037048,  0.02796 ],\n",
       "        [-0.016684,  0.006636,  0.014708, -0.00466 ],\n",
       "        [ 0.119333, -0.062257, -0.041371, -0.015705],\n",
       "        [-0.006556, -0.009676,  0.021172, -0.00494 ],\n",
       "        [-0.022597, -0.017287,  0.042539, -0.002655]])"
      ]
     },
     "execution_count": 252,
     "metadata": {},
     "output_type": "execute_result"
    }
   ],
   "source": [
    "np.mat(ZY).T*np.mat(ZX)/len(ZX) - np.mat(mean_Y).T*np.mat(mean_X)"
   ]
  },
  {
   "cell_type": "code",
   "execution_count": 253,
   "metadata": {},
   "outputs": [
    {
     "data": {
      "text/plain": [
       "matrix([[-0.073496,  0.082584, -0.037048,  0.02796 ],\n",
       "        [-0.016684,  0.006636,  0.014708, -0.00466 ],\n",
       "        [ 0.119333, -0.062257, -0.041371, -0.015705],\n",
       "        [-0.006556, -0.009676,  0.021172, -0.00494 ],\n",
       "        [-0.022597, -0.017287,  0.042539, -0.002655]])"
      ]
     },
     "execution_count": 253,
     "metadata": {},
     "output_type": "execute_result"
    }
   ],
   "source": [
    "np.mat(ZY-mean_Y).T*np.mat(ZX-mean_X)/1000"
   ]
  },
  {
   "cell_type": "markdown",
   "metadata": {
    "collapsed": true
   },
   "source": [
    "### Exponential weighted covariance"
   ]
  },
  {
   "cell_type": "markdown",
   "metadata": {
    "ExecuteTime": {
     "end_time": "2018-01-10T10:22:23.229504Z",
     "start_time": "2018-01-10T10:22:23.224493Z"
    }
   },
   "source": [
    "Some times, we want to give more weight so some observations $i$  others.\n",
    "\n",
    "For example, We could interpret the sample index $i$, as time, and we want to weight more strongly observations close to the present more \n",
    "strongly than ones far in the pass."
   ]
  },
  {
   "cell_type": "markdown",
   "metadata": {
    "ExecuteTime": {
     "end_time": "2018-01-10T10:26:19.566016Z",
     "start_time": "2018-01-10T10:26:19.561003Z"
    }
   },
   "source": [
    "<div class=\"alert alert-block alert-info\"> Problem 4.1 </div>\n",
    "Generate an array $W$ of shape $(N,)$ such that\n",
    "$$\n",
    "    W_i =\\frac{ e^{-\\lambda i}}{\\sum_{j} e^{-\\lambda j}}\n",
    "$$\n",
    "with $\\lambda = 4/N$\n",
    "\n",
    "Verify that \n",
    "$$\n",
    "     \\sum_i W_i = 1\n",
    "$$\n",
    "[Hints]\n",
    "* Try not write a python for loop (too slow). \n",
    "* It is probably easier to break the implementation into  two or three intermediate steps.\n",
    "* The function [`numpy.arange`](https://docs.scipy.org/doc/numpy-1.13.0/reference/generated/numpy.arange.html) will probably be useful.\n",
    "* `lambda` is a reserved word in python."
   ]
  },
  {
   "cell_type": "code",
   "execution_count": 254,
   "metadata": {
    "ExecuteTime": {
     "end_time": "2018-01-15T02:43:45.082826Z",
     "start_time": "2018-01-15T02:43:45.066797Z"
    }
   },
   "outputs": [
    {
     "name": "stdout",
     "output_type": "stream",
     "text": [
      "1.0\n"
     ]
    }
   ],
   "source": [
    "def genW(N):\n",
    "    Lam = 4.0/N\n",
    "    vector_i = np.linspace(1,N,N) #* Lambda\n",
    "    W = np.exp((-1.0) * Lam * vector_i)\n",
    "    return W/sum(W)\n",
    "\n",
    "W = genW(1000)\n",
    "print(sum(W))"
   ]
  },
  {
   "cell_type": "markdown",
   "metadata": {},
   "source": [
    "<div class=\"alert alert-block alert-info\"> Problem 4.2 </div>\n",
    "Compute the $X$ and $Y$ weighted means defined as\n",
    "$$\n",
    "    \\mu^X_{W,d} = \\sum_i W_i Z^X_{i,d}\n",
    "$$\n",
    "and similarly for $Y$"
   ]
  },
  {
   "cell_type": "code",
   "execution_count": 255,
   "metadata": {
    "ExecuteTime": {
     "end_time": "2018-01-15T02:43:45.267318Z",
     "start_time": "2018-01-15T02:43:45.087840Z"
    }
   },
   "outputs": [
    {
     "data": {
      "text/plain": [
       "{'A': 0.40408487495925766,\n",
       " 'B': 0.2776763751494572,\n",
       " 'C': 0.26826226035251804,\n",
       " 'D': 0.049976489538766974}"
      ]
     },
     "execution_count": 255,
     "metadata": {},
     "output_type": "execute_result"
    }
   ],
   "source": [
    "W = genW(1000)\n",
    "WX = (W*ZX.T).T\n",
    "weighted_X= dict(zip(X_values,np.array([sum(WX[:,k]) for k in range(WX.shape[1])])))\n",
    "keys_X = list(weighted_X.keys())\n",
    "keys_X.sort()\n",
    "w_X = []\n",
    "for key in keys_X:\n",
    "    w_X.append(weighted_X[key])\n",
    "\n",
    "weighted_X"
   ]
  },
  {
   "cell_type": "code",
   "execution_count": 256,
   "metadata": {
    "ExecuteTime": {
     "end_time": "2018-01-15T02:43:45.407690Z",
     "start_time": "2018-01-15T02:43:45.271328Z"
    }
   },
   "outputs": [
    {
     "name": "stdout",
     "output_type": "stream",
     "text": [
      "[0.29907651955009024, 0.14968493935870092, 0.35837696722063606, 0.13982237721416052, 0.05303919665641213]\n"
     ]
    },
    {
     "data": {
      "text/plain": [
       "{'a': 0.29907651955009024,\n",
       " 'b': 0.14968493935870092,\n",
       " 'c': 0.35837696722063606,\n",
       " 'd': 0.13982237721416052,\n",
       " 'e': 0.05303919665641213}"
      ]
     },
     "execution_count": 256,
     "metadata": {},
     "output_type": "execute_result"
    }
   ],
   "source": [
    "W = genW(1000)\n",
    "WY = (W*ZY.T).T\n",
    "weighted_Y= dict(zip(Y_values,np.array([sum(WY[:,k]) for k in range(WY.shape[1])])))\n",
    "keys_Y = list(weighted_Y.keys())\n",
    "keys_Y.sort()\n",
    "w_Y = []\n",
    "for key in keys_Y:\n",
    "    w_Y.append(weighted_Y[key])\n",
    "print(w_Y)\n",
    "weighted_Y"
   ]
  },
  {
   "cell_type": "markdown",
   "metadata": {},
   "source": [
    "<div class=\"alert alert-block alert-info\"> Problem 4.3 </div>\n",
    "Compute the exponentially weighted  covariance matrix defined as\n",
    "$$\n",
    "    \\sigma^{Y,X}_{W,\\,k,d} = \\sum_i W_i (Z^Y_{i,k} - \\mu^Y_{W,k})(Z^X_{i,k} - \\mu^X_{W,k})\n",
    "$$"
   ]
  },
  {
   "cell_type": "code",
   "execution_count": 257,
   "metadata": {
    "ExecuteTime": {
     "end_time": "2018-01-15T02:43:45.567120Z",
     "start_time": "2018-01-15T02:43:45.410699Z"
    }
   },
   "outputs": [
    {
     "data": {
      "text/plain": [
       "array([[-0.07130318,  0.08313933, -0.04055302,  0.02871686],\n",
       "       [-0.02546297,  0.00412859,  0.02262073, -0.00128635],\n",
       "       [ 0.13363749, -0.06965806, -0.04606901, -0.01791042],\n",
       "       [-0.01543901, -0.00288213,  0.02519051, -0.00686938],\n",
       "       [-0.02143234, -0.01472773,  0.03881078, -0.00265071]])"
      ]
     },
     "execution_count": 257,
     "metadata": {},
     "output_type": "execute_result"
    }
   ],
   "source": [
    "W_new = W[:,np.newaxis,np.newaxis]\n",
    "X_new = ZX - w_X\n",
    "Y_new = ZY - w_Y\n",
    "weighted_Cov = np.sum(W_new*Y_new[:,:,np.newaxis]*X_new[:,np.newaxis,:],axis= 0)\n",
    "weighted_Cov"
   ]
  },
  {
   "cell_type": "markdown",
   "metadata": {},
   "source": [
    "## Analyzing MNIST with Numpy"
   ]
  },
  {
   "cell_type": "markdown",
   "metadata": {},
   "source": [
    "<div class=\"alert alert-block alert-info\"> Problem 5.0 </div>\n",
    "Got to MNIST dataset's [web site](http://yann.lecun.com/exdb/mnist/)'.\n",
    "\n",
    "Download the floowing four files, and save them with those names in the raw data directory [raw/MINST](../../raw/MNIST)\n",
    "* `train-images-idx3-ubyte.gz`:  training set images\n",
    "* `train-labels-idx1-ubyte.gz`:  training set labels\n",
    "* `t10k-images-idx3-ubyte.gz`:   test set images\n",
    "* `t10k-labels-idx1-ubyte.gz`:   test set labels\n",
    "\n",
    "Make sure not the decompress, or modify the files in any way.\n"
   ]
  },
  {
   "cell_type": "markdown",
   "metadata": {},
   "source": [
    "<div class=\"alert alert-block alert-info\"> Problem 5.1 </div>\n",
    "Using `E54525_ML.mnist.read_images` function read the train images in file `train-images-idx3-ubyte.gz` into a variable named\n",
    "`images`. \n",
    "\n",
    "images will be a tensor (`np.array` of floating point numbers) with three dimensions $N\\times R \\times C$ where\n",
    "1. $N$ is the number of images\n",
    "2. $R$ is the number of column pixels in an image\n",
    "3. $C$ is the number of row pixels.\n",
    "\n",
    "Show whe shape of the `images` variable"
   ]
  },
  {
   "cell_type": "code",
   "execution_count": 262,
   "metadata": {
    "ExecuteTime": {
     "end_time": "2018-01-15T02:43:48.089823Z",
     "start_time": "2018-01-15T02:43:45.570121Z"
    }
   },
   "outputs": [
    {
     "data": {
      "text/plain": [
       "(60000, 28, 28)"
      ]
     },
     "execution_count": 262,
     "metadata": {},
     "output_type": "execute_result"
    }
   ],
   "source": [
    "images = mnist.read_images(raw_data_dir + \"/\" + \"train-images-idx3-ubyte.gz\")\n",
    "images.shape"
   ]
  },
  {
   "cell_type": "markdown",
   "metadata": {},
   "source": [
    "<div class=\"alert alert-block alert-info\"> Problem 5.2 </div>\n",
    "Read the labels from file `train-labels-idx1-ubyte.gz`, save them in a variable named labels\n",
    "What is the shape of  label's variable?"
   ]
  },
  {
   "cell_type": "code",
   "execution_count": 264,
   "metadata": {
    "ExecuteTime": {
     "end_time": "2018-01-15T02:43:48.455796Z",
     "start_time": "2018-01-15T02:43:48.176054Z"
    }
   },
   "outputs": [
    {
     "data": {
      "text/plain": [
       "(60000,)"
      ]
     },
     "execution_count": 264,
     "metadata": {},
     "output_type": "execute_result"
    }
   ],
   "source": [
    "labels = mnist.read_labels(raw_data_dir + \"/\" + \"train-labels-idx1-ubyte.gz\")\n",
    "labels.shape"
   ]
  },
  {
   "cell_type": "markdown",
   "metadata": {},
   "source": [
    "<div class=\"alert alert-block alert-info\"> Problem 5.3 </div>\n",
    "Use [`matplotlib.pyplot.imshow`](https://matplotlib.org/api/_as_gen/matplotlib.pyplot.imshow.html?highlight=matplotlib%20pyplot%20imshow#matplotlib.pyplot.imshow) to display the first three images on the MNIST dataset\n",
    "\n",
    "Se the plot title to each image to the corresponding label\n",
    "\n",
    "[HINT] set the color map to `gray` for best results"
   ]
  },
  {
   "cell_type": "code",
   "execution_count": 272,
   "metadata": {
    "ExecuteTime": {
     "end_time": "2018-01-15T02:43:49.134602Z",
     "start_time": "2018-01-15T02:43:48.458806Z"
    }
   },
   "outputs": [
    {
     "data": {
      "text/plain": [
       "<matplotlib.image.AxesImage at 0x123b36f28>"
      ]
     },
     "execution_count": 272,
     "metadata": {},
     "output_type": "execute_result"
    },
    {
     "data": {
      "image/png": "[encoded data removed]",
      "text/plain": [
       "<matplotlib.figure.Figure at 0x126953fd0>"
      ]
     },
     "metadata": {},
     "output_type": "display_data"
    }
   ],
   "source": [
    "plt.title(labels[0])\n",
    "plt.imshow(images[0],cmap = plt.cm.binary)"
   ]
  },
  {
   "cell_type": "code",
   "execution_count": 273,
   "metadata": {
    "ExecuteTime": {
     "end_time": "2018-01-15T02:43:49.646964Z",
     "start_time": "2018-01-15T02:43:49.136607Z"
    }
   },
   "outputs": [
    {
     "data": {
      "text/plain": [
       "<matplotlib.image.AxesImage at 0x126ce4a58>"
      ]
     },
     "execution_count": 273,
     "metadata": {},
     "output_type": "execute_result"
    },
    {
     "data": {
      "image/png": "[encoded data removed]",
      "text/plain": [
       "<matplotlib.figure.Figure at 0x126ce4da0>"
      ]
     },
     "metadata": {},
     "output_type": "display_data"
    }
   ],
   "source": [
    "plt.title(labels[1])\n",
    "plt.imshow(images[1],cmap = plt.cm.binary)"
   ]
  },
  {
   "cell_type": "code",
   "execution_count": 274,
   "metadata": {
    "ExecuteTime": {
     "end_time": "2018-01-15T02:43:50.071093Z",
     "start_time": "2018-01-15T02:43:49.648970Z"
    }
   },
   "outputs": [
    {
     "data": {
      "text/plain": [
       "<matplotlib.image.AxesImage at 0x126d84208>"
      ]
     },
     "execution_count": 274,
     "metadata": {},
     "output_type": "execute_result"
    },
    {
     "data": {
      "image/png": "[encoded data removed]",
      "text/plain": [
       "<matplotlib.figure.Figure at 0x126d843c8>"
      ]
     },
     "metadata": {},
     "output_type": "display_data"
    }
   ],
   "source": [
    "plt.title(labels[2])\n",
    "plt.imshow(images[2],cmap = plt.cm.binary)"
   ]
  },
  {
   "cell_type": "markdown",
   "metadata": {},
   "source": [
    "<div class=\"alert alert-block alert-info\"> Problem 5.3 </div>\n",
    "Compute the average image (averaged over all the samples).\n",
    "use `imshow` to plot the result.\n",
    "\n",
    "[HINT] this is just averaging over the first axis of the images array"
   ]
  },
  {
   "cell_type": "code",
   "execution_count": 275,
   "metadata": {
    "ExecuteTime": {
     "end_time": "2018-01-15T02:43:50.633590Z",
     "start_time": "2018-01-15T02:43:50.072095Z"
    }
   },
   "outputs": [
    {
     "data": {
      "text/plain": [
       "<matplotlib.image.AxesImage at 0x126eb4f98>"
      ]
     },
     "execution_count": 275,
     "metadata": {},
     "output_type": "execute_result"
    },
    {
     "data": {
      "image/png": "[encoded data removed]",
      "text/plain": [
       "<matplotlib.figure.Figure at 0x123b0a550>"
      ]
     },
     "metadata": {},
     "output_type": "display_data"
    }
   ],
   "source": [
    "plt.imshow(images.mean(axis = 0),cmap = plt.cm.binary)"
   ]
  },
  {
   "cell_type": "code",
   "execution_count": null,
   "metadata": {
    "ExecuteTime": {
     "end_time": "2018-01-17T16:09:33.832469Z",
     "start_time": "2018-01-17T16:09:33.818041Z"
    }
   },
   "outputs": [],
   "source": [
    "def one_hot_encode(labels):\n",
    "    N=len(labels)\n",
    "    K=labels.max()+1\n",
    "    Z=np.zeros((len(labels),K))\n",
    "    Z[np.arange(N),labels]=1\n",
    "    return Z"
   ]
  },
  {
   "cell_type": "markdown",
   "metadata": {},
   "source": [
    "<div class=\"alert alert-block alert-info\"> Problem 5.4 </div>\n",
    "Use the function `one_hot_encode` defined above to create a variable `Z` with the one hot encoding of the labels.\n",
    "\n",
    "Show the shape of `Z`"
   ]
  },
  {
   "cell_type": "code",
   "execution_count": 278,
   "metadata": {
    "ExecuteTime": {
     "end_time": "2018-01-15T02:43:50.785769Z",
     "start_time": "2018-01-15T02:43:50.649639Z"
    }
   },
   "outputs": [
    {
     "data": {
      "text/plain": [
       "(60000, 10)"
      ]
     },
     "execution_count": 278,
     "metadata": {},
     "output_type": "execute_result"
    }
   ],
   "source": [
    "Z = one_hot_encode(labels)\n",
    "Z.shape"
   ]
  },
  {
   "cell_type": "markdown",
   "metadata": {
    "ExecuteTime": {
     "end_time": "2018-01-14T19:55:30.710143Z",
     "start_time": "2018-01-14T19:55:30.705129Z"
    }
   },
   "source": [
    "<div class=\"alert alert-block alert-info\"> Problem 5.5 </div>\n",
    "Create the rank four tensor\n",
    "$$\n",
    "T_{i,k,r,c} = Z_{i,k}  \\textrm{images}_{i,r,c}\n",
    "$$\n"
   ]
  },
  {
   "cell_type": "code",
   "execution_count": 280,
   "metadata": {
    "ExecuteTime": {
     "end_time": "2018-01-15T02:43:56.812860Z",
     "start_time": "2018-01-15T02:43:50.787775Z"
    }
   },
   "outputs": [
    {
     "data": {
      "text/plain": [
       "(60000, 10, 28, 28)"
      ]
     },
     "execution_count": 280,
     "metadata": {},
     "output_type": "execute_result"
    }
   ],
   "source": [
    "T = Z[:,:,np.newaxis,np.newaxis]*images[:,np.newaxis,:,:]\n",
    "T.shape"
   ]
  },
  {
   "cell_type": "markdown",
   "metadata": {},
   "source": [
    "<div class=\"alert alert-block alert-info\"> Problem 5.6 </div>\n",
    "Average $T$ over the sample index $i$, save to a variable named `average`"
   ]
  },
  {
   "cell_type": "code",
   "execution_count": 281,
   "metadata": {
    "ExecuteTime": {
     "end_time": "2018-01-15T02:43:57.700447Z",
     "start_time": "2018-01-15T02:43:56.814869Z"
    }
   },
   "outputs": [],
   "source": [
    "average = T.mean(axis= 0)"
   ]
  },
  {
   "cell_type": "markdown",
   "metadata": {
    "ExecuteTime": {
     "end_time": "2018-01-14T19:59:54.793042Z",
     "start_time": "2018-01-14T19:59:54.787027Z"
    }
   },
   "source": [
    "<div class=\"alert alert-block alert-info\"> Problem 5.7</div>\n",
    "What does `average[0]` represent? \n",
    "\n",
    "and `average[5]`?"
   ]
  },
  {
   "cell_type": "markdown",
   "metadata": {
    "collapsed": true
   },
   "source": [
    "average[0] represent number 0\n",
    "\n",
    "average[5] represent number 5"
   ]
  },
  {
   "cell_type": "markdown",
   "metadata": {
    "ExecuteTime": {
     "end_time": "2018-01-14T20:02:02.528638Z",
     "start_time": "2018-01-14T20:02:02.513011Z"
    }
   },
   "source": [
    "<div class=\"alert alert-block alert-info\"> Problem 5.8 </div>\n",
    "use `imshow` to plot `average[0]` and `average[5]`"
   ]
  },
  {
   "cell_type": "code",
   "execution_count": 285,
   "metadata": {
    "ExecuteTime": {
     "end_time": "2018-01-15T02:43:58.395295Z",
     "start_time": "2018-01-15T02:43:57.702454Z"
    }
   },
   "outputs": [
    {
     "data": {
      "text/plain": [
       "<matplotlib.image.AxesImage at 0x127562358>"
      ]
     },
     "execution_count": 285,
     "metadata": {},
     "output_type": "execute_result"
    },
    {
     "data": {
      "image/png": "[encoded data removed]",
      "text/plain": [
       "<matplotlib.figure.Figure at 0x1274f66a0>"
      ]
     },
     "metadata": {},
     "output_type": "display_data"
    }
   ],
   "source": [
    "plt.imshow(average[0],cmap = plt.cm.binary)"
   ]
  },
  {
   "cell_type": "code",
   "execution_count": 284,
   "metadata": {
    "ExecuteTime": {
     "end_time": "2018-01-15T02:43:58.917685Z",
     "start_time": "2018-01-15T02:43:58.397302Z"
    }
   },
   "outputs": [
    {
     "data": {
      "text/plain": [
       "<matplotlib.image.AxesImage at 0x1274d23c8>"
      ]
     },
     "execution_count": 284,
     "metadata": {},
     "output_type": "execute_result"
    },
    {
     "data": {
      "image/png": "[encoded data removed]",
      "text/plain": [
       "<matplotlib.figure.Figure at 0x1274559e8>"
      ]
     },
     "metadata": {},
     "output_type": "display_data"
    }
   ],
   "source": [
    "plt.imshow(average[5],cmap = plt.cm.binary)"
   ]
  },
  {
   "cell_type": "code",
   "execution_count": null,
   "metadata": {},
   "outputs": [],
   "source": []
  }
 ],
 "metadata": {
  "kernelspec": {
   "display_name": "Python [default]",
   "language": "python",
   "name": "python3"
  },
  "language_info": {
   "codemirror_mode": {
    "name": "ipython",
    "version": 3
   },
   "file_extension": ".py",
   "mimetype": "text/x-python",
   "name": "python",
   "nbconvert_exporter": "python",
   "pygments_lexer": "ipython3",
   "version": "3.5.2"
  },
  "toc": {
   "nav_menu": {},
   "number_sections": true,
   "sideBar": true,
   "skip_h1_title": false,
   "toc_cell": false,
   "toc_position": {},
   "toc_section_display": "block",
   "toc_window_display": true
  }
 },
 "nbformat": 4,
 "nbformat_minor": 2
}
