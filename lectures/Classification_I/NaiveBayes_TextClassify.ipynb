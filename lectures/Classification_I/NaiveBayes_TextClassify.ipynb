{
 "cells": [
  {
   "cell_type": "markdown",
   "metadata": {},
   "source": [
    "# Naive Bayes Document Classification"
   ]
  },
  {
   "cell_type": "markdown",
   "metadata": {},
   "source": [
    "Naive Bayes, with its independent assumptions is particularly well suited for\n",
    "Text Processing applications where the large dimmentionality of the feature space makes more sofisticated methods challenging to apply.\n",
    "\n",
    "We will use again the Reuters `C50` text corpus for our analysis. \n"
   ]
  },
  {
   "cell_type": "markdown",
   "metadata": {},
   "source": [
    "## Preliminaries"
   ]
  },
  {
   "cell_type": "markdown",
   "metadata": {},
   "source": [
    "### Imports"
   ]
  },
  {
   "cell_type": "code",
   "execution_count": 1,
   "metadata": {
    "ExecuteTime": {
     "end_time": "2018-02-09T10:09:18.892281Z",
     "start_time": "2018-02-09T10:09:08.764106Z"
    },
    "collapsed": true
   },
   "outputs": [],
   "source": [
    "import pickle\n",
    "from collections import Counter\n",
    "\n",
    "import numpy as np\n",
    "import pandas as pd\n",
    "import matplotlib.pyplot as plt\n",
    "\n",
    "from sklearn.feature_extraction.text import CountVectorizer,TfidfVectorizer\n",
    "from sklearn.preprocessing import normalize\n",
    "from sklearn.naive_bayes import MultinomialNB\n",
    "from sklearn.preprocessing import OneHotEncoder\n",
    "from sklearn import metrics\n",
    "\n",
    "import sys\n",
    "sys.path.append(\"../..\")\n",
    "from E4525_ML import plots\n",
    "\n",
    "%matplotlib inline\n",
    "plt.rcParams['figure.figsize'] = (10.0, 8.0) # set default size of plots"
   ]
  },
  {
   "cell_type": "markdown",
   "metadata": {},
   "source": [
    "### Data Directories"
   ]
  },
  {
   "cell_type": "code",
   "execution_count": 2,
   "metadata": {
    "ExecuteTime": {
     "end_time": "2018-02-09T10:09:18.900302Z",
     "start_time": "2018-02-09T10:09:18.896292Z"
    },
    "collapsed": true
   },
   "outputs": [],
   "source": [
    "raw_data_dir=r\"../../raw/C50/C50train\"\n",
    "test_dir    =r\"../../raw/C50/C50test\"\n",
    "data_dir=r\"../../data/C50\"\n"
   ]
  },
  {
   "cell_type": "markdown",
   "metadata": {},
   "source": [
    "## Document Data"
   ]
  },
  {
   "cell_type": "markdown",
   "metadata": {},
   "source": [
    "### Corpus (List of documents)"
   ]
  },
  {
   "cell_type": "code",
   "execution_count": 3,
   "metadata": {
    "ExecuteTime": {
     "end_time": "2018-02-09T10:09:19.028643Z",
     "start_time": "2018-02-09T10:09:18.903311Z"
    }
   },
   "outputs": [
    {
     "data": {
      "text/html": [
       "<div>\n",
       "<style>\n",
       "    .dataframe thead tr:only-child th {\n",
       "        text-align: right;\n",
       "    }\n",
       "\n",
       "    .dataframe thead th {\n",
       "        text-align: left;\n",
       "    }\n",
       "\n",
       "    .dataframe tbody tr th {\n",
       "        vertical-align: top;\n",
       "    }\n",
       "</style>\n",
       "<table border=\"1\" class=\"dataframe\">\n",
       "  <thead>\n",
       "    <tr style=\"text-align: right;\">\n",
       "      <th></th>\n",
       "      <th>filename</th>\n",
       "      <th>label</th>\n",
       "    </tr>\n",
       "    <tr>\n",
       "      <th>document_id</th>\n",
       "      <th></th>\n",
       "      <th></th>\n",
       "    </tr>\n",
       "  </thead>\n",
       "  <tbody>\n",
       "    <tr>\n",
       "      <th>0</th>\n",
       "      <td>../../raw/C50/C50train/AaronPressman/106247new...</td>\n",
       "      <td>AaronPressman</td>\n",
       "    </tr>\n",
       "    <tr>\n",
       "      <th>1</th>\n",
       "      <td>../../raw/C50/C50train/AaronPressman/120600new...</td>\n",
       "      <td>AaronPressman</td>\n",
       "    </tr>\n",
       "    <tr>\n",
       "      <th>2</th>\n",
       "      <td>../../raw/C50/C50train/AaronPressman/120683new...</td>\n",
       "      <td>AaronPressman</td>\n",
       "    </tr>\n",
       "    <tr>\n",
       "      <th>3</th>\n",
       "      <td>../../raw/C50/C50train/AaronPressman/136958new...</td>\n",
       "      <td>AaronPressman</td>\n",
       "    </tr>\n",
       "    <tr>\n",
       "      <th>4</th>\n",
       "      <td>../../raw/C50/C50train/AaronPressman/137498new...</td>\n",
       "      <td>AaronPressman</td>\n",
       "    </tr>\n",
       "  </tbody>\n",
       "</table>\n",
       "</div>"
      ],
      "text/plain": [
       "                                                      filename          label\n",
       "document_id                                                                  \n",
       "0            ../../raw/C50/C50train/AaronPressman/106247new...  AaronPressman\n",
       "1            ../../raw/C50/C50train/AaronPressman/120600new...  AaronPressman\n",
       "2            ../../raw/C50/C50train/AaronPressman/120683new...  AaronPressman\n",
       "3            ../../raw/C50/C50train/AaronPressman/136958new...  AaronPressman\n",
       "4            ../../raw/C50/C50train/AaronPressman/137498new...  AaronPressman"
      ]
     },
     "execution_count": 3,
     "metadata": {},
     "output_type": "execute_result"
    }
   ],
   "source": [
    "documents_filename=data_dir+\"/C50_documents.csv\"\n",
    "documents=pd.read_csv(documents_filename,index_col=\"document_id\")\n",
    "Y=documents[\"label\"]\n",
    "documents.head()"
   ]
  },
  {
   "cell_type": "code",
   "execution_count": 4,
   "metadata": {
    "ExecuteTime": {
     "end_time": "2018-02-09T10:09:19.159993Z",
     "start_time": "2018-02-09T10:09:19.030649Z"
    }
   },
   "outputs": [
    {
     "data": {
      "text/html": [
       "<div>\n",
       "<style>\n",
       "    .dataframe thead tr:only-child th {\n",
       "        text-align: right;\n",
       "    }\n",
       "\n",
       "    .dataframe thead th {\n",
       "        text-align: left;\n",
       "    }\n",
       "\n",
       "    .dataframe tbody tr th {\n",
       "        vertical-align: top;\n",
       "    }\n",
       "</style>\n",
       "<table border=\"1\" class=\"dataframe\">\n",
       "  <thead>\n",
       "    <tr style=\"text-align: right;\">\n",
       "      <th></th>\n",
       "      <th>filename</th>\n",
       "      <th>label</th>\n",
       "    </tr>\n",
       "    <tr>\n",
       "      <th>document_id</th>\n",
       "      <th></th>\n",
       "      <th></th>\n",
       "    </tr>\n",
       "  </thead>\n",
       "  <tbody>\n",
       "    <tr>\n",
       "      <th>0</th>\n",
       "      <td>../../raw/C50/C50test/AaronPressman/421829news...</td>\n",
       "      <td>AaronPressman</td>\n",
       "    </tr>\n",
       "    <tr>\n",
       "      <th>1</th>\n",
       "      <td>../../raw/C50/C50test/AaronPressman/424074news...</td>\n",
       "      <td>AaronPressman</td>\n",
       "    </tr>\n",
       "    <tr>\n",
       "      <th>2</th>\n",
       "      <td>../../raw/C50/C50test/AaronPressman/42764newsM...</td>\n",
       "      <td>AaronPressman</td>\n",
       "    </tr>\n",
       "    <tr>\n",
       "      <th>3</th>\n",
       "      <td>../../raw/C50/C50test/AaronPressman/43033newsM...</td>\n",
       "      <td>AaronPressman</td>\n",
       "    </tr>\n",
       "    <tr>\n",
       "      <th>4</th>\n",
       "      <td>../../raw/C50/C50test/AaronPressman/433558news...</td>\n",
       "      <td>AaronPressman</td>\n",
       "    </tr>\n",
       "  </tbody>\n",
       "</table>\n",
       "</div>"
      ],
      "text/plain": [
       "                                                      filename          label\n",
       "document_id                                                                  \n",
       "0            ../../raw/C50/C50test/AaronPressman/421829news...  AaronPressman\n",
       "1            ../../raw/C50/C50test/AaronPressman/424074news...  AaronPressman\n",
       "2            ../../raw/C50/C50test/AaronPressman/42764newsM...  AaronPressman\n",
       "3            ../../raw/C50/C50test/AaronPressman/43033newsM...  AaronPressman\n",
       "4            ../../raw/C50/C50test/AaronPressman/433558news...  AaronPressman"
      ]
     },
     "execution_count": 4,
     "metadata": {},
     "output_type": "execute_result"
    }
   ],
   "source": [
    "test_documents_filename=data_dir+\"/C50_test_documents.csv\"\n",
    "test_documents=pd.read_csv(test_documents_filename,index_col=\"document_id\")\n",
    "Y_test=test_documents[\"label\"]\n",
    "test_documents.head()"
   ]
  },
  {
   "cell_type": "markdown",
   "metadata": {},
   "source": [
    "### Load Pre-Trained Features"
   ]
  },
  {
   "cell_type": "markdown",
   "metadata": {},
   "source": [
    "#### Set Features"
   ]
  },
  {
   "cell_type": "code",
   "execution_count": 5,
   "metadata": {
    "ExecuteTime": {
     "end_time": "2018-02-09T10:09:19.175033Z",
     "start_time": "2018-02-09T10:09:19.163008Z"
    },
    "collapsed": true
   },
   "outputs": [],
   "source": [
    "set_features_filename=data_dir+\"/\"+\"set_features.p\"\n",
    "set_features=pickle.load(open(set_features_filename,\"rb\"))"
   ]
  },
  {
   "cell_type": "code",
   "execution_count": 6,
   "metadata": {
    "ExecuteTime": {
     "end_time": "2018-02-09T10:09:19.206115Z",
     "start_time": "2018-02-09T10:09:19.193081Z"
    },
    "collapsed": true
   },
   "outputs": [],
   "source": [
    "set_test_features_filename=data_dir+\"/\"+\"set_test_features.p\"\n",
    "set_test_features=pickle.load(open(set_test_features_filename,\"rb\"))"
   ]
  },
  {
   "cell_type": "markdown",
   "metadata": {},
   "source": [
    "#### Count Features"
   ]
  },
  {
   "cell_type": "code",
   "execution_count": 7,
   "metadata": {
    "ExecuteTime": {
     "end_time": "2018-02-09T10:09:19.230180Z",
     "start_time": "2018-02-09T10:09:19.208121Z"
    },
    "collapsed": true
   },
   "outputs": [],
   "source": [
    "count_features_filename=data_dir+\"/\"+\"count_features.p\"\n",
    "count_features=pickle.load(open(count_features_filename,\"rb\"))"
   ]
  },
  {
   "cell_type": "code",
   "execution_count": 8,
   "metadata": {
    "ExecuteTime": {
     "end_time": "2018-02-09T10:09:19.289337Z",
     "start_time": "2018-02-09T10:09:19.232184Z"
    },
    "collapsed": true
   },
   "outputs": [],
   "source": [
    "count_test_features_filename=data_dir+\"/\"+\"count_test_features.p\"\n",
    "count_test_features=pickle.load(open(count_test_features_filename,\"rb\"))"
   ]
  },
  {
   "cell_type": "markdown",
   "metadata": {},
   "source": [
    "#### TF-IDF Features"
   ]
  },
  {
   "cell_type": "code",
   "execution_count": 9,
   "metadata": {
    "ExecuteTime": {
     "end_time": "2018-02-09T10:09:19.305379Z",
     "start_time": "2018-02-09T10:09:19.291342Z"
    },
    "collapsed": true
   },
   "outputs": [],
   "source": [
    "tfidf_features_filename=data_dir+\"/\"+\"tfidf_features.p\"\n",
    "tfidf_features=pickle.load(open(tfidf_features_filename,\"rb\"))"
   ]
  },
  {
   "cell_type": "code",
   "execution_count": 10,
   "metadata": {
    "ExecuteTime": {
     "end_time": "2018-02-09T10:09:19.354510Z",
     "start_time": "2018-02-09T10:09:19.307385Z"
    },
    "collapsed": true
   },
   "outputs": [],
   "source": [
    "tfidf_test_features_filename=data_dir+\"/\"+\"tfidf_test_features.p\"\n",
    "tfidf_test_features=pickle.load(open(tfidf_test_features_filename,\"rb\"))"
   ]
  },
  {
   "cell_type": "markdown",
   "metadata": {},
   "source": [
    "## Naive Bayes Implementation"
   ]
  },
  {
   "cell_type": "markdown",
   "metadata": {},
   "source": [
    "With represent a document $i$ as $X_{i,d}$ the vector of counts for each word $d=1,\\cdots, V$ where $V$ is the corpus vocabulary size.\n",
    "\n",
    "If document classes belong to the set $k=1,\\cdots K$, where $K$ is the number of classes  we  can represent the document labels as a $Z_{i,k}$ one-hot encoded variable\n",
    "($Z_{i,k}=1$ if document $i$ belongs to class $k$, zero otherwise.\n",
    "\n",
    "With this representation, $n_{k,d}$ the number of times that word $d$ appears in documents on class $k$ can be expressed as \n",
    "$$\n",
    "    n_{k,d} = \\sum_i Z_{i,k} X_{i,d} = Z^T X\n",
    "$$\n",
    "and $n_k$ the total number of words   in class $k$ is\n",
    "$$\n",
    "    n_k = \\sum_d n_{k,d}\n",
    "$$\n",
    "    "
   ]
  },
  {
   "cell_type": "markdown",
   "metadata": {},
   "source": [
    "Let's collect our inputs and labels"
   ]
  },
  {
   "cell_type": "code",
   "execution_count": 11,
   "metadata": {
    "ExecuteTime": {
     "end_time": "2018-02-09T10:09:19.365539Z",
     "start_time": "2018-02-09T10:09:19.356515Z"
    }
   },
   "outputs": [
    {
     "data": {
      "text/plain": [
       "((2500,), (2500, 28060))"
      ]
     },
     "execution_count": 11,
     "metadata": {},
     "output_type": "execute_result"
    }
   ],
   "source": [
    "X=count_features\n",
    "X_test=count_test_features\n",
    "Y.shape,X.shape"
   ]
  },
  {
   "cell_type": "markdown",
   "metadata": {},
   "source": [
    "And define our $Z_{i,k}$ dummy variables"
   ]
  },
  {
   "cell_type": "code",
   "execution_count": 12,
   "metadata": {
    "ExecuteTime": {
     "end_time": "2018-02-09T10:09:19.499904Z",
     "start_time": "2018-02-09T10:09:19.367544Z"
    }
   },
   "outputs": [
    {
     "name": "stdout",
     "output_type": "stream",
     "text": [
      "(2500, 50)\n"
     ]
    }
   ],
   "source": [
    "dummies=pd.get_dummies(Y,prefix=\"\",prefix_sep=\"\",sparse=True)\n",
    "labels=dummies.columns\n",
    "Z=dummies.to_coo() # Most entries are zero, so we want Z represented as a sparse matrix\n",
    "             # if you remove this line, calculations become very slow\n",
    "print(Z.shape)"
   ]
  },
  {
   "cell_type": "markdown",
   "metadata": {},
   "source": [
    "And we can compute $n_{k,d}$ the word counts as a vector product"
   ]
  },
  {
   "cell_type": "code",
   "execution_count": 13,
   "metadata": {
    "ExecuteTime": {
     "end_time": "2018-02-09T10:09:19.518947Z",
     "start_time": "2018-02-09T10:09:19.502906Z"
    }
   },
   "outputs": [
    {
     "data": {
      "text/plain": [
       "(50, 28060)"
      ]
     },
     "execution_count": 13,
     "metadata": {},
     "output_type": "execute_result"
    }
   ],
   "source": [
    "word_counts=Z.T.dot(X)\n",
    "word_counts.shape"
   ]
  },
  {
   "cell_type": "markdown",
   "metadata": {
    "ExecuteTime": {
     "end_time": "2017-11-24T12:21:14.972254Z",
     "start_time": "2017-11-24T12:21:14.967238Z"
    }
   },
   "source": [
    "And $n_k$ as the sum over all words in class $k$"
   ]
  },
  {
   "cell_type": "code",
   "execution_count": 14,
   "metadata": {
    "ExecuteTime": {
     "end_time": "2018-02-09T10:09:19.585122Z",
     "start_time": "2018-02-09T10:09:19.521955Z"
    }
   },
   "outputs": [
    {
     "name": "stdout",
     "output_type": "stream",
     "text": [
      "(50, 1)\n"
     ]
    }
   ],
   "source": [
    "class_word_counts=word_counts.sum(axis=1)\n",
    "print(class_word_counts.shape)"
   ]
  },
  {
   "cell_type": "markdown",
   "metadata": {},
   "source": [
    "We set $\\alpha$ the Laplace smoothing parameter, and $V$, the vocabulary size"
   ]
  },
  {
   "cell_type": "code",
   "execution_count": 15,
   "metadata": {
    "ExecuteTime": {
     "end_time": "2018-02-09T10:09:19.605176Z",
     "start_time": "2018-02-09T10:09:19.589133Z"
    }
   },
   "outputs": [
    {
     "name": "stdout",
     "output_type": "stream",
     "text": [
      "alpha =  0.5\n",
      "V     =  28060\n"
     ]
    }
   ],
   "source": [
    "alpha=0.5\n",
    "V=X.shape[1] # Vocabulary size\n",
    "print(\"alpha = \",alpha)\n",
    "print(\"V     = \",V)"
   ]
  },
  {
   "cell_type": "markdown",
   "metadata": {},
   "source": [
    "the **Naive Bayes weigths** are given by\n",
    "$$\n",
    "    w_{k,d} = \\log \\frac{ \\alpha+n_{k,d} }{ \\alpha V+n_{k} }\n",
    "$$"
   ]
  },
  {
   "cell_type": "code",
   "execution_count": 16,
   "metadata": {
    "ExecuteTime": {
     "end_time": "2018-02-09T10:09:19.726498Z",
     "start_time": "2018-02-09T10:09:19.607181Z"
    }
   },
   "outputs": [
    {
     "data": {
      "text/plain": [
       "(50, 28060)"
      ]
     },
     "execution_count": 16,
     "metadata": {},
     "output_type": "execute_result"
    }
   ],
   "source": [
    "# can not add a constant to a sparse matrix, so we need to \n",
    "# transform the word_counts into a dense numpy matrix\n",
    "word_counts=word_counts.todense()\n",
    "w=np.log((alpha+word_counts)/(class_word_counts+alpha*V))\n",
    "w.shape"
   ]
  },
  {
   "cell_type": "markdown",
   "metadata": {},
   "source": [
    "In the Naive Bayes approximation the log probability of single new document represented by the counts vector $x_d$ belongs to class $k$ is given by\n",
    "$$\n",
    "    l_k = b_k+\\sum_d x_d w_{k,d}\n",
    "$$\n",
    "where, $b_k$ are the *a priori* log probabilities of each document class which can be estimated from the corpus class labels as\n",
    "$$\n",
    "    b_k = \\log \\frac{1}{N}\\sum_i Z_{i,k}\n",
    "$$\n",
    "\n",
    "For a collection of $N$ documents represented by count matrix $X_{i,d}$ this formula becomes\n",
    "$$\n",
    "    l_{i,k} = b_k+\\sum_d X_{i,d} w_{k,d}\n",
    "$$\n",
    "or, in matrix notation:\n",
    "$$\n",
    "    L = b+X \\cdot W^T\n",
    "$$\n",
    "where $L$ is the $N \\times K$ matrix of class probabilities for each document and $b$ is the $K$-dimensional vector of *a priori* class probabilities."
   ]
  },
  {
   "cell_type": "code",
   "execution_count": 17,
   "metadata": {
    "ExecuteTime": {
     "end_time": "2018-02-09T10:09:19.787661Z",
     "start_time": "2018-02-09T10:09:19.732515Z"
    },
    "collapsed": true
   },
   "outputs": [],
   "source": [
    "L=X_test[48:53].dot(w.T)"
   ]
  },
  {
   "cell_type": "markdown",
   "metadata": {},
   "source": [
    "Finally we select the class $Y_i$ of a document as \n",
    "$$\n",
    "    Y_i = \\underset{k}{\\operatorname{argmax}} L_{i,k}\n",
    "$$"
   ]
  },
  {
   "cell_type": "code",
   "execution_count": 18,
   "metadata": {
    "ExecuteTime": {
     "end_time": "2018-02-09T10:09:19.802701Z",
     "start_time": "2018-02-09T10:09:19.789666Z"
    },
    "collapsed": true
   },
   "outputs": [],
   "source": [
    "Y_pred=L.argmax(axis=1) \n",
    "Y_pred=Y_pred.ravel() # numpy returns a Nx1 matrix , but we want a numpy N vector\n"
   ]
  },
  {
   "cell_type": "markdown",
   "metadata": {},
   "source": [
    "We collect this calculations into an easy to use implementation"
   ]
  },
  {
   "cell_type": "code",
   "execution_count": 19,
   "metadata": {
    "ExecuteTime": {
     "end_time": "2018-02-09T10:09:19.853837Z",
     "start_time": "2018-02-09T10:09:19.804706Z"
    },
    "collapsed": true
   },
   "outputs": [],
   "source": [
    "class NaiveBayes:\n",
    "    def __init__(self,alpha):\n",
    "        self.alpha=alpha\n",
    "        \n",
    "    def fit(self,X,Y):\n",
    "        V=X.shape[1]\n",
    "        dummies=pd.get_dummies(Y,prefix=\"\",prefix_sep=\"\",sparse=True)\n",
    "        self.classes=dummies.columns\n",
    "        Z=dummies.to_coo()\n",
    "        word_counts=Z.T.dot(X).todense()\n",
    "        class_word_counts=word_counts.sum(axis=1)\n",
    "        self.b=np.log(Z.sum(axis=0)/Z.sum())\n",
    "        self.w=np.log((self.alpha+word_counts)/(self.alpha*V+class_word_counts))\n",
    "    def predict(self,X):\n",
    "        L=self.b+X.dot(self.w.T)\n",
    "        Y_pred=L.argmax(axis=1)\n",
    "        return np.array(self.classes[Y_pred]).ravel()"
   ]
  },
  {
   "cell_type": "markdown",
   "metadata": {},
   "source": [
    "### Test of Implemenation"
   ]
  },
  {
   "cell_type": "markdown",
   "metadata": {},
   "source": [
    "We select a few test documents to test"
   ]
  },
  {
   "cell_type": "code",
   "execution_count": 20,
   "metadata": {
    "ExecuteTime": {
     "end_time": "2018-02-09T10:09:19.872887Z",
     "start_time": "2018-02-09T10:09:19.856845Z"
    },
    "collapsed": true
   },
   "outputs": [],
   "source": [
    "x=X_test[48:153]\n",
    "y=Y_test[48:153]"
   ]
  },
  {
   "cell_type": "code",
   "execution_count": 21,
   "metadata": {
    "ExecuteTime": {
     "end_time": "2018-02-09T10:09:20.273954Z",
     "start_time": "2018-02-09T10:09:19.874892Z"
    }
   },
   "outputs": [
    {
     "data": {
      "text/plain": [
       "0.49523809523809526"
      ]
     },
     "execution_count": 21,
     "metadata": {},
     "output_type": "execute_result"
    }
   ],
   "source": [
    "alpha=1\n",
    "model=NaiveBayes(alpha)\n",
    "model.fit(X,Y)\n",
    "Y_pred=model.predict(x)\n",
    "np.average(Y_pred==y)\n"
   ]
  },
  {
   "cell_type": "markdown",
   "metadata": {},
   "source": [
    "### Comparison to `Sklearn` implementation"
   ]
  },
  {
   "cell_type": "code",
   "execution_count": 22,
   "metadata": {
    "ExecuteTime": {
     "end_time": "2018-02-09T10:09:20.279970Z",
     "start_time": "2018-02-09T10:09:20.275959Z"
    },
    "collapsed": true
   },
   "outputs": [],
   "source": [
    "sk_model=MultinomialNB(alpha=alpha)"
   ]
  },
  {
   "cell_type": "code",
   "execution_count": 23,
   "metadata": {
    "ExecuteTime": {
     "end_time": "2018-02-09T10:09:20.552694Z",
     "start_time": "2018-02-09T10:09:20.281976Z"
    }
   },
   "outputs": [
    {
     "data": {
      "text/plain": [
       "MultinomialNB(alpha=1, class_prior=None, fit_prior=True)"
      ]
     },
     "execution_count": 23,
     "metadata": {},
     "output_type": "execute_result"
    }
   ],
   "source": [
    "sk_model.fit(X,Y)"
   ]
  },
  {
   "cell_type": "code",
   "execution_count": 24,
   "metadata": {
    "ExecuteTime": {
     "end_time": "2018-02-09T10:09:20.574753Z",
     "start_time": "2018-02-09T10:09:20.554700Z"
    }
   },
   "outputs": [
    {
     "data": {
      "text/plain": [
       "0.49523809523809526"
      ]
     },
     "execution_count": 24,
     "metadata": {},
     "output_type": "execute_result"
    }
   ],
   "source": [
    "y_pred=sk_model.predict(x)\n",
    "np.average(y_pred==y)"
   ]
  },
  {
   "cell_type": "markdown",
   "metadata": {},
   "source": [
    "## Full Test Corpus Evaluation"
   ]
  },
  {
   "cell_type": "markdown",
   "metadata": {},
   "source": [
    "### In sample performance "
   ]
  },
  {
   "cell_type": "code",
   "execution_count": 25,
   "metadata": {
    "ExecuteTime": {
     "end_time": "2018-02-09T10:09:20.969804Z",
     "start_time": "2018-02-09T10:09:20.578764Z"
    }
   },
   "outputs": [
    {
     "data": {
      "text/plain": [
       "0.96760000000000002"
      ]
     },
     "execution_count": 25,
     "metadata": {},
     "output_type": "execute_result"
    }
   ],
   "source": [
    "model=NaiveBayes(alpha)\n",
    "model.fit(X,Y)\n",
    "Y_pred=model.predict(X)\n",
    "np.average(Y_pred==Y)\n"
   ]
  },
  {
   "cell_type": "markdown",
   "metadata": {
    "ExecuteTime": {
     "end_time": "2017-11-24T12:34:14.969700Z",
     "start_time": "2017-11-24T12:34:14.966693Z"
    },
    "collapsed": true
   },
   "source": [
    "### Out of Sample performance"
   ]
  },
  {
   "cell_type": "code",
   "execution_count": 26,
   "metadata": {
    "ExecuteTime": {
     "end_time": "2018-02-09T10:09:21.048012Z",
     "start_time": "2018-02-09T10:09:20.971809Z"
    }
   },
   "outputs": [
    {
     "data": {
      "text/plain": [
       "0.65000000000000002"
      ]
     },
     "execution_count": 26,
     "metadata": {},
     "output_type": "execute_result"
    }
   ],
   "source": [
    "Y_pred=model.predict(X_test)\n",
    "np.average(Y_pred==Y_test)"
   ]
  },
  {
   "cell_type": "code",
   "execution_count": 27,
   "metadata": {
    "ExecuteTime": {
     "end_time": "2018-02-09T10:09:21.409977Z",
     "start_time": "2018-02-09T10:09:21.056033Z"
    }
   },
   "outputs": [
    {
     "data": {
      "text/plain": [
       "0.65000000000000002"
      ]
     },
     "execution_count": 27,
     "metadata": {},
     "output_type": "execute_result"
    }
   ],
   "source": [
    "sk_model=MultinomialNB(alpha=alpha)\n",
    "sk_model.fit(X,Y)\n",
    "Y_pred=sk_model.predict(X_test)\n",
    "np.average(Y_pred==Y_test)"
   ]
  },
  {
   "cell_type": "markdown",
   "metadata": {},
   "source": [
    "### Confusion Matrix "
   ]
  },
  {
   "cell_type": "markdown",
   "metadata": {},
   "source": [
    "We could use the confusion matrix to understand the  kind of errors that the model makes"
   ]
  },
  {
   "cell_type": "code",
   "execution_count": 28,
   "metadata": {
    "ExecuteTime": {
     "end_time": "2018-02-09T10:09:21.417995Z",
     "start_time": "2018-02-09T10:09:21.411984Z"
    },
    "collapsed": true
   },
   "outputs": [],
   "source": [
    "classes=np.unique(Y.as_matrix())"
   ]
  },
  {
   "cell_type": "code",
   "execution_count": 29,
   "metadata": {
    "ExecuteTime": {
     "end_time": "2018-02-09T10:09:42.491454Z",
     "start_time": "2018-02-09T10:09:21.419999Z"
    },
    "scrolled": true
   },
   "outputs": [
    {
     "name": "stdout",
     "output_type": "stream",
     "text": [
      "Confusion matrix, without normalization\n",
      "[[44  0  0 ...,  0  0  0]\n",
      " [ 0 23  0 ...,  0  0  0]\n",
      " [ 0  0 26 ...,  0  0  0]\n",
      " ..., \n",
      " [ 0  0  2 ..., 40  0  0]\n",
      " [ 0  0  0 ...,  0 22  0]\n",
      " [ 0  0  0 ...,  0  0 14]]\n"
     ]
    },
    {
     "data": {
      "image/png": "[encoded data removed]",
      "text/plain": [
       "<matplotlib.figure.Figure at 0x2435b6d9668>"
      ]
     },
     "metadata": {},
     "output_type": "display_data"
    }
   ],
   "source": [
    "cnf_matrix = metrics.confusion_matrix(Y_test, Y_pred)\n",
    "np.set_printoptions(precision=2)\n",
    "plots.plot_confusion_matrix(cnf_matrix,classes)"
   ]
  },
  {
   "cell_type": "markdown",
   "metadata": {
    "collapsed": true
   },
   "source": [
    "## TF-IDF Features Implementation of Naive-Bayes"
   ]
  },
  {
   "cell_type": "markdown",
   "metadata": {},
   "source": [
    "As we have represented Naive Bayes as a set of matrix multiplications operating over the\n",
    "document feature vector, we can naturally extend its implementation to any other feature vector.\n",
    "\n",
    "For example we can implement Naive Bayes using the **TF-IDF** feature vector"
   ]
  },
  {
   "cell_type": "code",
   "execution_count": 30,
   "metadata": {
    "ExecuteTime": {
     "end_time": "2018-02-09T10:09:42.497971Z",
     "start_time": "2018-02-09T10:09:42.493961Z"
    },
    "collapsed": true
   },
   "outputs": [],
   "source": [
    "Xi=tfidf_features\n",
    "Xi_test=tfidf_test_features"
   ]
  },
  {
   "cell_type": "markdown",
   "metadata": {},
   "source": [
    "It performs slighly worse that on counts, but this is problem dependent."
   ]
  },
  {
   "cell_type": "code",
   "execution_count": 31,
   "metadata": {
    "ExecuteTime": {
     "end_time": "2018-02-09T10:09:42.972232Z",
     "start_time": "2018-02-09T10:09:42.500478Z"
    }
   },
   "outputs": [
    {
     "data": {
      "text/plain": [
       "0.63480000000000003"
      ]
     },
     "execution_count": 31,
     "metadata": {},
     "output_type": "execute_result"
    }
   ],
   "source": [
    "model.fit(Xi,Y)\n",
    "Y_pred=model.predict(Xi_test)\n",
    "np.average(Y_pred==Y_test)"
   ]
  },
  {
   "cell_type": "markdown",
   "metadata": {
    "ExecuteTime": {
     "end_time": "2018-01-22T11:17:00.202822Z",
     "start_time": "2018-01-22T11:17:00.187197Z"
    },
    "collapsed": true
   },
   "source": [
    "## Set Features Implementatio of Naive-Bayes"
   ]
  },
  {
   "cell_type": "code",
   "execution_count": 32,
   "metadata": {
    "ExecuteTime": {
     "end_time": "2018-02-09T10:09:42.978248Z",
     "start_time": "2018-02-09T10:09:42.974739Z"
    },
    "collapsed": true
   },
   "outputs": [],
   "source": [
    "X_set=set_features\n",
    "X_set_test=set_test_features"
   ]
  },
  {
   "cell_type": "code",
   "execution_count": 33,
   "metadata": {
    "ExecuteTime": {
     "end_time": "2018-02-09T10:09:43.400871Z",
     "start_time": "2018-02-09T10:09:42.981255Z"
    }
   },
   "outputs": [
    {
     "data": {
      "text/plain": [
       "0.65839999999999999"
      ]
     },
     "execution_count": 33,
     "metadata": {},
     "output_type": "execute_result"
    }
   ],
   "source": [
    "model.fit(X_set,Y)\n",
    "Y_pred=model.predict(X_set_test)\n",
    "np.average(Y_pred==Y_test)"
   ]
  }
 ],
 "metadata": {
  "kernelspec": {
   "display_name": "Python 3",
   "language": "python",
   "name": "python3"
  },
  "language_info": {
   "codemirror_mode": {
    "name": "ipython",
    "version": 3
   },
   "file_extension": ".py",
   "mimetype": "text/x-python",
   "name": "python",
   "nbconvert_exporter": "python",
   "pygments_lexer": "ipython3",
   "version": "3.6.1"
  },
  "toc": {
   "nav_menu": {},
   "number_sections": true,
   "sideBar": true,
   "skip_h1_title": false,
   "toc_cell": false,
   "toc_position": {},
   "toc_section_display": "block",
   "toc_window_display": false
  }
 },
 "nbformat": 4,
 "nbformat_minor": 2
}
